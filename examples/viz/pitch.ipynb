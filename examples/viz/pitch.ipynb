{
 "cells": [
  {
   "cell_type": "markdown",
   "id": "9e38dcff",
   "metadata": {},
   "source": [
    "# Pitch"
   ]
  },
  {
   "cell_type": "code",
   "execution_count": 1,
   "id": "020e4320-ccad-4b79-b63c-8eb0c120cad6",
   "metadata": {},
   "outputs": [],
   "source": [
    "import penaltyblog as pb\n",
    "import numpy as np\n",
    "import pandas as pd"
   ]
  },
  {
   "cell_type": "code",
   "execution_count": 11,
   "id": "cabbbde4-aad2-4748-b029-80ec027e9a1e",
   "metadata": {},
   "outputs": [
    {
     "data": {
      "application/vnd.plotly.v1+json": {
       "config": {
        "displaylogo": false,
        "plotlyServerURL": "https://plot.ly"
       },
       "data": [
        {
         "hoverinfo": "skip",
         "line": {
          "color": "black"
         },
         "mode": "lines",
         "showlegend": false,
         "type": "scatter",
         "x": {
          "bdata": "4k6L5xcoMkBwByk+uXEyQL5whxwXuTJAwMNPcRj+MkCJooP/pEAzQHCdAGelgDNAcCS2LAO+M0BlAovCqPgzQC6c746BMDRAwEoa9HllNEC3RetWf5c0QIqydSWAxjRAGo0r3WvyNEAyPqoQMxs1QPnWJW3HQDVArglxvxtjNUCMG6D4I4I1QLouRTLVnTVAlGdEsiW2NUDqlD7uDMs1QPonkY6D3DVAiG7qcIPqNUD1JnGqB/U1QMmsfokM/DVAQCLrlo//NUBAIuuWj/81QMmsfokM/DVA9iZxqgf1NUCIbupwg+o1QPsnkY6D3DVA6ZQ+7gzLNUCVZ0SyJbY1QLouRTLVnTVAjBug+COCNUCuCXG/G2M1QPjWJW3HQDVAMj6qEDMbNUAajSvda/I0QIyydSWAxjRAuEXrVn+XNEDCShr0eWU0QC6c746BMDRAZAKLwqj4M0BwJLYsA74zQG+dAGelgDNAiqKD/6RAM0DAw09xGP4yQL5whxwXuTJAcgcpPrlxMkDiTovnFygyQA==",
          "dtype": "f8"
         },
         "y": {
          "bdata": "aNDholgPQEDTw7BFOS1AQNAQt7RxTEBA+r6X+PZsQECuaA2lvY5AQHhj7dy5sUBAGpBSVt/VQECIW+5eIftAQLJsfuByIUFABG5lZcZIQUBsVWUdDnFBQImBeeI7mkFADvjOPUHEQUASBtlsD+9BQN15gGaXGkJAm6Nr4MlGQkByQl1Ul3NCQK16qAXwoEJA9uq3BsTOQkBT76U+A/1CQPoa5G6dK0NAe+zvOIJaQ0AtuxIkoYlDQOHYKqPpuENAmN97GkvoQ0BnIITltBdEQB8n1VwWR0RA0kTt2152RECGExDHfaVEQAXlG5Fi1ERArRBawfwCRUAJFUj5OzFFQFKFV/oPX0VAjr2iq2iMRUBkXJQfNrlFQCSGf5lo5UVA7fkmk/AQRkDzBzHCvjtGQHZ+hh3EZUZAlKqa4vGORkD7kZqaObdGQE6TgR+N3kZAeKQRod4ER0Dmb62pICpHQIicEiNGTkdAUZfyWkJxR0AGQWgHCZNHQDDvSEuOs0dALTxPusbSR0CZLx5dp/BHQA==",
          "dtype": "f8"
         }
        },
        {
         "hoverinfo": "skip",
         "line": {
          "color": "black"
         },
         "mode": "lines",
         "showlegend": false,
         "type": "scatter",
         "x": {
          "bdata": "SCwdBvp1WUAkvnWwkWNZQNAj3ji6UVlAEA+s43lAWUBeFx/A1i9ZQKTYP6bWH1lA5HbSNH8QWUBnP13P1QFZQPQYRJzf81hAUG35gqHmWECSLkUqINpYQF2TovZfzlhAuhy1CGXDWEB0cNU7M7lYQEKKtiTOr1hAlL0jEDmnWEAd+dcBd59YQFK0brOKmFhAG+Zuk3aSWEDGWnDEPI1YQAG2WxzfiFhAXmTFI1+FWEBDtmMVvoJYQM5UoN38gFhAcDdFGhyAWEBwN0UaHIBYQM5UoN38gFhAQ7ZjFb6CWEBeZMUjX4VYQAG2WxzfiFhAxlpwxDyNWEAb5m6TdpJYQFK0brOKmFhAHfnXAXefWECUvSMQOadYQEKKtiTOr1hAdHDVOzO5WEC6HLUIZcNYQF2TovZfzlhAki5FKiDaWEBQbfmCoeZYQPQYRJzf81hAZz9dz9UBWUDkdtI0fxBZQKTYP6bWH1lAXhcfwNYvWUAQD6zjeUBZQNAj3ji6UVlAJL51sJFjWUBILB0G+nVZQA==",
          "dtype": "f8"
         },
         "y": {
          "bdata": "mS8eXafwR0AtPE+6xtJHQDDvSEuOs0dABkFoBwmTR0BRl/JaQnFHQIicEiNGTkdA5m+tqSAqR0B4pBGh3gRHQE6TgR+N3kZA+pGamjm3RkCUqpri8Y5GQHV+hh3EZUZA8wcxwr47RkDt+SaT8BBGQCSGf5lo5UVAZFyUHza5RUCOvaKraIxFQFKFV/oPX0VACRVI+TsxRUCtEFrB/AJFQAblG5Fi1ERAhRMQx32lREDTRO3bXnZEQB4n1VwWR0RAaCCE5bQXRECY33saS+hDQOHYKqPpuENALbsSJKGJQ0B77O84glpDQPsa5G6dK0NAU++lPgP9QkD36rcGxM5CQK16qAXwoEJAckJdVJdzQkCbo2vgyUZCQNx5gGaXGkJAEwbZbA/vQUAO+M49QcRBQIqBeeI7mkFAbFVlHQ5xQUAFbmVlxkhBQLJsfuByIUFAiFvuXiH7QEAakFJW39VAQHhj7dy5sUBAr2gNpb2OQED6vpf49mxAQNAQt7RxTEBA08OwRTktQEBn0OGiWA9AQA==",
          "dtype": "f8"
         }
        },
        {
         "hovertext": [
          "Player 1",
          "Player 2",
          "Player 3",
          "Player 4",
          "Player 5",
          "Player 6",
          "Player 7",
          "Player 8",
          "Player 9",
          "Player 10",
          "Player 11"
         ],
         "marker": {
          "color": "blue",
          "size": 10
         },
         "mode": "markers",
         "type": "scatter",
         "x": {
          "bdata": "rZryhcjTMECWo0PigCNBQNMIlb6fMl1A3xAhAmycWkB7tnrySXtQQDrhhqgeQVZAnocRL7e2VEAqIVcTqk5bQA5snxBckUdAgCJk36/rWUAwsZOZZixMQA==",
          "dtype": "f8"
         },
         "y": {
          "bdata": "dIoP2zyBUkDl8QbfulJQQFaYfleWU0ZA+K7SvnXEUUCYjjVvhaPwP8isTgbCUzZAuvLc0vsSQkB5t+ialuBTQF9Vq0QFbkFATkdIs70XTkBa9wGCHdVRQA==",
          "dtype": "f8"
         }
        }
       ],
       "layout": {
        "height": 600,
        "margin": {
         "b": 0,
         "l": 0,
         "r": 0,
         "t": 0
        },
        "plot_bgcolor": "white",
        "shapes": [
         {
          "line": {
           "color": "black"
          },
          "type": "rect",
          "x0": 0,
          "x1": 120,
          "y0": 0,
          "y1": 80
         },
         {
          "line": {
           "color": "black"
          },
          "type": "line",
          "x0": 60,
          "x1": 60,
          "y0": 0,
          "y1": 80
         },
         {
          "line": {
           "color": "black"
          },
          "type": "circle",
          "x0": 50,
          "x1": 70,
          "y0": 30,
          "y1": 50
         },
         {
          "line": {
           "color": "black"
          },
          "type": "rect",
          "x0": 0,
          "x1": 18,
          "y0": 18,
          "y1": 62
         },
         {
          "line": {
           "color": "black"
          },
          "type": "rect",
          "x0": 102,
          "x1": 120,
          "y0": 18,
          "y1": 62
         },
         {
          "line": {
           "color": "black"
          },
          "type": "rect",
          "x0": 0,
          "x1": 6,
          "y0": 30,
          "y1": 50
         },
         {
          "line": {
           "color": "black"
          },
          "type": "rect",
          "x0": 114,
          "x1": 120,
          "y0": 30,
          "y1": 50
         }
        ],
        "showlegend": false,
        "template": {
         "data": {
          "bar": [
           {
            "error_x": {
             "color": "#2a3f5f"
            },
            "error_y": {
             "color": "#2a3f5f"
            },
            "marker": {
             "line": {
              "color": "#E5ECF6",
              "width": 0.5
             },
             "pattern": {
              "fillmode": "overlay",
              "size": 10,
              "solidity": 0.2
             }
            },
            "type": "bar"
           }
          ],
          "barpolar": [
           {
            "marker": {
             "line": {
              "color": "#E5ECF6",
              "width": 0.5
             },
             "pattern": {
              "fillmode": "overlay",
              "size": 10,
              "solidity": 0.2
             }
            },
            "type": "barpolar"
           }
          ],
          "carpet": [
           {
            "aaxis": {
             "endlinecolor": "#2a3f5f",
             "gridcolor": "white",
             "linecolor": "white",
             "minorgridcolor": "white",
             "startlinecolor": "#2a3f5f"
            },
            "baxis": {
             "endlinecolor": "#2a3f5f",
             "gridcolor": "white",
             "linecolor": "white",
             "minorgridcolor": "white",
             "startlinecolor": "#2a3f5f"
            },
            "type": "carpet"
           }
          ],
          "choropleth": [
           {
            "colorbar": {
             "outlinewidth": 0,
             "ticks": ""
            },
            "type": "choropleth"
           }
          ],
          "contour": [
           {
            "colorbar": {
             "outlinewidth": 0,
             "ticks": ""
            },
            "colorscale": [
             [
              0,
              "#0d0887"
             ],
             [
              0.1111111111111111,
              "#46039f"
             ],
             [
              0.2222222222222222,
              "#7201a8"
             ],
             [
              0.3333333333333333,
              "#9c179e"
             ],
             [
              0.4444444444444444,
              "#bd3786"
             ],
             [
              0.5555555555555556,
              "#d8576b"
             ],
             [
              0.6666666666666666,
              "#ed7953"
             ],
             [
              0.7777777777777778,
              "#fb9f3a"
             ],
             [
              0.8888888888888888,
              "#fdca26"
             ],
             [
              1,
              "#f0f921"
             ]
            ],
            "type": "contour"
           }
          ],
          "contourcarpet": [
           {
            "colorbar": {
             "outlinewidth": 0,
             "ticks": ""
            },
            "type": "contourcarpet"
           }
          ],
          "heatmap": [
           {
            "colorbar": {
             "outlinewidth": 0,
             "ticks": ""
            },
            "colorscale": [
             [
              0,
              "#0d0887"
             ],
             [
              0.1111111111111111,
              "#46039f"
             ],
             [
              0.2222222222222222,
              "#7201a8"
             ],
             [
              0.3333333333333333,
              "#9c179e"
             ],
             [
              0.4444444444444444,
              "#bd3786"
             ],
             [
              0.5555555555555556,
              "#d8576b"
             ],
             [
              0.6666666666666666,
              "#ed7953"
             ],
             [
              0.7777777777777778,
              "#fb9f3a"
             ],
             [
              0.8888888888888888,
              "#fdca26"
             ],
             [
              1,
              "#f0f921"
             ]
            ],
            "type": "heatmap"
           }
          ],
          "histogram": [
           {
            "marker": {
             "pattern": {
              "fillmode": "overlay",
              "size": 10,
              "solidity": 0.2
             }
            },
            "type": "histogram"
           }
          ],
          "histogram2d": [
           {
            "colorbar": {
             "outlinewidth": 0,
             "ticks": ""
            },
            "colorscale": [
             [
              0,
              "#0d0887"
             ],
             [
              0.1111111111111111,
              "#46039f"
             ],
             [
              0.2222222222222222,
              "#7201a8"
             ],
             [
              0.3333333333333333,
              "#9c179e"
             ],
             [
              0.4444444444444444,
              "#bd3786"
             ],
             [
              0.5555555555555556,
              "#d8576b"
             ],
             [
              0.6666666666666666,
              "#ed7953"
             ],
             [
              0.7777777777777778,
              "#fb9f3a"
             ],
             [
              0.8888888888888888,
              "#fdca26"
             ],
             [
              1,
              "#f0f921"
             ]
            ],
            "type": "histogram2d"
           }
          ],
          "histogram2dcontour": [
           {
            "colorbar": {
             "outlinewidth": 0,
             "ticks": ""
            },
            "colorscale": [
             [
              0,
              "#0d0887"
             ],
             [
              0.1111111111111111,
              "#46039f"
             ],
             [
              0.2222222222222222,
              "#7201a8"
             ],
             [
              0.3333333333333333,
              "#9c179e"
             ],
             [
              0.4444444444444444,
              "#bd3786"
             ],
             [
              0.5555555555555556,
              "#d8576b"
             ],
             [
              0.6666666666666666,
              "#ed7953"
             ],
             [
              0.7777777777777778,
              "#fb9f3a"
             ],
             [
              0.8888888888888888,
              "#fdca26"
             ],
             [
              1,
              "#f0f921"
             ]
            ],
            "type": "histogram2dcontour"
           }
          ],
          "mesh3d": [
           {
            "colorbar": {
             "outlinewidth": 0,
             "ticks": ""
            },
            "type": "mesh3d"
           }
          ],
          "parcoords": [
           {
            "line": {
             "colorbar": {
              "outlinewidth": 0,
              "ticks": ""
             }
            },
            "type": "parcoords"
           }
          ],
          "pie": [
           {
            "automargin": true,
            "type": "pie"
           }
          ],
          "scatter": [
           {
            "fillpattern": {
             "fillmode": "overlay",
             "size": 10,
             "solidity": 0.2
            },
            "type": "scatter"
           }
          ],
          "scatter3d": [
           {
            "line": {
             "colorbar": {
              "outlinewidth": 0,
              "ticks": ""
             }
            },
            "marker": {
             "colorbar": {
              "outlinewidth": 0,
              "ticks": ""
             }
            },
            "type": "scatter3d"
           }
          ],
          "scattercarpet": [
           {
            "marker": {
             "colorbar": {
              "outlinewidth": 0,
              "ticks": ""
             }
            },
            "type": "scattercarpet"
           }
          ],
          "scattergeo": [
           {
            "marker": {
             "colorbar": {
              "outlinewidth": 0,
              "ticks": ""
             }
            },
            "type": "scattergeo"
           }
          ],
          "scattergl": [
           {
            "marker": {
             "colorbar": {
              "outlinewidth": 0,
              "ticks": ""
             }
            },
            "type": "scattergl"
           }
          ],
          "scattermap": [
           {
            "marker": {
             "colorbar": {
              "outlinewidth": 0,
              "ticks": ""
             }
            },
            "type": "scattermap"
           }
          ],
          "scattermapbox": [
           {
            "marker": {
             "colorbar": {
              "outlinewidth": 0,
              "ticks": ""
             }
            },
            "type": "scattermapbox"
           }
          ],
          "scatterpolar": [
           {
            "marker": {
             "colorbar": {
              "outlinewidth": 0,
              "ticks": ""
             }
            },
            "type": "scatterpolar"
           }
          ],
          "scatterpolargl": [
           {
            "marker": {
             "colorbar": {
              "outlinewidth": 0,
              "ticks": ""
             }
            },
            "type": "scatterpolargl"
           }
          ],
          "scatterternary": [
           {
            "marker": {
             "colorbar": {
              "outlinewidth": 0,
              "ticks": ""
             }
            },
            "type": "scatterternary"
           }
          ],
          "surface": [
           {
            "colorbar": {
             "outlinewidth": 0,
             "ticks": ""
            },
            "colorscale": [
             [
              0,
              "#0d0887"
             ],
             [
              0.1111111111111111,
              "#46039f"
             ],
             [
              0.2222222222222222,
              "#7201a8"
             ],
             [
              0.3333333333333333,
              "#9c179e"
             ],
             [
              0.4444444444444444,
              "#bd3786"
             ],
             [
              0.5555555555555556,
              "#d8576b"
             ],
             [
              0.6666666666666666,
              "#ed7953"
             ],
             [
              0.7777777777777778,
              "#fb9f3a"
             ],
             [
              0.8888888888888888,
              "#fdca26"
             ],
             [
              1,
              "#f0f921"
             ]
            ],
            "type": "surface"
           }
          ],
          "table": [
           {
            "cells": {
             "fill": {
              "color": "#EBF0F8"
             },
             "line": {
              "color": "white"
             }
            },
            "header": {
             "fill": {
              "color": "#C8D4E3"
             },
             "line": {
              "color": "white"
             }
            },
            "type": "table"
           }
          ]
         },
         "layout": {
          "annotationdefaults": {
           "arrowcolor": "#2a3f5f",
           "arrowhead": 0,
           "arrowwidth": 1
          },
          "autotypenumbers": "strict",
          "coloraxis": {
           "colorbar": {
            "outlinewidth": 0,
            "ticks": ""
           }
          },
          "colorscale": {
           "diverging": [
            [
             0,
             "#8e0152"
            ],
            [
             0.1,
             "#c51b7d"
            ],
            [
             0.2,
             "#de77ae"
            ],
            [
             0.3,
             "#f1b6da"
            ],
            [
             0.4,
             "#fde0ef"
            ],
            [
             0.5,
             "#f7f7f7"
            ],
            [
             0.6,
             "#e6f5d0"
            ],
            [
             0.7,
             "#b8e186"
            ],
            [
             0.8,
             "#7fbc41"
            ],
            [
             0.9,
             "#4d9221"
            ],
            [
             1,
             "#276419"
            ]
           ],
           "sequential": [
            [
             0,
             "#0d0887"
            ],
            [
             0.1111111111111111,
             "#46039f"
            ],
            [
             0.2222222222222222,
             "#7201a8"
            ],
            [
             0.3333333333333333,
             "#9c179e"
            ],
            [
             0.4444444444444444,
             "#bd3786"
            ],
            [
             0.5555555555555556,
             "#d8576b"
            ],
            [
             0.6666666666666666,
             "#ed7953"
            ],
            [
             0.7777777777777778,
             "#fb9f3a"
            ],
            [
             0.8888888888888888,
             "#fdca26"
            ],
            [
             1,
             "#f0f921"
            ]
           ],
           "sequentialminus": [
            [
             0,
             "#0d0887"
            ],
            [
             0.1111111111111111,
             "#46039f"
            ],
            [
             0.2222222222222222,
             "#7201a8"
            ],
            [
             0.3333333333333333,
             "#9c179e"
            ],
            [
             0.4444444444444444,
             "#bd3786"
            ],
            [
             0.5555555555555556,
             "#d8576b"
            ],
            [
             0.6666666666666666,
             "#ed7953"
            ],
            [
             0.7777777777777778,
             "#fb9f3a"
            ],
            [
             0.8888888888888888,
             "#fdca26"
            ],
            [
             1,
             "#f0f921"
            ]
           ]
          },
          "colorway": [
           "#636efa",
           "#EF553B",
           "#00cc96",
           "#ab63fa",
           "#FFA15A",
           "#19d3f3",
           "#FF6692",
           "#B6E880",
           "#FF97FF",
           "#FECB52"
          ],
          "font": {
           "color": "#2a3f5f"
          },
          "geo": {
           "bgcolor": "white",
           "lakecolor": "white",
           "landcolor": "#E5ECF6",
           "showlakes": true,
           "showland": true,
           "subunitcolor": "white"
          },
          "hoverlabel": {
           "align": "left"
          },
          "hovermode": "closest",
          "mapbox": {
           "style": "light"
          },
          "paper_bgcolor": "white",
          "plot_bgcolor": "#E5ECF6",
          "polar": {
           "angularaxis": {
            "gridcolor": "white",
            "linecolor": "white",
            "ticks": ""
           },
           "bgcolor": "#E5ECF6",
           "radialaxis": {
            "gridcolor": "white",
            "linecolor": "white",
            "ticks": ""
           }
          },
          "scene": {
           "xaxis": {
            "backgroundcolor": "#E5ECF6",
            "gridcolor": "white",
            "gridwidth": 2,
            "linecolor": "white",
            "showbackground": true,
            "ticks": "",
            "zerolinecolor": "white"
           },
           "yaxis": {
            "backgroundcolor": "#E5ECF6",
            "gridcolor": "white",
            "gridwidth": 2,
            "linecolor": "white",
            "showbackground": true,
            "ticks": "",
            "zerolinecolor": "white"
           },
           "zaxis": {
            "backgroundcolor": "#E5ECF6",
            "gridcolor": "white",
            "gridwidth": 2,
            "linecolor": "white",
            "showbackground": true,
            "ticks": "",
            "zerolinecolor": "white"
           }
          },
          "shapedefaults": {
           "line": {
            "color": "#2a3f5f"
           }
          },
          "ternary": {
           "aaxis": {
            "gridcolor": "white",
            "linecolor": "white",
            "ticks": ""
           },
           "baxis": {
            "gridcolor": "white",
            "linecolor": "white",
            "ticks": ""
           },
           "bgcolor": "#E5ECF6",
           "caxis": {
            "gridcolor": "white",
            "linecolor": "white",
            "ticks": ""
           }
          },
          "title": {
           "x": 0.05
          },
          "xaxis": {
           "automargin": true,
           "gridcolor": "white",
           "linecolor": "white",
           "ticks": "",
           "title": {
            "standoff": 15
           },
           "zerolinecolor": "white",
           "zerolinewidth": 2
          },
          "yaxis": {
           "automargin": true,
           "gridcolor": "white",
           "linecolor": "white",
           "ticks": "",
           "title": {
            "standoff": 15
           },
           "zerolinecolor": "white",
           "zerolinewidth": 2
          }
         }
        },
        "title": {},
        "width": 800,
        "xaxis": {
         "constrain": "domain",
         "fixedrange": true,
         "range": [
          -5,
          125
         ],
         "scaleanchor": "y",
         "scaleratio": 1,
         "showgrid": false,
         "showticklabels": false,
         "visible": false,
         "zeroline": false
        },
        "yaxis": {
         "constrain": "domain",
         "fixedrange": true,
         "range": [
          -5,
          85
         ],
         "showgrid": false,
         "showticklabels": false,
         "visible": false,
         "zeroline": false
        }
       }
      }
     },
     "metadata": {},
     "output_type": "display_data"
    }
   ],
   "source": [
    "df = pd.DataFrame({\n",
    "    'x': np.random.uniform(0, 120, 11),\n",
    "    'y': np.random.uniform(0, 80, 11),\n",
    "    'name': [f'Player {i+1}' for i in range(11)]\n",
    "})\n",
    "\n",
    "pitch = pb.viz.Pitch(width=800, height=600, theme=\"white\", provider=\"statsbomb\")\n",
    "pitch.plot_scatter(df, x='x', y='y', hover='name')\n",
    "pitch.show()"
   ]
  },
  {
   "cell_type": "code",
   "execution_count": null,
   "id": "0cc28b7e",
   "metadata": {},
   "outputs": [],
   "source": []
  },
  {
   "cell_type": "code",
   "execution_count": null,
   "id": "1ab85f7c-2e96-4fc0-950a-7c013f01a26e",
   "metadata": {},
   "outputs": [],
   "source": [
    "df2 = pd.DataFrame({\n",
    "    'x': np.random.uniform(0, 120, 500),\n",
    "    'y': np.random.uniform(0, 80, 500)\n",
    "})\n",
    "\n",
    "# Create the pitch and plot the heatmap\n",
    "pitch = pb.viz.Pitch(theme=\"white\")\n",
    "pitch.plot_heatmap(df2, x='x', y='y')\n",
    "pitch.show()"
   ]
  },
  {
   "cell_type": "code",
   "execution_count": null,
   "id": "55eef370",
   "metadata": {},
   "outputs": [],
   "source": []
  },
  {
   "cell_type": "code",
   "execution_count": null,
   "id": "bf6aba83",
   "metadata": {},
   "outputs": [],
   "source": [
    "data = pd.DataFrame({\n",
    "    'x': [30, 50, 70],\n",
    "    'y': [40, 60, 20],\n",
    "    'x2': [45, 65, 80],\n",
    "    'y2': [50, 70, 30],\n",
    "    'player': ['Alice', 'Bob', 'Carol']\n",
    "})\n",
    "\n",
    "# Create a pitch with a dark theme and Opta dimensions\n",
    "pitch = pb.viz.Pitch(theme=\"white\")\n",
    "\n",
    "# Plot the passes as arrows\n",
    "pitch.plot_arrows(\n",
    "    data, x='x', y='y', x_end='x2', y_end='y2',\n",
    "    width=3, arrowhead=2, arrowsize=1.2, \n",
    ")\n",
    "\n",
    "# Optional: plot player positions at the start of the arrows\n",
    "pitch.plot_scatter(data, x='x', y='y', hover='player')\n",
    "\n",
    "# Show the pitch\n",
    "pitch.show()\n"
   ]
  },
  {
   "cell_type": "code",
   "execution_count": null,
   "id": "72587f76",
   "metadata": {},
   "outputs": [],
   "source": []
  },
  {
   "cell_type": "code",
   "execution_count": null,
   "id": "01328c30",
   "metadata": {},
   "outputs": [],
   "source": [
    "df = pd.DataFrame({\n",
    "    'x': [30, 50, 70],\n",
    "    'y': [40, 60, 20],\n",
    "    'x2': [45, 65, 80],\n",
    "    'y2': [50, 70, 30]\n",
    "})\n",
    "\n",
    "pitch = pb.viz.Pitch(theme=\"white\")\n",
    "pitch.plot_comets(df, x='x', y='y', x_end='x2', y_end='y2', width=3, segments=20)\n",
    "pitch.show()"
   ]
  },
  {
   "cell_type": "code",
   "execution_count": null,
   "id": "9df50019",
   "metadata": {},
   "outputs": [],
   "source": []
  }
 ],
 "metadata": {
  "kernelspec": {
   "display_name": "venv",
   "language": "python",
   "name": "python3"
  },
  "language_info": {
   "codemirror_mode": {
    "name": "ipython",
    "version": 3
   },
   "file_extension": ".py",
   "mimetype": "text/x-python",
   "name": "python",
   "nbconvert_exporter": "python",
   "pygments_lexer": "ipython3",
   "version": "3.13.1"
  }
 },
 "nbformat": 4,
 "nbformat_minor": 5
}
