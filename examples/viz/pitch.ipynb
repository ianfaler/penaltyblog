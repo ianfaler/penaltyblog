{
 "cells": [
  {
   "cell_type": "markdown",
   "id": "9e38dcff",
   "metadata": {},
   "source": [
    "# Pitch"
   ]
  },
  {
   "cell_type": "code",
   "execution_count": 1,
   "id": "020e4320-ccad-4b79-b63c-8eb0c120cad6",
   "metadata": {},
   "outputs": [],
   "source": [
    "import penaltyblog as pb\n",
    "import numpy as np\n",
    "import pandas as pd"
   ]
  },
  {
   "cell_type": "code",
   "execution_count": 6,
   "id": "cabbbde4-aad2-4748-b029-80ec027e9a1e",
   "metadata": {},
   "outputs": [
    {
     "data": {
      "application/vnd.plotly.v1+json": {
       "config": {
        "displaylogo": false,
        "plotlyServerURL": "https://plot.ly"
       },
       "data": [
        {
         "hoverinfo": "skip",
         "line": {
          "color": "#333333"
         },
         "mode": "lines",
         "showlegend": false,
         "type": "scatter",
         "x": {
          "bdata": "zczMzMzMMECd15dtpwwxQH5syJd2SjFAzs1D/yaGMUAeZGMBpr8xQI4sxqrh9jFAi27rvMgrMkAE+ZSzSl4yQNY478lXjjJAMox9/+C7MkCgSckc2OYyQC0E0rcvDzNADao9ONs0M0AAL0fbzlczQCWIarf/dzNAx9PMv2OVM0DYnF/H8a8zQFQ/voOhxzNAj4jEj2vcM0CUxN1tSe4zQAOAC4o1/TNAh1yjOysJNECibMPGJhI0QJyifF0lGDRAY/WyICUbNEBj9bIgJRs0QJyifF0lGDRAomzDxiYSNECHXKM7Kwk0QAOAC4o1/TNAlMTdbUnuM0CQiMSPa9wzQFQ/voOhxzNA2Jxfx/GvM0DH08y/Y5UzQCaIarf/dzNAAC9H285XM0ANqj042zQzQC4E0rcvDzNAoUnJHNjmMkAyjH3/4LsyQNY478lXjjJABPmUs0peMkCLbuu8yCsyQI4sxqrh9jFAHmRjAaa/MUDOzUP/JoYxQH5syJd2SjFAndeXbacMMUDNzMzMzMwwQA==",
          "dtype": "f8"
         },
         "y": {
          "bdata": "cFl+CRe/OkC0yuJEifg6QGqOdE4tNDtAwXhph/BxO0CCSWGnv7E7QPrXasKG8ztA9k88TzE3PECfjpwtqnw8QNGe+6zbwzxAwkU4k68MPUC9gpAjD1c9QE7XuiXjoj1AhCAm7RPwPUDevV1giT4+QCa3jwArjj5A2ocy8d/ePkDvLMj/jjA/QIgIvKsegz9A2yZZLnXWP0AANGtBPBVAQKgFOzeHP0BAoglbRA5qQECNecchxJRAQML53nmbv0BAyFuM7IbqQEA4pHMTeRVBQD4GIYZkQEFAc4Y43jtrQUBe9qS78ZVBQFf6xMh4wEFAAMyUvsPqQUCSbNNoxRRCQLz7IapwPkJAiOkbgLhnQkATvGYHkJBCQG0kuH/quEJAESHRT7vgQkC+72wJ9gdDQFmUIm2OLkNAob43bnhUQ0Af3WM2qHlDQJgwgikSnkNAsLgx6arBQ0AF2GFYZ+RDQAOUyp48BkRAP1tPLCAnRECfQ0u8B0dEQMu4xVjpZURAppqOXbuDREBI00B7dKBEQA==",
          "dtype": "f8"
         }
        },
        {
         "hoverinfo": "skip",
         "line": {
          "color": "#333333"
         },
         "mode": "lines",
         "showlegend": false,
         "type": "scatter",
         "x": {
          "bdata": "zczMzMwMVkAZCpok1vxVQOHkDVpi7VVAjQwvQHbeVUD5Jqd/FtBVQN10TpVHwlVAXSTF0A21VUC/wRpTbahVQMsxhA1qnFVA9JwgwAeRVUCYrc34SYZVQPV+CxI0fFVAfZXwMclyVUBANC5JDGpVQPddJRIAYlVADssMEKdaVUDKGCiOA1RVQCtwEJ8XTlVA3N0OHOVIVUDbjoikbURVQP8ffZ2yQFVA3igXMbU9VUDYJE9OdjtVQFnXoKj2OVVAp0LTtzY5VUCnQtO3NjlVQFnXoKj2OVVA2CRPTnY7VUDeKBcxtT1VQP8ffZ2yQFVA246IpG1EVUDc3Q4c5UhVQCtwEJ8XTlVAyhgojgNUVUAOywwQp1pVQPddJRIAYlVAQDQuSQxqVUB9lfAxyXJVQPV+CxI0fFVAmK3N+EmGVUD0nCDAB5FVQMsxhA1qnFVAv8EaU22oVUBeJMXQDbVVQN10TpVHwlVA+SanfxbQVUCNDC9Adt5VQOHkDVpi7VVAGQqaJNb8VUDNzMzMzAxWQA==",
          "dtype": "f8"
         },
         "y": {
          "bdata": "SdNAe3SgRECnmo5du4NEQMy4xVjpZURAoENLvAdHREBAW08sICdEQASUyp48BkRABdhhWGfkQ0CxuDHpqsFDQJgwgikSnkNAH91jNqh5Q0CivjdueFRDQFqUIm2OLkNAvu9sCfYHQ0ASIdFPu+BCQG4kuH/quEJAE7xmB5CQQkCJ6RuAuGdCQLz7IapwPkJAk2zTaMUUQkABzJS+w+pBQFj6xMh4wEFAXvaku/GVQUBzhjjeO2tBQD4GIYZkQEFAOKRzE3kVQUDIW4zshupAQMH53nmbv0BAjXnHIcSUQECiCVtEDmpAQKgFOzeHP0BA/zNrQTwVQEDaJlkuddY/QIgIvKsegz9A7yzI/44wP0DYhzLx394+QCW3jwArjj5A3r1dYIk+PkCCICbtE/A9QE7XuiXjoj1AvIKQIw9XPUDBRTiTrww9QNGe+6zbwzxAno6cLap8PED0TzxPMTc8QPnXasKG8ztAgUlhp7+xO0C/eGmH8HE7QGiOdE4tNDtAssriRIn4OkBvWX4JF786QA==",
          "dtype": "f8"
         }
        },
        {
         "hoverinfo": "skip",
         "marker": {
          "color": "#333333",
          "size": 6
         },
         "mode": "markers",
         "showlegend": false,
         "type": "scatter",
         "x": [
          10.5
         ],
         "y": [
          34
         ]
        },
        {
         "hoverinfo": "skip",
         "marker": {
          "color": "#333333",
          "size": 6
         },
         "mode": "markers",
         "showlegend": false,
         "type": "scatter",
         "x": [
          94.5
         ],
         "y": [
          34
         ]
        },
        {
         "hoverinfo": "skip",
         "marker": {
          "color": "#333333",
          "size": 6
         },
         "mode": "markers",
         "showlegend": false,
         "type": "scatter",
         "x": [
          52.5
         ],
         "y": [
          34
         ]
        },
        {
         "hoverinfo": "text",
         "hovertext": [
          "Player 1 (54.8, 2.6)",
          "Player 2 (55.3, 42.9)",
          "Player 3 (1.6, 19.9)",
          "Player 4 (70.3, 59.8)",
          "Player 5 (21.8, 73.1)",
          "Player 6 (53.5, 49.6)",
          "Player 7 (30.4, 5.5)",
          "Player 8 (10.8, 88.6)",
          "Player 9 (77.9, 36.3)",
          "Player 10 (27.4, 83.0)",
          "Player 11 (17.9, 63.8)"
         ],
         "marker": {
          "color": "#757575",
          "size": 10
         },
         "mode": "markers",
         "showlegend": false,
         "type": "scatter",
         "x": {
          "bdata": "Q8iLSSnKTEAjmiPJpQZNQCTli/QUsPo/kawKPQhzUkAq1iWsHOk2QN9Base0G0xAZl6TuxrmP0AVRAXfHbwmQHjvR9bidFRAdhk3fJDGPEC6R8dz978yQA==",
          "dtype": "f8"
         },
         "y": {
          "bdata": "C2V/gyiPUEC0HkGufG1DQI/G9/mfPUtAEK+IJGRXO0CtmwcnKE4yQO/uItEgIEFA7hSydM8RUEClE8o4uP0eQJdrtsLxqEVAcIiDKJcmJ0A+Ygc9/5Q4QA==",
          "dtype": "f8"
         }
        }
       ],
       "layout": {
        "font": {
         "color": "#333333",
         "family": "Helvetica Neue, Arial, sans-serif"
        },
        "height": 600,
        "margin": {
         "b": 0,
         "l": 0,
         "r": 0,
         "t": 0
        },
        "paper_bgcolor": "#ffffff",
        "plot_bgcolor": "#ffffff",
        "shapes": [
         {
          "line": {
           "color": "#333333"
          },
          "type": "rect",
          "x0": 0,
          "x1": 105,
          "y0": 0,
          "y1": 68
         },
         {
          "line": {
           "color": "#333333"
          },
          "type": "rect",
          "x0": 52.5,
          "x1": 52.5,
          "y0": 68,
          "y1": 0
         },
         {
          "line": {
           "color": "#333333"
          },
          "type": "rect",
          "x0": 0,
          "x1": 16.8,
          "y0": 12.920000000000002,
          "y1": 55.080000000000005
         },
         {
          "line": {
           "color": "#333333"
          },
          "type": "rect",
          "x0": 88.2,
          "x1": 105,
          "y0": 55.080000000000005,
          "y1": 12.920000000000002
         },
         {
          "line": {
           "color": "#333333"
          },
          "type": "rect",
          "x0": 0,
          "x1": 6.300000000000001,
          "y0": 25.16,
          "y1": 42.84
         },
         {
          "line": {
           "color": "#333333"
          },
          "type": "rect",
          "x0": 98.7,
          "x1": 105,
          "y0": 42.84,
          "y1": 25.16
         },
         {
          "line": {
           "color": "#333333"
          },
          "type": "circle",
          "x0": 42.8925,
          "x1": 62.1075,
          "y0": 24.3925,
          "y1": 43.6075
         }
        ],
        "showlegend": false,
        "template": {
         "data": {
          "bar": [
           {
            "error_x": {
             "color": "#2a3f5f"
            },
            "error_y": {
             "color": "#2a3f5f"
            },
            "marker": {
             "line": {
              "color": "#E5ECF6",
              "width": 0.5
             },
             "pattern": {
              "fillmode": "overlay",
              "size": 10,
              "solidity": 0.2
             }
            },
            "type": "bar"
           }
          ],
          "barpolar": [
           {
            "marker": {
             "line": {
              "color": "#E5ECF6",
              "width": 0.5
             },
             "pattern": {
              "fillmode": "overlay",
              "size": 10,
              "solidity": 0.2
             }
            },
            "type": "barpolar"
           }
          ],
          "carpet": [
           {
            "aaxis": {
             "endlinecolor": "#2a3f5f",
             "gridcolor": "white",
             "linecolor": "white",
             "minorgridcolor": "white",
             "startlinecolor": "#2a3f5f"
            },
            "baxis": {
             "endlinecolor": "#2a3f5f",
             "gridcolor": "white",
             "linecolor": "white",
             "minorgridcolor": "white",
             "startlinecolor": "#2a3f5f"
            },
            "type": "carpet"
           }
          ],
          "choropleth": [
           {
            "colorbar": {
             "outlinewidth": 0,
             "ticks": ""
            },
            "type": "choropleth"
           }
          ],
          "contour": [
           {
            "colorbar": {
             "outlinewidth": 0,
             "ticks": ""
            },
            "colorscale": [
             [
              0,
              "#0d0887"
             ],
             [
              0.1111111111111111,
              "#46039f"
             ],
             [
              0.2222222222222222,
              "#7201a8"
             ],
             [
              0.3333333333333333,
              "#9c179e"
             ],
             [
              0.4444444444444444,
              "#bd3786"
             ],
             [
              0.5555555555555556,
              "#d8576b"
             ],
             [
              0.6666666666666666,
              "#ed7953"
             ],
             [
              0.7777777777777778,
              "#fb9f3a"
             ],
             [
              0.8888888888888888,
              "#fdca26"
             ],
             [
              1,
              "#f0f921"
             ]
            ],
            "type": "contour"
           }
          ],
          "contourcarpet": [
           {
            "colorbar": {
             "outlinewidth": 0,
             "ticks": ""
            },
            "type": "contourcarpet"
           }
          ],
          "heatmap": [
           {
            "colorbar": {
             "outlinewidth": 0,
             "ticks": ""
            },
            "colorscale": [
             [
              0,
              "#0d0887"
             ],
             [
              0.1111111111111111,
              "#46039f"
             ],
             [
              0.2222222222222222,
              "#7201a8"
             ],
             [
              0.3333333333333333,
              "#9c179e"
             ],
             [
              0.4444444444444444,
              "#bd3786"
             ],
             [
              0.5555555555555556,
              "#d8576b"
             ],
             [
              0.6666666666666666,
              "#ed7953"
             ],
             [
              0.7777777777777778,
              "#fb9f3a"
             ],
             [
              0.8888888888888888,
              "#fdca26"
             ],
             [
              1,
              "#f0f921"
             ]
            ],
            "type": "heatmap"
           }
          ],
          "histogram": [
           {
            "marker": {
             "pattern": {
              "fillmode": "overlay",
              "size": 10,
              "solidity": 0.2
             }
            },
            "type": "histogram"
           }
          ],
          "histogram2d": [
           {
            "colorbar": {
             "outlinewidth": 0,
             "ticks": ""
            },
            "colorscale": [
             [
              0,
              "#0d0887"
             ],
             [
              0.1111111111111111,
              "#46039f"
             ],
             [
              0.2222222222222222,
              "#7201a8"
             ],
             [
              0.3333333333333333,
              "#9c179e"
             ],
             [
              0.4444444444444444,
              "#bd3786"
             ],
             [
              0.5555555555555556,
              "#d8576b"
             ],
             [
              0.6666666666666666,
              "#ed7953"
             ],
             [
              0.7777777777777778,
              "#fb9f3a"
             ],
             [
              0.8888888888888888,
              "#fdca26"
             ],
             [
              1,
              "#f0f921"
             ]
            ],
            "type": "histogram2d"
           }
          ],
          "histogram2dcontour": [
           {
            "colorbar": {
             "outlinewidth": 0,
             "ticks": ""
            },
            "colorscale": [
             [
              0,
              "#0d0887"
             ],
             [
              0.1111111111111111,
              "#46039f"
             ],
             [
              0.2222222222222222,
              "#7201a8"
             ],
             [
              0.3333333333333333,
              "#9c179e"
             ],
             [
              0.4444444444444444,
              "#bd3786"
             ],
             [
              0.5555555555555556,
              "#d8576b"
             ],
             [
              0.6666666666666666,
              "#ed7953"
             ],
             [
              0.7777777777777778,
              "#fb9f3a"
             ],
             [
              0.8888888888888888,
              "#fdca26"
             ],
             [
              1,
              "#f0f921"
             ]
            ],
            "type": "histogram2dcontour"
           }
          ],
          "mesh3d": [
           {
            "colorbar": {
             "outlinewidth": 0,
             "ticks": ""
            },
            "type": "mesh3d"
           }
          ],
          "parcoords": [
           {
            "line": {
             "colorbar": {
              "outlinewidth": 0,
              "ticks": ""
             }
            },
            "type": "parcoords"
           }
          ],
          "pie": [
           {
            "automargin": true,
            "type": "pie"
           }
          ],
          "scatter": [
           {
            "fillpattern": {
             "fillmode": "overlay",
             "size": 10,
             "solidity": 0.2
            },
            "type": "scatter"
           }
          ],
          "scatter3d": [
           {
            "line": {
             "colorbar": {
              "outlinewidth": 0,
              "ticks": ""
             }
            },
            "marker": {
             "colorbar": {
              "outlinewidth": 0,
              "ticks": ""
             }
            },
            "type": "scatter3d"
           }
          ],
          "scattercarpet": [
           {
            "marker": {
             "colorbar": {
              "outlinewidth": 0,
              "ticks": ""
             }
            },
            "type": "scattercarpet"
           }
          ],
          "scattergeo": [
           {
            "marker": {
             "colorbar": {
              "outlinewidth": 0,
              "ticks": ""
             }
            },
            "type": "scattergeo"
           }
          ],
          "scattergl": [
           {
            "marker": {
             "colorbar": {
              "outlinewidth": 0,
              "ticks": ""
             }
            },
            "type": "scattergl"
           }
          ],
          "scattermap": [
           {
            "marker": {
             "colorbar": {
              "outlinewidth": 0,
              "ticks": ""
             }
            },
            "type": "scattermap"
           }
          ],
          "scattermapbox": [
           {
            "marker": {
             "colorbar": {
              "outlinewidth": 0,
              "ticks": ""
             }
            },
            "type": "scattermapbox"
           }
          ],
          "scatterpolar": [
           {
            "marker": {
             "colorbar": {
              "outlinewidth": 0,
              "ticks": ""
             }
            },
            "type": "scatterpolar"
           }
          ],
          "scatterpolargl": [
           {
            "marker": {
             "colorbar": {
              "outlinewidth": 0,
              "ticks": ""
             }
            },
            "type": "scatterpolargl"
           }
          ],
          "scatterternary": [
           {
            "marker": {
             "colorbar": {
              "outlinewidth": 0,
              "ticks": ""
             }
            },
            "type": "scatterternary"
           }
          ],
          "surface": [
           {
            "colorbar": {
             "outlinewidth": 0,
             "ticks": ""
            },
            "colorscale": [
             [
              0,
              "#0d0887"
             ],
             [
              0.1111111111111111,
              "#46039f"
             ],
             [
              0.2222222222222222,
              "#7201a8"
             ],
             [
              0.3333333333333333,
              "#9c179e"
             ],
             [
              0.4444444444444444,
              "#bd3786"
             ],
             [
              0.5555555555555556,
              "#d8576b"
             ],
             [
              0.6666666666666666,
              "#ed7953"
             ],
             [
              0.7777777777777778,
              "#fb9f3a"
             ],
             [
              0.8888888888888888,
              "#fdca26"
             ],
             [
              1,
              "#f0f921"
             ]
            ],
            "type": "surface"
           }
          ],
          "table": [
           {
            "cells": {
             "fill": {
              "color": "#EBF0F8"
             },
             "line": {
              "color": "white"
             }
            },
            "header": {
             "fill": {
              "color": "#C8D4E3"
             },
             "line": {
              "color": "white"
             }
            },
            "type": "table"
           }
          ]
         },
         "layout": {
          "annotationdefaults": {
           "arrowcolor": "#2a3f5f",
           "arrowhead": 0,
           "arrowwidth": 1
          },
          "autotypenumbers": "strict",
          "coloraxis": {
           "colorbar": {
            "outlinewidth": 0,
            "ticks": ""
           }
          },
          "colorscale": {
           "diverging": [
            [
             0,
             "#8e0152"
            ],
            [
             0.1,
             "#c51b7d"
            ],
            [
             0.2,
             "#de77ae"
            ],
            [
             0.3,
             "#f1b6da"
            ],
            [
             0.4,
             "#fde0ef"
            ],
            [
             0.5,
             "#f7f7f7"
            ],
            [
             0.6,
             "#e6f5d0"
            ],
            [
             0.7,
             "#b8e186"
            ],
            [
             0.8,
             "#7fbc41"
            ],
            [
             0.9,
             "#4d9221"
            ],
            [
             1,
             "#276419"
            ]
           ],
           "sequential": [
            [
             0,
             "#0d0887"
            ],
            [
             0.1111111111111111,
             "#46039f"
            ],
            [
             0.2222222222222222,
             "#7201a8"
            ],
            [
             0.3333333333333333,
             "#9c179e"
            ],
            [
             0.4444444444444444,
             "#bd3786"
            ],
            [
             0.5555555555555556,
             "#d8576b"
            ],
            [
             0.6666666666666666,
             "#ed7953"
            ],
            [
             0.7777777777777778,
             "#fb9f3a"
            ],
            [
             0.8888888888888888,
             "#fdca26"
            ],
            [
             1,
             "#f0f921"
            ]
           ],
           "sequentialminus": [
            [
             0,
             "#0d0887"
            ],
            [
             0.1111111111111111,
             "#46039f"
            ],
            [
             0.2222222222222222,
             "#7201a8"
            ],
            [
             0.3333333333333333,
             "#9c179e"
            ],
            [
             0.4444444444444444,
             "#bd3786"
            ],
            [
             0.5555555555555556,
             "#d8576b"
            ],
            [
             0.6666666666666666,
             "#ed7953"
            ],
            [
             0.7777777777777778,
             "#fb9f3a"
            ],
            [
             0.8888888888888888,
             "#fdca26"
            ],
            [
             1,
             "#f0f921"
            ]
           ]
          },
          "colorway": [
           "#636efa",
           "#EF553B",
           "#00cc96",
           "#ab63fa",
           "#FFA15A",
           "#19d3f3",
           "#FF6692",
           "#B6E880",
           "#FF97FF",
           "#FECB52"
          ],
          "font": {
           "color": "#2a3f5f"
          },
          "geo": {
           "bgcolor": "white",
           "lakecolor": "white",
           "landcolor": "#E5ECF6",
           "showlakes": true,
           "showland": true,
           "subunitcolor": "white"
          },
          "hoverlabel": {
           "align": "left"
          },
          "hovermode": "closest",
          "mapbox": {
           "style": "light"
          },
          "paper_bgcolor": "white",
          "plot_bgcolor": "#E5ECF6",
          "polar": {
           "angularaxis": {
            "gridcolor": "white",
            "linecolor": "white",
            "ticks": ""
           },
           "bgcolor": "#E5ECF6",
           "radialaxis": {
            "gridcolor": "white",
            "linecolor": "white",
            "ticks": ""
           }
          },
          "scene": {
           "xaxis": {
            "backgroundcolor": "#E5ECF6",
            "gridcolor": "white",
            "gridwidth": 2,
            "linecolor": "white",
            "showbackground": true,
            "ticks": "",
            "zerolinecolor": "white"
           },
           "yaxis": {
            "backgroundcolor": "#E5ECF6",
            "gridcolor": "white",
            "gridwidth": 2,
            "linecolor": "white",
            "showbackground": true,
            "ticks": "",
            "zerolinecolor": "white"
           },
           "zaxis": {
            "backgroundcolor": "#E5ECF6",
            "gridcolor": "white",
            "gridwidth": 2,
            "linecolor": "white",
            "showbackground": true,
            "ticks": "",
            "zerolinecolor": "white"
           }
          },
          "shapedefaults": {
           "line": {
            "color": "#2a3f5f"
           }
          },
          "ternary": {
           "aaxis": {
            "gridcolor": "white",
            "linecolor": "white",
            "ticks": ""
           },
           "baxis": {
            "gridcolor": "white",
            "linecolor": "white",
            "ticks": ""
           },
           "bgcolor": "#E5ECF6",
           "caxis": {
            "gridcolor": "white",
            "linecolor": "white",
            "ticks": ""
           }
          },
          "title": {
           "x": 0.05
          },
          "xaxis": {
           "automargin": true,
           "gridcolor": "white",
           "linecolor": "white",
           "ticks": "",
           "title": {
            "standoff": 15
           },
           "zerolinecolor": "white",
           "zerolinewidth": 2
          },
          "yaxis": {
           "automargin": true,
           "gridcolor": "white",
           "linecolor": "white",
           "ticks": "",
           "title": {
            "standoff": 15
           },
           "zerolinecolor": "white",
           "zerolinewidth": 2
          }
         }
        },
        "title": {
         "font": {
          "color": "#333333",
          "family": "Helvetica Neue, Arial, sans-serif"
         }
        },
        "width": 800,
        "xaxis": {
         "constrain": "domain",
         "fixedrange": true,
         "range": [
          -5,
          110
         ],
         "scaleanchor": "y",
         "showgrid": false,
         "showticklabels": false,
         "visible": false,
         "zeroline": false
        },
        "yaxis": {
         "constrain": "domain",
         "fixedrange": true,
         "range": [
          -5,
          73
         ],
         "showgrid": false,
         "showticklabels": false,
         "visible": false,
         "zeroline": false
        }
       }
      }
     },
     "metadata": {},
     "output_type": "display_data"
    }
   ],
   "source": [
    "df = pd.DataFrame({\n",
    "    'x': np.random.uniform(0, 100, 11),\n",
    "    'y': np.random.uniform(0, 100, 11),\n",
    "    'name': [f'Player {i+1}' for i in range(11)]\n",
    "})\n",
    "\n",
    "pitch = pb.viz.Pitch(width=800, height=600, theme=\"minimal\", provider=\"wyscout\")\n",
    "pitch.plot_scatter(df, x='x', y='y', hover='name')\n",
    "pitch.show()\n"
   ]
  },
  {
   "cell_type": "markdown",
   "id": "7f8d3c87",
   "metadata": {},
   "source": []
  },
  {
   "cell_type": "code",
   "execution_count": null,
   "id": "0cc28b7e",
   "metadata": {},
   "outputs": [],
   "source": []
  },
  {
   "cell_type": "code",
   "execution_count": 3,
   "id": "1ab85f7c-2e96-4fc0-950a-7c013f01a26e",
   "metadata": {},
   "outputs": [
    {
     "data": {
      "application/vnd.plotly.v1+json": {
       "config": {
        "displaylogo": false,
        "plotlyServerURL": "https://plot.ly"
       },
       "data": [
        {
         "hoverinfo": "skip",
         "line": {
          "color": "#90caf9"
         },
         "mode": "lines",
         "showlegend": false,
         "type": "scatter",
         "x": {
          "bdata": "AAAAAACAL0BbZ1JhbOovQBMFJym4KDBA1oC41HVaMEBu09KrX4owQHZ6+rhmuDBAHtxunXzkMECDz6aVkw4xQFyvnH2eNjFAfp/o1JBcMUBbvafCXoAxQHsDLxn9oTFAYLiIWWHBMUDVUbu2gd4xQMrG2BhV+TFAJlvVH9MRMkC0AiUm9CcyQBuKHkOxOzJAIscjTQRNMkDQI47b51syQK3qXkhXaDJAG82ysU5yMkDcL/j6ynkyQNfc583JfjJAfcw/m0mBMkB9zD+bSYEyQNfc583JfjJA3C/4+sp5MkAbzbKxTnIyQK3qXkhXaDJA0COO2+dbMkAixyNNBE0yQBuKHkOxOzJAtAIlJvQnMkAmW9Uf0xEyQMrG2BhV+TFA1VG7toHeMUBguIhZYcExQHsDLxn9oTFAW72nwl6AMUB/n+jUkFwxQFyvnH2eNjFAhM+mlZMOMUAe3G6dfOQwQHd6+rhmuDBAbtPSq1+KMEDWgLjUdVowQBQFJym4KDBAW2dSYWzqL0AAAAAAAIAvQA==",
          "dtype": "f8"
         },
         "y": {
          "bdata": "MvWTMpP0O0CWUxJkciQ8QFghYcElVjxA9jktxp2JPECXEtFgyr48QFAJWfea9TxAo0KybP4tPUDadgIm42c9QFkEJxA3oz1Ad49ZpeffPUDzbPjy4R0+QMEIcZ8SXT5AbnBK8GWdPkA5Hk7Qx94+QKAYzdUjIT9ANnH/SGVkP0ByJXwqd6g/QHFcxzlE7T9A23r6fVsZQEBVqy7hXDxAQGIvsVibX0BAsjKh4wuDQED1j3txo6ZAQHclj+VWykBAJ/d0GhvuQEDZCIvl5BFBQInacBqpNUFAC3CEjlxZQUBOzV4c9HxBQJ7QTqdkoEFAq1TRHqPDQUAlhQWCpOZBQMdRHONdCUJAR+3BasQrQkBlR4BbzU1CQLBzGRVub0JA4/DYF5yQQkDJx9oHTbFCQKB7R7B20UJAhsmDBg/xQkBEOFMtDBBDQNR97HdkLkNAk8T+bA5MQ0Cv3qbJAGlDQFh7U4QyhUNAtHaXz5qgQ0AFY+kcMbtDQFRvTx/t1ENANdb2zcbtQ0BnBbZmtgVEQA==",
          "dtype": "f8"
         }
        },
        {
         "hoverinfo": "skip",
         "line": {
          "color": "#90caf9"
         },
         "mode": "lines",
         "showlegend": false,
         "type": "scatter",
         "x": {
          "bdata": "AAAAAABQVkAVs9VzskJWQLs+tvXRNVZAy9/RimIpVkAkSwsVaB1WQGJhwVHmEVZA+Uik2OAGVkAfTJYaW/xVQCnUmGBY8lVAINjFytvoVUCpEFZP6N9VQCE/tLmA11VA6NGdqafPVUCLK1GSX8hVQE7OybmqwVVANqkKOIu7VUBTv3b2ArZVQHldOK8TsVVAOA637L6sVUAMdxwJBqlVQFVF6C3qpVVAuUyTU2yjVUAJ9EFBjaFVQMoIhoxNoFVA4Qwwma2fVUDhDDCZrZ9VQMoIhoxNoFVACfRBQY2hVUC5TJNTbKNVQFVF6C3qpVVADHccCQapVUA4DrfsvqxVQHldOK8TsVVAU7929gK2VUA2qQo4i7tVQE7OybmqwVVAiytRkl/IVUDo0Z2pp89VQCE/tLmA11VAqRBWT+jfVUAg2MXK2+hVQCnUmGBY8lVAH0yWGlv8VUD4SKTY4AZWQGJhwVHmEVZAJUsLFWgdVkDK39GKYilWQLs+tvXRNVZAFbPVc7JCVkAAAAAAAFBWQA==",
          "dtype": "f8"
         },
         "y": {
          "bdata": "ZwW2ZrYFREA11vbNxu1DQFRvTx/t1ENABWPpHDG7Q0C0dpfPmqBDQFh7U4QyhUNAr96myQBpQ0CTxP5sDkxDQNR97HdkLkNARDhTLQwQQ0CHyYMGD/FCQJ97R7B20UJAycfaB02xQkDk8NgXnJBCQLBzGRVub0JAZUeAW81NQkBH7cFqxCtCQMhRHONdCUJAJYUFgqTmQUCrVNEeo8NBQJ7QTqdkoEFATs1eHPR8QUALcISOXFlBQInacBqpNUFA2QiL5eQRQUAn93QaG+5AQHYlj+VWykBA9o97caOmQECyMqHjC4NAQGIvsVibX0BAVasu4Vw8QEDbevp9WxlAQHJcxzlE7T9AcyV8KneoP0A1cf9IZWQ/QKAYzdUjIT9AOR5O0MfePkBucErwZZ0+QMIIcZ8SXT5A82z48uEdPkB3j1ml5989QFkEJxA3oz1A2nYCJuNnPUCkQrJs/i09QFAJWfea9TxAlhLRYMq+PED2OS3GnYk8QFghYcElVjxAllMSZHIkPEAz9ZMyk/Q7QA==",
          "dtype": "f8"
         }
        },
        {
         "hoverinfo": "skip",
         "marker": {
          "color": "#90caf9",
          "size": 6
         },
         "mode": "markers",
         "showlegend": false,
         "type": "scatter",
         "x": [
          10.5
         ],
         "y": [
          34
         ]
        },
        {
         "hoverinfo": "skip",
         "marker": {
          "color": "#90caf9",
          "size": 6
         },
         "mode": "markers",
         "showlegend": false,
         "type": "scatter",
         "x": [
          94.5
         ],
         "y": [
          34
         ]
        },
        {
         "hoverinfo": "skip",
         "marker": {
          "color": "#90caf9",
          "size": 6
         },
         "mode": "markers",
         "showlegend": false,
         "type": "scatter",
         "x": [
          52.5
         ],
         "y": [
          34
         ]
        },
        {
         "colorbar": {
          "title": {
           "text": "Density"
          }
         },
         "colorscale": [
          [
           0,
           "rgb(247,251,255)"
          ],
          [
           0.125,
           "rgb(222,235,247)"
          ],
          [
           0.25,
           "rgb(198,219,239)"
          ],
          [
           0.375,
           "rgb(158,202,225)"
          ],
          [
           0.5,
           "rgb(107,174,214)"
          ],
          [
           0.625,
           "rgb(66,146,198)"
          ],
          [
           0.75,
           "rgb(33,113,181)"
          ],
          [
           0.875,
           "rgb(8,81,156)"
          ],
          [
           1,
           "rgb(8,48,107)"
          ]
         ],
         "opacity": 0.5,
         "showscale": false,
         "type": "histogram2d",
         "x": {
          "bdata": "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",
          "dtype": "f8"
         },
         "xbins": {
          "end": 105,
          "size": 10.5,
          "start": 0
         },
         "y": {
          "bdata": "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",
          "dtype": "f8"
         },
         "ybins": {
          "end": 68,
          "size": 8.5,
          "start": 0
         }
        }
       ],
       "layout": {
        "font": {
         "color": "#90caf9",
         "family": "Montserrat, Helvetica, sans-serif"
        },
        "height": 600,
        "margin": {
         "b": 0,
         "l": 0,
         "r": 0,
         "t": 0
        },
        "paper_bgcolor": "#0f1e2e",
        "plot_bgcolor": "#0f1e2e",
        "shapes": [
         {
          "line": {
           "color": "#90caf9"
          },
          "type": "rect",
          "x0": 0,
          "x1": 105,
          "y0": 0,
          "y1": 68
         },
         {
          "line": {
           "color": "#90caf9"
          },
          "type": "rect",
          "x0": 52.5,
          "x1": 52.5,
          "y0": 68,
          "y1": 0
         },
         {
          "line": {
           "color": "#90caf9"
          },
          "type": "rect",
          "x0": 0,
          "x1": 15.75,
          "y0": 52.699999999999996,
          "y1": 15.299999999999999
         },
         {
          "line": {
           "color": "#90caf9"
          },
          "type": "rect",
          "x0": 89.25,
          "x1": 105,
          "y0": 52.699999999999996,
          "y1": 15.299999999999999
         },
         {
          "line": {
           "color": "#90caf9"
          },
          "type": "rect",
          "x0": 0,
          "x1": 5.25,
          "y0": 42.5,
          "y1": 25.5
         },
         {
          "line": {
           "color": "#90caf9"
          },
          "type": "rect",
          "x0": 99.75,
          "x1": 105,
          "y0": 42.5,
          "y1": 25.5
         },
         {
          "line": {
           "color": "#90caf9"
          },
          "type": "circle",
          "x0": 44.49375,
          "x1": 60.50625,
          "y0": 25.99375,
          "y1": 42.00625
         }
        ],
        "showlegend": false,
        "template": {
         "data": {
          "bar": [
           {
            "error_x": {
             "color": "#2a3f5f"
            },
            "error_y": {
             "color": "#2a3f5f"
            },
            "marker": {
             "line": {
              "color": "#E5ECF6",
              "width": 0.5
             },
             "pattern": {
              "fillmode": "overlay",
              "size": 10,
              "solidity": 0.2
             }
            },
            "type": "bar"
           }
          ],
          "barpolar": [
           {
            "marker": {
             "line": {
              "color": "#E5ECF6",
              "width": 0.5
             },
             "pattern": {
              "fillmode": "overlay",
              "size": 10,
              "solidity": 0.2
             }
            },
            "type": "barpolar"
           }
          ],
          "carpet": [
           {
            "aaxis": {
             "endlinecolor": "#2a3f5f",
             "gridcolor": "white",
             "linecolor": "white",
             "minorgridcolor": "white",
             "startlinecolor": "#2a3f5f"
            },
            "baxis": {
             "endlinecolor": "#2a3f5f",
             "gridcolor": "white",
             "linecolor": "white",
             "minorgridcolor": "white",
             "startlinecolor": "#2a3f5f"
            },
            "type": "carpet"
           }
          ],
          "choropleth": [
           {
            "colorbar": {
             "outlinewidth": 0,
             "ticks": ""
            },
            "type": "choropleth"
           }
          ],
          "contour": [
           {
            "colorbar": {
             "outlinewidth": 0,
             "ticks": ""
            },
            "colorscale": [
             [
              0,
              "#0d0887"
             ],
             [
              0.1111111111111111,
              "#46039f"
             ],
             [
              0.2222222222222222,
              "#7201a8"
             ],
             [
              0.3333333333333333,
              "#9c179e"
             ],
             [
              0.4444444444444444,
              "#bd3786"
             ],
             [
              0.5555555555555556,
              "#d8576b"
             ],
             [
              0.6666666666666666,
              "#ed7953"
             ],
             [
              0.7777777777777778,
              "#fb9f3a"
             ],
             [
              0.8888888888888888,
              "#fdca26"
             ],
             [
              1,
              "#f0f921"
             ]
            ],
            "type": "contour"
           }
          ],
          "contourcarpet": [
           {
            "colorbar": {
             "outlinewidth": 0,
             "ticks": ""
            },
            "type": "contourcarpet"
           }
          ],
          "heatmap": [
           {
            "colorbar": {
             "outlinewidth": 0,
             "ticks": ""
            },
            "colorscale": [
             [
              0,
              "#0d0887"
             ],
             [
              0.1111111111111111,
              "#46039f"
             ],
             [
              0.2222222222222222,
              "#7201a8"
             ],
             [
              0.3333333333333333,
              "#9c179e"
             ],
             [
              0.4444444444444444,
              "#bd3786"
             ],
             [
              0.5555555555555556,
              "#d8576b"
             ],
             [
              0.6666666666666666,
              "#ed7953"
             ],
             [
              0.7777777777777778,
              "#fb9f3a"
             ],
             [
              0.8888888888888888,
              "#fdca26"
             ],
             [
              1,
              "#f0f921"
             ]
            ],
            "type": "heatmap"
           }
          ],
          "histogram": [
           {
            "marker": {
             "pattern": {
              "fillmode": "overlay",
              "size": 10,
              "solidity": 0.2
             }
            },
            "type": "histogram"
           }
          ],
          "histogram2d": [
           {
            "colorbar": {
             "outlinewidth": 0,
             "ticks": ""
            },
            "colorscale": [
             [
              0,
              "#0d0887"
             ],
             [
              0.1111111111111111,
              "#46039f"
             ],
             [
              0.2222222222222222,
              "#7201a8"
             ],
             [
              0.3333333333333333,
              "#9c179e"
             ],
             [
              0.4444444444444444,
              "#bd3786"
             ],
             [
              0.5555555555555556,
              "#d8576b"
             ],
             [
              0.6666666666666666,
              "#ed7953"
             ],
             [
              0.7777777777777778,
              "#fb9f3a"
             ],
             [
              0.8888888888888888,
              "#fdca26"
             ],
             [
              1,
              "#f0f921"
             ]
            ],
            "type": "histogram2d"
           }
          ],
          "histogram2dcontour": [
           {
            "colorbar": {
             "outlinewidth": 0,
             "ticks": ""
            },
            "colorscale": [
             [
              0,
              "#0d0887"
             ],
             [
              0.1111111111111111,
              "#46039f"
             ],
             [
              0.2222222222222222,
              "#7201a8"
             ],
             [
              0.3333333333333333,
              "#9c179e"
             ],
             [
              0.4444444444444444,
              "#bd3786"
             ],
             [
              0.5555555555555556,
              "#d8576b"
             ],
             [
              0.6666666666666666,
              "#ed7953"
             ],
             [
              0.7777777777777778,
              "#fb9f3a"
             ],
             [
              0.8888888888888888,
              "#fdca26"
             ],
             [
              1,
              "#f0f921"
             ]
            ],
            "type": "histogram2dcontour"
           }
          ],
          "mesh3d": [
           {
            "colorbar": {
             "outlinewidth": 0,
             "ticks": ""
            },
            "type": "mesh3d"
           }
          ],
          "parcoords": [
           {
            "line": {
             "colorbar": {
              "outlinewidth": 0,
              "ticks": ""
             }
            },
            "type": "parcoords"
           }
          ],
          "pie": [
           {
            "automargin": true,
            "type": "pie"
           }
          ],
          "scatter": [
           {
            "fillpattern": {
             "fillmode": "overlay",
             "size": 10,
             "solidity": 0.2
            },
            "type": "scatter"
           }
          ],
          "scatter3d": [
           {
            "line": {
             "colorbar": {
              "outlinewidth": 0,
              "ticks": ""
             }
            },
            "marker": {
             "colorbar": {
              "outlinewidth": 0,
              "ticks": ""
             }
            },
            "type": "scatter3d"
           }
          ],
          "scattercarpet": [
           {
            "marker": {
             "colorbar": {
              "outlinewidth": 0,
              "ticks": ""
             }
            },
            "type": "scattercarpet"
           }
          ],
          "scattergeo": [
           {
            "marker": {
             "colorbar": {
              "outlinewidth": 0,
              "ticks": ""
             }
            },
            "type": "scattergeo"
           }
          ],
          "scattergl": [
           {
            "marker": {
             "colorbar": {
              "outlinewidth": 0,
              "ticks": ""
             }
            },
            "type": "scattergl"
           }
          ],
          "scattermap": [
           {
            "marker": {
             "colorbar": {
              "outlinewidth": 0,
              "ticks": ""
             }
            },
            "type": "scattermap"
           }
          ],
          "scattermapbox": [
           {
            "marker": {
             "colorbar": {
              "outlinewidth": 0,
              "ticks": ""
             }
            },
            "type": "scattermapbox"
           }
          ],
          "scatterpolar": [
           {
            "marker": {
             "colorbar": {
              "outlinewidth": 0,
              "ticks": ""
             }
            },
            "type": "scatterpolar"
           }
          ],
          "scatterpolargl": [
           {
            "marker": {
             "colorbar": {
              "outlinewidth": 0,
              "ticks": ""
             }
            },
            "type": "scatterpolargl"
           }
          ],
          "scatterternary": [
           {
            "marker": {
             "colorbar": {
              "outlinewidth": 0,
              "ticks": ""
             }
            },
            "type": "scatterternary"
           }
          ],
          "surface": [
           {
            "colorbar": {
             "outlinewidth": 0,
             "ticks": ""
            },
            "colorscale": [
             [
              0,
              "#0d0887"
             ],
             [
              0.1111111111111111,
              "#46039f"
             ],
             [
              0.2222222222222222,
              "#7201a8"
             ],
             [
              0.3333333333333333,
              "#9c179e"
             ],
             [
              0.4444444444444444,
              "#bd3786"
             ],
             [
              0.5555555555555556,
              "#d8576b"
             ],
             [
              0.6666666666666666,
              "#ed7953"
             ],
             [
              0.7777777777777778,
              "#fb9f3a"
             ],
             [
              0.8888888888888888,
              "#fdca26"
             ],
             [
              1,
              "#f0f921"
             ]
            ],
            "type": "surface"
           }
          ],
          "table": [
           {
            "cells": {
             "fill": {
              "color": "#EBF0F8"
             },
             "line": {
              "color": "white"
             }
            },
            "header": {
             "fill": {
              "color": "#C8D4E3"
             },
             "line": {
              "color": "white"
             }
            },
            "type": "table"
           }
          ]
         },
         "layout": {
          "annotationdefaults": {
           "arrowcolor": "#2a3f5f",
           "arrowhead": 0,
           "arrowwidth": 1
          },
          "autotypenumbers": "strict",
          "coloraxis": {
           "colorbar": {
            "outlinewidth": 0,
            "ticks": ""
           }
          },
          "colorscale": {
           "diverging": [
            [
             0,
             "#8e0152"
            ],
            [
             0.1,
             "#c51b7d"
            ],
            [
             0.2,
             "#de77ae"
            ],
            [
             0.3,
             "#f1b6da"
            ],
            [
             0.4,
             "#fde0ef"
            ],
            [
             0.5,
             "#f7f7f7"
            ],
            [
             0.6,
             "#e6f5d0"
            ],
            [
             0.7,
             "#b8e186"
            ],
            [
             0.8,
             "#7fbc41"
            ],
            [
             0.9,
             "#4d9221"
            ],
            [
             1,
             "#276419"
            ]
           ],
           "sequential": [
            [
             0,
             "#0d0887"
            ],
            [
             0.1111111111111111,
             "#46039f"
            ],
            [
             0.2222222222222222,
             "#7201a8"
            ],
            [
             0.3333333333333333,
             "#9c179e"
            ],
            [
             0.4444444444444444,
             "#bd3786"
            ],
            [
             0.5555555555555556,
             "#d8576b"
            ],
            [
             0.6666666666666666,
             "#ed7953"
            ],
            [
             0.7777777777777778,
             "#fb9f3a"
            ],
            [
             0.8888888888888888,
             "#fdca26"
            ],
            [
             1,
             "#f0f921"
            ]
           ],
           "sequentialminus": [
            [
             0,
             "#0d0887"
            ],
            [
             0.1111111111111111,
             "#46039f"
            ],
            [
             0.2222222222222222,
             "#7201a8"
            ],
            [
             0.3333333333333333,
             "#9c179e"
            ],
            [
             0.4444444444444444,
             "#bd3786"
            ],
            [
             0.5555555555555556,
             "#d8576b"
            ],
            [
             0.6666666666666666,
             "#ed7953"
            ],
            [
             0.7777777777777778,
             "#fb9f3a"
            ],
            [
             0.8888888888888888,
             "#fdca26"
            ],
            [
             1,
             "#f0f921"
            ]
           ]
          },
          "colorway": [
           "#636efa",
           "#EF553B",
           "#00cc96",
           "#ab63fa",
           "#FFA15A",
           "#19d3f3",
           "#FF6692",
           "#B6E880",
           "#FF97FF",
           "#FECB52"
          ],
          "font": {
           "color": "#2a3f5f"
          },
          "geo": {
           "bgcolor": "white",
           "lakecolor": "white",
           "landcolor": "#E5ECF6",
           "showlakes": true,
           "showland": true,
           "subunitcolor": "white"
          },
          "hoverlabel": {
           "align": "left"
          },
          "hovermode": "closest",
          "mapbox": {
           "style": "light"
          },
          "paper_bgcolor": "white",
          "plot_bgcolor": "#E5ECF6",
          "polar": {
           "angularaxis": {
            "gridcolor": "white",
            "linecolor": "white",
            "ticks": ""
           },
           "bgcolor": "#E5ECF6",
           "radialaxis": {
            "gridcolor": "white",
            "linecolor": "white",
            "ticks": ""
           }
          },
          "scene": {
           "xaxis": {
            "backgroundcolor": "#E5ECF6",
            "gridcolor": "white",
            "gridwidth": 2,
            "linecolor": "white",
            "showbackground": true,
            "ticks": "",
            "zerolinecolor": "white"
           },
           "yaxis": {
            "backgroundcolor": "#E5ECF6",
            "gridcolor": "white",
            "gridwidth": 2,
            "linecolor": "white",
            "showbackground": true,
            "ticks": "",
            "zerolinecolor": "white"
           },
           "zaxis": {
            "backgroundcolor": "#E5ECF6",
            "gridcolor": "white",
            "gridwidth": 2,
            "linecolor": "white",
            "showbackground": true,
            "ticks": "",
            "zerolinecolor": "white"
           }
          },
          "shapedefaults": {
           "line": {
            "color": "#2a3f5f"
           }
          },
          "ternary": {
           "aaxis": {
            "gridcolor": "white",
            "linecolor": "white",
            "ticks": ""
           },
           "baxis": {
            "gridcolor": "white",
            "linecolor": "white",
            "ticks": ""
           },
           "bgcolor": "#E5ECF6",
           "caxis": {
            "gridcolor": "white",
            "linecolor": "white",
            "ticks": ""
           }
          },
          "title": {
           "x": 0.05
          },
          "xaxis": {
           "automargin": true,
           "gridcolor": "white",
           "linecolor": "white",
           "ticks": "",
           "title": {
            "standoff": 15
           },
           "zerolinecolor": "white",
           "zerolinewidth": 2
          },
          "yaxis": {
           "automargin": true,
           "gridcolor": "white",
           "linecolor": "white",
           "ticks": "",
           "title": {
            "standoff": 15
           },
           "zerolinecolor": "white",
           "zerolinewidth": 2
          }
         }
        },
        "title": {
         "font": {
          "color": "#90caf9",
          "family": "Montserrat, Helvetica, sans-serif"
         }
        },
        "width": 800,
        "xaxis": {
         "constrain": "domain",
         "fixedrange": true,
         "range": [
          -5,
          110
         ],
         "scaleanchor": "y",
         "showgrid": false,
         "showticklabels": false,
         "visible": false,
         "zeroline": false
        },
        "yaxis": {
         "constrain": "domain",
         "fixedrange": true,
         "range": [
          -5,
          73
         ],
         "showgrid": false,
         "showticklabels": false,
         "visible": false,
         "zeroline": false
        }
       }
      }
     },
     "metadata": {},
     "output_type": "display_data"
    }
   ],
   "source": [
    "df2 = pd.DataFrame({\n",
    "    'x': np.random.uniform(0, 120, 500),\n",
    "    'y': np.random.uniform(0, 80, 500)\n",
    "})\n",
    "\n",
    "# Create the pitch and plot the heatmap\n",
    "pitch = pb.viz.Pitch(theme=\"night\")\n",
    "pitch.plot_heatmap(df2, x='x', y='y')\n",
    "pitch.show()"
   ]
  },
  {
   "cell_type": "code",
   "execution_count": null,
   "id": "55eef370",
   "metadata": {},
   "outputs": [],
   "source": []
  },
  {
   "cell_type": "code",
   "execution_count": 4,
   "id": "bf6aba83",
   "metadata": {},
   "outputs": [
    {
     "data": {
      "application/vnd.plotly.v1+json": {
       "config": {
        "displaylogo": false,
        "plotlyServerURL": "https://plot.ly"
       },
       "data": [
        {
         "hoverinfo": "skip",
         "line": {
          "color": "#ffffff"
         },
         "mode": "lines",
         "showlegend": false,
         "type": "scatter",
         "x": {
          "bdata": "AAAAAACAL0BbZ1JhbOovQBMFJym4KDBA1oC41HVaMEBu09KrX4owQHZ6+rhmuDBAHtxunXzkMECDz6aVkw4xQFyvnH2eNjFAfp/o1JBcMUBbvafCXoAxQHsDLxn9oTFAYLiIWWHBMUDVUbu2gd4xQMrG2BhV+TFAJlvVH9MRMkC0AiUm9CcyQBuKHkOxOzJAIscjTQRNMkDQI47b51syQK3qXkhXaDJAG82ysU5yMkDcL/j6ynkyQNfc583JfjJAfcw/m0mBMkB9zD+bSYEyQNfc583JfjJA3C/4+sp5MkAbzbKxTnIyQK3qXkhXaDJA0COO2+dbMkAixyNNBE0yQBuKHkOxOzJAtAIlJvQnMkAmW9Uf0xEyQMrG2BhV+TFA1VG7toHeMUBguIhZYcExQHsDLxn9oTFAW72nwl6AMUB/n+jUkFwxQFyvnH2eNjFAhM+mlZMOMUAe3G6dfOQwQHd6+rhmuDBAbtPSq1+KMEDWgLjUdVowQBQFJym4KDBAW2dSYWzqL0AAAAAAAIAvQA==",
          "dtype": "f8"
         },
         "y": {
          "bdata": "MvWTMpP0O0CWUxJkciQ8QFghYcElVjxA9jktxp2JPECXEtFgyr48QFAJWfea9TxAo0KybP4tPUDadgIm42c9QFkEJxA3oz1Ad49ZpeffPUDzbPjy4R0+QMEIcZ8SXT5AbnBK8GWdPkA5Hk7Qx94+QKAYzdUjIT9ANnH/SGVkP0ByJXwqd6g/QHFcxzlE7T9A23r6fVsZQEBVqy7hXDxAQGIvsVibX0BAsjKh4wuDQED1j3txo6ZAQHclj+VWykBAJ/d0GhvuQEDZCIvl5BFBQInacBqpNUFAC3CEjlxZQUBOzV4c9HxBQJ7QTqdkoEFAq1TRHqPDQUAlhQWCpOZBQMdRHONdCUJAR+3BasQrQkBlR4BbzU1CQLBzGRVub0JA4/DYF5yQQkDJx9oHTbFCQKB7R7B20UJAhsmDBg/xQkBEOFMtDBBDQNR97HdkLkNAk8T+bA5MQ0Cv3qbJAGlDQFh7U4QyhUNAtHaXz5qgQ0AFY+kcMbtDQFRvTx/t1ENANdb2zcbtQ0BnBbZmtgVEQA==",
          "dtype": "f8"
         }
        },
        {
         "hoverinfo": "skip",
         "line": {
          "color": "#ffffff"
         },
         "mode": "lines",
         "showlegend": false,
         "type": "scatter",
         "x": {
          "bdata": "AAAAAABQVkAVs9VzskJWQLs+tvXRNVZAy9/RimIpVkAkSwsVaB1WQGJhwVHmEVZA+Uik2OAGVkAfTJYaW/xVQCnUmGBY8lVAINjFytvoVUCpEFZP6N9VQCE/tLmA11VA6NGdqafPVUCLK1GSX8hVQE7OybmqwVVANqkKOIu7VUBTv3b2ArZVQHldOK8TsVVAOA637L6sVUAMdxwJBqlVQFVF6C3qpVVAuUyTU2yjVUAJ9EFBjaFVQMoIhoxNoFVA4Qwwma2fVUDhDDCZrZ9VQMoIhoxNoFVACfRBQY2hVUC5TJNTbKNVQFVF6C3qpVVADHccCQapVUA4DrfsvqxVQHldOK8TsVVAU7929gK2VUA2qQo4i7tVQE7OybmqwVVAiytRkl/IVUDo0Z2pp89VQCE/tLmA11VAqRBWT+jfVUAg2MXK2+hVQCnUmGBY8lVAH0yWGlv8VUD4SKTY4AZWQGJhwVHmEVZAJUsLFWgdVkDK39GKYilWQLs+tvXRNVZAFbPVc7JCVkAAAAAAAFBWQA==",
          "dtype": "f8"
         },
         "y": {
          "bdata": "ZwW2ZrYFREA11vbNxu1DQFRvTx/t1ENABWPpHDG7Q0C0dpfPmqBDQFh7U4QyhUNAr96myQBpQ0CTxP5sDkxDQNR97HdkLkNARDhTLQwQQ0CHyYMGD/FCQJ97R7B20UJAycfaB02xQkDk8NgXnJBCQLBzGRVub0JAZUeAW81NQkBH7cFqxCtCQMhRHONdCUJAJYUFgqTmQUCrVNEeo8NBQJ7QTqdkoEFATs1eHPR8QUALcISOXFlBQInacBqpNUFA2QiL5eQRQUAn93QaG+5AQHYlj+VWykBA9o97caOmQECyMqHjC4NAQGIvsVibX0BAVasu4Vw8QEDbevp9WxlAQHJcxzlE7T9AcyV8KneoP0A1cf9IZWQ/QKAYzdUjIT9AOR5O0MfePkBucErwZZ0+QMIIcZ8SXT5A82z48uEdPkB3j1ml5989QFkEJxA3oz1A2nYCJuNnPUCkQrJs/i09QFAJWfea9TxAlhLRYMq+PED2OS3GnYk8QFghYcElVjxAllMSZHIkPEAz9ZMyk/Q7QA==",
          "dtype": "f8"
         }
        },
        {
         "hoverinfo": "skip",
         "marker": {
          "color": "#ffffff",
          "size": 6
         },
         "mode": "markers",
         "showlegend": false,
         "type": "scatter",
         "x": [
          10.5
         ],
         "y": [
          34
         ]
        },
        {
         "hoverinfo": "skip",
         "marker": {
          "color": "#ffffff",
          "size": 6
         },
         "mode": "markers",
         "showlegend": false,
         "type": "scatter",
         "x": [
          94.5
         ],
         "y": [
          34
         ]
        },
        {
         "hoverinfo": "skip",
         "marker": {
          "color": "#ffffff",
          "size": 6
         },
         "mode": "markers",
         "showlegend": false,
         "type": "scatter",
         "x": [
          52.5
         ],
         "y": [
          34
         ]
        },
        {
         "hoverinfo": "text",
         "hovertext": [
          "Alice (30, 40)",
          "Bob (50, 60)",
          "Carol (70, 20)"
         ],
         "marker": {
          "color": "#1f77b4",
          "size": 10
         },
         "mode": "markers",
         "showlegend": false,
         "type": "scatter",
         "x": {
          "bdata": "AAAAAABAOkAAAAAAAOBFQAAAAAAAoE5A",
          "dtype": "f8"
         },
         "y": {
          "bdata": "AAAAAAAAQUAAAAAAAAAxQAAAAAAAgElA",
          "dtype": "f8"
         }
        }
       ],
       "layout": {
        "annotations": [
         {
          "arrowcolor": "#1f77b4",
          "arrowhead": 2,
          "arrowsize": 1,
          "arrowwidth": 2,
          "ax": 26.25,
          "axref": "x",
          "ay": 34,
          "ayref": "y",
          "opacity": 1,
          "showarrow": true,
          "x": 39.375,
          "xref": "x",
          "y": 25.5,
          "yref": "y"
         },
         {
          "arrowcolor": "#1f77b4",
          "arrowhead": 2,
          "arrowsize": 1,
          "arrowwidth": 2,
          "ax": 43.75,
          "axref": "x",
          "ay": 17,
          "ayref": "y",
          "opacity": 1,
          "showarrow": true,
          "x": 56.875,
          "xref": "x",
          "y": 8.5,
          "yref": "y"
         },
         {
          "arrowcolor": "#1f77b4",
          "arrowhead": 2,
          "arrowsize": 1,
          "arrowwidth": 2,
          "ax": 61.25,
          "axref": "x",
          "ay": 51,
          "ayref": "y",
          "opacity": 1,
          "showarrow": true,
          "x": 70,
          "xref": "x",
          "y": 42.5,
          "yref": "y"
         }
        ],
        "font": {
         "color": "#ffffff",
         "family": "Roboto, Arial, sans-serif"
        },
        "height": 600,
        "margin": {
         "b": 0,
         "l": 0,
         "r": 0,
         "t": 0
        },
        "paper_bgcolor": "#a8bc95",
        "plot_bgcolor": "#a8bc95",
        "shapes": [
         {
          "line": {
           "color": "#ffffff"
          },
          "type": "rect",
          "x0": 0,
          "x1": 105,
          "y0": 0,
          "y1": 68
         },
         {
          "line": {
           "color": "#ffffff"
          },
          "type": "rect",
          "x0": 52.5,
          "x1": 52.5,
          "y0": 68,
          "y1": 0
         },
         {
          "line": {
           "color": "#ffffff"
          },
          "type": "rect",
          "x0": 0,
          "x1": 15.75,
          "y0": 52.699999999999996,
          "y1": 15.299999999999999
         },
         {
          "line": {
           "color": "#ffffff"
          },
          "type": "rect",
          "x0": 89.25,
          "x1": 105,
          "y0": 52.699999999999996,
          "y1": 15.299999999999999
         },
         {
          "line": {
           "color": "#ffffff"
          },
          "type": "rect",
          "x0": 0,
          "x1": 5.25,
          "y0": 42.5,
          "y1": 25.5
         },
         {
          "line": {
           "color": "#ffffff"
          },
          "type": "rect",
          "x0": 99.75,
          "x1": 105,
          "y0": 42.5,
          "y1": 25.5
         },
         {
          "line": {
           "color": "#ffffff"
          },
          "type": "circle",
          "x0": 44.49375,
          "x1": 60.50625,
          "y0": 25.99375,
          "y1": 42.00625
         }
        ],
        "showlegend": false,
        "template": {
         "data": {
          "bar": [
           {
            "error_x": {
             "color": "#2a3f5f"
            },
            "error_y": {
             "color": "#2a3f5f"
            },
            "marker": {
             "line": {
              "color": "#E5ECF6",
              "width": 0.5
             },
             "pattern": {
              "fillmode": "overlay",
              "size": 10,
              "solidity": 0.2
             }
            },
            "type": "bar"
           }
          ],
          "barpolar": [
           {
            "marker": {
             "line": {
              "color": "#E5ECF6",
              "width": 0.5
             },
             "pattern": {
              "fillmode": "overlay",
              "size": 10,
              "solidity": 0.2
             }
            },
            "type": "barpolar"
           }
          ],
          "carpet": [
           {
            "aaxis": {
             "endlinecolor": "#2a3f5f",
             "gridcolor": "white",
             "linecolor": "white",
             "minorgridcolor": "white",
             "startlinecolor": "#2a3f5f"
            },
            "baxis": {
             "endlinecolor": "#2a3f5f",
             "gridcolor": "white",
             "linecolor": "white",
             "minorgridcolor": "white",
             "startlinecolor": "#2a3f5f"
            },
            "type": "carpet"
           }
          ],
          "choropleth": [
           {
            "colorbar": {
             "outlinewidth": 0,
             "ticks": ""
            },
            "type": "choropleth"
           }
          ],
          "contour": [
           {
            "colorbar": {
             "outlinewidth": 0,
             "ticks": ""
            },
            "colorscale": [
             [
              0,
              "#0d0887"
             ],
             [
              0.1111111111111111,
              "#46039f"
             ],
             [
              0.2222222222222222,
              "#7201a8"
             ],
             [
              0.3333333333333333,
              "#9c179e"
             ],
             [
              0.4444444444444444,
              "#bd3786"
             ],
             [
              0.5555555555555556,
              "#d8576b"
             ],
             [
              0.6666666666666666,
              "#ed7953"
             ],
             [
              0.7777777777777778,
              "#fb9f3a"
             ],
             [
              0.8888888888888888,
              "#fdca26"
             ],
             [
              1,
              "#f0f921"
             ]
            ],
            "type": "contour"
           }
          ],
          "contourcarpet": [
           {
            "colorbar": {
             "outlinewidth": 0,
             "ticks": ""
            },
            "type": "contourcarpet"
           }
          ],
          "heatmap": [
           {
            "colorbar": {
             "outlinewidth": 0,
             "ticks": ""
            },
            "colorscale": [
             [
              0,
              "#0d0887"
             ],
             [
              0.1111111111111111,
              "#46039f"
             ],
             [
              0.2222222222222222,
              "#7201a8"
             ],
             [
              0.3333333333333333,
              "#9c179e"
             ],
             [
              0.4444444444444444,
              "#bd3786"
             ],
             [
              0.5555555555555556,
              "#d8576b"
             ],
             [
              0.6666666666666666,
              "#ed7953"
             ],
             [
              0.7777777777777778,
              "#fb9f3a"
             ],
             [
              0.8888888888888888,
              "#fdca26"
             ],
             [
              1,
              "#f0f921"
             ]
            ],
            "type": "heatmap"
           }
          ],
          "histogram": [
           {
            "marker": {
             "pattern": {
              "fillmode": "overlay",
              "size": 10,
              "solidity": 0.2
             }
            },
            "type": "histogram"
           }
          ],
          "histogram2d": [
           {
            "colorbar": {
             "outlinewidth": 0,
             "ticks": ""
            },
            "colorscale": [
             [
              0,
              "#0d0887"
             ],
             [
              0.1111111111111111,
              "#46039f"
             ],
             [
              0.2222222222222222,
              "#7201a8"
             ],
             [
              0.3333333333333333,
              "#9c179e"
             ],
             [
              0.4444444444444444,
              "#bd3786"
             ],
             [
              0.5555555555555556,
              "#d8576b"
             ],
             [
              0.6666666666666666,
              "#ed7953"
             ],
             [
              0.7777777777777778,
              "#fb9f3a"
             ],
             [
              0.8888888888888888,
              "#fdca26"
             ],
             [
              1,
              "#f0f921"
             ]
            ],
            "type": "histogram2d"
           }
          ],
          "histogram2dcontour": [
           {
            "colorbar": {
             "outlinewidth": 0,
             "ticks": ""
            },
            "colorscale": [
             [
              0,
              "#0d0887"
             ],
             [
              0.1111111111111111,
              "#46039f"
             ],
             [
              0.2222222222222222,
              "#7201a8"
             ],
             [
              0.3333333333333333,
              "#9c179e"
             ],
             [
              0.4444444444444444,
              "#bd3786"
             ],
             [
              0.5555555555555556,
              "#d8576b"
             ],
             [
              0.6666666666666666,
              "#ed7953"
             ],
             [
              0.7777777777777778,
              "#fb9f3a"
             ],
             [
              0.8888888888888888,
              "#fdca26"
             ],
             [
              1,
              "#f0f921"
             ]
            ],
            "type": "histogram2dcontour"
           }
          ],
          "mesh3d": [
           {
            "colorbar": {
             "outlinewidth": 0,
             "ticks": ""
            },
            "type": "mesh3d"
           }
          ],
          "parcoords": [
           {
            "line": {
             "colorbar": {
              "outlinewidth": 0,
              "ticks": ""
             }
            },
            "type": "parcoords"
           }
          ],
          "pie": [
           {
            "automargin": true,
            "type": "pie"
           }
          ],
          "scatter": [
           {
            "fillpattern": {
             "fillmode": "overlay",
             "size": 10,
             "solidity": 0.2
            },
            "type": "scatter"
           }
          ],
          "scatter3d": [
           {
            "line": {
             "colorbar": {
              "outlinewidth": 0,
              "ticks": ""
             }
            },
            "marker": {
             "colorbar": {
              "outlinewidth": 0,
              "ticks": ""
             }
            },
            "type": "scatter3d"
           }
          ],
          "scattercarpet": [
           {
            "marker": {
             "colorbar": {
              "outlinewidth": 0,
              "ticks": ""
             }
            },
            "type": "scattercarpet"
           }
          ],
          "scattergeo": [
           {
            "marker": {
             "colorbar": {
              "outlinewidth": 0,
              "ticks": ""
             }
            },
            "type": "scattergeo"
           }
          ],
          "scattergl": [
           {
            "marker": {
             "colorbar": {
              "outlinewidth": 0,
              "ticks": ""
             }
            },
            "type": "scattergl"
           }
          ],
          "scattermap": [
           {
            "marker": {
             "colorbar": {
              "outlinewidth": 0,
              "ticks": ""
             }
            },
            "type": "scattermap"
           }
          ],
          "scattermapbox": [
           {
            "marker": {
             "colorbar": {
              "outlinewidth": 0,
              "ticks": ""
             }
            },
            "type": "scattermapbox"
           }
          ],
          "scatterpolar": [
           {
            "marker": {
             "colorbar": {
              "outlinewidth": 0,
              "ticks": ""
             }
            },
            "type": "scatterpolar"
           }
          ],
          "scatterpolargl": [
           {
            "marker": {
             "colorbar": {
              "outlinewidth": 0,
              "ticks": ""
             }
            },
            "type": "scatterpolargl"
           }
          ],
          "scatterternary": [
           {
            "marker": {
             "colorbar": {
              "outlinewidth": 0,
              "ticks": ""
             }
            },
            "type": "scatterternary"
           }
          ],
          "surface": [
           {
            "colorbar": {
             "outlinewidth": 0,
             "ticks": ""
            },
            "colorscale": [
             [
              0,
              "#0d0887"
             ],
             [
              0.1111111111111111,
              "#46039f"
             ],
             [
              0.2222222222222222,
              "#7201a8"
             ],
             [
              0.3333333333333333,
              "#9c179e"
             ],
             [
              0.4444444444444444,
              "#bd3786"
             ],
             [
              0.5555555555555556,
              "#d8576b"
             ],
             [
              0.6666666666666666,
              "#ed7953"
             ],
             [
              0.7777777777777778,
              "#fb9f3a"
             ],
             [
              0.8888888888888888,
              "#fdca26"
             ],
             [
              1,
              "#f0f921"
             ]
            ],
            "type": "surface"
           }
          ],
          "table": [
           {
            "cells": {
             "fill": {
              "color": "#EBF0F8"
             },
             "line": {
              "color": "white"
             }
            },
            "header": {
             "fill": {
              "color": "#C8D4E3"
             },
             "line": {
              "color": "white"
             }
            },
            "type": "table"
           }
          ]
         },
         "layout": {
          "annotationdefaults": {
           "arrowcolor": "#2a3f5f",
           "arrowhead": 0,
           "arrowwidth": 1
          },
          "autotypenumbers": "strict",
          "coloraxis": {
           "colorbar": {
            "outlinewidth": 0,
            "ticks": ""
           }
          },
          "colorscale": {
           "diverging": [
            [
             0,
             "#8e0152"
            ],
            [
             0.1,
             "#c51b7d"
            ],
            [
             0.2,
             "#de77ae"
            ],
            [
             0.3,
             "#f1b6da"
            ],
            [
             0.4,
             "#fde0ef"
            ],
            [
             0.5,
             "#f7f7f7"
            ],
            [
             0.6,
             "#e6f5d0"
            ],
            [
             0.7,
             "#b8e186"
            ],
            [
             0.8,
             "#7fbc41"
            ],
            [
             0.9,
             "#4d9221"
            ],
            [
             1,
             "#276419"
            ]
           ],
           "sequential": [
            [
             0,
             "#0d0887"
            ],
            [
             0.1111111111111111,
             "#46039f"
            ],
            [
             0.2222222222222222,
             "#7201a8"
            ],
            [
             0.3333333333333333,
             "#9c179e"
            ],
            [
             0.4444444444444444,
             "#bd3786"
            ],
            [
             0.5555555555555556,
             "#d8576b"
            ],
            [
             0.6666666666666666,
             "#ed7953"
            ],
            [
             0.7777777777777778,
             "#fb9f3a"
            ],
            [
             0.8888888888888888,
             "#fdca26"
            ],
            [
             1,
             "#f0f921"
            ]
           ],
           "sequentialminus": [
            [
             0,
             "#0d0887"
            ],
            [
             0.1111111111111111,
             "#46039f"
            ],
            [
             0.2222222222222222,
             "#7201a8"
            ],
            [
             0.3333333333333333,
             "#9c179e"
            ],
            [
             0.4444444444444444,
             "#bd3786"
            ],
            [
             0.5555555555555556,
             "#d8576b"
            ],
            [
             0.6666666666666666,
             "#ed7953"
            ],
            [
             0.7777777777777778,
             "#fb9f3a"
            ],
            [
             0.8888888888888888,
             "#fdca26"
            ],
            [
             1,
             "#f0f921"
            ]
           ]
          },
          "colorway": [
           "#636efa",
           "#EF553B",
           "#00cc96",
           "#ab63fa",
           "#FFA15A",
           "#19d3f3",
           "#FF6692",
           "#B6E880",
           "#FF97FF",
           "#FECB52"
          ],
          "font": {
           "color": "#2a3f5f"
          },
          "geo": {
           "bgcolor": "white",
           "lakecolor": "white",
           "landcolor": "#E5ECF6",
           "showlakes": true,
           "showland": true,
           "subunitcolor": "white"
          },
          "hoverlabel": {
           "align": "left"
          },
          "hovermode": "closest",
          "mapbox": {
           "style": "light"
          },
          "paper_bgcolor": "white",
          "plot_bgcolor": "#E5ECF6",
          "polar": {
           "angularaxis": {
            "gridcolor": "white",
            "linecolor": "white",
            "ticks": ""
           },
           "bgcolor": "#E5ECF6",
           "radialaxis": {
            "gridcolor": "white",
            "linecolor": "white",
            "ticks": ""
           }
          },
          "scene": {
           "xaxis": {
            "backgroundcolor": "#E5ECF6",
            "gridcolor": "white",
            "gridwidth": 2,
            "linecolor": "white",
            "showbackground": true,
            "ticks": "",
            "zerolinecolor": "white"
           },
           "yaxis": {
            "backgroundcolor": "#E5ECF6",
            "gridcolor": "white",
            "gridwidth": 2,
            "linecolor": "white",
            "showbackground": true,
            "ticks": "",
            "zerolinecolor": "white"
           },
           "zaxis": {
            "backgroundcolor": "#E5ECF6",
            "gridcolor": "white",
            "gridwidth": 2,
            "linecolor": "white",
            "showbackground": true,
            "ticks": "",
            "zerolinecolor": "white"
           }
          },
          "shapedefaults": {
           "line": {
            "color": "#2a3f5f"
           }
          },
          "ternary": {
           "aaxis": {
            "gridcolor": "white",
            "linecolor": "white",
            "ticks": ""
           },
           "baxis": {
            "gridcolor": "white",
            "linecolor": "white",
            "ticks": ""
           },
           "bgcolor": "#E5ECF6",
           "caxis": {
            "gridcolor": "white",
            "linecolor": "white",
            "ticks": ""
           }
          },
          "title": {
           "x": 0.05
          },
          "xaxis": {
           "automargin": true,
           "gridcolor": "white",
           "linecolor": "white",
           "ticks": "",
           "title": {
            "standoff": 15
           },
           "zerolinecolor": "white",
           "zerolinewidth": 2
          },
          "yaxis": {
           "automargin": true,
           "gridcolor": "white",
           "linecolor": "white",
           "ticks": "",
           "title": {
            "standoff": 15
           },
           "zerolinecolor": "white",
           "zerolinewidth": 2
          }
         }
        },
        "title": {
         "font": {
          "color": "#ffffff",
          "family": "Roboto, Arial, sans-serif"
         }
        },
        "width": 800,
        "xaxis": {
         "constrain": "domain",
         "fixedrange": true,
         "range": [
          -5,
          110
         ],
         "scaleanchor": "y",
         "showgrid": false,
         "showticklabels": false,
         "visible": false,
         "zeroline": false
        },
        "yaxis": {
         "constrain": "domain",
         "fixedrange": true,
         "range": [
          -5,
          73
         ],
         "showgrid": false,
         "showticklabels": false,
         "visible": false,
         "zeroline": false
        }
       }
      }
     },
     "metadata": {},
     "output_type": "display_data"
    }
   ],
   "source": [
    "data = pd.DataFrame({\n",
    "    'x': [30, 50, 70],\n",
    "    'y': [40, 60, 20],\n",
    "    'x2': [45, 65, 80],\n",
    "    'y2': [50, 70, 30],\n",
    "    'player': ['Alice', 'Bob', 'Carol']\n",
    "})\n",
    "\n",
    "# Create a pitch with a dark theme and Opta dimensions\n",
    "pitch = pb.viz.Pitch(theme=\"white\")\n",
    "\n",
    "# Plot the passes as arrows\n",
    "pitch.plot_arrows(\n",
    "    data, x='x', y='y', x_end='x2', y_end='y2'\n",
    ")\n",
    "\n",
    "# Optional: plot player positions at the start of the arrows\n",
    "pitch.plot_scatter(data, x='x', y='y', hover='player')\n",
    "\n",
    "# Show the pitch\n",
    "pitch.show()\n"
   ]
  },
  {
   "cell_type": "code",
   "execution_count": null,
   "id": "72587f76",
   "metadata": {},
   "outputs": [],
   "source": []
  },
  {
   "cell_type": "code",
   "execution_count": 7,
   "id": "01328c30",
   "metadata": {},
   "outputs": [
    {
     "data": {
      "application/vnd.plotly.v1+json": {
       "config": {
        "displaylogo": false,
        "plotlyServerURL": "https://plot.ly"
       },
       "data": [
        {
         "hoverinfo": "skip",
         "line": {
          "color": "#6d4c41"
         },
         "mode": "lines",
         "showlegend": false,
         "type": "scatter",
         "x": {
          "bdata": "zczMzMzMMECd15dtpwwxQH5syJd2SjFAzs1D/yaGMUAeZGMBpr8xQI4sxqrh9jFAi27rvMgrMkAE+ZSzSl4yQNY478lXjjJAMox9/+C7MkCgSckc2OYyQC0E0rcvDzNADao9ONs0M0AAL0fbzlczQCWIarf/dzNAx9PMv2OVM0DYnF/H8a8zQFQ/voOhxzNAj4jEj2vcM0CUxN1tSe4zQAOAC4o1/TNAh1yjOysJNECibMPGJhI0QJyifF0lGDRAY/WyICUbNEBj9bIgJRs0QJyifF0lGDRAomzDxiYSNECHXKM7Kwk0QAOAC4o1/TNAlMTdbUnuM0CQiMSPa9wzQFQ/voOhxzNA2Jxfx/GvM0DH08y/Y5UzQCaIarf/dzNAAC9H285XM0ANqj042zQzQC4E0rcvDzNAoUnJHNjmMkAyjH3/4LsyQNY478lXjjJABPmUs0peMkCLbuu8yCsyQI4sxqrh9jFAHmRjAaa/MUDOzUP/JoYxQH5syJd2SjFAndeXbacMMUDNzMzMzMwwQA==",
          "dtype": "f8"
         },
         "y": {
          "bdata": "cFl+CRe/OkC0yuJEifg6QGqOdE4tNDtAwXhph/BxO0CCSWGnv7E7QPrXasKG8ztA9k88TzE3PECfjpwtqnw8QNGe+6zbwzxAwkU4k68MPUC9gpAjD1c9QE7XuiXjoj1AhCAm7RPwPUDevV1giT4+QCa3jwArjj5A2ocy8d/ePkDvLMj/jjA/QIgIvKsegz9A2yZZLnXWP0AANGtBPBVAQKgFOzeHP0BAoglbRA5qQECNecchxJRAQML53nmbv0BAyFuM7IbqQEA4pHMTeRVBQD4GIYZkQEFAc4Y43jtrQUBe9qS78ZVBQFf6xMh4wEFAAMyUvsPqQUCSbNNoxRRCQLz7IapwPkJAiOkbgLhnQkATvGYHkJBCQG0kuH/quEJAESHRT7vgQkC+72wJ9gdDQFmUIm2OLkNAob43bnhUQ0Af3WM2qHlDQJgwgikSnkNAsLgx6arBQ0AF2GFYZ+RDQAOUyp48BkRAP1tPLCAnRECfQ0u8B0dEQMu4xVjpZURAppqOXbuDREBI00B7dKBEQA==",
          "dtype": "f8"
         }
        },
        {
         "hoverinfo": "skip",
         "line": {
          "color": "#6d4c41"
         },
         "mode": "lines",
         "showlegend": false,
         "type": "scatter",
         "x": {
          "bdata": "zczMzMwMVkAZCpok1vxVQOHkDVpi7VVAjQwvQHbeVUD5Jqd/FtBVQN10TpVHwlVAXSTF0A21VUC/wRpTbahVQMsxhA1qnFVA9JwgwAeRVUCYrc34SYZVQPV+CxI0fFVAfZXwMclyVUBANC5JDGpVQPddJRIAYlVADssMEKdaVUDKGCiOA1RVQCtwEJ8XTlVA3N0OHOVIVUDbjoikbURVQP8ffZ2yQFVA3igXMbU9VUDYJE9OdjtVQFnXoKj2OVVAp0LTtzY5VUCnQtO3NjlVQFnXoKj2OVVA2CRPTnY7VUDeKBcxtT1VQP8ffZ2yQFVA246IpG1EVUDc3Q4c5UhVQCtwEJ8XTlVAyhgojgNUVUAOywwQp1pVQPddJRIAYlVAQDQuSQxqVUB9lfAxyXJVQPV+CxI0fFVAmK3N+EmGVUD0nCDAB5FVQMsxhA1qnFVAv8EaU22oVUBeJMXQDbVVQN10TpVHwlVA+SanfxbQVUCNDC9Adt5VQOHkDVpi7VVAGQqaJNb8VUDNzMzMzAxWQA==",
          "dtype": "f8"
         },
         "y": {
          "bdata": "SdNAe3SgRECnmo5du4NEQMy4xVjpZURAoENLvAdHREBAW08sICdEQASUyp48BkRABdhhWGfkQ0CxuDHpqsFDQJgwgikSnkNAH91jNqh5Q0CivjdueFRDQFqUIm2OLkNAvu9sCfYHQ0ASIdFPu+BCQG4kuH/quEJAE7xmB5CQQkCJ6RuAuGdCQLz7IapwPkJAk2zTaMUUQkABzJS+w+pBQFj6xMh4wEFAXvaku/GVQUBzhjjeO2tBQD4GIYZkQEFAOKRzE3kVQUDIW4zshupAQMH53nmbv0BAjXnHIcSUQECiCVtEDmpAQKgFOzeHP0BA/zNrQTwVQEDaJlkuddY/QIgIvKsegz9A7yzI/44wP0DYhzLx394+QCW3jwArjj5A3r1dYIk+PkCCICbtE/A9QE7XuiXjoj1AvIKQIw9XPUDBRTiTrww9QNGe+6zbwzxAno6cLap8PED0TzxPMTc8QPnXasKG8ztAgUlhp7+xO0C/eGmH8HE7QGiOdE4tNDtAssriRIn4OkBvWX4JF786QA==",
          "dtype": "f8"
         }
        },
        {
         "hoverinfo": "skip",
         "marker": {
          "color": "#6d4c41",
          "size": 6
         },
         "mode": "markers",
         "showlegend": false,
         "type": "scatter",
         "x": [
          10.5
         ],
         "y": [
          34
         ]
        },
        {
         "hoverinfo": "skip",
         "marker": {
          "color": "#6d4c41",
          "size": 6
         },
         "mode": "markers",
         "showlegend": false,
         "type": "scatter",
         "x": [
          94.5
         ],
         "y": [
          34
         ]
        },
        {
         "hoverinfo": "skip",
         "marker": {
          "color": "#6d4c41",
          "size": 6
         },
         "mode": "markers",
         "showlegend": false,
         "type": "scatter",
         "x": [
          52.5
         ],
         "y": [
          34
         ]
        },
        {
         "hoverinfo": "skip",
         "line": {
          "color": "rgba(211,47,47,0.05)",
          "width": 4
         },
         "mode": "lines",
         "showlegend": false,
         "type": "scatter",
         "x": [
          10.5,
          12.075
         ],
         "y": [
          61.2,
          59.84
         ]
        },
        {
         "hoverinfo": "skip",
         "line": {
          "color": "rgba(211,47,47,0.10)",
          "width": 4
         },
         "mode": "lines",
         "showlegend": false,
         "type": "scatter",
         "x": [
          12.075,
          13.65
         ],
         "y": [
          59.84,
          58.480000000000004
         ]
        },
        {
         "hoverinfo": "skip",
         "line": {
          "color": "rgba(211,47,47,0.15)",
          "width": 4
         },
         "mode": "lines",
         "showlegend": false,
         "type": "scatter",
         "x": [
          13.65,
          15.225
         ],
         "y": [
          58.480000000000004,
          57.120000000000005
         ]
        },
        {
         "hoverinfo": "skip",
         "line": {
          "color": "rgba(211,47,47,0.20)",
          "width": 4
         },
         "mode": "lines",
         "showlegend": false,
         "type": "scatter",
         "x": [
          15.225,
          16.8
         ],
         "y": [
          57.120000000000005,
          55.760000000000005
         ]
        },
        {
         "hoverinfo": "skip",
         "line": {
          "color": "rgba(211,47,47,0.25)",
          "width": 4
         },
         "mode": "lines",
         "showlegend": false,
         "type": "scatter",
         "x": [
          16.8,
          18.375
         ],
         "y": [
          55.760000000000005,
          54.400000000000006
         ]
        },
        {
         "hoverinfo": "skip",
         "line": {
          "color": "rgba(211,47,47,0.30)",
          "width": 4
         },
         "mode": "lines",
         "showlegend": false,
         "type": "scatter",
         "x": [
          18.375,
          19.95
         ],
         "y": [
          54.400000000000006,
          53.040000000000006
         ]
        },
        {
         "hoverinfo": "skip",
         "line": {
          "color": "rgba(211,47,47,0.35)",
          "width": 4
         },
         "mode": "lines",
         "showlegend": false,
         "type": "scatter",
         "x": [
          19.95,
          21.525
         ],
         "y": [
          53.040000000000006,
          51.68000000000001
         ]
        },
        {
         "hoverinfo": "skip",
         "line": {
          "color": "rgba(211,47,47,0.40)",
          "width": 4
         },
         "mode": "lines",
         "showlegend": false,
         "type": "scatter",
         "x": [
          21.525,
          23.1
         ],
         "y": [
          51.68000000000001,
          50.32
         ]
        },
        {
         "hoverinfo": "skip",
         "line": {
          "color": "rgba(211,47,47,0.45)",
          "width": 4
         },
         "mode": "lines",
         "showlegend": false,
         "type": "scatter",
         "x": [
          23.1,
          24.675
         ],
         "y": [
          50.32,
          48.96
         ]
        },
        {
         "hoverinfo": "skip",
         "line": {
          "color": "rgba(211,47,47,0.50)",
          "width": 4
         },
         "mode": "lines",
         "showlegend": false,
         "type": "scatter",
         "x": [
          24.675,
          26.25
         ],
         "y": [
          48.96,
          47.6
         ]
        },
        {
         "hoverinfo": "skip",
         "line": {
          "color": "rgba(211,47,47,0.55)",
          "width": 4
         },
         "mode": "lines",
         "showlegend": false,
         "type": "scatter",
         "x": [
          26.25,
          27.825000000000003
         ],
         "y": [
          47.6,
          46.24
         ]
        },
        {
         "hoverinfo": "skip",
         "line": {
          "color": "rgba(211,47,47,0.60)",
          "width": 4
         },
         "mode": "lines",
         "showlegend": false,
         "type": "scatter",
         "x": [
          27.825000000000003,
          29.4
         ],
         "y": [
          46.24,
          44.88
         ]
        },
        {
         "hoverinfo": "skip",
         "line": {
          "color": "rgba(211,47,47,0.65)",
          "width": 4
         },
         "mode": "lines",
         "showlegend": false,
         "type": "scatter",
         "x": [
          29.4,
          30.975
         ],
         "y": [
          44.88,
          43.519999999999996
         ]
        },
        {
         "hoverinfo": "skip",
         "line": {
          "color": "rgba(211,47,47,0.70)",
          "width": 4
         },
         "mode": "lines",
         "showlegend": false,
         "type": "scatter",
         "x": [
          30.975,
          32.55
         ],
         "y": [
          43.519999999999996,
          42.160000000000004
         ]
        },
        {
         "hoverinfo": "skip",
         "line": {
          "color": "rgba(211,47,47,0.75)",
          "width": 4
         },
         "mode": "lines",
         "showlegend": false,
         "type": "scatter",
         "x": [
          32.55,
          34.125
         ],
         "y": [
          42.160000000000004,
          40.8
         ]
        },
        {
         "hoverinfo": "skip",
         "line": {
          "color": "rgba(211,47,47,0.80)",
          "width": 4
         },
         "mode": "lines",
         "showlegend": false,
         "type": "scatter",
         "x": [
          34.125,
          35.7
         ],
         "y": [
          40.8,
          39.44
         ]
        },
        {
         "hoverinfo": "skip",
         "line": {
          "color": "rgba(211,47,47,0.85)",
          "width": 4
         },
         "mode": "lines",
         "showlegend": false,
         "type": "scatter",
         "x": [
          35.7,
          37.275
         ],
         "y": [
          39.44,
          38.08
         ]
        },
        {
         "hoverinfo": "skip",
         "line": {
          "color": "rgba(211,47,47,0.90)",
          "width": 4
         },
         "mode": "lines",
         "showlegend": false,
         "type": "scatter",
         "x": [
          37.275,
          38.85
         ],
         "y": [
          38.08,
          36.72
         ]
        },
        {
         "hoverinfo": "skip",
         "line": {
          "color": "rgba(211,47,47,0.95)",
          "width": 4
         },
         "mode": "lines",
         "showlegend": false,
         "type": "scatter",
         "x": [
          38.85,
          40.425
         ],
         "y": [
          36.72,
          35.36
         ]
        },
        {
         "hoverinfo": "text",
         "hovertext": "Alice",
         "line": {
          "color": "rgba(211,47,47,1.00)",
          "width": 4
         },
         "mode": "lines",
         "showlegend": false,
         "type": "scatter",
         "x": [
          40.425,
          42
         ],
         "y": [
          35.36,
          34
         ]
        },
        {
         "hoverinfo": "skip",
         "line": {
          "color": "rgba(211,47,47,0.05)",
          "width": 4
         },
         "mode": "lines",
         "showlegend": false,
         "type": "scatter",
         "x": [
          84,
          83.2125
         ],
         "y": [
          27.200000000000003,
          26.860000000000003
         ]
        },
        {
         "hoverinfo": "skip",
         "line": {
          "color": "rgba(211,47,47,0.10)",
          "width": 4
         },
         "mode": "lines",
         "showlegend": false,
         "type": "scatter",
         "x": [
          83.2125,
          82.425
         ],
         "y": [
          26.860000000000003,
          26.520000000000003
         ]
        },
        {
         "hoverinfo": "skip",
         "line": {
          "color": "rgba(211,47,47,0.15)",
          "width": 4
         },
         "mode": "lines",
         "showlegend": false,
         "type": "scatter",
         "x": [
          82.425,
          81.6375
         ],
         "y": [
          26.520000000000003,
          26.180000000000003
         ]
        },
        {
         "hoverinfo": "skip",
         "line": {
          "color": "rgba(211,47,47,0.20)",
          "width": 4
         },
         "mode": "lines",
         "showlegend": false,
         "type": "scatter",
         "x": [
          81.6375,
          80.85
         ],
         "y": [
          26.180000000000003,
          25.840000000000003
         ]
        },
        {
         "hoverinfo": "skip",
         "line": {
          "color": "rgba(211,47,47,0.25)",
          "width": 4
         },
         "mode": "lines",
         "showlegend": false,
         "type": "scatter",
         "x": [
          80.85,
          80.0625
         ],
         "y": [
          25.840000000000003,
          25.500000000000004
         ]
        },
        {
         "hoverinfo": "skip",
         "line": {
          "color": "rgba(211,47,47,0.30)",
          "width": 4
         },
         "mode": "lines",
         "showlegend": false,
         "type": "scatter",
         "x": [
          80.0625,
          79.275
         ],
         "y": [
          25.500000000000004,
          25.160000000000004
         ]
        },
        {
         "hoverinfo": "skip",
         "line": {
          "color": "rgba(211,47,47,0.35)",
          "width": 4
         },
         "mode": "lines",
         "showlegend": false,
         "type": "scatter",
         "x": [
          79.275,
          78.4875
         ],
         "y": [
          25.160000000000004,
          24.820000000000004
         ]
        },
        {
         "hoverinfo": "skip",
         "line": {
          "color": "rgba(211,47,47,0.40)",
          "width": 4
         },
         "mode": "lines",
         "showlegend": false,
         "type": "scatter",
         "x": [
          78.4875,
          77.7
         ],
         "y": [
          24.820000000000004,
          24.480000000000004
         ]
        },
        {
         "hoverinfo": "skip",
         "line": {
          "color": "rgba(211,47,47,0.45)",
          "width": 4
         },
         "mode": "lines",
         "showlegend": false,
         "type": "scatter",
         "x": [
          77.7,
          76.9125
         ],
         "y": [
          24.480000000000004,
          24.14
         ]
        },
        {
         "hoverinfo": "skip",
         "line": {
          "color": "rgba(211,47,47,0.50)",
          "width": 4
         },
         "mode": "lines",
         "showlegend": false,
         "type": "scatter",
         "x": [
          76.9125,
          76.125
         ],
         "y": [
          24.14,
          23.800000000000004
         ]
        },
        {
         "hoverinfo": "skip",
         "line": {
          "color": "rgba(211,47,47,0.55)",
          "width": 4
         },
         "mode": "lines",
         "showlegend": false,
         "type": "scatter",
         "x": [
          76.125,
          75.3375
         ],
         "y": [
          23.800000000000004,
          23.46
         ]
        },
        {
         "hoverinfo": "skip",
         "line": {
          "color": "rgba(211,47,47,0.60)",
          "width": 4
         },
         "mode": "lines",
         "showlegend": false,
         "type": "scatter",
         "x": [
          75.3375,
          74.55
         ],
         "y": [
          23.46,
          23.120000000000005
         ]
        },
        {
         "hoverinfo": "skip",
         "line": {
          "color": "rgba(211,47,47,0.65)",
          "width": 4
         },
         "mode": "lines",
         "showlegend": false,
         "type": "scatter",
         "x": [
          74.55,
          73.7625
         ],
         "y": [
          23.120000000000005,
          22.78
         ]
        },
        {
         "hoverinfo": "skip",
         "line": {
          "color": "rgba(211,47,47,0.70)",
          "width": 4
         },
         "mode": "lines",
         "showlegend": false,
         "type": "scatter",
         "x": [
          73.7625,
          72.975
         ],
         "y": [
          22.78,
          22.440000000000005
         ]
        },
        {
         "hoverinfo": "skip",
         "line": {
          "color": "rgba(211,47,47,0.75)",
          "width": 4
         },
         "mode": "lines",
         "showlegend": false,
         "type": "scatter",
         "x": [
          72.975,
          72.1875
         ],
         "y": [
          22.440000000000005,
          22.1
         ]
        },
        {
         "hoverinfo": "skip",
         "line": {
          "color": "rgba(211,47,47,0.80)",
          "width": 4
         },
         "mode": "lines",
         "showlegend": false,
         "type": "scatter",
         "x": [
          72.1875,
          71.4
         ],
         "y": [
          22.1,
          21.76
         ]
        },
        {
         "hoverinfo": "skip",
         "line": {
          "color": "rgba(211,47,47,0.85)",
          "width": 4
         },
         "mode": "lines",
         "showlegend": false,
         "type": "scatter",
         "x": [
          71.4,
          70.6125
         ],
         "y": [
          21.76,
          21.42
         ]
        },
        {
         "hoverinfo": "skip",
         "line": {
          "color": "rgba(211,47,47,0.90)",
          "width": 4
         },
         "mode": "lines",
         "showlegend": false,
         "type": "scatter",
         "x": [
          70.6125,
          69.825
         ],
         "y": [
          21.42,
          21.080000000000002
         ]
        },
        {
         "hoverinfo": "skip",
         "line": {
          "color": "rgba(211,47,47,0.95)",
          "width": 4
         },
         "mode": "lines",
         "showlegend": false,
         "type": "scatter",
         "x": [
          69.825,
          69.0375
         ],
         "y": [
          21.080000000000002,
          20.740000000000002
         ]
        },
        {
         "hoverinfo": "text",
         "hovertext": "Bob",
         "line": {
          "color": "rgba(211,47,47,1.00)",
          "width": 4
         },
         "mode": "lines",
         "showlegend": false,
         "type": "scatter",
         "x": [
          69.0375,
          68.25
         ],
         "y": [
          20.740000000000002,
          20.400000000000002
         ]
        },
        {
         "hoverinfo": "skip",
         "line": {
          "color": "rgba(211,47,47,0.05)",
          "width": 4
         },
         "mode": "lines",
         "showlegend": false,
         "type": "scatter",
         "x": [
          73.5,
          74.025
         ],
         "y": [
          54.400000000000006,
          54.06
         ]
        },
        {
         "hoverinfo": "skip",
         "line": {
          "color": "rgba(211,47,47,0.10)",
          "width": 4
         },
         "mode": "lines",
         "showlegend": false,
         "type": "scatter",
         "x": [
          74.025,
          74.55
         ],
         "y": [
          54.06,
          53.720000000000006
         ]
        },
        {
         "hoverinfo": "skip",
         "line": {
          "color": "rgba(211,47,47,0.15)",
          "width": 4
         },
         "mode": "lines",
         "showlegend": false,
         "type": "scatter",
         "x": [
          74.55,
          75.075
         ],
         "y": [
          53.720000000000006,
          53.38
         ]
        },
        {
         "hoverinfo": "skip",
         "line": {
          "color": "rgba(211,47,47,0.20)",
          "width": 4
         },
         "mode": "lines",
         "showlegend": false,
         "type": "scatter",
         "x": [
          75.075,
          75.6
         ],
         "y": [
          53.38,
          53.040000000000006
         ]
        },
        {
         "hoverinfo": "skip",
         "line": {
          "color": "rgba(211,47,47,0.25)",
          "width": 4
         },
         "mode": "lines",
         "showlegend": false,
         "type": "scatter",
         "x": [
          75.6,
          76.125
         ],
         "y": [
          53.040000000000006,
          52.7
         ]
        },
        {
         "hoverinfo": "skip",
         "line": {
          "color": "rgba(211,47,47,0.30)",
          "width": 4
         },
         "mode": "lines",
         "showlegend": false,
         "type": "scatter",
         "x": [
          76.125,
          76.65
         ],
         "y": [
          52.7,
          52.36000000000001
         ]
        },
        {
         "hoverinfo": "skip",
         "line": {
          "color": "rgba(211,47,47,0.35)",
          "width": 4
         },
         "mode": "lines",
         "showlegend": false,
         "type": "scatter",
         "x": [
          76.65,
          77.175
         ],
         "y": [
          52.36000000000001,
          52.02
         ]
        },
        {
         "hoverinfo": "skip",
         "line": {
          "color": "rgba(211,47,47,0.40)",
          "width": 4
         },
         "mode": "lines",
         "showlegend": false,
         "type": "scatter",
         "x": [
          77.175,
          77.7
         ],
         "y": [
          52.02,
          51.68000000000001
         ]
        },
        {
         "hoverinfo": "skip",
         "line": {
          "color": "rgba(211,47,47,0.45)",
          "width": 4
         },
         "mode": "lines",
         "showlegend": false,
         "type": "scatter",
         "x": [
          77.7,
          78.225
         ],
         "y": [
          51.68000000000001,
          51.34
         ]
        },
        {
         "hoverinfo": "skip",
         "line": {
          "color": "rgba(211,47,47,0.50)",
          "width": 4
         },
         "mode": "lines",
         "showlegend": false,
         "type": "scatter",
         "x": [
          78.225,
          78.75
         ],
         "y": [
          51.34,
          51
         ]
        },
        {
         "hoverinfo": "skip",
         "line": {
          "color": "rgba(211,47,47,0.55)",
          "width": 4
         },
         "mode": "lines",
         "showlegend": false,
         "type": "scatter",
         "x": [
          78.75,
          79.275
         ],
         "y": [
          51,
          50.660000000000004
         ]
        },
        {
         "hoverinfo": "skip",
         "line": {
          "color": "rgba(211,47,47,0.60)",
          "width": 4
         },
         "mode": "lines",
         "showlegend": false,
         "type": "scatter",
         "x": [
          79.275,
          79.8
         ],
         "y": [
          50.660000000000004,
          50.32
         ]
        },
        {
         "hoverinfo": "skip",
         "line": {
          "color": "rgba(211,47,47,0.65)",
          "width": 4
         },
         "mode": "lines",
         "showlegend": false,
         "type": "scatter",
         "x": [
          79.8,
          80.325
         ],
         "y": [
          50.32,
          49.980000000000004
         ]
        },
        {
         "hoverinfo": "skip",
         "line": {
          "color": "rgba(211,47,47,0.70)",
          "width": 4
         },
         "mode": "lines",
         "showlegend": false,
         "type": "scatter",
         "x": [
          80.325,
          80.85
         ],
         "y": [
          49.980000000000004,
          49.64
         ]
        },
        {
         "hoverinfo": "skip",
         "line": {
          "color": "rgba(211,47,47,0.75)",
          "width": 4
         },
         "mode": "lines",
         "showlegend": false,
         "type": "scatter",
         "x": [
          80.85,
          81.375
         ],
         "y": [
          49.64,
          49.300000000000004
         ]
        },
        {
         "hoverinfo": "skip",
         "line": {
          "color": "rgba(211,47,47,0.80)",
          "width": 4
         },
         "mode": "lines",
         "showlegend": false,
         "type": "scatter",
         "x": [
          81.375,
          81.9
         ],
         "y": [
          49.300000000000004,
          48.96
         ]
        },
        {
         "hoverinfo": "skip",
         "line": {
          "color": "rgba(211,47,47,0.85)",
          "width": 4
         },
         "mode": "lines",
         "showlegend": false,
         "type": "scatter",
         "x": [
          81.9,
          82.425
         ],
         "y": [
          48.96,
          48.620000000000005
         ]
        },
        {
         "hoverinfo": "skip",
         "line": {
          "color": "rgba(211,47,47,0.90)",
          "width": 4
         },
         "mode": "lines",
         "showlegend": false,
         "type": "scatter",
         "x": [
          82.425,
          82.95
         ],
         "y": [
          48.620000000000005,
          48.28
         ]
        },
        {
         "hoverinfo": "skip",
         "line": {
          "color": "rgba(211,47,47,0.95)",
          "width": 4
         },
         "mode": "lines",
         "showlegend": false,
         "type": "scatter",
         "x": [
          82.95,
          83.475
         ],
         "y": [
          48.28,
          47.940000000000005
         ]
        },
        {
         "hoverinfo": "text",
         "hovertext": "Carol",
         "line": {
          "color": "rgba(211,47,47,1.00)",
          "width": 4
         },
         "mode": "lines",
         "showlegend": false,
         "type": "scatter",
         "x": [
          83.475,
          84
         ],
         "y": [
          47.940000000000005,
          47.6
         ]
        }
       ],
       "layout": {
        "font": {
         "color": "#6d4c41",
         "family": "Courier New, monospace"
        },
        "height": 600,
        "margin": {
         "b": 0,
         "l": 0,
         "r": 0,
         "t": 0
        },
        "paper_bgcolor": "#f4ecd8",
        "plot_bgcolor": "#f4ecd8",
        "shapes": [
         {
          "line": {
           "color": "#6d4c41"
          },
          "type": "rect",
          "x0": 0,
          "x1": 105,
          "y0": 0,
          "y1": 68
         },
         {
          "line": {
           "color": "#6d4c41"
          },
          "type": "rect",
          "x0": 52.5,
          "x1": 52.5,
          "y0": 68,
          "y1": 0
         },
         {
          "line": {
           "color": "#6d4c41"
          },
          "type": "rect",
          "x0": 0,
          "x1": 16.8,
          "y0": 12.920000000000002,
          "y1": 55.080000000000005
         },
         {
          "line": {
           "color": "#6d4c41"
          },
          "type": "rect",
          "x0": 88.2,
          "x1": 105,
          "y0": 55.080000000000005,
          "y1": 12.920000000000002
         },
         {
          "line": {
           "color": "#6d4c41"
          },
          "type": "rect",
          "x0": 0,
          "x1": 6.300000000000001,
          "y0": 25.16,
          "y1": 42.84
         },
         {
          "line": {
           "color": "#6d4c41"
          },
          "type": "rect",
          "x0": 98.7,
          "x1": 105,
          "y0": 42.84,
          "y1": 25.16
         },
         {
          "line": {
           "color": "#6d4c41"
          },
          "type": "circle",
          "x0": 42.8925,
          "x1": 62.1075,
          "y0": 24.3925,
          "y1": 43.6075
         }
        ],
        "showlegend": false,
        "template": {
         "data": {
          "bar": [
           {
            "error_x": {
             "color": "#2a3f5f"
            },
            "error_y": {
             "color": "#2a3f5f"
            },
            "marker": {
             "line": {
              "color": "#E5ECF6",
              "width": 0.5
             },
             "pattern": {
              "fillmode": "overlay",
              "size": 10,
              "solidity": 0.2
             }
            },
            "type": "bar"
           }
          ],
          "barpolar": [
           {
            "marker": {
             "line": {
              "color": "#E5ECF6",
              "width": 0.5
             },
             "pattern": {
              "fillmode": "overlay",
              "size": 10,
              "solidity": 0.2
             }
            },
            "type": "barpolar"
           }
          ],
          "carpet": [
           {
            "aaxis": {
             "endlinecolor": "#2a3f5f",
             "gridcolor": "white",
             "linecolor": "white",
             "minorgridcolor": "white",
             "startlinecolor": "#2a3f5f"
            },
            "baxis": {
             "endlinecolor": "#2a3f5f",
             "gridcolor": "white",
             "linecolor": "white",
             "minorgridcolor": "white",
             "startlinecolor": "#2a3f5f"
            },
            "type": "carpet"
           }
          ],
          "choropleth": [
           {
            "colorbar": {
             "outlinewidth": 0,
             "ticks": ""
            },
            "type": "choropleth"
           }
          ],
          "contour": [
           {
            "colorbar": {
             "outlinewidth": 0,
             "ticks": ""
            },
            "colorscale": [
             [
              0,
              "#0d0887"
             ],
             [
              0.1111111111111111,
              "#46039f"
             ],
             [
              0.2222222222222222,
              "#7201a8"
             ],
             [
              0.3333333333333333,
              "#9c179e"
             ],
             [
              0.4444444444444444,
              "#bd3786"
             ],
             [
              0.5555555555555556,
              "#d8576b"
             ],
             [
              0.6666666666666666,
              "#ed7953"
             ],
             [
              0.7777777777777778,
              "#fb9f3a"
             ],
             [
              0.8888888888888888,
              "#fdca26"
             ],
             [
              1,
              "#f0f921"
             ]
            ],
            "type": "contour"
           }
          ],
          "contourcarpet": [
           {
            "colorbar": {
             "outlinewidth": 0,
             "ticks": ""
            },
            "type": "contourcarpet"
           }
          ],
          "heatmap": [
           {
            "colorbar": {
             "outlinewidth": 0,
             "ticks": ""
            },
            "colorscale": [
             [
              0,
              "#0d0887"
             ],
             [
              0.1111111111111111,
              "#46039f"
             ],
             [
              0.2222222222222222,
              "#7201a8"
             ],
             [
              0.3333333333333333,
              "#9c179e"
             ],
             [
              0.4444444444444444,
              "#bd3786"
             ],
             [
              0.5555555555555556,
              "#d8576b"
             ],
             [
              0.6666666666666666,
              "#ed7953"
             ],
             [
              0.7777777777777778,
              "#fb9f3a"
             ],
             [
              0.8888888888888888,
              "#fdca26"
             ],
             [
              1,
              "#f0f921"
             ]
            ],
            "type": "heatmap"
           }
          ],
          "histogram": [
           {
            "marker": {
             "pattern": {
              "fillmode": "overlay",
              "size": 10,
              "solidity": 0.2
             }
            },
            "type": "histogram"
           }
          ],
          "histogram2d": [
           {
            "colorbar": {
             "outlinewidth": 0,
             "ticks": ""
            },
            "colorscale": [
             [
              0,
              "#0d0887"
             ],
             [
              0.1111111111111111,
              "#46039f"
             ],
             [
              0.2222222222222222,
              "#7201a8"
             ],
             [
              0.3333333333333333,
              "#9c179e"
             ],
             [
              0.4444444444444444,
              "#bd3786"
             ],
             [
              0.5555555555555556,
              "#d8576b"
             ],
             [
              0.6666666666666666,
              "#ed7953"
             ],
             [
              0.7777777777777778,
              "#fb9f3a"
             ],
             [
              0.8888888888888888,
              "#fdca26"
             ],
             [
              1,
              "#f0f921"
             ]
            ],
            "type": "histogram2d"
           }
          ],
          "histogram2dcontour": [
           {
            "colorbar": {
             "outlinewidth": 0,
             "ticks": ""
            },
            "colorscale": [
             [
              0,
              "#0d0887"
             ],
             [
              0.1111111111111111,
              "#46039f"
             ],
             [
              0.2222222222222222,
              "#7201a8"
             ],
             [
              0.3333333333333333,
              "#9c179e"
             ],
             [
              0.4444444444444444,
              "#bd3786"
             ],
             [
              0.5555555555555556,
              "#d8576b"
             ],
             [
              0.6666666666666666,
              "#ed7953"
             ],
             [
              0.7777777777777778,
              "#fb9f3a"
             ],
             [
              0.8888888888888888,
              "#fdca26"
             ],
             [
              1,
              "#f0f921"
             ]
            ],
            "type": "histogram2dcontour"
           }
          ],
          "mesh3d": [
           {
            "colorbar": {
             "outlinewidth": 0,
             "ticks": ""
            },
            "type": "mesh3d"
           }
          ],
          "parcoords": [
           {
            "line": {
             "colorbar": {
              "outlinewidth": 0,
              "ticks": ""
             }
            },
            "type": "parcoords"
           }
          ],
          "pie": [
           {
            "automargin": true,
            "type": "pie"
           }
          ],
          "scatter": [
           {
            "fillpattern": {
             "fillmode": "overlay",
             "size": 10,
             "solidity": 0.2
            },
            "type": "scatter"
           }
          ],
          "scatter3d": [
           {
            "line": {
             "colorbar": {
              "outlinewidth": 0,
              "ticks": ""
             }
            },
            "marker": {
             "colorbar": {
              "outlinewidth": 0,
              "ticks": ""
             }
            },
            "type": "scatter3d"
           }
          ],
          "scattercarpet": [
           {
            "marker": {
             "colorbar": {
              "outlinewidth": 0,
              "ticks": ""
             }
            },
            "type": "scattercarpet"
           }
          ],
          "scattergeo": [
           {
            "marker": {
             "colorbar": {
              "outlinewidth": 0,
              "ticks": ""
             }
            },
            "type": "scattergeo"
           }
          ],
          "scattergl": [
           {
            "marker": {
             "colorbar": {
              "outlinewidth": 0,
              "ticks": ""
             }
            },
            "type": "scattergl"
           }
          ],
          "scattermap": [
           {
            "marker": {
             "colorbar": {
              "outlinewidth": 0,
              "ticks": ""
             }
            },
            "type": "scattermap"
           }
          ],
          "scattermapbox": [
           {
            "marker": {
             "colorbar": {
              "outlinewidth": 0,
              "ticks": ""
             }
            },
            "type": "scattermapbox"
           }
          ],
          "scatterpolar": [
           {
            "marker": {
             "colorbar": {
              "outlinewidth": 0,
              "ticks": ""
             }
            },
            "type": "scatterpolar"
           }
          ],
          "scatterpolargl": [
           {
            "marker": {
             "colorbar": {
              "outlinewidth": 0,
              "ticks": ""
             }
            },
            "type": "scatterpolargl"
           }
          ],
          "scatterternary": [
           {
            "marker": {
             "colorbar": {
              "outlinewidth": 0,
              "ticks": ""
             }
            },
            "type": "scatterternary"
           }
          ],
          "surface": [
           {
            "colorbar": {
             "outlinewidth": 0,
             "ticks": ""
            },
            "colorscale": [
             [
              0,
              "#0d0887"
             ],
             [
              0.1111111111111111,
              "#46039f"
             ],
             [
              0.2222222222222222,
              "#7201a8"
             ],
             [
              0.3333333333333333,
              "#9c179e"
             ],
             [
              0.4444444444444444,
              "#bd3786"
             ],
             [
              0.5555555555555556,
              "#d8576b"
             ],
             [
              0.6666666666666666,
              "#ed7953"
             ],
             [
              0.7777777777777778,
              "#fb9f3a"
             ],
             [
              0.8888888888888888,
              "#fdca26"
             ],
             [
              1,
              "#f0f921"
             ]
            ],
            "type": "surface"
           }
          ],
          "table": [
           {
            "cells": {
             "fill": {
              "color": "#EBF0F8"
             },
             "line": {
              "color": "white"
             }
            },
            "header": {
             "fill": {
              "color": "#C8D4E3"
             },
             "line": {
              "color": "white"
             }
            },
            "type": "table"
           }
          ]
         },
         "layout": {
          "annotationdefaults": {
           "arrowcolor": "#2a3f5f",
           "arrowhead": 0,
           "arrowwidth": 1
          },
          "autotypenumbers": "strict",
          "coloraxis": {
           "colorbar": {
            "outlinewidth": 0,
            "ticks": ""
           }
          },
          "colorscale": {
           "diverging": [
            [
             0,
             "#8e0152"
            ],
            [
             0.1,
             "#c51b7d"
            ],
            [
             0.2,
             "#de77ae"
            ],
            [
             0.3,
             "#f1b6da"
            ],
            [
             0.4,
             "#fde0ef"
            ],
            [
             0.5,
             "#f7f7f7"
            ],
            [
             0.6,
             "#e6f5d0"
            ],
            [
             0.7,
             "#b8e186"
            ],
            [
             0.8,
             "#7fbc41"
            ],
            [
             0.9,
             "#4d9221"
            ],
            [
             1,
             "#276419"
            ]
           ],
           "sequential": [
            [
             0,
             "#0d0887"
            ],
            [
             0.1111111111111111,
             "#46039f"
            ],
            [
             0.2222222222222222,
             "#7201a8"
            ],
            [
             0.3333333333333333,
             "#9c179e"
            ],
            [
             0.4444444444444444,
             "#bd3786"
            ],
            [
             0.5555555555555556,
             "#d8576b"
            ],
            [
             0.6666666666666666,
             "#ed7953"
            ],
            [
             0.7777777777777778,
             "#fb9f3a"
            ],
            [
             0.8888888888888888,
             "#fdca26"
            ],
            [
             1,
             "#f0f921"
            ]
           ],
           "sequentialminus": [
            [
             0,
             "#0d0887"
            ],
            [
             0.1111111111111111,
             "#46039f"
            ],
            [
             0.2222222222222222,
             "#7201a8"
            ],
            [
             0.3333333333333333,
             "#9c179e"
            ],
            [
             0.4444444444444444,
             "#bd3786"
            ],
            [
             0.5555555555555556,
             "#d8576b"
            ],
            [
             0.6666666666666666,
             "#ed7953"
            ],
            [
             0.7777777777777778,
             "#fb9f3a"
            ],
            [
             0.8888888888888888,
             "#fdca26"
            ],
            [
             1,
             "#f0f921"
            ]
           ]
          },
          "colorway": [
           "#636efa",
           "#EF553B",
           "#00cc96",
           "#ab63fa",
           "#FFA15A",
           "#19d3f3",
           "#FF6692",
           "#B6E880",
           "#FF97FF",
           "#FECB52"
          ],
          "font": {
           "color": "#2a3f5f"
          },
          "geo": {
           "bgcolor": "white",
           "lakecolor": "white",
           "landcolor": "#E5ECF6",
           "showlakes": true,
           "showland": true,
           "subunitcolor": "white"
          },
          "hoverlabel": {
           "align": "left"
          },
          "hovermode": "closest",
          "mapbox": {
           "style": "light"
          },
          "paper_bgcolor": "white",
          "plot_bgcolor": "#E5ECF6",
          "polar": {
           "angularaxis": {
            "gridcolor": "white",
            "linecolor": "white",
            "ticks": ""
           },
           "bgcolor": "#E5ECF6",
           "radialaxis": {
            "gridcolor": "white",
            "linecolor": "white",
            "ticks": ""
           }
          },
          "scene": {
           "xaxis": {
            "backgroundcolor": "#E5ECF6",
            "gridcolor": "white",
            "gridwidth": 2,
            "linecolor": "white",
            "showbackground": true,
            "ticks": "",
            "zerolinecolor": "white"
           },
           "yaxis": {
            "backgroundcolor": "#E5ECF6",
            "gridcolor": "white",
            "gridwidth": 2,
            "linecolor": "white",
            "showbackground": true,
            "ticks": "",
            "zerolinecolor": "white"
           },
           "zaxis": {
            "backgroundcolor": "#E5ECF6",
            "gridcolor": "white",
            "gridwidth": 2,
            "linecolor": "white",
            "showbackground": true,
            "ticks": "",
            "zerolinecolor": "white"
           }
          },
          "shapedefaults": {
           "line": {
            "color": "#2a3f5f"
           }
          },
          "ternary": {
           "aaxis": {
            "gridcolor": "white",
            "linecolor": "white",
            "ticks": ""
           },
           "baxis": {
            "gridcolor": "white",
            "linecolor": "white",
            "ticks": ""
           },
           "bgcolor": "#E5ECF6",
           "caxis": {
            "gridcolor": "white",
            "linecolor": "white",
            "ticks": ""
           }
          },
          "title": {
           "x": 0.05
          },
          "xaxis": {
           "automargin": true,
           "gridcolor": "white",
           "linecolor": "white",
           "ticks": "",
           "title": {
            "standoff": 15
           },
           "zerolinecolor": "white",
           "zerolinewidth": 2
          },
          "yaxis": {
           "automargin": true,
           "gridcolor": "white",
           "linecolor": "white",
           "ticks": "",
           "title": {
            "standoff": 15
           },
           "zerolinecolor": "white",
           "zerolinewidth": 2
          }
         }
        },
        "title": {
         "font": {
          "color": "#6d4c41",
          "family": "Courier New, monospace"
         }
        },
        "width": 800,
        "xaxis": {
         "constrain": "domain",
         "fixedrange": true,
         "range": [
          -5,
          110
         ],
         "scaleanchor": "y",
         "showgrid": false,
         "showticklabels": false,
         "visible": false,
         "zeroline": false
        },
        "yaxis": {
         "constrain": "domain",
         "fixedrange": true,
         "range": [
          -5,
          73
         ],
         "showgrid": false,
         "showticklabels": false,
         "visible": false,
         "zeroline": false
        }
       }
      }
     },
     "metadata": {},
     "output_type": "display_data"
    }
   ],
   "source": [
    "df = pd.DataFrame({\n",
    "    'x': [10, 80, 70],\n",
    "    'y': [10, 60, 20],\n",
    "    'x2': [40, 65, 80],\n",
    "    'y2': [50, 70, 30],\n",
    "    'player': ['Alice', 'Bob', 'Carol']\n",
    "})\n",
    "\n",
    "pitch = pb.viz.Pitch(width=800, height=600, theme=\"retro\", provider=\"wyscout\",)\n",
    "pitch.plot_comets(df, x='x', y='y', x_end='x2', y_end='y2', width=4, segments=20,hover='player')\n",
    "pitch.show()"
   ]
  },
  {
   "cell_type": "code",
   "execution_count": null,
   "id": "9df50019",
   "metadata": {},
   "outputs": [],
   "source": []
  }
 ],
 "metadata": {
  "kernelspec": {
   "display_name": "venv",
   "language": "python",
   "name": "python3"
  },
  "language_info": {
   "codemirror_mode": {
    "name": "ipython",
    "version": 3
   },
   "file_extension": ".py",
   "mimetype": "text/x-python",
   "name": "python",
   "nbconvert_exporter": "python",
   "pygments_lexer": "ipython3",
   "version": "3.13.1"
  }
 },
 "nbformat": 4,
 "nbformat_minor": 5
}
