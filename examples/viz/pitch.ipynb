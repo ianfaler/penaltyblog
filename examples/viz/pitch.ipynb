{
 "cells": [
  {
   "cell_type": "markdown",
   "id": "9e38dcff",
   "metadata": {},
   "source": [
    "# Pitch"
   ]
  },
  {
   "cell_type": "code",
   "execution_count": 1,
   "id": "020e4320-ccad-4b79-b63c-8eb0c120cad6",
   "metadata": {},
   "outputs": [],
   "source": [
    "import penaltyblog as pb\n",
    "import numpy as np\n",
    "import pandas as pd"
   ]
  },
  {
   "cell_type": "code",
   "execution_count": 2,
   "id": "cabbbde4-aad2-4748-b029-80ec027e9a1e",
   "metadata": {},
   "outputs": [
    {
     "data": {
      "application/vnd.plotly.v1+json": {
       "config": {
        "displaylogo": false,
        "plotlyServerURL": "https://plot.ly"
       },
       "data": [
        {
         "hoverinfo": "skip",
         "line": {
          "color": "#444444"
         },
         "mode": "lines",
         "showlegend": false,
         "type": "scatter",
         "x": {
          "bdata": "mpmZmZnZMUB7sQ/8zyIyQNz28hfPaTJALwlf+HyuMkBP4VKBwPAyQBzs3niBMDNARn4AkKhtM0BeZCdrH6gzQJFxYqrQ3zNA+A8w8acUNEAg9+/tkUY0QApQ82B8dTRAhrEoI1ahNECPhGEsD8o0QKCFLpmY7zRAdj5RsOQRNUDUesDn5jA1QI7iPemTTDVA7wt7luFkNUB2gswMx3k1QKhnaag8izVAAH42BzyZNUB9mBsLwKM1QGyU4tvEqjVAUC6f6EeuNUBQLp/oR641QGyU4tvEqjVAfZgbC8CjNUAAfjYHPJk1QKhnaag8izVAdoLMDMd5NUDvC3uW4WQ1QI7iPemTTDVA1HrA5+YwNUB2PlGw5BE1QJ+FLpmY7zRAj4RhLA/KNECGsSgjVqE0QApQ82B8dTRAIPfv7ZFGNED4DzDxpxQ0QJFxYqrQ3zNAXmQnax+oM0BFfgCQqG0zQBzs3niBMDNAT+FSgcDwMkAuCV/4fK4yQNz28hfPaTJAerEP/M8iMkCamZmZmdkxQA==",
          "dtype": "f8"
         },
         "y": {
          "bdata": "dyibImdSOkBAmGOTqos6QJE777WnxzpA4uScm0gGO0BLsbtedkc7QD4X6ioZiztAXTnMRRjRO0D9TRYYWhk8QDTN5zbEYzxAvPlzbTuwPEC+PPTGo/48QH6x4JjgTj1AWSRrjdSgPUAosDiuYfQ9QC8OVm9pST5AZZdiusyfPkC94e35a/c+QMDRAyUnUD9Aqefiyt2pP0DqP2yPNwJAQEFYHwLdL0BAOLFLjc5dQECyG+Bk+4tAQDlkHadSukBAPV/CYsPoQEDDoD2dPBdBQMeb4litRUFATuQfmwR0QUDITrRyMaJBQL+n4P0i0EFAFsCTcMj9QUAsjI4aEStCQCAXfm3sV0JAIg8JA0qEQkBOtM6iGbBCQOn4VEhL20JA7KfjKM8FQ0DUbUq5lS9DQEGnj7OPWENAoeGFHK6AQ0AiA0ZJ4qdDQGYZjOQdzkNAAtn081LzQ0BS4xndcxdEQGH0impzOkRAWyei0ERcRECPjTGy23xEQDhiCCUsnERA4DNOtiq6REDEa7JuzNZEQA==",
          "dtype": "f8"
         }
        },
        {
         "hoverinfo": "skip",
         "line": {
          "color": "#444444"
         },
         "mode": "lines",
         "showlegend": false,
         "type": "scatter",
         "x": {
          "bdata": "mpmZmZnJVUCiE/wATLdVQElCAzqMpVVAtT3owWCUVUCsR6vfz4NVQPlEyKHfc1VAb+D/25VkVUDpJjYl+FVVQJxjZ9ULSFVAAvyzA9Y6VUA4AoSEWy5VQP4rw+egIlVAntM1d6oXVUDcnuc0fA1VQJhetNkZBFVAYrDr04b7VEBL4Q9GxvNUQF2HsAXb7FRABD1hmsfmVEBi38w8juFUQBam5dUw3VRAgGAy/rDZVEDhGTn9D9dUQOVaB8lO1VRAbDTYBW7UVEBsNNgFbtRUQOVaB8lO1VRA4Rk5/Q/XVECAYDL+sNlUQBam5dUw3VRAYt/MPI7hVEAEPWGax+ZUQFyHsAXb7FRAS+EPRsbzVEBisOvThvtUQJhetNkZBFVA3J7nNHwNVUCe0zV3qhdVQP4rw+egIlVAOAKEhFsuVUAC/LMD1jpVQJxjZ9ULSFVA6SY2JfhVVUBv4P/blWRVQPlEyKHfc1VArUer38+DVUC1PejBYJRVQElCAzqMpVVAohP8AEy3VUCamZmZmclVQA==",
          "dtype": "f8"
         },
         "y": {
          "bdata": "xWuybszWREDhM062KrpEQDhiCCUsnERAkI0xstt8REBcJ6LQRFxEQGL0impzOkRAUuMZ3XMXREAC2fTzUvNDQGcZjOQdzkNAIwNGSeKnQ0Ch4YUcroBDQEKnj7OPWENA1G1KuZUvQ0Dtp+MozwVDQOn4VEhL20JATrTOohmwQkAiDwkDSoRCQCAXfm3sV0JALIyOGhErQkAWwJNwyP1BQL+n4P0i0EFAyE60cjGiQUBO5B+bBHRBQMeb4litRUFAw6A9nTwXQUA9X8Jiw+hAQDlkHadSukBAshvgZPuLQEA4sUuNzl1AQEFYHwLdL0BA6j9sjzcCQECo5+LK3ak/QMDRAyUnUD9AveHt+Wv3PkBkl2K6zJ8+QC4OVm9pST5AJ7A4rmH0PUBYJGuN1KA9QHyx4JjgTj1AvDz0xqP+PEC6+XNtO7A8QDHN5zbEYzxA+00WGFoZPEBbOcxFGNE7QDwX6ioZiztASbG7XnZHO0Dg5JybSAY7QJA777WnxzpAPphjk6qLOkB1KJsiZ1I6QA==",
          "dtype": "f8"
         }
        },
        {
         "hoverinfo": "skip",
         "marker": {
          "color": "#444444",
          "size": 6
         },
         "mode": "markers",
         "showlegend": false,
         "type": "scatter",
         "x": [
          12.075000000000001
         ],
         "y": [
          34
         ]
        },
        {
         "hoverinfo": "skip",
         "marker": {
          "color": "#444444",
          "size": 6
         },
         "mode": "markers",
         "showlegend": false,
         "type": "scatter",
         "x": [
          92.925
         ],
         "y": [
          34
         ]
        },
        {
         "hoverinfo": "skip",
         "marker": {
          "color": "#444444",
          "size": 6
         },
         "mode": "markers",
         "showlegend": false,
         "type": "scatter",
         "x": [
          52.5
         ],
         "y": [
          34
         ]
        },
        {
         "hoverinfo": "text",
         "hovertext": [
          "Player 1 (79.9, 34.8)",
          "Player 2 (81.4, 50.8)",
          "Player 3 (59.3, 15.0)",
          "Player 4 (52.1, 88.9)",
          "Player 5 (17.8, 93.8)",
          "Player 6 (87.2, 45.6)",
          "Player 7 (85.3, 71.8)",
          "Player 8 (64.8, 30.0)",
          "Player 9 (5.9, 30.4)",
          "Player 10 (37.9, 22.4)",
          "Player 11 (86.2, 48.5)"
         ],
         "marker": {
          "color": "#e07a5f",
          "size": 10
         },
         "mode": "markers",
         "showlegend": false,
         "type": "scatter",
         "x": {
          "bdata": "azQjI173VEALxLgZlF5VQConzk3vJE9APvJ3cIleS0B8UC9R47cyQLRcOAMR5lZA+M945Z9hVkCIa1dJggBRQAVunrx3oRhAEwL2ASjoQ0AS2xW0h51WQA==",
          "dtype": "f8"
         },
         "y": {
          "bdata": "o01/DkqxN0Dbhpm8NkJBQFtViYKIXiRAQvE1ONg9TkCJWr7jT+VPQO3/VZJmAT9AIQkleyJoSEC+plV14WI0QNEm4tqhtDRA7LNRbHBpLkBuBcI5MYBAQA==",
          "dtype": "f8"
         }
        }
       ],
       "layout": {
        "font": {
         "color": "#444444",
         "family": "Helvetica Neue, Arial, sans-serif"
        },
        "height": 400,
        "hoverlabel": {
         "bgcolor": "rgba(50,50,50,0.8)",
         "bordercolor": "rgba(255,255,255,0.2)",
         "font": {
          "color": "white",
          "family": "Helvetica Neue, Arial, sans-serif",
          "size": 16
         }
        },
        "margin": {
         "b": 0,
         "l": 0,
         "r": 0,
         "t": 0
        },
        "paper_bgcolor": "#ffffff",
        "plot_bgcolor": "#ffffff",
        "shapes": [
         {
          "line": {
           "color": "#444444"
          },
          "type": "rect",
          "x0": 0,
          "x1": 105,
          "y0": 0,
          "y1": 68
         },
         {
          "line": {
           "color": "#444444"
          },
          "type": "rect",
          "x0": 52.5,
          "x1": 52.5,
          "y0": 0,
          "y1": 68
         },
         {
          "line": {
           "color": "#444444"
          },
          "type": "rect",
          "x0": 0,
          "x1": 17.85,
          "y0": 14.348000000000003,
          "y1": 53.65200000000001
         },
         {
          "line": {
           "color": "#444444"
          },
          "type": "rect",
          "x0": 87.15,
          "x1": 105,
          "y0": 14.348000000000003,
          "y1": 53.65200000000001
         },
         {
          "line": {
           "color": "#444444"
          },
          "type": "rect",
          "x0": 0,
          "x1": 6.09,
          "y0": 25.024,
          "y1": 42.976000000000006
         },
         {
          "line": {
           "color": "#444444"
          },
          "type": "rect",
          "x0": 98.91000000000001,
          "x1": 105,
          "y0": 25.024,
          "y1": 42.976000000000006
         },
         {
          "line": {
           "color": "#444444"
          },
          "type": "circle",
          "x0": 42.8925,
          "x1": 62.1075,
          "y0": 24.3925,
          "y1": 43.6075
         }
        ],
        "showlegend": false,
        "template": {
         "data": {
          "bar": [
           {
            "error_x": {
             "color": "#2a3f5f"
            },
            "error_y": {
             "color": "#2a3f5f"
            },
            "marker": {
             "line": {
              "color": "#E5ECF6",
              "width": 0.5
             },
             "pattern": {
              "fillmode": "overlay",
              "size": 10,
              "solidity": 0.2
             }
            },
            "type": "bar"
           }
          ],
          "barpolar": [
           {
            "marker": {
             "line": {
              "color": "#E5ECF6",
              "width": 0.5
             },
             "pattern": {
              "fillmode": "overlay",
              "size": 10,
              "solidity": 0.2
             }
            },
            "type": "barpolar"
           }
          ],
          "carpet": [
           {
            "aaxis": {
             "endlinecolor": "#2a3f5f",
             "gridcolor": "white",
             "linecolor": "white",
             "minorgridcolor": "white",
             "startlinecolor": "#2a3f5f"
            },
            "baxis": {
             "endlinecolor": "#2a3f5f",
             "gridcolor": "white",
             "linecolor": "white",
             "minorgridcolor": "white",
             "startlinecolor": "#2a3f5f"
            },
            "type": "carpet"
           }
          ],
          "choropleth": [
           {
            "colorbar": {
             "outlinewidth": 0,
             "ticks": ""
            },
            "type": "choropleth"
           }
          ],
          "contour": [
           {
            "colorbar": {
             "outlinewidth": 0,
             "ticks": ""
            },
            "colorscale": [
             [
              0,
              "#0d0887"
             ],
             [
              0.1111111111111111,
              "#46039f"
             ],
             [
              0.2222222222222222,
              "#7201a8"
             ],
             [
              0.3333333333333333,
              "#9c179e"
             ],
             [
              0.4444444444444444,
              "#bd3786"
             ],
             [
              0.5555555555555556,
              "#d8576b"
             ],
             [
              0.6666666666666666,
              "#ed7953"
             ],
             [
              0.7777777777777778,
              "#fb9f3a"
             ],
             [
              0.8888888888888888,
              "#fdca26"
             ],
             [
              1,
              "#f0f921"
             ]
            ],
            "type": "contour"
           }
          ],
          "contourcarpet": [
           {
            "colorbar": {
             "outlinewidth": 0,
             "ticks": ""
            },
            "type": "contourcarpet"
           }
          ],
          "heatmap": [
           {
            "colorbar": {
             "outlinewidth": 0,
             "ticks": ""
            },
            "colorscale": [
             [
              0,
              "#0d0887"
             ],
             [
              0.1111111111111111,
              "#46039f"
             ],
             [
              0.2222222222222222,
              "#7201a8"
             ],
             [
              0.3333333333333333,
              "#9c179e"
             ],
             [
              0.4444444444444444,
              "#bd3786"
             ],
             [
              0.5555555555555556,
              "#d8576b"
             ],
             [
              0.6666666666666666,
              "#ed7953"
             ],
             [
              0.7777777777777778,
              "#fb9f3a"
             ],
             [
              0.8888888888888888,
              "#fdca26"
             ],
             [
              1,
              "#f0f921"
             ]
            ],
            "type": "heatmap"
           }
          ],
          "histogram": [
           {
            "marker": {
             "pattern": {
              "fillmode": "overlay",
              "size": 10,
              "solidity": 0.2
             }
            },
            "type": "histogram"
           }
          ],
          "histogram2d": [
           {
            "colorbar": {
             "outlinewidth": 0,
             "ticks": ""
            },
            "colorscale": [
             [
              0,
              "#0d0887"
             ],
             [
              0.1111111111111111,
              "#46039f"
             ],
             [
              0.2222222222222222,
              "#7201a8"
             ],
             [
              0.3333333333333333,
              "#9c179e"
             ],
             [
              0.4444444444444444,
              "#bd3786"
             ],
             [
              0.5555555555555556,
              "#d8576b"
             ],
             [
              0.6666666666666666,
              "#ed7953"
             ],
             [
              0.7777777777777778,
              "#fb9f3a"
             ],
             [
              0.8888888888888888,
              "#fdca26"
             ],
             [
              1,
              "#f0f921"
             ]
            ],
            "type": "histogram2d"
           }
          ],
          "histogram2dcontour": [
           {
            "colorbar": {
             "outlinewidth": 0,
             "ticks": ""
            },
            "colorscale": [
             [
              0,
              "#0d0887"
             ],
             [
              0.1111111111111111,
              "#46039f"
             ],
             [
              0.2222222222222222,
              "#7201a8"
             ],
             [
              0.3333333333333333,
              "#9c179e"
             ],
             [
              0.4444444444444444,
              "#bd3786"
             ],
             [
              0.5555555555555556,
              "#d8576b"
             ],
             [
              0.6666666666666666,
              "#ed7953"
             ],
             [
              0.7777777777777778,
              "#fb9f3a"
             ],
             [
              0.8888888888888888,
              "#fdca26"
             ],
             [
              1,
              "#f0f921"
             ]
            ],
            "type": "histogram2dcontour"
           }
          ],
          "mesh3d": [
           {
            "colorbar": {
             "outlinewidth": 0,
             "ticks": ""
            },
            "type": "mesh3d"
           }
          ],
          "parcoords": [
           {
            "line": {
             "colorbar": {
              "outlinewidth": 0,
              "ticks": ""
             }
            },
            "type": "parcoords"
           }
          ],
          "pie": [
           {
            "automargin": true,
            "type": "pie"
           }
          ],
          "scatter": [
           {
            "fillpattern": {
             "fillmode": "overlay",
             "size": 10,
             "solidity": 0.2
            },
            "type": "scatter"
           }
          ],
          "scatter3d": [
           {
            "line": {
             "colorbar": {
              "outlinewidth": 0,
              "ticks": ""
             }
            },
            "marker": {
             "colorbar": {
              "outlinewidth": 0,
              "ticks": ""
             }
            },
            "type": "scatter3d"
           }
          ],
          "scattercarpet": [
           {
            "marker": {
             "colorbar": {
              "outlinewidth": 0,
              "ticks": ""
             }
            },
            "type": "scattercarpet"
           }
          ],
          "scattergeo": [
           {
            "marker": {
             "colorbar": {
              "outlinewidth": 0,
              "ticks": ""
             }
            },
            "type": "scattergeo"
           }
          ],
          "scattergl": [
           {
            "marker": {
             "colorbar": {
              "outlinewidth": 0,
              "ticks": ""
             }
            },
            "type": "scattergl"
           }
          ],
          "scattermap": [
           {
            "marker": {
             "colorbar": {
              "outlinewidth": 0,
              "ticks": ""
             }
            },
            "type": "scattermap"
           }
          ],
          "scattermapbox": [
           {
            "marker": {
             "colorbar": {
              "outlinewidth": 0,
              "ticks": ""
             }
            },
            "type": "scattermapbox"
           }
          ],
          "scatterpolar": [
           {
            "marker": {
             "colorbar": {
              "outlinewidth": 0,
              "ticks": ""
             }
            },
            "type": "scatterpolar"
           }
          ],
          "scatterpolargl": [
           {
            "marker": {
             "colorbar": {
              "outlinewidth": 0,
              "ticks": ""
             }
            },
            "type": "scatterpolargl"
           }
          ],
          "scatterternary": [
           {
            "marker": {
             "colorbar": {
              "outlinewidth": 0,
              "ticks": ""
             }
            },
            "type": "scatterternary"
           }
          ],
          "surface": [
           {
            "colorbar": {
             "outlinewidth": 0,
             "ticks": ""
            },
            "colorscale": [
             [
              0,
              "#0d0887"
             ],
             [
              0.1111111111111111,
              "#46039f"
             ],
             [
              0.2222222222222222,
              "#7201a8"
             ],
             [
              0.3333333333333333,
              "#9c179e"
             ],
             [
              0.4444444444444444,
              "#bd3786"
             ],
             [
              0.5555555555555556,
              "#d8576b"
             ],
             [
              0.6666666666666666,
              "#ed7953"
             ],
             [
              0.7777777777777778,
              "#fb9f3a"
             ],
             [
              0.8888888888888888,
              "#fdca26"
             ],
             [
              1,
              "#f0f921"
             ]
            ],
            "type": "surface"
           }
          ],
          "table": [
           {
            "cells": {
             "fill": {
              "color": "#EBF0F8"
             },
             "line": {
              "color": "white"
             }
            },
            "header": {
             "fill": {
              "color": "#C8D4E3"
             },
             "line": {
              "color": "white"
             }
            },
            "type": "table"
           }
          ]
         },
         "layout": {
          "annotationdefaults": {
           "arrowcolor": "#2a3f5f",
           "arrowhead": 0,
           "arrowwidth": 1
          },
          "autotypenumbers": "strict",
          "coloraxis": {
           "colorbar": {
            "outlinewidth": 0,
            "ticks": ""
           }
          },
          "colorscale": {
           "diverging": [
            [
             0,
             "#8e0152"
            ],
            [
             0.1,
             "#c51b7d"
            ],
            [
             0.2,
             "#de77ae"
            ],
            [
             0.3,
             "#f1b6da"
            ],
            [
             0.4,
             "#fde0ef"
            ],
            [
             0.5,
             "#f7f7f7"
            ],
            [
             0.6,
             "#e6f5d0"
            ],
            [
             0.7,
             "#b8e186"
            ],
            [
             0.8,
             "#7fbc41"
            ],
            [
             0.9,
             "#4d9221"
            ],
            [
             1,
             "#276419"
            ]
           ],
           "sequential": [
            [
             0,
             "#0d0887"
            ],
            [
             0.1111111111111111,
             "#46039f"
            ],
            [
             0.2222222222222222,
             "#7201a8"
            ],
            [
             0.3333333333333333,
             "#9c179e"
            ],
            [
             0.4444444444444444,
             "#bd3786"
            ],
            [
             0.5555555555555556,
             "#d8576b"
            ],
            [
             0.6666666666666666,
             "#ed7953"
            ],
            [
             0.7777777777777778,
             "#fb9f3a"
            ],
            [
             0.8888888888888888,
             "#fdca26"
            ],
            [
             1,
             "#f0f921"
            ]
           ],
           "sequentialminus": [
            [
             0,
             "#0d0887"
            ],
            [
             0.1111111111111111,
             "#46039f"
            ],
            [
             0.2222222222222222,
             "#7201a8"
            ],
            [
             0.3333333333333333,
             "#9c179e"
            ],
            [
             0.4444444444444444,
             "#bd3786"
            ],
            [
             0.5555555555555556,
             "#d8576b"
            ],
            [
             0.6666666666666666,
             "#ed7953"
            ],
            [
             0.7777777777777778,
             "#fb9f3a"
            ],
            [
             0.8888888888888888,
             "#fdca26"
            ],
            [
             1,
             "#f0f921"
            ]
           ]
          },
          "colorway": [
           "#636efa",
           "#EF553B",
           "#00cc96",
           "#ab63fa",
           "#FFA15A",
           "#19d3f3",
           "#FF6692",
           "#B6E880",
           "#FF97FF",
           "#FECB52"
          ],
          "font": {
           "color": "#2a3f5f"
          },
          "geo": {
           "bgcolor": "white",
           "lakecolor": "white",
           "landcolor": "#E5ECF6",
           "showlakes": true,
           "showland": true,
           "subunitcolor": "white"
          },
          "hoverlabel": {
           "align": "left"
          },
          "hovermode": "closest",
          "mapbox": {
           "style": "light"
          },
          "paper_bgcolor": "white",
          "plot_bgcolor": "#E5ECF6",
          "polar": {
           "angularaxis": {
            "gridcolor": "white",
            "linecolor": "white",
            "ticks": ""
           },
           "bgcolor": "#E5ECF6",
           "radialaxis": {
            "gridcolor": "white",
            "linecolor": "white",
            "ticks": ""
           }
          },
          "scene": {
           "xaxis": {
            "backgroundcolor": "#E5ECF6",
            "gridcolor": "white",
            "gridwidth": 2,
            "linecolor": "white",
            "showbackground": true,
            "ticks": "",
            "zerolinecolor": "white"
           },
           "yaxis": {
            "backgroundcolor": "#E5ECF6",
            "gridcolor": "white",
            "gridwidth": 2,
            "linecolor": "white",
            "showbackground": true,
            "ticks": "",
            "zerolinecolor": "white"
           },
           "zaxis": {
            "backgroundcolor": "#E5ECF6",
            "gridcolor": "white",
            "gridwidth": 2,
            "linecolor": "white",
            "showbackground": true,
            "ticks": "",
            "zerolinecolor": "white"
           }
          },
          "shapedefaults": {
           "line": {
            "color": "#2a3f5f"
           }
          },
          "ternary": {
           "aaxis": {
            "gridcolor": "white",
            "linecolor": "white",
            "ticks": ""
           },
           "baxis": {
            "gridcolor": "white",
            "linecolor": "white",
            "ticks": ""
           },
           "bgcolor": "#E5ECF6",
           "caxis": {
            "gridcolor": "white",
            "linecolor": "white",
            "ticks": ""
           }
          },
          "title": {
           "x": 0.05
          },
          "xaxis": {
           "automargin": true,
           "gridcolor": "white",
           "linecolor": "white",
           "ticks": "",
           "title": {
            "standoff": 15
           },
           "zerolinecolor": "white",
           "zerolinewidth": 2
          },
          "yaxis": {
           "automargin": true,
           "gridcolor": "white",
           "linecolor": "white",
           "ticks": "",
           "title": {
            "standoff": 15
           },
           "zerolinecolor": "white",
           "zerolinewidth": 2
          }
         }
        },
        "title": {},
        "width": 800,
        "xaxis": {
         "constrain": "domain",
         "fixedrange": true,
         "range": [
          -5,
          110
         ],
         "scaleanchor": "y",
         "showgrid": false,
         "showticklabels": false,
         "visible": false,
         "zeroline": false
        },
        "yaxis": {
         "constrain": "domain",
         "fixedrange": true,
         "range": [
          -5,
          73
         ],
         "showgrid": false,
         "showticklabels": false,
         "visible": false,
         "zeroline": false
        }
       }
      }
     },
     "metadata": {},
     "output_type": "display_data"
    }
   ],
   "source": [
    "df = pd.DataFrame({\n",
    "    'x': np.random.uniform(0, 100, 11),\n",
    "    'y': np.random.uniform(0, 100, 11),\n",
    "    'name': [f'Player {i+1}' for i in range(11)]\n",
    "})\n",
    "\n",
    "pitch = pb.viz.Pitch(width=800, height=400, theme=\"minimal\", provider=\"opta\")\n",
    "pitch.plot_scatter(df, x='x', y='y', hover='name')\n",
    "pitch.show()\n"
   ]
  },
  {
   "cell_type": "markdown",
   "id": "7f8d3c87",
   "metadata": {},
   "source": []
  },
  {
   "cell_type": "code",
   "execution_count": null,
   "id": "0cc28b7e",
   "metadata": {},
   "outputs": [],
   "source": []
  },
  {
   "cell_type": "code",
   "execution_count": 3,
   "id": "1ab85f7c-2e96-4fc0-950a-7c013f01a26e",
   "metadata": {},
   "outputs": [
    {
     "data": {
      "application/vnd.plotly.v1+json": {
       "config": {
        "displaylogo": false,
        "plotlyServerURL": "https://plot.ly"
       },
       "data": [
        {
         "hoverinfo": "skip",
         "line": {
          "color": "#90caf9"
         },
         "mode": "lines",
         "showlegend": false,
         "type": "scatter",
         "x": {
          "bdata": "AAAAAACAL0BbZ1JhbOovQBMFJym4KDBA1oC41HVaMEBu09KrX4owQHZ6+rhmuDBAHtxunXzkMECDz6aVkw4xQFyvnH2eNjFAfp/o1JBcMUBbvafCXoAxQHsDLxn9oTFAYLiIWWHBMUDVUbu2gd4xQMrG2BhV+TFAJlvVH9MRMkC0AiUm9CcyQBuKHkOxOzJAIscjTQRNMkDQI47b51syQK3qXkhXaDJAG82ysU5yMkDcL/j6ynkyQNfc583JfjJAfcw/m0mBMkB9zD+bSYEyQNfc583JfjJA3C/4+sp5MkAbzbKxTnIyQK3qXkhXaDJA0COO2+dbMkAixyNNBE0yQBuKHkOxOzJAtAIlJvQnMkAmW9Uf0xEyQMrG2BhV+TFA1VG7toHeMUBguIhZYcExQHsDLxn9oTFAW72nwl6AMUB/n+jUkFwxQFyvnH2eNjFAhM+mlZMOMUAe3G6dfOQwQHd6+rhmuDBAbtPSq1+KMEDWgLjUdVowQBQFJym4KDBAW2dSYWzqL0AAAAAAAIAvQA==",
          "dtype": "f8"
         },
         "y": {
          "bdata": "MvWTMpP0O0CWUxJkciQ8QFghYcElVjxA9jktxp2JPECXEtFgyr48QFAJWfea9TxAo0KybP4tPUDadgIm42c9QFkEJxA3oz1Ad49ZpeffPUDzbPjy4R0+QMEIcZ8SXT5AbnBK8GWdPkA5Hk7Qx94+QKAYzdUjIT9ANnH/SGVkP0ByJXwqd6g/QHFcxzlE7T9A23r6fVsZQEBVqy7hXDxAQGIvsVibX0BAsjKh4wuDQED1j3txo6ZAQHclj+VWykBAJ/d0GhvuQEDZCIvl5BFBQInacBqpNUFAC3CEjlxZQUBOzV4c9HxBQJ7QTqdkoEFAq1TRHqPDQUAlhQWCpOZBQMdRHONdCUJAR+3BasQrQkBlR4BbzU1CQLBzGRVub0JA4/DYF5yQQkDJx9oHTbFCQKB7R7B20UJAhsmDBg/xQkBEOFMtDBBDQNR97HdkLkNAk8T+bA5MQ0Cv3qbJAGlDQFh7U4QyhUNAtHaXz5qgQ0AFY+kcMbtDQFRvTx/t1ENANdb2zcbtQ0BnBbZmtgVEQA==",
          "dtype": "f8"
         }
        },
        {
         "hoverinfo": "skip",
         "line": {
          "color": "#90caf9"
         },
         "mode": "lines",
         "showlegend": false,
         "type": "scatter",
         "x": {
          "bdata": "AAAAAABQVkAVs9VzskJWQLs+tvXRNVZAy9/RimIpVkAkSwsVaB1WQGJhwVHmEVZA+Uik2OAGVkAfTJYaW/xVQCnUmGBY8lVAINjFytvoVUCpEFZP6N9VQCE/tLmA11VA6NGdqafPVUCLK1GSX8hVQE7OybmqwVVANqkKOIu7VUBTv3b2ArZVQHldOK8TsVVAOA637L6sVUAMdxwJBqlVQFVF6C3qpVVAuUyTU2yjVUAJ9EFBjaFVQMoIhoxNoFVA4Qwwma2fVUDhDDCZrZ9VQMoIhoxNoFVACfRBQY2hVUC5TJNTbKNVQFVF6C3qpVVADHccCQapVUA4DrfsvqxVQHldOK8TsVVAU7929gK2VUA2qQo4i7tVQE7OybmqwVVAiytRkl/IVUDo0Z2pp89VQCE/tLmA11VAqRBWT+jfVUAg2MXK2+hVQCnUmGBY8lVAH0yWGlv8VUD4SKTY4AZWQGJhwVHmEVZAJUsLFWgdVkDK39GKYilWQLs+tvXRNVZAFbPVc7JCVkAAAAAAAFBWQA==",
          "dtype": "f8"
         },
         "y": {
          "bdata": "ZwW2ZrYFREA11vbNxu1DQFRvTx/t1ENABWPpHDG7Q0C0dpfPmqBDQFh7U4QyhUNAr96myQBpQ0CTxP5sDkxDQNR97HdkLkNARDhTLQwQQ0CHyYMGD/FCQJ97R7B20UJAycfaB02xQkDk8NgXnJBCQLBzGRVub0JAZUeAW81NQkBH7cFqxCtCQMhRHONdCUJAJYUFgqTmQUCrVNEeo8NBQJ7QTqdkoEFATs1eHPR8QUALcISOXFlBQInacBqpNUFA2QiL5eQRQUAn93QaG+5AQHYlj+VWykBA9o97caOmQECyMqHjC4NAQGIvsVibX0BAVasu4Vw8QEDbevp9WxlAQHJcxzlE7T9AcyV8KneoP0A1cf9IZWQ/QKAYzdUjIT9AOR5O0MfePkBucErwZZ0+QMIIcZ8SXT5A82z48uEdPkB3j1ml5989QFkEJxA3oz1A2nYCJuNnPUCkQrJs/i09QFAJWfea9TxAlhLRYMq+PED2OS3GnYk8QFghYcElVjxAllMSZHIkPEAz9ZMyk/Q7QA==",
          "dtype": "f8"
         }
        },
        {
         "hoverinfo": "skip",
         "marker": {
          "color": "#90caf9",
          "size": 8
         },
         "mode": "markers",
         "showlegend": false,
         "type": "scatter",
         "x": [
          10.5
         ],
         "y": [
          34
         ]
        },
        {
         "hoverinfo": "skip",
         "marker": {
          "color": "#90caf9",
          "size": 8
         },
         "mode": "markers",
         "showlegend": false,
         "type": "scatter",
         "x": [
          94.5
         ],
         "y": [
          34
         ]
        },
        {
         "hoverinfo": "skip",
         "marker": {
          "color": "#90caf9",
          "size": 8
         },
         "mode": "markers",
         "showlegend": false,
         "type": "scatter",
         "x": [
          52.5
         ],
         "y": [
          34
         ]
        },
        {
         "colorbar": {
          "title": {
           "text": "Density"
          }
         },
         "colorscale": [
          [
           0,
           "rgb(247,251,255)"
          ],
          [
           0.125,
           "rgb(222,235,247)"
          ],
          [
           0.25,
           "rgb(198,219,239)"
          ],
          [
           0.375,
           "rgb(158,202,225)"
          ],
          [
           0.5,
           "rgb(107,174,214)"
          ],
          [
           0.625,
           "rgb(66,146,198)"
          ],
          [
           0.75,
           "rgb(33,113,181)"
          ],
          [
           0.875,
           "rgb(8,81,156)"
          ],
          [
           1,
           "rgb(8,48,107)"
          ]
         ],
         "hovertemplate": "x: %{x:.1f}<br>y: %{y:.1f}<br>z: %{z}<extra></extra>",
         "opacity": 0.5,
         "showscale": false,
         "type": "histogram2d",
         "x": {
          "bdata": "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",
          "dtype": "f8"
         },
         "xbins": {
          "end": 105,
          "size": 10.5,
          "start": 0
         },
         "y": {
          "bdata": "45o34geNN0CeTb1C+SwyQPpkdr9HuzBAbf8DukjhNEBzIDHVZxFOQG7UOqIsxxFAkZgm0DPDPkCUX2h/tIZKQD95u2U9XjVAfbv9RCFGUEBF/48IrMREQGJBlg+GwEpA4+VoV+wAMECun+itsrFLQLpKpqQcDExApzqTk1cIREAVG6hBA+dDQFnMGZC5uh5A+nmulW9wT0ClzfLVRfA0QPAHZ24UaTFAMJ4mZOO/O0DsifXjLtxNQIvHWRZX8kRAKss//cPXRkBsfEp70VMuQBx64whiETtAwiGriP2ZTkDbXN5S10pKQDH41+k9/UlAG0PxX380UEDvzvHx+j8wQIy7Zh56fUlA2/GhFFLpRECn1OFcVPRGQL2feNmHxUBA7d9d0k4qPEBUfpkEUxU5QDSTmaBR0UtAOzI8BrTKT0CMYSiQ+X1BQCffvSOdizNATiMqcNxXR0ASIx1IWOxLQHW2WEWBWD9A4YDYvqmLQ0DnzRooHn9EQE3m0Jjo7kRAeR4Z0bdtQEAky2YVexAwQGVwi5zYxEJAlCxYZGHfMUAL09LlBatQQK3/xG5FKP8/SCVSR6bgT0BbRECPZM9PQHkletA+Ek5AmQAw8Qp4Q0BfsjnLWoJLQDSQQUo+8xdAj77xJJY0M0D+5ysQFCk4QE6TcECHH1BAqZ6JK6XwIEAky7VVd9hLQEFqnxZQ0kNAS2jGxTg3SEAfzRQNVoE9QJaNA/KS1AtA6/aUicUXRECgpWjzhYxLQKHk8tWld0RAvwx0gWU3LECFrJoXl4E7QL1w7E8FvhJAeD6c2gAXI0BW2wPwrj81QHLKTxpPWTlAeObrQ8GSS0A3UVfAoBVPQHR5biu2jURALg6i0+mHMUB3tl1xVL41QHOaI1Tv/0dAne1HdBA9TUAYR4A5WztLQK2XETypeCRACednSpRxTUCD1bQWgNcGQIx3idw2HDpABkanpqCdSEA500ihTF1BQB1TD6O8Kz5AQq8Kb5SWO0Dr3FFvuBwCQK7HvWbACQZAHRBACecxQkBKotgmag80QIGhc+jB6DNAQPKfKiiqRUCXGQvsiDVJQLlJFlB0i0NA8lKM48Y+SUC2+FJcissbQLWRl/RYL1BAhfwkcmZOHUBPKKgxijM1QPQz7zNOEE9A0ZItW4wfMkCcph+JDaRPQHZn1nDtWzpAc2yigBWDMkCcoRHvIoI4QAxvL/GtPDpAHJ9fSzWqSUBQNDHVNQNPQKFWneZAwE1AAFfIVC1/UECPmC3pDh9CQOb5DbmLNsE/vSTaHXRZTkB9QUMjJoY9QPxldPBbmS1AztfIuP39IkDPOg+o/ck9QJSbWD97qlBArq+Jr/W1PEAugAAODe9FQKZOGKXur0xAW2hMkHDtDECq/1mA3xFQQOFnZh/l2kdA+z9EWEJOPEALQCtqHBVNQJ2Ta70bhkRA7XvsHhkOMUC8390olK9FQF7UZ4SAXzJAsnnRm5A9E0Csvc8cIHNQQBghEKtTeThAYNgK3GeVQkA/M2g3aGk4QOBFJHBqhTtAyjF6MWUEJECX9VjX5wtQQK8s12yNR0hApb7rCUi0SkAtWPzB2znkP8MqAISr40lA5szzWVSdIED7IQCPbqMxQIGWVKeppjZAaMKiTRoTUEDL/bkCjK01QHQ4Y4W1gDBA5AShQCD1TUAXdTiV6EE9QA6psnnPTDRAGM50H38+NkAcGLGnbm1NQFM0ZeaYRE1AUj+xIi2fTkB1WnfwG70eQF0DUWJ2XkNAMZVmqtWpOUCyanFTlldKQG17p1eO1UNAlOYyS1DAK0CT815DIqFCQDGz1DR1F0BAOEj0WX/jIkCJpIppPGFJQBnYDnG7cDdA1+XONQq4M0DQ5EtBA6lEQPE22FOo6TdAfmgxP0uYSUDCj1fy8E41QB/tol+p+zpAZJVQt9isJUAYsIHg7jM1QLeKGrX91DRAYiBnvKq7MUCIOzll7e44QM/ER8qe8UpAhvr/hx7JUECfSLrASatGQB5mhLVaOChAj3U2i7IzKUBH8xPe6kMsQKAS6iOYTzpAHd+8XGJSNUC64QAsCLpQQJ4QbSWu3zhA3V6cWnaoQECzg+VZzJ5HQOKDBe3Lr0BAPKdZyIyMNkAiunfsooROQDnJvuG4RExA8E4qcjMKSkBr3hTnr3ggQHftgTORxkpAWrUcTz74HUA/Be7Qt4QfQFiA4gyADExA3UongPDlIUAtKIuBigMzQO/ofIOZEUpAFAQVnryaP0ByLAhi8uZJQOyIHd0o91BAABK/8S/8oD+Zg3rWuu8WQG/54b1tAT5ALc4deI2OOEAcGGV1YNo4QDH0syNJuVBAR4CL0n7KTEA2EYgyDJ5OQJKpjDLLHj5AjJ5bZDWuQUDuD7QBm7JOQCHu9tw7jjBAARyn/KLIT0AO4CZx3CFPQAM26s4xhT9AdJYK2Xv9QkB+83U/yQpHQG1Zztxa1ABAeo5PdVTEMkBmsF2ptEuoPxvBiHQ+r05AXXZ8+iiVTkB2oVIupasJQOZ0daMFnzpARBSeTaHyRUALeyZ0UnUgQHNFdSsp7CxAed0kSOpNIUC2e4LlAmpBQLTE0qXwGEFASJn+aSFmRkAHfIuSL/I4QJfCsbIjiyFA17YZJvIxTUCWPW0Hkg0/QDyD4IQyrkRAH4DGFBkKPEC7fLn6q+IXQEy4/UsHMUFA8iyPRUysTUDpY7wgG4xBQA+mIjm3dU5A7elaTi58MkBwmA2orwwPQCiokClfzkZADpBKh572SEC49+3ES45EQNX0NI6JhgRAjQ/G7xyLSUCKCqL6qosyQCl2YcrT/BtAWMzyz/hXREAgbLjmAsQ8QIfXFaXSpERAJ9zd7fE3OEB3GBTtHeJEQEt/yhwbwUhA71ktazsZMUAxLUmln5soQKsVBaLi2hdAeimWLA2ZSUCc+/7mQeFBQP1/VOwR5UdA7K0F+caGGUDTYpJR+uVNQMbGhZoxg0FAupNACl7eQkDT3Mk1FBZMQB8vkjKu9EZA82jS+LCbHkDBo+18olEGQMnUJpDiZfo/oHhsNBSWE0Dk/qn96C84QL76wUhzHDpADezHAodNREDlbekQai1HQExVynAcZTlA3P7ykXKbTUBKmVrPzmE5QGp4RYf3vj5AX/HTDGmwRkAAO9zOkSc/QEAUXmhiSTNA1Ib2mIUQSkD9O0g2glUXQBF2kn3eJypAyoyISHiQM0DX7qYj94lDQLeJvyX/XU5AfbApqTL1TkCgp4u1aHpPQF4jsswobUBADs3+ucDdM0AHb0eKWWo5QMlv7yFVdj5A/zAk52w/SUAGQ0fUQlZEQPPx7gfasfk/UB7AwTJoQkAcGP6kmUxMQM0zK6B8z0NAko6AHHySOEA1cnG1R/Q6QE+lRDCAjkpAUzucfWB0TUCSy4Wo6TVNQDqB1AOlMCFAtKQ99NVyOUDxrTwIyagNQB5q3o2kEk1AoNUuXd5mUECDtgWxx6pHQF0GfVSGg0FAPr/0VyrNSkCZWY9YilkbQMrT3GeMRStAMKXikxTXSEBPfMNrwIRMQGdMNvxg1E5A/eOcrPcjFkAqmDqMRmVQQKu7wt08G0FA8MvNgGATO0DltvxYMtEBQFDQQn/oqkJAUAYlGN7iQkCqqShdtbMVQOtBiL7cawpAmu8olE4qQEAOlf079koYQL3Yw8nIKkhAGp+8I0AfNEC9nESdET4bQFdCwjhDeDRAT7xA85i8PEAexDGT7S0eQDQPvXxeFDBAhYUWCv23OEC2i6gQSBpGQIgtD08d409AtDEh1UnWO0BE9N3G32hPQBlunpUpGzRA1AAprhUySUAvCMcNgWtPQHw/y7XKD09AbzJxJJ3cRkC9hxY9PQomQL9fM3B1r09AelL6ugttTUARI3u18CpMQDz6k4UJv01AEggLrwOaPUA1bcVf7oRGQCbBKCTSHE1A21yqpGTrNUAxJhglinU4QLlpF7+gHj5A+CmszJFYN0Bd4ttG6sk1QCsC3oUAhAZAtAYUYDpnSkD+ztfaQgFIQOZztXaPjTRAxwh/xVTESUCe4GhuMyMSQGAi26kwlEtAz6e1yA4DQ0BvGgnyjp9IQPtm3b0NUDNAYMqhRfufO0CuHVTW4Pw7QI+VBmgtz0BAxgR13CSpN0Cisd4rziAsQM0AuJFnoMo/t2KvBx2CRkCrOE6yP90mQOd4uKOcJSRAFLO7mohsMUBaytD798s1QNOGBMg82CxAV3JPOetaOkAhDjW1ydZGQHkE35qRDBFAkUzeJcBmQEAf7zrO6+lFQOine7yQ5kFAQnybbKwhRkDNS8fe+BtGQN9L+7i8E0hAgeLrWtCqGkClv2Ux7+NGQJYOK4t7jENA7bco7mYnJUA/iJv8kCRQQKiEg0xgvkZA5FyUXGm8IUAzuriSRpgrQEOrrUDJwTlASCTcKtrEUEDQGnxzp344QIOHdOd07kpA6FkV4NCTPUDIfxBcgAgrQO1Ywyg8sERAROaHM8qxTEAe8J28QgESQG3zT4KqEENAS2P/Jf4AT0BxiRqOa2hQQJXAAG4ksUVA3WeYh4vTUEBOKjg1lAoxQFT+p8YoTzJAYGni3a0GRkB202vU0plPQEh/i+CNW0dAavL7ZZ+kQEAma/90nrsaQAGWHGmigE9AeNsZpAfQQkAMFA+C1YpPQHMg/ebYh05A2Y6UZctMRkBBJWB0XWE1QLWpp7oUXShAik5iNo6eQEBNMQIh20v8P62E6fdm3jdAVFP/LNi9RUBRgCxxCvVAQPNDhaVn8wlAQiR6JPbuTUBrB4B/QmZBQJhcS208uClABjo0d3G8MkCEMgrRPAUuQD2f7ZVczktARagHdodWE0At8QZ7X4ZFQEZImV8+4SRAD9V0YABkL0B1pDYpNLhGQPS0R9lhLR5Azg85S+F/DUAFmG7TH5FQQAookN2PD0tAaenBX/L/SkDcewS+olI/QOkjMwhsvjhAVl8O25QLOEA5FsR/JmtQQHfbprOKbD5AjYg+g2X1LkCyxgJio+pDQKE20kFEvURA2JMhR2+FTkBRbnz90a9JQJSiD5d7Zz5AMmJj0QYyN0Ab10a5VdMQQHGxzJWLXCFAt2XdmYk1S0DRdvvFBUVOQBx4Dg8e/FBAShd4OgIwIkCKBq0T/OMlQPEM6vzfT0dAO3KZR1yqNUDfKpdAvhtDQLt21E2zu0FA8z9g3iZYTEDcLxickUZBQP5KsxRzoE1AUz/n3HW3QUCEhXeTEQ9DQAD2aU6EAdA/aqfImXEXNkCx31SiiL5QQJe3bjkcoUNAaSWk3HZaUEBCe5nAQ24yQF0ZQaylkkpAJx/n+qYlREDTSnOzDR9FQA==",
          "dtype": "f8"
         },
         "ybins": {
          "end": 68,
          "size": 8.5,
          "start": 0
         }
        }
       ],
       "layout": {
        "font": {
         "color": "#90caf9",
         "family": "Helvetica Neue, Arial, sans-serif"
        },
        "height": 600,
        "hoverlabel": {
         "bgcolor": "rgba(255,255,255,0.15)",
         "bordercolor": "rgba(144,202,249,0.6)",
         "font": {
          "color": "white",
          "family": "Helvetica Neue, Arial, sans-serif",
          "size": 16
         }
        },
        "margin": {
         "b": 0,
         "l": 0,
         "r": 0,
         "t": 0
        },
        "paper_bgcolor": "#0f1e2e",
        "plot_bgcolor": "#0f1e2e",
        "shapes": [
         {
          "line": {
           "color": "#90caf9"
          },
          "type": "rect",
          "x0": 0,
          "x1": 105,
          "y0": 0,
          "y1": 68
         },
         {
          "line": {
           "color": "#90caf9"
          },
          "type": "rect",
          "x0": 52.5,
          "x1": 52.5,
          "y0": 68,
          "y1": 0
         },
         {
          "line": {
           "color": "#90caf9"
          },
          "type": "rect",
          "x0": 0,
          "x1": 15.75,
          "y0": 52.699999999999996,
          "y1": 15.299999999999999
         },
         {
          "line": {
           "color": "#90caf9"
          },
          "type": "rect",
          "x0": 89.25,
          "x1": 105,
          "y0": 52.699999999999996,
          "y1": 15.299999999999999
         },
         {
          "line": {
           "color": "#90caf9"
          },
          "type": "rect",
          "x0": 0,
          "x1": 5.25,
          "y0": 42.5,
          "y1": 25.5
         },
         {
          "line": {
           "color": "#90caf9"
          },
          "type": "rect",
          "x0": 99.75,
          "x1": 105,
          "y0": 42.5,
          "y1": 25.5
         },
         {
          "line": {
           "color": "#90caf9"
          },
          "type": "circle",
          "x0": 44.49375,
          "x1": 60.50625,
          "y0": 25.99375,
          "y1": 42.00625
         }
        ],
        "showlegend": false,
        "template": {
         "data": {
          "bar": [
           {
            "error_x": {
             "color": "#2a3f5f"
            },
            "error_y": {
             "color": "#2a3f5f"
            },
            "marker": {
             "line": {
              "color": "#E5ECF6",
              "width": 0.5
             },
             "pattern": {
              "fillmode": "overlay",
              "size": 10,
              "solidity": 0.2
             }
            },
            "type": "bar"
           }
          ],
          "barpolar": [
           {
            "marker": {
             "line": {
              "color": "#E5ECF6",
              "width": 0.5
             },
             "pattern": {
              "fillmode": "overlay",
              "size": 10,
              "solidity": 0.2
             }
            },
            "type": "barpolar"
           }
          ],
          "carpet": [
           {
            "aaxis": {
             "endlinecolor": "#2a3f5f",
             "gridcolor": "white",
             "linecolor": "white",
             "minorgridcolor": "white",
             "startlinecolor": "#2a3f5f"
            },
            "baxis": {
             "endlinecolor": "#2a3f5f",
             "gridcolor": "white",
             "linecolor": "white",
             "minorgridcolor": "white",
             "startlinecolor": "#2a3f5f"
            },
            "type": "carpet"
           }
          ],
          "choropleth": [
           {
            "colorbar": {
             "outlinewidth": 0,
             "ticks": ""
            },
            "type": "choropleth"
           }
          ],
          "contour": [
           {
            "colorbar": {
             "outlinewidth": 0,
             "ticks": ""
            },
            "colorscale": [
             [
              0,
              "#0d0887"
             ],
             [
              0.1111111111111111,
              "#46039f"
             ],
             [
              0.2222222222222222,
              "#7201a8"
             ],
             [
              0.3333333333333333,
              "#9c179e"
             ],
             [
              0.4444444444444444,
              "#bd3786"
             ],
             [
              0.5555555555555556,
              "#d8576b"
             ],
             [
              0.6666666666666666,
              "#ed7953"
             ],
             [
              0.7777777777777778,
              "#fb9f3a"
             ],
             [
              0.8888888888888888,
              "#fdca26"
             ],
             [
              1,
              "#f0f921"
             ]
            ],
            "type": "contour"
           }
          ],
          "contourcarpet": [
           {
            "colorbar": {
             "outlinewidth": 0,
             "ticks": ""
            },
            "type": "contourcarpet"
           }
          ],
          "heatmap": [
           {
            "colorbar": {
             "outlinewidth": 0,
             "ticks": ""
            },
            "colorscale": [
             [
              0,
              "#0d0887"
             ],
             [
              0.1111111111111111,
              "#46039f"
             ],
             [
              0.2222222222222222,
              "#7201a8"
             ],
             [
              0.3333333333333333,
              "#9c179e"
             ],
             [
              0.4444444444444444,
              "#bd3786"
             ],
             [
              0.5555555555555556,
              "#d8576b"
             ],
             [
              0.6666666666666666,
              "#ed7953"
             ],
             [
              0.7777777777777778,
              "#fb9f3a"
             ],
             [
              0.8888888888888888,
              "#fdca26"
             ],
             [
              1,
              "#f0f921"
             ]
            ],
            "type": "heatmap"
           }
          ],
          "histogram": [
           {
            "marker": {
             "pattern": {
              "fillmode": "overlay",
              "size": 10,
              "solidity": 0.2
             }
            },
            "type": "histogram"
           }
          ],
          "histogram2d": [
           {
            "colorbar": {
             "outlinewidth": 0,
             "ticks": ""
            },
            "colorscale": [
             [
              0,
              "#0d0887"
             ],
             [
              0.1111111111111111,
              "#46039f"
             ],
             [
              0.2222222222222222,
              "#7201a8"
             ],
             [
              0.3333333333333333,
              "#9c179e"
             ],
             [
              0.4444444444444444,
              "#bd3786"
             ],
             [
              0.5555555555555556,
              "#d8576b"
             ],
             [
              0.6666666666666666,
              "#ed7953"
             ],
             [
              0.7777777777777778,
              "#fb9f3a"
             ],
             [
              0.8888888888888888,
              "#fdca26"
             ],
             [
              1,
              "#f0f921"
             ]
            ],
            "type": "histogram2d"
           }
          ],
          "histogram2dcontour": [
           {
            "colorbar": {
             "outlinewidth": 0,
             "ticks": ""
            },
            "colorscale": [
             [
              0,
              "#0d0887"
             ],
             [
              0.1111111111111111,
              "#46039f"
             ],
             [
              0.2222222222222222,
              "#7201a8"
             ],
             [
              0.3333333333333333,
              "#9c179e"
             ],
             [
              0.4444444444444444,
              "#bd3786"
             ],
             [
              0.5555555555555556,
              "#d8576b"
             ],
             [
              0.6666666666666666,
              "#ed7953"
             ],
             [
              0.7777777777777778,
              "#fb9f3a"
             ],
             [
              0.8888888888888888,
              "#fdca26"
             ],
             [
              1,
              "#f0f921"
             ]
            ],
            "type": "histogram2dcontour"
           }
          ],
          "mesh3d": [
           {
            "colorbar": {
             "outlinewidth": 0,
             "ticks": ""
            },
            "type": "mesh3d"
           }
          ],
          "parcoords": [
           {
            "line": {
             "colorbar": {
              "outlinewidth": 0,
              "ticks": ""
             }
            },
            "type": "parcoords"
           }
          ],
          "pie": [
           {
            "automargin": true,
            "type": "pie"
           }
          ],
          "scatter": [
           {
            "fillpattern": {
             "fillmode": "overlay",
             "size": 10,
             "solidity": 0.2
            },
            "type": "scatter"
           }
          ],
          "scatter3d": [
           {
            "line": {
             "colorbar": {
              "outlinewidth": 0,
              "ticks": ""
             }
            },
            "marker": {
             "colorbar": {
              "outlinewidth": 0,
              "ticks": ""
             }
            },
            "type": "scatter3d"
           }
          ],
          "scattercarpet": [
           {
            "marker": {
             "colorbar": {
              "outlinewidth": 0,
              "ticks": ""
             }
            },
            "type": "scattercarpet"
           }
          ],
          "scattergeo": [
           {
            "marker": {
             "colorbar": {
              "outlinewidth": 0,
              "ticks": ""
             }
            },
            "type": "scattergeo"
           }
          ],
          "scattergl": [
           {
            "marker": {
             "colorbar": {
              "outlinewidth": 0,
              "ticks": ""
             }
            },
            "type": "scattergl"
           }
          ],
          "scattermap": [
           {
            "marker": {
             "colorbar": {
              "outlinewidth": 0,
              "ticks": ""
             }
            },
            "type": "scattermap"
           }
          ],
          "scattermapbox": [
           {
            "marker": {
             "colorbar": {
              "outlinewidth": 0,
              "ticks": ""
             }
            },
            "type": "scattermapbox"
           }
          ],
          "scatterpolar": [
           {
            "marker": {
             "colorbar": {
              "outlinewidth": 0,
              "ticks": ""
             }
            },
            "type": "scatterpolar"
           }
          ],
          "scatterpolargl": [
           {
            "marker": {
             "colorbar": {
              "outlinewidth": 0,
              "ticks": ""
             }
            },
            "type": "scatterpolargl"
           }
          ],
          "scatterternary": [
           {
            "marker": {
             "colorbar": {
              "outlinewidth": 0,
              "ticks": ""
             }
            },
            "type": "scatterternary"
           }
          ],
          "surface": [
           {
            "colorbar": {
             "outlinewidth": 0,
             "ticks": ""
            },
            "colorscale": [
             [
              0,
              "#0d0887"
             ],
             [
              0.1111111111111111,
              "#46039f"
             ],
             [
              0.2222222222222222,
              "#7201a8"
             ],
             [
              0.3333333333333333,
              "#9c179e"
             ],
             [
              0.4444444444444444,
              "#bd3786"
             ],
             [
              0.5555555555555556,
              "#d8576b"
             ],
             [
              0.6666666666666666,
              "#ed7953"
             ],
             [
              0.7777777777777778,
              "#fb9f3a"
             ],
             [
              0.8888888888888888,
              "#fdca26"
             ],
             [
              1,
              "#f0f921"
             ]
            ],
            "type": "surface"
           }
          ],
          "table": [
           {
            "cells": {
             "fill": {
              "color": "#EBF0F8"
             },
             "line": {
              "color": "white"
             }
            },
            "header": {
             "fill": {
              "color": "#C8D4E3"
             },
             "line": {
              "color": "white"
             }
            },
            "type": "table"
           }
          ]
         },
         "layout": {
          "annotationdefaults": {
           "arrowcolor": "#2a3f5f",
           "arrowhead": 0,
           "arrowwidth": 1
          },
          "autotypenumbers": "strict",
          "coloraxis": {
           "colorbar": {
            "outlinewidth": 0,
            "ticks": ""
           }
          },
          "colorscale": {
           "diverging": [
            [
             0,
             "#8e0152"
            ],
            [
             0.1,
             "#c51b7d"
            ],
            [
             0.2,
             "#de77ae"
            ],
            [
             0.3,
             "#f1b6da"
            ],
            [
             0.4,
             "#fde0ef"
            ],
            [
             0.5,
             "#f7f7f7"
            ],
            [
             0.6,
             "#e6f5d0"
            ],
            [
             0.7,
             "#b8e186"
            ],
            [
             0.8,
             "#7fbc41"
            ],
            [
             0.9,
             "#4d9221"
            ],
            [
             1,
             "#276419"
            ]
           ],
           "sequential": [
            [
             0,
             "#0d0887"
            ],
            [
             0.1111111111111111,
             "#46039f"
            ],
            [
             0.2222222222222222,
             "#7201a8"
            ],
            [
             0.3333333333333333,
             "#9c179e"
            ],
            [
             0.4444444444444444,
             "#bd3786"
            ],
            [
             0.5555555555555556,
             "#d8576b"
            ],
            [
             0.6666666666666666,
             "#ed7953"
            ],
            [
             0.7777777777777778,
             "#fb9f3a"
            ],
            [
             0.8888888888888888,
             "#fdca26"
            ],
            [
             1,
             "#f0f921"
            ]
           ],
           "sequentialminus": [
            [
             0,
             "#0d0887"
            ],
            [
             0.1111111111111111,
             "#46039f"
            ],
            [
             0.2222222222222222,
             "#7201a8"
            ],
            [
             0.3333333333333333,
             "#9c179e"
            ],
            [
             0.4444444444444444,
             "#bd3786"
            ],
            [
             0.5555555555555556,
             "#d8576b"
            ],
            [
             0.6666666666666666,
             "#ed7953"
            ],
            [
             0.7777777777777778,
             "#fb9f3a"
            ],
            [
             0.8888888888888888,
             "#fdca26"
            ],
            [
             1,
             "#f0f921"
            ]
           ]
          },
          "colorway": [
           "#636efa",
           "#EF553B",
           "#00cc96",
           "#ab63fa",
           "#FFA15A",
           "#19d3f3",
           "#FF6692",
           "#B6E880",
           "#FF97FF",
           "#FECB52"
          ],
          "font": {
           "color": "#2a3f5f"
          },
          "geo": {
           "bgcolor": "white",
           "lakecolor": "white",
           "landcolor": "#E5ECF6",
           "showlakes": true,
           "showland": true,
           "subunitcolor": "white"
          },
          "hoverlabel": {
           "align": "left"
          },
          "hovermode": "closest",
          "mapbox": {
           "style": "light"
          },
          "paper_bgcolor": "white",
          "plot_bgcolor": "#E5ECF6",
          "polar": {
           "angularaxis": {
            "gridcolor": "white",
            "linecolor": "white",
            "ticks": ""
           },
           "bgcolor": "#E5ECF6",
           "radialaxis": {
            "gridcolor": "white",
            "linecolor": "white",
            "ticks": ""
           }
          },
          "scene": {
           "xaxis": {
            "backgroundcolor": "#E5ECF6",
            "gridcolor": "white",
            "gridwidth": 2,
            "linecolor": "white",
            "showbackground": true,
            "ticks": "",
            "zerolinecolor": "white"
           },
           "yaxis": {
            "backgroundcolor": "#E5ECF6",
            "gridcolor": "white",
            "gridwidth": 2,
            "linecolor": "white",
            "showbackground": true,
            "ticks": "",
            "zerolinecolor": "white"
           },
           "zaxis": {
            "backgroundcolor": "#E5ECF6",
            "gridcolor": "white",
            "gridwidth": 2,
            "linecolor": "white",
            "showbackground": true,
            "ticks": "",
            "zerolinecolor": "white"
           }
          },
          "shapedefaults": {
           "line": {
            "color": "#2a3f5f"
           }
          },
          "ternary": {
           "aaxis": {
            "gridcolor": "white",
            "linecolor": "white",
            "ticks": ""
           },
           "baxis": {
            "gridcolor": "white",
            "linecolor": "white",
            "ticks": ""
           },
           "bgcolor": "#E5ECF6",
           "caxis": {
            "gridcolor": "white",
            "linecolor": "white",
            "ticks": ""
           }
          },
          "title": {
           "x": 0.05
          },
          "xaxis": {
           "automargin": true,
           "gridcolor": "white",
           "linecolor": "white",
           "ticks": "",
           "title": {
            "standoff": 15
           },
           "zerolinecolor": "white",
           "zerolinewidth": 2
          },
          "yaxis": {
           "automargin": true,
           "gridcolor": "white",
           "linecolor": "white",
           "ticks": "",
           "title": {
            "standoff": 15
           },
           "zerolinecolor": "white",
           "zerolinewidth": 2
          }
         }
        },
        "title": {},
        "width": 800,
        "xaxis": {
         "constrain": "domain",
         "fixedrange": true,
         "range": [
          -5,
          110
         ],
         "scaleanchor": "y",
         "showgrid": false,
         "showticklabels": false,
         "visible": false,
         "zeroline": false
        },
        "yaxis": {
         "constrain": "domain",
         "fixedrange": true,
         "range": [
          -5,
          73
         ],
         "showgrid": false,
         "showticklabels": false,
         "visible": false,
         "zeroline": false
        }
       }
      }
     },
     "metadata": {},
     "output_type": "display_data"
    }
   ],
   "source": [
    "df2 = pd.DataFrame({\n",
    "    'x': np.random.uniform(0, 120, 500),\n",
    "    'y': np.random.uniform(0, 80, 500)\n",
    "})\n",
    "\n",
    "# Create the pitch and plot the heatmap\n",
    "pitch = pb.viz.Pitch(theme=\"night\")\n",
    "pitch.plot_heatmap(df2, x='x', y='y')\n",
    "pitch.show()"
   ]
  },
  {
   "cell_type": "code",
   "execution_count": null,
   "id": "55eef370",
   "metadata": {},
   "outputs": [],
   "source": []
  },
  {
   "cell_type": "code",
   "execution_count": 9,
   "id": "bf6aba83",
   "metadata": {},
   "outputs": [
    {
     "data": {
      "application/vnd.plotly.v1+json": {
       "config": {
        "displaylogo": false,
        "plotlyServerURL": "https://plot.ly"
       },
       "data": [
        {
         "hoverinfo": "skip",
         "line": {
          "color": "#90caf9"
         },
         "mode": "lines",
         "showlegend": false,
         "type": "scatter",
         "x": {
          "bdata": "AAAAAACAL0BbZ1JhbOovQBMFJym4KDBA1oC41HVaMEBu09KrX4owQHZ6+rhmuDBAHtxunXzkMECDz6aVkw4xQFyvnH2eNjFAfp/o1JBcMUBbvafCXoAxQHsDLxn9oTFAYLiIWWHBMUDVUbu2gd4xQMrG2BhV+TFAJlvVH9MRMkC0AiUm9CcyQBuKHkOxOzJAIscjTQRNMkDQI47b51syQK3qXkhXaDJAG82ysU5yMkDcL/j6ynkyQNfc583JfjJAfcw/m0mBMkB9zD+bSYEyQNfc583JfjJA3C/4+sp5MkAbzbKxTnIyQK3qXkhXaDJA0COO2+dbMkAixyNNBE0yQBuKHkOxOzJAtAIlJvQnMkAmW9Uf0xEyQMrG2BhV+TFA1VG7toHeMUBguIhZYcExQHsDLxn9oTFAW72nwl6AMUB/n+jUkFwxQFyvnH2eNjFAhM+mlZMOMUAe3G6dfOQwQHd6+rhmuDBAbtPSq1+KMEDWgLjUdVowQBQFJym4KDBAW2dSYWzqL0AAAAAAAIAvQA==",
          "dtype": "f8"
         },
         "y": {
          "bdata": "MvWTMpP0O0CWUxJkciQ8QFghYcElVjxA9jktxp2JPECXEtFgyr48QFAJWfea9TxAo0KybP4tPUDadgIm42c9QFkEJxA3oz1Ad49ZpeffPUDzbPjy4R0+QMEIcZ8SXT5AbnBK8GWdPkA5Hk7Qx94+QKAYzdUjIT9ANnH/SGVkP0ByJXwqd6g/QHFcxzlE7T9A23r6fVsZQEBVqy7hXDxAQGIvsVibX0BAsjKh4wuDQED1j3txo6ZAQHclj+VWykBAJ/d0GhvuQEDZCIvl5BFBQInacBqpNUFAC3CEjlxZQUBOzV4c9HxBQJ7QTqdkoEFAq1TRHqPDQUAlhQWCpOZBQMdRHONdCUJAR+3BasQrQkBlR4BbzU1CQLBzGRVub0JA4/DYF5yQQkDJx9oHTbFCQKB7R7B20UJAhsmDBg/xQkBEOFMtDBBDQNR97HdkLkNAk8T+bA5MQ0Cv3qbJAGlDQFh7U4QyhUNAtHaXz5qgQ0AFY+kcMbtDQFRvTx/t1ENANdb2zcbtQ0BnBbZmtgVEQA==",
          "dtype": "f8"
         }
        },
        {
         "hoverinfo": "skip",
         "line": {
          "color": "#90caf9"
         },
         "mode": "lines",
         "showlegend": false,
         "type": "scatter",
         "x": {
          "bdata": "AAAAAABQVkAVs9VzskJWQLs+tvXRNVZAy9/RimIpVkAkSwsVaB1WQGJhwVHmEVZA+Uik2OAGVkAfTJYaW/xVQCnUmGBY8lVAINjFytvoVUCpEFZP6N9VQCE/tLmA11VA6NGdqafPVUCLK1GSX8hVQE7OybmqwVVANqkKOIu7VUBTv3b2ArZVQHldOK8TsVVAOA637L6sVUAMdxwJBqlVQFVF6C3qpVVAuUyTU2yjVUAJ9EFBjaFVQMoIhoxNoFVA4Qwwma2fVUDhDDCZrZ9VQMoIhoxNoFVACfRBQY2hVUC5TJNTbKNVQFVF6C3qpVVADHccCQapVUA4DrfsvqxVQHldOK8TsVVAU7929gK2VUA2qQo4i7tVQE7OybmqwVVAiytRkl/IVUDo0Z2pp89VQCE/tLmA11VAqRBWT+jfVUAg2MXK2+hVQCnUmGBY8lVAH0yWGlv8VUD4SKTY4AZWQGJhwVHmEVZAJUsLFWgdVkDK39GKYilWQLs+tvXRNVZAFbPVc7JCVkAAAAAAAFBWQA==",
          "dtype": "f8"
         },
         "y": {
          "bdata": "ZwW2ZrYFREA11vbNxu1DQFRvTx/t1ENABWPpHDG7Q0C0dpfPmqBDQFh7U4QyhUNAr96myQBpQ0CTxP5sDkxDQNR97HdkLkNARDhTLQwQQ0CHyYMGD/FCQJ97R7B20UJAycfaB02xQkDk8NgXnJBCQLBzGRVub0JAZUeAW81NQkBH7cFqxCtCQMhRHONdCUJAJYUFgqTmQUCrVNEeo8NBQJ7QTqdkoEFATs1eHPR8QUALcISOXFlBQInacBqpNUFA2QiL5eQRQUAn93QaG+5AQHYlj+VWykBA9o97caOmQECyMqHjC4NAQGIvsVibX0BAVasu4Vw8QEDbevp9WxlAQHJcxzlE7T9AcyV8KneoP0A1cf9IZWQ/QKAYzdUjIT9AOR5O0MfePkBucErwZZ0+QMIIcZ8SXT5A82z48uEdPkB3j1ml5989QFkEJxA3oz1A2nYCJuNnPUCkQrJs/i09QFAJWfea9TxAlhLRYMq+PED2OS3GnYk8QFghYcElVjxAllMSZHIkPEAz9ZMyk/Q7QA==",
          "dtype": "f8"
         }
        },
        {
         "hoverinfo": "skip",
         "marker": {
          "color": "#90caf9",
          "size": 8
         },
         "mode": "markers",
         "showlegend": false,
         "type": "scatter",
         "x": [
          10.5
         ],
         "y": [
          34
         ]
        },
        {
         "hoverinfo": "skip",
         "marker": {
          "color": "#90caf9",
          "size": 8
         },
         "mode": "markers",
         "showlegend": false,
         "type": "scatter",
         "x": [
          94.5
         ],
         "y": [
          34
         ]
        },
        {
         "hoverinfo": "skip",
         "marker": {
          "color": "#90caf9",
          "size": 8
         },
         "mode": "markers",
         "showlegend": false,
         "type": "scatter",
         "x": [
          52.5
         ],
         "y": [
          34
         ]
        },
        {
         "hoverinfo": "text",
         "hovertext": [
          "Alice (30, 40)",
          "Bob (50, 60)",
          "Carol (70, 20)"
         ],
         "marker": {
          "color": "#ffca28",
          "size": 10
         },
         "mode": "markers",
         "showlegend": false,
         "type": "scatter",
         "x": {
          "bdata": "AAAAAABAOkAAAAAAAOBFQAAAAAAAoE5A",
          "dtype": "f8"
         },
         "y": {
          "bdata": "AAAAAAAAQUAAAAAAAAAxQAAAAAAAgElA",
          "dtype": "f8"
         }
        }
       ],
       "layout": {
        "annotations": [
         {
          "arrowcolor": "#ffca28",
          "arrowhead": 2,
          "arrowsize": 1,
          "arrowwidth": 2,
          "ax": 26.25,
          "axref": "x",
          "ay": 34,
          "ayref": "y",
          "opacity": 1,
          "showarrow": true,
          "x": 39.375,
          "xref": "x",
          "y": 25.5,
          "yref": "y"
         },
         {
          "arrowcolor": "#ffca28",
          "arrowhead": 2,
          "arrowsize": 1,
          "arrowwidth": 2,
          "ax": 43.75,
          "axref": "x",
          "ay": 17,
          "ayref": "y",
          "opacity": 1,
          "showarrow": true,
          "x": 56.875,
          "xref": "x",
          "y": 8.5,
          "yref": "y"
         },
         {
          "arrowcolor": "#ffca28",
          "arrowhead": 2,
          "arrowsize": 1,
          "arrowwidth": 2,
          "ax": 61.25,
          "axref": "x",
          "ay": 51,
          "ayref": "y",
          "opacity": 1,
          "showarrow": true,
          "x": 70,
          "xref": "x",
          "y": 42.5,
          "yref": "y"
         }
        ],
        "font": {
         "color": "#90caf9",
         "family": "Helvetica Neue, Arial, sans-serif"
        },
        "height": 600,
        "hoverlabel": {
         "bgcolor": "rgba(255,255,255,0.15)",
         "bordercolor": "rgba(144,202,249,0.6)",
         "font": {
          "color": "white",
          "family": "Helvetica Neue, Arial, sans-serif",
          "size": 16
         }
        },
        "margin": {
         "b": 0,
         "l": 0,
         "r": 0,
         "t": 0
        },
        "paper_bgcolor": "#0f1e2e",
        "plot_bgcolor": "#0f1e2e",
        "shapes": [
         {
          "line": {
           "color": "#90caf9"
          },
          "type": "rect",
          "x0": 0,
          "x1": 105,
          "y0": 0,
          "y1": 68
         },
         {
          "line": {
           "color": "#90caf9"
          },
          "type": "rect",
          "x0": 52.5,
          "x1": 52.5,
          "y0": 68,
          "y1": 0
         },
         {
          "line": {
           "color": "#90caf9"
          },
          "type": "rect",
          "x0": 0,
          "x1": 15.75,
          "y0": 52.699999999999996,
          "y1": 15.299999999999999
         },
         {
          "line": {
           "color": "#90caf9"
          },
          "type": "rect",
          "x0": 89.25,
          "x1": 105,
          "y0": 52.699999999999996,
          "y1": 15.299999999999999
         },
         {
          "line": {
           "color": "#90caf9"
          },
          "type": "rect",
          "x0": 0,
          "x1": 5.25,
          "y0": 42.5,
          "y1": 25.5
         },
         {
          "line": {
           "color": "#90caf9"
          },
          "type": "rect",
          "x0": 99.75,
          "x1": 105,
          "y0": 42.5,
          "y1": 25.5
         },
         {
          "line": {
           "color": "#90caf9"
          },
          "type": "circle",
          "x0": 44.49375,
          "x1": 60.50625,
          "y0": 25.99375,
          "y1": 42.00625
         }
        ],
        "showlegend": false,
        "template": {
         "data": {
          "bar": [
           {
            "error_x": {
             "color": "#2a3f5f"
            },
            "error_y": {
             "color": "#2a3f5f"
            },
            "marker": {
             "line": {
              "color": "#E5ECF6",
              "width": 0.5
             },
             "pattern": {
              "fillmode": "overlay",
              "size": 10,
              "solidity": 0.2
             }
            },
            "type": "bar"
           }
          ],
          "barpolar": [
           {
            "marker": {
             "line": {
              "color": "#E5ECF6",
              "width": 0.5
             },
             "pattern": {
              "fillmode": "overlay",
              "size": 10,
              "solidity": 0.2
             }
            },
            "type": "barpolar"
           }
          ],
          "carpet": [
           {
            "aaxis": {
             "endlinecolor": "#2a3f5f",
             "gridcolor": "white",
             "linecolor": "white",
             "minorgridcolor": "white",
             "startlinecolor": "#2a3f5f"
            },
            "baxis": {
             "endlinecolor": "#2a3f5f",
             "gridcolor": "white",
             "linecolor": "white",
             "minorgridcolor": "white",
             "startlinecolor": "#2a3f5f"
            },
            "type": "carpet"
           }
          ],
          "choropleth": [
           {
            "colorbar": {
             "outlinewidth": 0,
             "ticks": ""
            },
            "type": "choropleth"
           }
          ],
          "contour": [
           {
            "colorbar": {
             "outlinewidth": 0,
             "ticks": ""
            },
            "colorscale": [
             [
              0,
              "#0d0887"
             ],
             [
              0.1111111111111111,
              "#46039f"
             ],
             [
              0.2222222222222222,
              "#7201a8"
             ],
             [
              0.3333333333333333,
              "#9c179e"
             ],
             [
              0.4444444444444444,
              "#bd3786"
             ],
             [
              0.5555555555555556,
              "#d8576b"
             ],
             [
              0.6666666666666666,
              "#ed7953"
             ],
             [
              0.7777777777777778,
              "#fb9f3a"
             ],
             [
              0.8888888888888888,
              "#fdca26"
             ],
             [
              1,
              "#f0f921"
             ]
            ],
            "type": "contour"
           }
          ],
          "contourcarpet": [
           {
            "colorbar": {
             "outlinewidth": 0,
             "ticks": ""
            },
            "type": "contourcarpet"
           }
          ],
          "heatmap": [
           {
            "colorbar": {
             "outlinewidth": 0,
             "ticks": ""
            },
            "colorscale": [
             [
              0,
              "#0d0887"
             ],
             [
              0.1111111111111111,
              "#46039f"
             ],
             [
              0.2222222222222222,
              "#7201a8"
             ],
             [
              0.3333333333333333,
              "#9c179e"
             ],
             [
              0.4444444444444444,
              "#bd3786"
             ],
             [
              0.5555555555555556,
              "#d8576b"
             ],
             [
              0.6666666666666666,
              "#ed7953"
             ],
             [
              0.7777777777777778,
              "#fb9f3a"
             ],
             [
              0.8888888888888888,
              "#fdca26"
             ],
             [
              1,
              "#f0f921"
             ]
            ],
            "type": "heatmap"
           }
          ],
          "histogram": [
           {
            "marker": {
             "pattern": {
              "fillmode": "overlay",
              "size": 10,
              "solidity": 0.2
             }
            },
            "type": "histogram"
           }
          ],
          "histogram2d": [
           {
            "colorbar": {
             "outlinewidth": 0,
             "ticks": ""
            },
            "colorscale": [
             [
              0,
              "#0d0887"
             ],
             [
              0.1111111111111111,
              "#46039f"
             ],
             [
              0.2222222222222222,
              "#7201a8"
             ],
             [
              0.3333333333333333,
              "#9c179e"
             ],
             [
              0.4444444444444444,
              "#bd3786"
             ],
             [
              0.5555555555555556,
              "#d8576b"
             ],
             [
              0.6666666666666666,
              "#ed7953"
             ],
             [
              0.7777777777777778,
              "#fb9f3a"
             ],
             [
              0.8888888888888888,
              "#fdca26"
             ],
             [
              1,
              "#f0f921"
             ]
            ],
            "type": "histogram2d"
           }
          ],
          "histogram2dcontour": [
           {
            "colorbar": {
             "outlinewidth": 0,
             "ticks": ""
            },
            "colorscale": [
             [
              0,
              "#0d0887"
             ],
             [
              0.1111111111111111,
              "#46039f"
             ],
             [
              0.2222222222222222,
              "#7201a8"
             ],
             [
              0.3333333333333333,
              "#9c179e"
             ],
             [
              0.4444444444444444,
              "#bd3786"
             ],
             [
              0.5555555555555556,
              "#d8576b"
             ],
             [
              0.6666666666666666,
              "#ed7953"
             ],
             [
              0.7777777777777778,
              "#fb9f3a"
             ],
             [
              0.8888888888888888,
              "#fdca26"
             ],
             [
              1,
              "#f0f921"
             ]
            ],
            "type": "histogram2dcontour"
           }
          ],
          "mesh3d": [
           {
            "colorbar": {
             "outlinewidth": 0,
             "ticks": ""
            },
            "type": "mesh3d"
           }
          ],
          "parcoords": [
           {
            "line": {
             "colorbar": {
              "outlinewidth": 0,
              "ticks": ""
             }
            },
            "type": "parcoords"
           }
          ],
          "pie": [
           {
            "automargin": true,
            "type": "pie"
           }
          ],
          "scatter": [
           {
            "fillpattern": {
             "fillmode": "overlay",
             "size": 10,
             "solidity": 0.2
            },
            "type": "scatter"
           }
          ],
          "scatter3d": [
           {
            "line": {
             "colorbar": {
              "outlinewidth": 0,
              "ticks": ""
             }
            },
            "marker": {
             "colorbar": {
              "outlinewidth": 0,
              "ticks": ""
             }
            },
            "type": "scatter3d"
           }
          ],
          "scattercarpet": [
           {
            "marker": {
             "colorbar": {
              "outlinewidth": 0,
              "ticks": ""
             }
            },
            "type": "scattercarpet"
           }
          ],
          "scattergeo": [
           {
            "marker": {
             "colorbar": {
              "outlinewidth": 0,
              "ticks": ""
             }
            },
            "type": "scattergeo"
           }
          ],
          "scattergl": [
           {
            "marker": {
             "colorbar": {
              "outlinewidth": 0,
              "ticks": ""
             }
            },
            "type": "scattergl"
           }
          ],
          "scattermap": [
           {
            "marker": {
             "colorbar": {
              "outlinewidth": 0,
              "ticks": ""
             }
            },
            "type": "scattermap"
           }
          ],
          "scattermapbox": [
           {
            "marker": {
             "colorbar": {
              "outlinewidth": 0,
              "ticks": ""
             }
            },
            "type": "scattermapbox"
           }
          ],
          "scatterpolar": [
           {
            "marker": {
             "colorbar": {
              "outlinewidth": 0,
              "ticks": ""
             }
            },
            "type": "scatterpolar"
           }
          ],
          "scatterpolargl": [
           {
            "marker": {
             "colorbar": {
              "outlinewidth": 0,
              "ticks": ""
             }
            },
            "type": "scatterpolargl"
           }
          ],
          "scatterternary": [
           {
            "marker": {
             "colorbar": {
              "outlinewidth": 0,
              "ticks": ""
             }
            },
            "type": "scatterternary"
           }
          ],
          "surface": [
           {
            "colorbar": {
             "outlinewidth": 0,
             "ticks": ""
            },
            "colorscale": [
             [
              0,
              "#0d0887"
             ],
             [
              0.1111111111111111,
              "#46039f"
             ],
             [
              0.2222222222222222,
              "#7201a8"
             ],
             [
              0.3333333333333333,
              "#9c179e"
             ],
             [
              0.4444444444444444,
              "#bd3786"
             ],
             [
              0.5555555555555556,
              "#d8576b"
             ],
             [
              0.6666666666666666,
              "#ed7953"
             ],
             [
              0.7777777777777778,
              "#fb9f3a"
             ],
             [
              0.8888888888888888,
              "#fdca26"
             ],
             [
              1,
              "#f0f921"
             ]
            ],
            "type": "surface"
           }
          ],
          "table": [
           {
            "cells": {
             "fill": {
              "color": "#EBF0F8"
             },
             "line": {
              "color": "white"
             }
            },
            "header": {
             "fill": {
              "color": "#C8D4E3"
             },
             "line": {
              "color": "white"
             }
            },
            "type": "table"
           }
          ]
         },
         "layout": {
          "annotationdefaults": {
           "arrowcolor": "#2a3f5f",
           "arrowhead": 0,
           "arrowwidth": 1
          },
          "autotypenumbers": "strict",
          "coloraxis": {
           "colorbar": {
            "outlinewidth": 0,
            "ticks": ""
           }
          },
          "colorscale": {
           "diverging": [
            [
             0,
             "#8e0152"
            ],
            [
             0.1,
             "#c51b7d"
            ],
            [
             0.2,
             "#de77ae"
            ],
            [
             0.3,
             "#f1b6da"
            ],
            [
             0.4,
             "#fde0ef"
            ],
            [
             0.5,
             "#f7f7f7"
            ],
            [
             0.6,
             "#e6f5d0"
            ],
            [
             0.7,
             "#b8e186"
            ],
            [
             0.8,
             "#7fbc41"
            ],
            [
             0.9,
             "#4d9221"
            ],
            [
             1,
             "#276419"
            ]
           ],
           "sequential": [
            [
             0,
             "#0d0887"
            ],
            [
             0.1111111111111111,
             "#46039f"
            ],
            [
             0.2222222222222222,
             "#7201a8"
            ],
            [
             0.3333333333333333,
             "#9c179e"
            ],
            [
             0.4444444444444444,
             "#bd3786"
            ],
            [
             0.5555555555555556,
             "#d8576b"
            ],
            [
             0.6666666666666666,
             "#ed7953"
            ],
            [
             0.7777777777777778,
             "#fb9f3a"
            ],
            [
             0.8888888888888888,
             "#fdca26"
            ],
            [
             1,
             "#f0f921"
            ]
           ],
           "sequentialminus": [
            [
             0,
             "#0d0887"
            ],
            [
             0.1111111111111111,
             "#46039f"
            ],
            [
             0.2222222222222222,
             "#7201a8"
            ],
            [
             0.3333333333333333,
             "#9c179e"
            ],
            [
             0.4444444444444444,
             "#bd3786"
            ],
            [
             0.5555555555555556,
             "#d8576b"
            ],
            [
             0.6666666666666666,
             "#ed7953"
            ],
            [
             0.7777777777777778,
             "#fb9f3a"
            ],
            [
             0.8888888888888888,
             "#fdca26"
            ],
            [
             1,
             "#f0f921"
            ]
           ]
          },
          "colorway": [
           "#636efa",
           "#EF553B",
           "#00cc96",
           "#ab63fa",
           "#FFA15A",
           "#19d3f3",
           "#FF6692",
           "#B6E880",
           "#FF97FF",
           "#FECB52"
          ],
          "font": {
           "color": "#2a3f5f"
          },
          "geo": {
           "bgcolor": "white",
           "lakecolor": "white",
           "landcolor": "#E5ECF6",
           "showlakes": true,
           "showland": true,
           "subunitcolor": "white"
          },
          "hoverlabel": {
           "align": "left"
          },
          "hovermode": "closest",
          "mapbox": {
           "style": "light"
          },
          "paper_bgcolor": "white",
          "plot_bgcolor": "#E5ECF6",
          "polar": {
           "angularaxis": {
            "gridcolor": "white",
            "linecolor": "white",
            "ticks": ""
           },
           "bgcolor": "#E5ECF6",
           "radialaxis": {
            "gridcolor": "white",
            "linecolor": "white",
            "ticks": ""
           }
          },
          "scene": {
           "xaxis": {
            "backgroundcolor": "#E5ECF6",
            "gridcolor": "white",
            "gridwidth": 2,
            "linecolor": "white",
            "showbackground": true,
            "ticks": "",
            "zerolinecolor": "white"
           },
           "yaxis": {
            "backgroundcolor": "#E5ECF6",
            "gridcolor": "white",
            "gridwidth": 2,
            "linecolor": "white",
            "showbackground": true,
            "ticks": "",
            "zerolinecolor": "white"
           },
           "zaxis": {
            "backgroundcolor": "#E5ECF6",
            "gridcolor": "white",
            "gridwidth": 2,
            "linecolor": "white",
            "showbackground": true,
            "ticks": "",
            "zerolinecolor": "white"
           }
          },
          "shapedefaults": {
           "line": {
            "color": "#2a3f5f"
           }
          },
          "ternary": {
           "aaxis": {
            "gridcolor": "white",
            "linecolor": "white",
            "ticks": ""
           },
           "baxis": {
            "gridcolor": "white",
            "linecolor": "white",
            "ticks": ""
           },
           "bgcolor": "#E5ECF6",
           "caxis": {
            "gridcolor": "white",
            "linecolor": "white",
            "ticks": ""
           }
          },
          "title": {
           "x": 0.05
          },
          "xaxis": {
           "automargin": true,
           "gridcolor": "white",
           "linecolor": "white",
           "ticks": "",
           "title": {
            "standoff": 15
           },
           "zerolinecolor": "white",
           "zerolinewidth": 2
          },
          "yaxis": {
           "automargin": true,
           "gridcolor": "white",
           "linecolor": "white",
           "ticks": "",
           "title": {
            "standoff": 15
           },
           "zerolinecolor": "white",
           "zerolinewidth": 2
          }
         }
        },
        "title": {},
        "width": 800,
        "xaxis": {
         "constrain": "domain",
         "fixedrange": true,
         "range": [
          -5,
          110
         ],
         "scaleanchor": "y",
         "showgrid": false,
         "showticklabels": false,
         "visible": false,
         "zeroline": false
        },
        "yaxis": {
         "constrain": "domain",
         "fixedrange": true,
         "range": [
          -5,
          73
         ],
         "showgrid": false,
         "showticklabels": false,
         "visible": false,
         "zeroline": false
        }
       }
      }
     },
     "metadata": {},
     "output_type": "display_data"
    }
   ],
   "source": [
    "data = pd.DataFrame({\n",
    "    'x': [30, 50, 70],\n",
    "    'y': [40, 60, 20],\n",
    "    'x2': [45, 65, 80],\n",
    "    'y2': [50, 70, 30],\n",
    "    'player': ['Alice', 'Bob', 'Carol']\n",
    "})\n",
    "\n",
    "# Create a pitch with a dark theme and Opta dimensions\n",
    "pitch = pb.viz.Pitch(theme=\"night\")\n",
    "\n",
    "# Plot the passes as arrows\n",
    "pitch.plot_arrows(\n",
    "    data, x='x', y='y', x_end='x2', y_end='y2'\n",
    ")\n",
    "\n",
    "# Optional: plot player positions at the start of the arrows\n",
    "pitch.plot_scatter(data, x='x', y='y', hover='player')\n",
    "\n",
    "# Show the pitch\n",
    "pitch.show()\n"
   ]
  },
  {
   "cell_type": "code",
   "execution_count": null,
   "id": "72587f76",
   "metadata": {},
   "outputs": [],
   "source": []
  },
  {
   "cell_type": "code",
   "execution_count": 5,
   "id": "01328c30",
   "metadata": {},
   "outputs": [
    {
     "data": {
      "application/vnd.plotly.v1+json": {
       "config": {
        "displaylogo": false,
        "plotlyServerURL": "https://plot.ly"
       },
       "data": [
        {
         "hoverinfo": "skip",
         "line": {
          "color": "#ffffff"
         },
         "mode": "lines",
         "showlegend": false,
         "type": "scatter",
         "x": {
          "bdata": "zczMzMzMMECd15dtpwwxQH5syJd2SjFAzs1D/yaGMUAeZGMBpr8xQI4sxqrh9jFAi27rvMgrMkAE+ZSzSl4yQNY478lXjjJAMox9/+C7MkCgSckc2OYyQC0E0rcvDzNADao9ONs0M0AAL0fbzlczQCWIarf/dzNAx9PMv2OVM0DYnF/H8a8zQFQ/voOhxzNAj4jEj2vcM0CUxN1tSe4zQAOAC4o1/TNAh1yjOysJNECibMPGJhI0QJyifF0lGDRAY/WyICUbNEBj9bIgJRs0QJyifF0lGDRAomzDxiYSNECHXKM7Kwk0QAOAC4o1/TNAlMTdbUnuM0CQiMSPa9wzQFQ/voOhxzNA2Jxfx/GvM0DH08y/Y5UzQCaIarf/dzNAAC9H285XM0ANqj042zQzQC4E0rcvDzNAoUnJHNjmMkAyjH3/4LsyQNY478lXjjJABPmUs0peMkCLbuu8yCsyQI4sxqrh9jFAHmRjAaa/MUDOzUP/JoYxQH5syJd2SjFAndeXbacMMUDNzMzMzMwwQA==",
          "dtype": "f8"
         },
         "y": {
          "bdata": "cFl+CRe/OkC0yuJEifg6QGqOdE4tNDtAwXhph/BxO0CCSWGnv7E7QPrXasKG8ztA9k88TzE3PECfjpwtqnw8QNGe+6zbwzxAwkU4k68MPUC9gpAjD1c9QE7XuiXjoj1AhCAm7RPwPUDevV1giT4+QCa3jwArjj5A2ocy8d/ePkDvLMj/jjA/QIgIvKsegz9A2yZZLnXWP0AANGtBPBVAQKgFOzeHP0BAoglbRA5qQECNecchxJRAQML53nmbv0BAyFuM7IbqQEA4pHMTeRVBQD4GIYZkQEFAc4Y43jtrQUBe9qS78ZVBQFf6xMh4wEFAAMyUvsPqQUCSbNNoxRRCQLz7IapwPkJAiOkbgLhnQkATvGYHkJBCQG0kuH/quEJAESHRT7vgQkC+72wJ9gdDQFmUIm2OLkNAob43bnhUQ0Af3WM2qHlDQJgwgikSnkNAsLgx6arBQ0AF2GFYZ+RDQAOUyp48BkRAP1tPLCAnRECfQ0u8B0dEQMu4xVjpZURAppqOXbuDREBI00B7dKBEQA==",
          "dtype": "f8"
         }
        },
        {
         "hoverinfo": "skip",
         "line": {
          "color": "#ffffff"
         },
         "mode": "lines",
         "showlegend": false,
         "type": "scatter",
         "x": {
          "bdata": "zczMzMwMVkAZCpok1vxVQOHkDVpi7VVAjQwvQHbeVUD5Jqd/FtBVQN10TpVHwlVAXSTF0A21VUC/wRpTbahVQMsxhA1qnFVA9JwgwAeRVUCYrc34SYZVQPV+CxI0fFVAfZXwMclyVUBANC5JDGpVQPddJRIAYlVADssMEKdaVUDKGCiOA1RVQCtwEJ8XTlVA3N0OHOVIVUDbjoikbURVQP8ffZ2yQFVA3igXMbU9VUDYJE9OdjtVQFnXoKj2OVVAp0LTtzY5VUCnQtO3NjlVQFnXoKj2OVVA2CRPTnY7VUDeKBcxtT1VQP8ffZ2yQFVA246IpG1EVUDc3Q4c5UhVQCtwEJ8XTlVAyhgojgNUVUAOywwQp1pVQPddJRIAYlVAQDQuSQxqVUB9lfAxyXJVQPV+CxI0fFVAmK3N+EmGVUD0nCDAB5FVQMsxhA1qnFVAv8EaU22oVUBeJMXQDbVVQN10TpVHwlVA+SanfxbQVUCNDC9Adt5VQOHkDVpi7VVAGQqaJNb8VUDNzMzMzAxWQA==",
          "dtype": "f8"
         },
         "y": {
          "bdata": "SdNAe3SgRECnmo5du4NEQMy4xVjpZURAoENLvAdHREBAW08sICdEQASUyp48BkRABdhhWGfkQ0CxuDHpqsFDQJgwgikSnkNAH91jNqh5Q0CivjdueFRDQFqUIm2OLkNAvu9sCfYHQ0ASIdFPu+BCQG4kuH/quEJAE7xmB5CQQkCJ6RuAuGdCQLz7IapwPkJAk2zTaMUUQkABzJS+w+pBQFj6xMh4wEFAXvaku/GVQUBzhjjeO2tBQD4GIYZkQEFAOKRzE3kVQUDIW4zshupAQMH53nmbv0BAjXnHIcSUQECiCVtEDmpAQKgFOzeHP0BA/zNrQTwVQEDaJlkuddY/QIgIvKsegz9A7yzI/44wP0DYhzLx394+QCW3jwArjj5A3r1dYIk+PkCCICbtE/A9QE7XuiXjoj1AvIKQIw9XPUDBRTiTrww9QNGe+6zbwzxAno6cLap8PED0TzxPMTc8QPnXasKG8ztAgUlhp7+xO0C/eGmH8HE7QGiOdE4tNDtAssriRIn4OkBvWX4JF786QA==",
          "dtype": "f8"
         }
        },
        {
         "hoverinfo": "skip",
         "marker": {
          "color": "#ffffff",
          "size": 8
         },
         "mode": "markers",
         "showlegend": false,
         "type": "scatter",
         "x": [
          10.5
         ],
         "y": [
          34
         ]
        },
        {
         "hoverinfo": "skip",
         "marker": {
          "color": "#ffffff",
          "size": 8
         },
         "mode": "markers",
         "showlegend": false,
         "type": "scatter",
         "x": [
          94.5
         ],
         "y": [
          34
         ]
        },
        {
         "hoverinfo": "skip",
         "marker": {
          "color": "#ffffff",
          "size": 8
         },
         "mode": "markers",
         "showlegend": false,
         "type": "scatter",
         "x": [
          52.5
         ],
         "y": [
          34
         ]
        },
        {
         "hoverinfo": "skip",
         "line": {
          "color": "rgba(255,202,40,0.05)",
          "width": 6
         },
         "mode": "lines",
         "showlegend": false,
         "type": "scatter",
         "x": [
          10.5,
          12.075
         ],
         "y": [
          61.2,
          59.84
         ]
        },
        {
         "hoverinfo": "skip",
         "line": {
          "color": "rgba(255,202,40,0.10)",
          "width": 6
         },
         "mode": "lines",
         "showlegend": false,
         "type": "scatter",
         "x": [
          12.075,
          13.65
         ],
         "y": [
          59.84,
          58.480000000000004
         ]
        },
        {
         "hoverinfo": "skip",
         "line": {
          "color": "rgba(255,202,40,0.15)",
          "width": 6
         },
         "mode": "lines",
         "showlegend": false,
         "type": "scatter",
         "x": [
          13.65,
          15.225
         ],
         "y": [
          58.480000000000004,
          57.120000000000005
         ]
        },
        {
         "hoverinfo": "skip",
         "line": {
          "color": "rgba(255,202,40,0.20)",
          "width": 6
         },
         "mode": "lines",
         "showlegend": false,
         "type": "scatter",
         "x": [
          15.225,
          16.8
         ],
         "y": [
          57.120000000000005,
          55.760000000000005
         ]
        },
        {
         "hoverinfo": "skip",
         "line": {
          "color": "rgba(255,202,40,0.25)",
          "width": 6
         },
         "mode": "lines",
         "showlegend": false,
         "type": "scatter",
         "x": [
          16.8,
          18.375
         ],
         "y": [
          55.760000000000005,
          54.400000000000006
         ]
        },
        {
         "hoverinfo": "skip",
         "line": {
          "color": "rgba(255,202,40,0.30)",
          "width": 6
         },
         "mode": "lines",
         "showlegend": false,
         "type": "scatter",
         "x": [
          18.375,
          19.95
         ],
         "y": [
          54.400000000000006,
          53.040000000000006
         ]
        },
        {
         "hoverinfo": "skip",
         "line": {
          "color": "rgba(255,202,40,0.35)",
          "width": 6
         },
         "mode": "lines",
         "showlegend": false,
         "type": "scatter",
         "x": [
          19.95,
          21.525
         ],
         "y": [
          53.040000000000006,
          51.68000000000001
         ]
        },
        {
         "hoverinfo": "skip",
         "line": {
          "color": "rgba(255,202,40,0.40)",
          "width": 6
         },
         "mode": "lines",
         "showlegend": false,
         "type": "scatter",
         "x": [
          21.525,
          23.1
         ],
         "y": [
          51.68000000000001,
          50.32
         ]
        },
        {
         "hoverinfo": "skip",
         "line": {
          "color": "rgba(255,202,40,0.45)",
          "width": 6
         },
         "mode": "lines",
         "showlegend": false,
         "type": "scatter",
         "x": [
          23.1,
          24.675
         ],
         "y": [
          50.32,
          48.96
         ]
        },
        {
         "hoverinfo": "skip",
         "line": {
          "color": "rgba(255,202,40,0.50)",
          "width": 6
         },
         "mode": "lines",
         "showlegend": false,
         "type": "scatter",
         "x": [
          24.675,
          26.25
         ],
         "y": [
          48.96,
          47.6
         ]
        },
        {
         "hoverinfo": "skip",
         "line": {
          "color": "rgba(255,202,40,0.55)",
          "width": 6
         },
         "mode": "lines",
         "showlegend": false,
         "type": "scatter",
         "x": [
          26.25,
          27.825000000000003
         ],
         "y": [
          47.6,
          46.24
         ]
        },
        {
         "hoverinfo": "skip",
         "line": {
          "color": "rgba(255,202,40,0.60)",
          "width": 6
         },
         "mode": "lines",
         "showlegend": false,
         "type": "scatter",
         "x": [
          27.825000000000003,
          29.4
         ],
         "y": [
          46.24,
          44.88
         ]
        },
        {
         "hoverinfo": "skip",
         "line": {
          "color": "rgba(255,202,40,0.65)",
          "width": 6
         },
         "mode": "lines",
         "showlegend": false,
         "type": "scatter",
         "x": [
          29.4,
          30.975
         ],
         "y": [
          44.88,
          43.519999999999996
         ]
        },
        {
         "hoverinfo": "skip",
         "line": {
          "color": "rgba(255,202,40,0.70)",
          "width": 6
         },
         "mode": "lines",
         "showlegend": false,
         "type": "scatter",
         "x": [
          30.975,
          32.55
         ],
         "y": [
          43.519999999999996,
          42.160000000000004
         ]
        },
        {
         "hoverinfo": "skip",
         "line": {
          "color": "rgba(255,202,40,0.75)",
          "width": 6
         },
         "mode": "lines",
         "showlegend": false,
         "type": "scatter",
         "x": [
          32.55,
          34.125
         ],
         "y": [
          42.160000000000004,
          40.8
         ]
        },
        {
         "hoverinfo": "skip",
         "line": {
          "color": "rgba(255,202,40,0.80)",
          "width": 6
         },
         "mode": "lines",
         "showlegend": false,
         "type": "scatter",
         "x": [
          34.125,
          35.7
         ],
         "y": [
          40.8,
          39.44
         ]
        },
        {
         "hoverinfo": "skip",
         "line": {
          "color": "rgba(255,202,40,0.85)",
          "width": 6
         },
         "mode": "lines",
         "showlegend": false,
         "type": "scatter",
         "x": [
          35.7,
          37.275
         ],
         "y": [
          39.44,
          38.08
         ]
        },
        {
         "hoverinfo": "skip",
         "line": {
          "color": "rgba(255,202,40,0.90)",
          "width": 6
         },
         "mode": "lines",
         "showlegend": false,
         "type": "scatter",
         "x": [
          37.275,
          38.85
         ],
         "y": [
          38.08,
          36.72
         ]
        },
        {
         "hoverinfo": "skip",
         "line": {
          "color": "rgba(255,202,40,0.95)",
          "width": 6
         },
         "mode": "lines",
         "showlegend": false,
         "type": "scatter",
         "x": [
          38.85,
          40.425
         ],
         "y": [
          36.72,
          35.36
         ]
        },
        {
         "hoverinfo": "text",
         "hovertext": "Alice",
         "line": {
          "color": "rgba(255,202,40,1.00)",
          "width": 6
         },
         "mode": "lines",
         "showlegend": false,
         "type": "scatter",
         "x": [
          40.425,
          42
         ],
         "y": [
          35.36,
          34
         ]
        },
        {
         "hoverinfo": "skip",
         "line": {
          "color": "rgba(255,202,40,0.05)",
          "width": 6
         },
         "mode": "lines",
         "showlegend": false,
         "type": "scatter",
         "x": [
          84,
          83.2125
         ],
         "y": [
          27.200000000000003,
          26.860000000000003
         ]
        },
        {
         "hoverinfo": "skip",
         "line": {
          "color": "rgba(255,202,40,0.10)",
          "width": 6
         },
         "mode": "lines",
         "showlegend": false,
         "type": "scatter",
         "x": [
          83.2125,
          82.425
         ],
         "y": [
          26.860000000000003,
          26.520000000000003
         ]
        },
        {
         "hoverinfo": "skip",
         "line": {
          "color": "rgba(255,202,40,0.15)",
          "width": 6
         },
         "mode": "lines",
         "showlegend": false,
         "type": "scatter",
         "x": [
          82.425,
          81.6375
         ],
         "y": [
          26.520000000000003,
          26.180000000000003
         ]
        },
        {
         "hoverinfo": "skip",
         "line": {
          "color": "rgba(255,202,40,0.20)",
          "width": 6
         },
         "mode": "lines",
         "showlegend": false,
         "type": "scatter",
         "x": [
          81.6375,
          80.85
         ],
         "y": [
          26.180000000000003,
          25.840000000000003
         ]
        },
        {
         "hoverinfo": "skip",
         "line": {
          "color": "rgba(255,202,40,0.25)",
          "width": 6
         },
         "mode": "lines",
         "showlegend": false,
         "type": "scatter",
         "x": [
          80.85,
          80.0625
         ],
         "y": [
          25.840000000000003,
          25.500000000000004
         ]
        },
        {
         "hoverinfo": "skip",
         "line": {
          "color": "rgba(255,202,40,0.30)",
          "width": 6
         },
         "mode": "lines",
         "showlegend": false,
         "type": "scatter",
         "x": [
          80.0625,
          79.275
         ],
         "y": [
          25.500000000000004,
          25.160000000000004
         ]
        },
        {
         "hoverinfo": "skip",
         "line": {
          "color": "rgba(255,202,40,0.35)",
          "width": 6
         },
         "mode": "lines",
         "showlegend": false,
         "type": "scatter",
         "x": [
          79.275,
          78.4875
         ],
         "y": [
          25.160000000000004,
          24.820000000000004
         ]
        },
        {
         "hoverinfo": "skip",
         "line": {
          "color": "rgba(255,202,40,0.40)",
          "width": 6
         },
         "mode": "lines",
         "showlegend": false,
         "type": "scatter",
         "x": [
          78.4875,
          77.7
         ],
         "y": [
          24.820000000000004,
          24.480000000000004
         ]
        },
        {
         "hoverinfo": "skip",
         "line": {
          "color": "rgba(255,202,40,0.45)",
          "width": 6
         },
         "mode": "lines",
         "showlegend": false,
         "type": "scatter",
         "x": [
          77.7,
          76.9125
         ],
         "y": [
          24.480000000000004,
          24.14
         ]
        },
        {
         "hoverinfo": "skip",
         "line": {
          "color": "rgba(255,202,40,0.50)",
          "width": 6
         },
         "mode": "lines",
         "showlegend": false,
         "type": "scatter",
         "x": [
          76.9125,
          76.125
         ],
         "y": [
          24.14,
          23.800000000000004
         ]
        },
        {
         "hoverinfo": "skip",
         "line": {
          "color": "rgba(255,202,40,0.55)",
          "width": 6
         },
         "mode": "lines",
         "showlegend": false,
         "type": "scatter",
         "x": [
          76.125,
          75.3375
         ],
         "y": [
          23.800000000000004,
          23.46
         ]
        },
        {
         "hoverinfo": "skip",
         "line": {
          "color": "rgba(255,202,40,0.60)",
          "width": 6
         },
         "mode": "lines",
         "showlegend": false,
         "type": "scatter",
         "x": [
          75.3375,
          74.55
         ],
         "y": [
          23.46,
          23.120000000000005
         ]
        },
        {
         "hoverinfo": "skip",
         "line": {
          "color": "rgba(255,202,40,0.65)",
          "width": 6
         },
         "mode": "lines",
         "showlegend": false,
         "type": "scatter",
         "x": [
          74.55,
          73.7625
         ],
         "y": [
          23.120000000000005,
          22.78
         ]
        },
        {
         "hoverinfo": "skip",
         "line": {
          "color": "rgba(255,202,40,0.70)",
          "width": 6
         },
         "mode": "lines",
         "showlegend": false,
         "type": "scatter",
         "x": [
          73.7625,
          72.975
         ],
         "y": [
          22.78,
          22.440000000000005
         ]
        },
        {
         "hoverinfo": "skip",
         "line": {
          "color": "rgba(255,202,40,0.75)",
          "width": 6
         },
         "mode": "lines",
         "showlegend": false,
         "type": "scatter",
         "x": [
          72.975,
          72.1875
         ],
         "y": [
          22.440000000000005,
          22.1
         ]
        },
        {
         "hoverinfo": "skip",
         "line": {
          "color": "rgba(255,202,40,0.80)",
          "width": 6
         },
         "mode": "lines",
         "showlegend": false,
         "type": "scatter",
         "x": [
          72.1875,
          71.4
         ],
         "y": [
          22.1,
          21.76
         ]
        },
        {
         "hoverinfo": "skip",
         "line": {
          "color": "rgba(255,202,40,0.85)",
          "width": 6
         },
         "mode": "lines",
         "showlegend": false,
         "type": "scatter",
         "x": [
          71.4,
          70.6125
         ],
         "y": [
          21.76,
          21.42
         ]
        },
        {
         "hoverinfo": "skip",
         "line": {
          "color": "rgba(255,202,40,0.90)",
          "width": 6
         },
         "mode": "lines",
         "showlegend": false,
         "type": "scatter",
         "x": [
          70.6125,
          69.825
         ],
         "y": [
          21.42,
          21.080000000000002
         ]
        },
        {
         "hoverinfo": "skip",
         "line": {
          "color": "rgba(255,202,40,0.95)",
          "width": 6
         },
         "mode": "lines",
         "showlegend": false,
         "type": "scatter",
         "x": [
          69.825,
          69.0375
         ],
         "y": [
          21.080000000000002,
          20.740000000000002
         ]
        },
        {
         "hoverinfo": "text",
         "hovertext": "Bob",
         "line": {
          "color": "rgba(255,202,40,1.00)",
          "width": 6
         },
         "mode": "lines",
         "showlegend": false,
         "type": "scatter",
         "x": [
          69.0375,
          68.25
         ],
         "y": [
          20.740000000000002,
          20.400000000000002
         ]
        },
        {
         "hoverinfo": "skip",
         "line": {
          "color": "rgba(255,202,40,0.05)",
          "width": 6
         },
         "mode": "lines",
         "showlegend": false,
         "type": "scatter",
         "x": [
          73.5,
          74.025
         ],
         "y": [
          54.400000000000006,
          54.06
         ]
        },
        {
         "hoverinfo": "skip",
         "line": {
          "color": "rgba(255,202,40,0.10)",
          "width": 6
         },
         "mode": "lines",
         "showlegend": false,
         "type": "scatter",
         "x": [
          74.025,
          74.55
         ],
         "y": [
          54.06,
          53.720000000000006
         ]
        },
        {
         "hoverinfo": "skip",
         "line": {
          "color": "rgba(255,202,40,0.15)",
          "width": 6
         },
         "mode": "lines",
         "showlegend": false,
         "type": "scatter",
         "x": [
          74.55,
          75.075
         ],
         "y": [
          53.720000000000006,
          53.38
         ]
        },
        {
         "hoverinfo": "skip",
         "line": {
          "color": "rgba(255,202,40,0.20)",
          "width": 6
         },
         "mode": "lines",
         "showlegend": false,
         "type": "scatter",
         "x": [
          75.075,
          75.6
         ],
         "y": [
          53.38,
          53.040000000000006
         ]
        },
        {
         "hoverinfo": "skip",
         "line": {
          "color": "rgba(255,202,40,0.25)",
          "width": 6
         },
         "mode": "lines",
         "showlegend": false,
         "type": "scatter",
         "x": [
          75.6,
          76.125
         ],
         "y": [
          53.040000000000006,
          52.7
         ]
        },
        {
         "hoverinfo": "skip",
         "line": {
          "color": "rgba(255,202,40,0.30)",
          "width": 6
         },
         "mode": "lines",
         "showlegend": false,
         "type": "scatter",
         "x": [
          76.125,
          76.65
         ],
         "y": [
          52.7,
          52.36000000000001
         ]
        },
        {
         "hoverinfo": "skip",
         "line": {
          "color": "rgba(255,202,40,0.35)",
          "width": 6
         },
         "mode": "lines",
         "showlegend": false,
         "type": "scatter",
         "x": [
          76.65,
          77.175
         ],
         "y": [
          52.36000000000001,
          52.02
         ]
        },
        {
         "hoverinfo": "skip",
         "line": {
          "color": "rgba(255,202,40,0.40)",
          "width": 6
         },
         "mode": "lines",
         "showlegend": false,
         "type": "scatter",
         "x": [
          77.175,
          77.7
         ],
         "y": [
          52.02,
          51.68000000000001
         ]
        },
        {
         "hoverinfo": "skip",
         "line": {
          "color": "rgba(255,202,40,0.45)",
          "width": 6
         },
         "mode": "lines",
         "showlegend": false,
         "type": "scatter",
         "x": [
          77.7,
          78.225
         ],
         "y": [
          51.68000000000001,
          51.34
         ]
        },
        {
         "hoverinfo": "skip",
         "line": {
          "color": "rgba(255,202,40,0.50)",
          "width": 6
         },
         "mode": "lines",
         "showlegend": false,
         "type": "scatter",
         "x": [
          78.225,
          78.75
         ],
         "y": [
          51.34,
          51
         ]
        },
        {
         "hoverinfo": "skip",
         "line": {
          "color": "rgba(255,202,40,0.55)",
          "width": 6
         },
         "mode": "lines",
         "showlegend": false,
         "type": "scatter",
         "x": [
          78.75,
          79.275
         ],
         "y": [
          51,
          50.660000000000004
         ]
        },
        {
         "hoverinfo": "skip",
         "line": {
          "color": "rgba(255,202,40,0.60)",
          "width": 6
         },
         "mode": "lines",
         "showlegend": false,
         "type": "scatter",
         "x": [
          79.275,
          79.8
         ],
         "y": [
          50.660000000000004,
          50.32
         ]
        },
        {
         "hoverinfo": "skip",
         "line": {
          "color": "rgba(255,202,40,0.65)",
          "width": 6
         },
         "mode": "lines",
         "showlegend": false,
         "type": "scatter",
         "x": [
          79.8,
          80.325
         ],
         "y": [
          50.32,
          49.980000000000004
         ]
        },
        {
         "hoverinfo": "skip",
         "line": {
          "color": "rgba(255,202,40,0.70)",
          "width": 6
         },
         "mode": "lines",
         "showlegend": false,
         "type": "scatter",
         "x": [
          80.325,
          80.85
         ],
         "y": [
          49.980000000000004,
          49.64
         ]
        },
        {
         "hoverinfo": "skip",
         "line": {
          "color": "rgba(255,202,40,0.75)",
          "width": 6
         },
         "mode": "lines",
         "showlegend": false,
         "type": "scatter",
         "x": [
          80.85,
          81.375
         ],
         "y": [
          49.64,
          49.300000000000004
         ]
        },
        {
         "hoverinfo": "skip",
         "line": {
          "color": "rgba(255,202,40,0.80)",
          "width": 6
         },
         "mode": "lines",
         "showlegend": false,
         "type": "scatter",
         "x": [
          81.375,
          81.9
         ],
         "y": [
          49.300000000000004,
          48.96
         ]
        },
        {
         "hoverinfo": "skip",
         "line": {
          "color": "rgba(255,202,40,0.85)",
          "width": 6
         },
         "mode": "lines",
         "showlegend": false,
         "type": "scatter",
         "x": [
          81.9,
          82.425
         ],
         "y": [
          48.96,
          48.620000000000005
         ]
        },
        {
         "hoverinfo": "skip",
         "line": {
          "color": "rgba(255,202,40,0.90)",
          "width": 6
         },
         "mode": "lines",
         "showlegend": false,
         "type": "scatter",
         "x": [
          82.425,
          82.95
         ],
         "y": [
          48.620000000000005,
          48.28
         ]
        },
        {
         "hoverinfo": "skip",
         "line": {
          "color": "rgba(255,202,40,0.95)",
          "width": 6
         },
         "mode": "lines",
         "showlegend": false,
         "type": "scatter",
         "x": [
          82.95,
          83.475
         ],
         "y": [
          48.28,
          47.940000000000005
         ]
        },
        {
         "hoverinfo": "text",
         "hovertext": "Carol",
         "line": {
          "color": "rgba(255,202,40,1.00)",
          "width": 6
         },
         "mode": "lines",
         "showlegend": false,
         "type": "scatter",
         "x": [
          83.475,
          84
         ],
         "y": [
          47.940000000000005,
          47.6
         ]
        }
       ],
       "layout": {
        "font": {
         "color": "#ffffff",
         "family": "Helvetica Neue, Arial, sans-serif"
        },
        "height": 600,
        "hoverlabel": {
         "bgcolor": "rgba(40,60,40,0.9)",
         "bordercolor": "rgba(255,255,255,0.2)",
         "font": {
          "color": "white",
          "family": "Helvetica Neue, Arial, sans-serif",
          "size": 15
         }
        },
        "margin": {
         "b": 0,
         "l": 0,
         "r": 0,
         "t": 0
        },
        "paper_bgcolor": "#7a9c72",
        "plot_bgcolor": "#7a9c72",
        "shapes": [
         {
          "line": {
           "color": "#ffffff"
          },
          "type": "rect",
          "x0": 0,
          "x1": 105,
          "y0": 0,
          "y1": 68
         },
         {
          "line": {
           "color": "#ffffff"
          },
          "type": "rect",
          "x0": 52.5,
          "x1": 52.5,
          "y0": 68,
          "y1": 0
         },
         {
          "line": {
           "color": "#ffffff"
          },
          "type": "rect",
          "x0": 0,
          "x1": 16.8,
          "y0": 12.920000000000002,
          "y1": 55.080000000000005
         },
         {
          "line": {
           "color": "#ffffff"
          },
          "type": "rect",
          "x0": 88.2,
          "x1": 105,
          "y0": 55.080000000000005,
          "y1": 12.920000000000002
         },
         {
          "line": {
           "color": "#ffffff"
          },
          "type": "rect",
          "x0": 0,
          "x1": 6.300000000000001,
          "y0": 25.16,
          "y1": 42.84
         },
         {
          "line": {
           "color": "#ffffff"
          },
          "type": "rect",
          "x0": 98.7,
          "x1": 105,
          "y0": 42.84,
          "y1": 25.16
         },
         {
          "line": {
           "color": "#ffffff"
          },
          "type": "circle",
          "x0": 42.8925,
          "x1": 62.1075,
          "y0": 24.3925,
          "y1": 43.6075
         }
        ],
        "showlegend": false,
        "template": {
         "data": {
          "bar": [
           {
            "error_x": {
             "color": "#2a3f5f"
            },
            "error_y": {
             "color": "#2a3f5f"
            },
            "marker": {
             "line": {
              "color": "#E5ECF6",
              "width": 0.5
             },
             "pattern": {
              "fillmode": "overlay",
              "size": 10,
              "solidity": 0.2
             }
            },
            "type": "bar"
           }
          ],
          "barpolar": [
           {
            "marker": {
             "line": {
              "color": "#E5ECF6",
              "width": 0.5
             },
             "pattern": {
              "fillmode": "overlay",
              "size": 10,
              "solidity": 0.2
             }
            },
            "type": "barpolar"
           }
          ],
          "carpet": [
           {
            "aaxis": {
             "endlinecolor": "#2a3f5f",
             "gridcolor": "white",
             "linecolor": "white",
             "minorgridcolor": "white",
             "startlinecolor": "#2a3f5f"
            },
            "baxis": {
             "endlinecolor": "#2a3f5f",
             "gridcolor": "white",
             "linecolor": "white",
             "minorgridcolor": "white",
             "startlinecolor": "#2a3f5f"
            },
            "type": "carpet"
           }
          ],
          "choropleth": [
           {
            "colorbar": {
             "outlinewidth": 0,
             "ticks": ""
            },
            "type": "choropleth"
           }
          ],
          "contour": [
           {
            "colorbar": {
             "outlinewidth": 0,
             "ticks": ""
            },
            "colorscale": [
             [
              0,
              "#0d0887"
             ],
             [
              0.1111111111111111,
              "#46039f"
             ],
             [
              0.2222222222222222,
              "#7201a8"
             ],
             [
              0.3333333333333333,
              "#9c179e"
             ],
             [
              0.4444444444444444,
              "#bd3786"
             ],
             [
              0.5555555555555556,
              "#d8576b"
             ],
             [
              0.6666666666666666,
              "#ed7953"
             ],
             [
              0.7777777777777778,
              "#fb9f3a"
             ],
             [
              0.8888888888888888,
              "#fdca26"
             ],
             [
              1,
              "#f0f921"
             ]
            ],
            "type": "contour"
           }
          ],
          "contourcarpet": [
           {
            "colorbar": {
             "outlinewidth": 0,
             "ticks": ""
            },
            "type": "contourcarpet"
           }
          ],
          "heatmap": [
           {
            "colorbar": {
             "outlinewidth": 0,
             "ticks": ""
            },
            "colorscale": [
             [
              0,
              "#0d0887"
             ],
             [
              0.1111111111111111,
              "#46039f"
             ],
             [
              0.2222222222222222,
              "#7201a8"
             ],
             [
              0.3333333333333333,
              "#9c179e"
             ],
             [
              0.4444444444444444,
              "#bd3786"
             ],
             [
              0.5555555555555556,
              "#d8576b"
             ],
             [
              0.6666666666666666,
              "#ed7953"
             ],
             [
              0.7777777777777778,
              "#fb9f3a"
             ],
             [
              0.8888888888888888,
              "#fdca26"
             ],
             [
              1,
              "#f0f921"
             ]
            ],
            "type": "heatmap"
           }
          ],
          "histogram": [
           {
            "marker": {
             "pattern": {
              "fillmode": "overlay",
              "size": 10,
              "solidity": 0.2
             }
            },
            "type": "histogram"
           }
          ],
          "histogram2d": [
           {
            "colorbar": {
             "outlinewidth": 0,
             "ticks": ""
            },
            "colorscale": [
             [
              0,
              "#0d0887"
             ],
             [
              0.1111111111111111,
              "#46039f"
             ],
             [
              0.2222222222222222,
              "#7201a8"
             ],
             [
              0.3333333333333333,
              "#9c179e"
             ],
             [
              0.4444444444444444,
              "#bd3786"
             ],
             [
              0.5555555555555556,
              "#d8576b"
             ],
             [
              0.6666666666666666,
              "#ed7953"
             ],
             [
              0.7777777777777778,
              "#fb9f3a"
             ],
             [
              0.8888888888888888,
              "#fdca26"
             ],
             [
              1,
              "#f0f921"
             ]
            ],
            "type": "histogram2d"
           }
          ],
          "histogram2dcontour": [
           {
            "colorbar": {
             "outlinewidth": 0,
             "ticks": ""
            },
            "colorscale": [
             [
              0,
              "#0d0887"
             ],
             [
              0.1111111111111111,
              "#46039f"
             ],
             [
              0.2222222222222222,
              "#7201a8"
             ],
             [
              0.3333333333333333,
              "#9c179e"
             ],
             [
              0.4444444444444444,
              "#bd3786"
             ],
             [
              0.5555555555555556,
              "#d8576b"
             ],
             [
              0.6666666666666666,
              "#ed7953"
             ],
             [
              0.7777777777777778,
              "#fb9f3a"
             ],
             [
              0.8888888888888888,
              "#fdca26"
             ],
             [
              1,
              "#f0f921"
             ]
            ],
            "type": "histogram2dcontour"
           }
          ],
          "mesh3d": [
           {
            "colorbar": {
             "outlinewidth": 0,
             "ticks": ""
            },
            "type": "mesh3d"
           }
          ],
          "parcoords": [
           {
            "line": {
             "colorbar": {
              "outlinewidth": 0,
              "ticks": ""
             }
            },
            "type": "parcoords"
           }
          ],
          "pie": [
           {
            "automargin": true,
            "type": "pie"
           }
          ],
          "scatter": [
           {
            "fillpattern": {
             "fillmode": "overlay",
             "size": 10,
             "solidity": 0.2
            },
            "type": "scatter"
           }
          ],
          "scatter3d": [
           {
            "line": {
             "colorbar": {
              "outlinewidth": 0,
              "ticks": ""
             }
            },
            "marker": {
             "colorbar": {
              "outlinewidth": 0,
              "ticks": ""
             }
            },
            "type": "scatter3d"
           }
          ],
          "scattercarpet": [
           {
            "marker": {
             "colorbar": {
              "outlinewidth": 0,
              "ticks": ""
             }
            },
            "type": "scattercarpet"
           }
          ],
          "scattergeo": [
           {
            "marker": {
             "colorbar": {
              "outlinewidth": 0,
              "ticks": ""
             }
            },
            "type": "scattergeo"
           }
          ],
          "scattergl": [
           {
            "marker": {
             "colorbar": {
              "outlinewidth": 0,
              "ticks": ""
             }
            },
            "type": "scattergl"
           }
          ],
          "scattermap": [
           {
            "marker": {
             "colorbar": {
              "outlinewidth": 0,
              "ticks": ""
             }
            },
            "type": "scattermap"
           }
          ],
          "scattermapbox": [
           {
            "marker": {
             "colorbar": {
              "outlinewidth": 0,
              "ticks": ""
             }
            },
            "type": "scattermapbox"
           }
          ],
          "scatterpolar": [
           {
            "marker": {
             "colorbar": {
              "outlinewidth": 0,
              "ticks": ""
             }
            },
            "type": "scatterpolar"
           }
          ],
          "scatterpolargl": [
           {
            "marker": {
             "colorbar": {
              "outlinewidth": 0,
              "ticks": ""
             }
            },
            "type": "scatterpolargl"
           }
          ],
          "scatterternary": [
           {
            "marker": {
             "colorbar": {
              "outlinewidth": 0,
              "ticks": ""
             }
            },
            "type": "scatterternary"
           }
          ],
          "surface": [
           {
            "colorbar": {
             "outlinewidth": 0,
             "ticks": ""
            },
            "colorscale": [
             [
              0,
              "#0d0887"
             ],
             [
              0.1111111111111111,
              "#46039f"
             ],
             [
              0.2222222222222222,
              "#7201a8"
             ],
             [
              0.3333333333333333,
              "#9c179e"
             ],
             [
              0.4444444444444444,
              "#bd3786"
             ],
             [
              0.5555555555555556,
              "#d8576b"
             ],
             [
              0.6666666666666666,
              "#ed7953"
             ],
             [
              0.7777777777777778,
              "#fb9f3a"
             ],
             [
              0.8888888888888888,
              "#fdca26"
             ],
             [
              1,
              "#f0f921"
             ]
            ],
            "type": "surface"
           }
          ],
          "table": [
           {
            "cells": {
             "fill": {
              "color": "#EBF0F8"
             },
             "line": {
              "color": "white"
             }
            },
            "header": {
             "fill": {
              "color": "#C8D4E3"
             },
             "line": {
              "color": "white"
             }
            },
            "type": "table"
           }
          ]
         },
         "layout": {
          "annotationdefaults": {
           "arrowcolor": "#2a3f5f",
           "arrowhead": 0,
           "arrowwidth": 1
          },
          "autotypenumbers": "strict",
          "coloraxis": {
           "colorbar": {
            "outlinewidth": 0,
            "ticks": ""
           }
          },
          "colorscale": {
           "diverging": [
            [
             0,
             "#8e0152"
            ],
            [
             0.1,
             "#c51b7d"
            ],
            [
             0.2,
             "#de77ae"
            ],
            [
             0.3,
             "#f1b6da"
            ],
            [
             0.4,
             "#fde0ef"
            ],
            [
             0.5,
             "#f7f7f7"
            ],
            [
             0.6,
             "#e6f5d0"
            ],
            [
             0.7,
             "#b8e186"
            ],
            [
             0.8,
             "#7fbc41"
            ],
            [
             0.9,
             "#4d9221"
            ],
            [
             1,
             "#276419"
            ]
           ],
           "sequential": [
            [
             0,
             "#0d0887"
            ],
            [
             0.1111111111111111,
             "#46039f"
            ],
            [
             0.2222222222222222,
             "#7201a8"
            ],
            [
             0.3333333333333333,
             "#9c179e"
            ],
            [
             0.4444444444444444,
             "#bd3786"
            ],
            [
             0.5555555555555556,
             "#d8576b"
            ],
            [
             0.6666666666666666,
             "#ed7953"
            ],
            [
             0.7777777777777778,
             "#fb9f3a"
            ],
            [
             0.8888888888888888,
             "#fdca26"
            ],
            [
             1,
             "#f0f921"
            ]
           ],
           "sequentialminus": [
            [
             0,
             "#0d0887"
            ],
            [
             0.1111111111111111,
             "#46039f"
            ],
            [
             0.2222222222222222,
             "#7201a8"
            ],
            [
             0.3333333333333333,
             "#9c179e"
            ],
            [
             0.4444444444444444,
             "#bd3786"
            ],
            [
             0.5555555555555556,
             "#d8576b"
            ],
            [
             0.6666666666666666,
             "#ed7953"
            ],
            [
             0.7777777777777778,
             "#fb9f3a"
            ],
            [
             0.8888888888888888,
             "#fdca26"
            ],
            [
             1,
             "#f0f921"
            ]
           ]
          },
          "colorway": [
           "#636efa",
           "#EF553B",
           "#00cc96",
           "#ab63fa",
           "#FFA15A",
           "#19d3f3",
           "#FF6692",
           "#B6E880",
           "#FF97FF",
           "#FECB52"
          ],
          "font": {
           "color": "#2a3f5f"
          },
          "geo": {
           "bgcolor": "white",
           "lakecolor": "white",
           "landcolor": "#E5ECF6",
           "showlakes": true,
           "showland": true,
           "subunitcolor": "white"
          },
          "hoverlabel": {
           "align": "left"
          },
          "hovermode": "closest",
          "mapbox": {
           "style": "light"
          },
          "paper_bgcolor": "white",
          "plot_bgcolor": "#E5ECF6",
          "polar": {
           "angularaxis": {
            "gridcolor": "white",
            "linecolor": "white",
            "ticks": ""
           },
           "bgcolor": "#E5ECF6",
           "radialaxis": {
            "gridcolor": "white",
            "linecolor": "white",
            "ticks": ""
           }
          },
          "scene": {
           "xaxis": {
            "backgroundcolor": "#E5ECF6",
            "gridcolor": "white",
            "gridwidth": 2,
            "linecolor": "white",
            "showbackground": true,
            "ticks": "",
            "zerolinecolor": "white"
           },
           "yaxis": {
            "backgroundcolor": "#E5ECF6",
            "gridcolor": "white",
            "gridwidth": 2,
            "linecolor": "white",
            "showbackground": true,
            "ticks": "",
            "zerolinecolor": "white"
           },
           "zaxis": {
            "backgroundcolor": "#E5ECF6",
            "gridcolor": "white",
            "gridwidth": 2,
            "linecolor": "white",
            "showbackground": true,
            "ticks": "",
            "zerolinecolor": "white"
           }
          },
          "shapedefaults": {
           "line": {
            "color": "#2a3f5f"
           }
          },
          "ternary": {
           "aaxis": {
            "gridcolor": "white",
            "linecolor": "white",
            "ticks": ""
           },
           "baxis": {
            "gridcolor": "white",
            "linecolor": "white",
            "ticks": ""
           },
           "bgcolor": "#E5ECF6",
           "caxis": {
            "gridcolor": "white",
            "linecolor": "white",
            "ticks": ""
           }
          },
          "title": {
           "x": 0.05
          },
          "xaxis": {
           "automargin": true,
           "gridcolor": "white",
           "linecolor": "white",
           "ticks": "",
           "title": {
            "standoff": 15
           },
           "zerolinecolor": "white",
           "zerolinewidth": 2
          },
          "yaxis": {
           "automargin": true,
           "gridcolor": "white",
           "linecolor": "white",
           "ticks": "",
           "title": {
            "standoff": 15
           },
           "zerolinecolor": "white",
           "zerolinewidth": 2
          }
         }
        },
        "title": {},
        "width": 800,
        "xaxis": {
         "constrain": "domain",
         "fixedrange": true,
         "range": [
          -5,
          110
         ],
         "scaleanchor": "y",
         "showgrid": false,
         "showticklabels": false,
         "visible": false,
         "zeroline": false
        },
        "yaxis": {
         "constrain": "domain",
         "fixedrange": true,
         "range": [
          -5,
          73
         ],
         "showgrid": false,
         "showticklabels": false,
         "visible": false,
         "zeroline": false
        }
       }
      }
     },
     "metadata": {},
     "output_type": "display_data"
    }
   ],
   "source": [
    "df = pd.DataFrame({\n",
    "    'x': [10, 80, 70],\n",
    "    'y': [10, 60, 20],\n",
    "    'x2': [40, 65, 80],\n",
    "    'y2': [50, 70, 30],\n",
    "    'player': ['Alice', 'Bob', 'Carol']\n",
    "})\n",
    "\n",
    "pitch = pb.viz.Pitch(width=800, height=600, theme=\"turf\", provider=\"wyscout\",)\n",
    "pitch.plot_comets(df, x='x', y='y', x_end='x2', y_end='y2', segments=20,hover='player')\n",
    "pitch.show()"
   ]
  },
  {
   "cell_type": "code",
   "execution_count": null,
   "id": "9df50019",
   "metadata": {},
   "outputs": [],
   "source": []
  }
 ],
 "metadata": {
  "kernelspec": {
   "display_name": "venv",
   "language": "python",
   "name": "python3"
  },
  "language_info": {
   "codemirror_mode": {
    "name": "ipython",
    "version": 3
   },
   "file_extension": ".py",
   "mimetype": "text/x-python",
   "name": "python",
   "nbconvert_exporter": "python",
   "pygments_lexer": "ipython3",
   "version": "3.13.1"
  }
 },
 "nbformat": 4,
 "nbformat_minor": 5
}
