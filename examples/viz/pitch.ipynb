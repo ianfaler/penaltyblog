{
 "cells": [
  {
   "cell_type": "markdown",
   "id": "9e38dcff",
   "metadata": {},
   "source": [
    "# Pitch"
   ]
  },
  {
   "cell_type": "code",
   "execution_count": 1,
   "id": "020e4320-ccad-4b79-b63c-8eb0c120cad6",
   "metadata": {},
   "outputs": [],
   "source": [
    "import penaltyblog as pb\n",
    "import numpy as np\n",
    "import pandas as pd"
   ]
  },
  {
   "cell_type": "code",
   "execution_count": 2,
   "id": "cabbbde4-aad2-4748-b029-80ec027e9a1e",
   "metadata": {},
   "outputs": [
    {
     "data": {
      "application/vnd.plotly.v1+json": {
       "config": {
        "displaylogo": false,
        "plotlyServerURL": "https://plot.ly"
       },
       "data": [
        {
         "hoverinfo": "skip",
         "line": {
          "color": "black"
         },
         "mode": "lines",
         "showlegend": false,
         "type": "scatter",
         "x": {
          "bdata": "B0ZS5uX2MEBq4Xe0NUQxQPrPJxEljzFAVlotqpnXMUB2N0oMeh0yQLYLJ6ytYDJADnPy7hyhMkBQj6sysd4yQMowFdZUGTNAfs5OQPNQM0DNohDoeIUzQN5hiFrTtjNA9CDUQfHkM0C0Jxlrwg80QB+INMw3NzRAXn0DiUNbNECGtkH42Hs0QHbX+6fsmDRA9p+UYXSyNECOT1stZ8g0QJQDslW92jRAEPTCaXDpNEAbnMM/e/Q0QDkCxfbZ+zRAkH0Q+In/NECQfRD4if80QDkCxfbZ+zRAHJzDP3v0NEAP9MJpcOk0QJQDslW92jRAjk9bLWfINED2n5RhdLI0QHbX+6fsmDRAhrZB+Nh7NEBefQOJQ1s0QB6INMw3NzRAtCcZa8IPNED0INRB8eQzQN9hiFrTtjNAzqIQ6HiFM0B+zk5A81AzQMowFdZUGTNAUI+rMrHeMkAQc/LuHKEyQLULJ6ytYDJAdzdKDHodMkBXWi2qmdcxQPvPJxEljzFAauF3tDVEMUAGRlLm5fYwQA==",
          "dtype": "f8"
         },
         "y": {
          "bdata": "QM9zvNO5OUAIaCbfkfg5QBtwgPshOjpAc3cLCm1+OkDVW88NW8U6QONQvxzTDjtAnC56aLtaO0Br81pH+ag7QKhK1j1x+TtAcM0hCAdMPEDImSGknaA8QDrDmFsX9zxA6giZzlVPPUBZJi7+Oak9QOn/QFekBD5AkteuvXRhPkAkpZCXir8+QDmbrtjEHj9A0tMbDgJ/P0AvEPZpIOA/QO21ouf+IEBAgev77jtSQEBWEXr/tYNAQIYwILhbtUBAxqqbqBvnQEA5VWRX5BhBQHrP30ekSkFAqu6FAEp8QUCAFAQRxK1BQBJKXRgB30FA6fcEy+8PQkAWFvL4fkBCQGOyqJOdcEJAb603tDqgQkA2lCihRc9CQAyAX9St/UJA0+zoAGMrQ0CMe7MYVVhDQGKeM1J0hENAGzPvLbGvQ0BIGe97/NlDQKvaFGFHA0RAS4ZSXIMrRECx6MJLolJEQI9XoHGWeERAFVIYeVKdREBGRPp6ycBEQPLHPwLv4kRA/MtsELcDRUBgGMYhFiNFQA==",
          "dtype": "f8"
         }
        },
        {
         "hoverinfo": "skip",
         "line": {
          "color": "black"
         },
         "mode": "lines",
         "showlegend": false,
         "type": "scatter",
         "x": {
          "bdata": "fm5rhkYCVkClB+KS8u5VQAEMtrs23FVAaql0lRnKVUAicu18obhVQBI99pTUp1VAPGNDxLiXVUAsHFWzU4hVQM6zesqqeVVAYEzsL8NrVUBN1/vFoV5VQIjnXSlLUlVAw/eKr8NGVUATtjllDzxVQPjd8gwyMlVAqCC/HS8pVUBeku/BCSFVQCIKAdbEGVVAAtia52ITVUAcLKk05g1VQBt/k6pQCVVA/EKP5aMFVUD5GA8w4QJVQHK/ToIJAVVAnOD7gR0AVUCc4PuBHQBVQHK/ToIJAVVA+RgPMOECVUD8Qo/lowVVQBt/k6pQCVVAHCypNOYNVUAD2JrnYhNVQCIKAdbEGVVAXpLvwQkhVUCpIL8dLylVQPjd8gwyMlVAE7Y5ZQ88VUDD94qvw0ZVQIjnXSlLUlVATdf7xaFeVUBgTOwvw2tVQM2zesqqeVVALBxVs1OIVUA8Y0PEuJdVQBM99pTUp1VAInLtfKG4VUBrqXSVGcpVQAEMtrs23FVApgfikvLuVUB+bmuGRgJWQA==",
          "dtype": "f8"
         },
         "y": {
          "bdata": "YBjGIRYjRUD8y2wQtwNFQPLHPwLv4kRARkT6esnAREAWUhh5Up1EQI5XoHGWeERAsujCS6JSREBKhlJcgytEQKzaFGFHA0RARxnve/zZQ0AcM+8tsa9DQGKeM1J0hENAjHuzGFVYQ0DT7OgAYytDQAyAX9St/UJANpQooUXPQkBvrTe0OqBCQGOyqJOdcEJAFhby+H5AQkDo9wTL7w9CQBNKXRgB30FAfxQEEcStQUCq7oUASnxBQHnP30ekSkFAOlVkV+QYQUDGqpuoG+dAQIYwILhbtUBAVhF6/7WDQECB6/vuO1JAQO61ouf+IEBALhD2aSDgP0DT0xsOAn8/QDmbrtjEHj9AI6WQl4q/PkCT1669dGE+QOn/QFekBD5AWiYu/jmpPUDqCJnOVU89QDvDmFsX9zxAyJkhpJ2gPEBxzSEIB0w8QKlK1j1x+TtAa/NaR/moO0CdLnpou1o7QONQvxzTDjtA1lvPDVvFOkBydwsKbX46QBxwgPshOjpACGgm35H4OUA/z3O807k5QA==",
          "dtype": "f8"
         }
        },
        {
         "hoverinfo": "skip",
         "marker": {
          "color": "black",
          "size": 6
         },
         "mode": "markers",
         "showlegend": false,
         "type": "scatter",
         "x": [
          10.5
         ],
         "y": [
          34
         ]
        },
        {
         "hoverinfo": "skip",
         "marker": {
          "color": "black",
          "size": 6
         },
         "mode": "markers",
         "showlegend": false,
         "type": "scatter",
         "x": [
          94.5
         ],
         "y": [
          34
         ]
        },
        {
         "hoverinfo": "skip",
         "marker": {
          "color": "black",
          "size": 6
         },
         "mode": "markers",
         "showlegend": false,
         "type": "scatter",
         "x": [
          52.5
         ],
         "y": [
          34
         ]
        },
        {
         "hoverinfo": "text",
         "hovertext": [
          "Player 1 (17.4, 79.8)",
          "Player 2 (8.2, 31.0)",
          "Player 3 (44.4, 5.8)",
          "Player 4 (52.5, 53.8)",
          "Player 5 (27.3, 12.0)",
          "Player 6 (71.7, 10.3)",
          "Player 7 (90.0, 90.8)",
          "Player 8 (27.8, 54.9)",
          "Player 9 (76.1, 83.7)",
          "Player 10 (87.4, 8.1)",
          "Player 11 (55.5, 67.3)"
         ],
         "marker": {
          "color": "blue",
          "size": 10
         },
         "mode": "markers",
         "type": "scatter",
         "x": {
          "bdata": "xyFic0A4MkAxCUcKSk8hQGjnVpb0VEdAJ4KKE3aPS0DiS8VjoK48QIW9kNXDz1JA/csu8ICdV0DudGPxyTw9QAt6dgp1/FNA6fo35qfuVkDJOMwYZx9NQA==",
          "dtype": "f8"
         },
         "y": {
          "bdata": "Zs3skxeGK0CVq5ECL3hHQDiWhNmdBVBAI3suDh1tP0B4r4gXb+lNQLiP4aH2fU5ANxaBN7P+GEDfCKzZdbE+QOktufT1LSZA5lpqXQw8T0DJ3ix53TU2QA==",
          "dtype": "f8"
         }
        }
       ],
       "layout": {
        "height": 600,
        "margin": {
         "b": 0,
         "l": 0,
         "r": 0,
         "t": 0
        },
        "plot_bgcolor": "white",
        "shapes": [
         {
          "line": {
           "color": "black"
          },
          "type": "rect",
          "x0": 0,
          "x1": 105,
          "y0": 0,
          "y1": 68
         },
         {
          "line": {
           "color": "black"
          },
          "type": "circle",
          "x0": 45.7,
          "x1": 59.3,
          "y0": 27.2,
          "y1": 40.8
         },
         {
          "line": {
           "color": "black"
          },
          "type": "rect",
          "x0": 52.5,
          "x1": 52.5,
          "y0": 68,
          "y1": 0
         },
         {
          "line": {
           "color": "black"
          },
          "type": "rect",
          "x0": 0,
          "x1": 16.8,
          "y0": 12.920000000000002,
          "y1": 55.080000000000005
         },
         {
          "line": {
           "color": "black"
          },
          "type": "rect",
          "x0": 88.2,
          "x1": 105,
          "y0": 55.080000000000005,
          "y1": 12.920000000000002
         },
         {
          "line": {
           "color": "black"
          },
          "type": "rect",
          "x0": 0,
          "x1": 6.300000000000001,
          "y0": 25.16,
          "y1": 42.84
         },
         {
          "line": {
           "color": "black"
          },
          "type": "rect",
          "x0": 98.7,
          "x1": 105,
          "y0": 42.84,
          "y1": 25.16
         }
        ],
        "showlegend": false,
        "template": {
         "data": {
          "bar": [
           {
            "error_x": {
             "color": "#2a3f5f"
            },
            "error_y": {
             "color": "#2a3f5f"
            },
            "marker": {
             "line": {
              "color": "#E5ECF6",
              "width": 0.5
             },
             "pattern": {
              "fillmode": "overlay",
              "size": 10,
              "solidity": 0.2
             }
            },
            "type": "bar"
           }
          ],
          "barpolar": [
           {
            "marker": {
             "line": {
              "color": "#E5ECF6",
              "width": 0.5
             },
             "pattern": {
              "fillmode": "overlay",
              "size": 10,
              "solidity": 0.2
             }
            },
            "type": "barpolar"
           }
          ],
          "carpet": [
           {
            "aaxis": {
             "endlinecolor": "#2a3f5f",
             "gridcolor": "white",
             "linecolor": "white",
             "minorgridcolor": "white",
             "startlinecolor": "#2a3f5f"
            },
            "baxis": {
             "endlinecolor": "#2a3f5f",
             "gridcolor": "white",
             "linecolor": "white",
             "minorgridcolor": "white",
             "startlinecolor": "#2a3f5f"
            },
            "type": "carpet"
           }
          ],
          "choropleth": [
           {
            "colorbar": {
             "outlinewidth": 0,
             "ticks": ""
            },
            "type": "choropleth"
           }
          ],
          "contour": [
           {
            "colorbar": {
             "outlinewidth": 0,
             "ticks": ""
            },
            "colorscale": [
             [
              0,
              "#0d0887"
             ],
             [
              0.1111111111111111,
              "#46039f"
             ],
             [
              0.2222222222222222,
              "#7201a8"
             ],
             [
              0.3333333333333333,
              "#9c179e"
             ],
             [
              0.4444444444444444,
              "#bd3786"
             ],
             [
              0.5555555555555556,
              "#d8576b"
             ],
             [
              0.6666666666666666,
              "#ed7953"
             ],
             [
              0.7777777777777778,
              "#fb9f3a"
             ],
             [
              0.8888888888888888,
              "#fdca26"
             ],
             [
              1,
              "#f0f921"
             ]
            ],
            "type": "contour"
           }
          ],
          "contourcarpet": [
           {
            "colorbar": {
             "outlinewidth": 0,
             "ticks": ""
            },
            "type": "contourcarpet"
           }
          ],
          "heatmap": [
           {
            "colorbar": {
             "outlinewidth": 0,
             "ticks": ""
            },
            "colorscale": [
             [
              0,
              "#0d0887"
             ],
             [
              0.1111111111111111,
              "#46039f"
             ],
             [
              0.2222222222222222,
              "#7201a8"
             ],
             [
              0.3333333333333333,
              "#9c179e"
             ],
             [
              0.4444444444444444,
              "#bd3786"
             ],
             [
              0.5555555555555556,
              "#d8576b"
             ],
             [
              0.6666666666666666,
              "#ed7953"
             ],
             [
              0.7777777777777778,
              "#fb9f3a"
             ],
             [
              0.8888888888888888,
              "#fdca26"
             ],
             [
              1,
              "#f0f921"
             ]
            ],
            "type": "heatmap"
           }
          ],
          "histogram": [
           {
            "marker": {
             "pattern": {
              "fillmode": "overlay",
              "size": 10,
              "solidity": 0.2
             }
            },
            "type": "histogram"
           }
          ],
          "histogram2d": [
           {
            "colorbar": {
             "outlinewidth": 0,
             "ticks": ""
            },
            "colorscale": [
             [
              0,
              "#0d0887"
             ],
             [
              0.1111111111111111,
              "#46039f"
             ],
             [
              0.2222222222222222,
              "#7201a8"
             ],
             [
              0.3333333333333333,
              "#9c179e"
             ],
             [
              0.4444444444444444,
              "#bd3786"
             ],
             [
              0.5555555555555556,
              "#d8576b"
             ],
             [
              0.6666666666666666,
              "#ed7953"
             ],
             [
              0.7777777777777778,
              "#fb9f3a"
             ],
             [
              0.8888888888888888,
              "#fdca26"
             ],
             [
              1,
              "#f0f921"
             ]
            ],
            "type": "histogram2d"
           }
          ],
          "histogram2dcontour": [
           {
            "colorbar": {
             "outlinewidth": 0,
             "ticks": ""
            },
            "colorscale": [
             [
              0,
              "#0d0887"
             ],
             [
              0.1111111111111111,
              "#46039f"
             ],
             [
              0.2222222222222222,
              "#7201a8"
             ],
             [
              0.3333333333333333,
              "#9c179e"
             ],
             [
              0.4444444444444444,
              "#bd3786"
             ],
             [
              0.5555555555555556,
              "#d8576b"
             ],
             [
              0.6666666666666666,
              "#ed7953"
             ],
             [
              0.7777777777777778,
              "#fb9f3a"
             ],
             [
              0.8888888888888888,
              "#fdca26"
             ],
             [
              1,
              "#f0f921"
             ]
            ],
            "type": "histogram2dcontour"
           }
          ],
          "mesh3d": [
           {
            "colorbar": {
             "outlinewidth": 0,
             "ticks": ""
            },
            "type": "mesh3d"
           }
          ],
          "parcoords": [
           {
            "line": {
             "colorbar": {
              "outlinewidth": 0,
              "ticks": ""
             }
            },
            "type": "parcoords"
           }
          ],
          "pie": [
           {
            "automargin": true,
            "type": "pie"
           }
          ],
          "scatter": [
           {
            "fillpattern": {
             "fillmode": "overlay",
             "size": 10,
             "solidity": 0.2
            },
            "type": "scatter"
           }
          ],
          "scatter3d": [
           {
            "line": {
             "colorbar": {
              "outlinewidth": 0,
              "ticks": ""
             }
            },
            "marker": {
             "colorbar": {
              "outlinewidth": 0,
              "ticks": ""
             }
            },
            "type": "scatter3d"
           }
          ],
          "scattercarpet": [
           {
            "marker": {
             "colorbar": {
              "outlinewidth": 0,
              "ticks": ""
             }
            },
            "type": "scattercarpet"
           }
          ],
          "scattergeo": [
           {
            "marker": {
             "colorbar": {
              "outlinewidth": 0,
              "ticks": ""
             }
            },
            "type": "scattergeo"
           }
          ],
          "scattergl": [
           {
            "marker": {
             "colorbar": {
              "outlinewidth": 0,
              "ticks": ""
             }
            },
            "type": "scattergl"
           }
          ],
          "scattermap": [
           {
            "marker": {
             "colorbar": {
              "outlinewidth": 0,
              "ticks": ""
             }
            },
            "type": "scattermap"
           }
          ],
          "scattermapbox": [
           {
            "marker": {
             "colorbar": {
              "outlinewidth": 0,
              "ticks": ""
             }
            },
            "type": "scattermapbox"
           }
          ],
          "scatterpolar": [
           {
            "marker": {
             "colorbar": {
              "outlinewidth": 0,
              "ticks": ""
             }
            },
            "type": "scatterpolar"
           }
          ],
          "scatterpolargl": [
           {
            "marker": {
             "colorbar": {
              "outlinewidth": 0,
              "ticks": ""
             }
            },
            "type": "scatterpolargl"
           }
          ],
          "scatterternary": [
           {
            "marker": {
             "colorbar": {
              "outlinewidth": 0,
              "ticks": ""
             }
            },
            "type": "scatterternary"
           }
          ],
          "surface": [
           {
            "colorbar": {
             "outlinewidth": 0,
             "ticks": ""
            },
            "colorscale": [
             [
              0,
              "#0d0887"
             ],
             [
              0.1111111111111111,
              "#46039f"
             ],
             [
              0.2222222222222222,
              "#7201a8"
             ],
             [
              0.3333333333333333,
              "#9c179e"
             ],
             [
              0.4444444444444444,
              "#bd3786"
             ],
             [
              0.5555555555555556,
              "#d8576b"
             ],
             [
              0.6666666666666666,
              "#ed7953"
             ],
             [
              0.7777777777777778,
              "#fb9f3a"
             ],
             [
              0.8888888888888888,
              "#fdca26"
             ],
             [
              1,
              "#f0f921"
             ]
            ],
            "type": "surface"
           }
          ],
          "table": [
           {
            "cells": {
             "fill": {
              "color": "#EBF0F8"
             },
             "line": {
              "color": "white"
             }
            },
            "header": {
             "fill": {
              "color": "#C8D4E3"
             },
             "line": {
              "color": "white"
             }
            },
            "type": "table"
           }
          ]
         },
         "layout": {
          "annotationdefaults": {
           "arrowcolor": "#2a3f5f",
           "arrowhead": 0,
           "arrowwidth": 1
          },
          "autotypenumbers": "strict",
          "coloraxis": {
           "colorbar": {
            "outlinewidth": 0,
            "ticks": ""
           }
          },
          "colorscale": {
           "diverging": [
            [
             0,
             "#8e0152"
            ],
            [
             0.1,
             "#c51b7d"
            ],
            [
             0.2,
             "#de77ae"
            ],
            [
             0.3,
             "#f1b6da"
            ],
            [
             0.4,
             "#fde0ef"
            ],
            [
             0.5,
             "#f7f7f7"
            ],
            [
             0.6,
             "#e6f5d0"
            ],
            [
             0.7,
             "#b8e186"
            ],
            [
             0.8,
             "#7fbc41"
            ],
            [
             0.9,
             "#4d9221"
            ],
            [
             1,
             "#276419"
            ]
           ],
           "sequential": [
            [
             0,
             "#0d0887"
            ],
            [
             0.1111111111111111,
             "#46039f"
            ],
            [
             0.2222222222222222,
             "#7201a8"
            ],
            [
             0.3333333333333333,
             "#9c179e"
            ],
            [
             0.4444444444444444,
             "#bd3786"
            ],
            [
             0.5555555555555556,
             "#d8576b"
            ],
            [
             0.6666666666666666,
             "#ed7953"
            ],
            [
             0.7777777777777778,
             "#fb9f3a"
            ],
            [
             0.8888888888888888,
             "#fdca26"
            ],
            [
             1,
             "#f0f921"
            ]
           ],
           "sequentialminus": [
            [
             0,
             "#0d0887"
            ],
            [
             0.1111111111111111,
             "#46039f"
            ],
            [
             0.2222222222222222,
             "#7201a8"
            ],
            [
             0.3333333333333333,
             "#9c179e"
            ],
            [
             0.4444444444444444,
             "#bd3786"
            ],
            [
             0.5555555555555556,
             "#d8576b"
            ],
            [
             0.6666666666666666,
             "#ed7953"
            ],
            [
             0.7777777777777778,
             "#fb9f3a"
            ],
            [
             0.8888888888888888,
             "#fdca26"
            ],
            [
             1,
             "#f0f921"
            ]
           ]
          },
          "colorway": [
           "#636efa",
           "#EF553B",
           "#00cc96",
           "#ab63fa",
           "#FFA15A",
           "#19d3f3",
           "#FF6692",
           "#B6E880",
           "#FF97FF",
           "#FECB52"
          ],
          "font": {
           "color": "#2a3f5f"
          },
          "geo": {
           "bgcolor": "white",
           "lakecolor": "white",
           "landcolor": "#E5ECF6",
           "showlakes": true,
           "showland": true,
           "subunitcolor": "white"
          },
          "hoverlabel": {
           "align": "left"
          },
          "hovermode": "closest",
          "mapbox": {
           "style": "light"
          },
          "paper_bgcolor": "white",
          "plot_bgcolor": "#E5ECF6",
          "polar": {
           "angularaxis": {
            "gridcolor": "white",
            "linecolor": "white",
            "ticks": ""
           },
           "bgcolor": "#E5ECF6",
           "radialaxis": {
            "gridcolor": "white",
            "linecolor": "white",
            "ticks": ""
           }
          },
          "scene": {
           "xaxis": {
            "backgroundcolor": "#E5ECF6",
            "gridcolor": "white",
            "gridwidth": 2,
            "linecolor": "white",
            "showbackground": true,
            "ticks": "",
            "zerolinecolor": "white"
           },
           "yaxis": {
            "backgroundcolor": "#E5ECF6",
            "gridcolor": "white",
            "gridwidth": 2,
            "linecolor": "white",
            "showbackground": true,
            "ticks": "",
            "zerolinecolor": "white"
           },
           "zaxis": {
            "backgroundcolor": "#E5ECF6",
            "gridcolor": "white",
            "gridwidth": 2,
            "linecolor": "white",
            "showbackground": true,
            "ticks": "",
            "zerolinecolor": "white"
           }
          },
          "shapedefaults": {
           "line": {
            "color": "#2a3f5f"
           }
          },
          "ternary": {
           "aaxis": {
            "gridcolor": "white",
            "linecolor": "white",
            "ticks": ""
           },
           "baxis": {
            "gridcolor": "white",
            "linecolor": "white",
            "ticks": ""
           },
           "bgcolor": "#E5ECF6",
           "caxis": {
            "gridcolor": "white",
            "linecolor": "white",
            "ticks": ""
           }
          },
          "title": {
           "x": 0.05
          },
          "xaxis": {
           "automargin": true,
           "gridcolor": "white",
           "linecolor": "white",
           "ticks": "",
           "title": {
            "standoff": 15
           },
           "zerolinecolor": "white",
           "zerolinewidth": 2
          },
          "yaxis": {
           "automargin": true,
           "gridcolor": "white",
           "linecolor": "white",
           "ticks": "",
           "title": {
            "standoff": 15
           },
           "zerolinecolor": "white",
           "zerolinewidth": 2
          }
         }
        },
        "title": {},
        "width": 800,
        "xaxis": {
         "constrain": "domain",
         "fixedrange": true,
         "range": [
          -5,
          110
         ],
         "scaleanchor": "y",
         "showgrid": false,
         "showticklabels": false,
         "visible": false,
         "zeroline": false
        },
        "yaxis": {
         "constrain": "domain",
         "fixedrange": true,
         "range": [
          -5,
          73
         ],
         "showgrid": false,
         "showticklabels": false,
         "visible": false,
         "zeroline": false
        }
       }
      }
     },
     "metadata": {},
     "output_type": "display_data"
    }
   ],
   "source": [
    "df = pd.DataFrame({\n",
    "    'x': np.random.uniform(0, 100, 11),\n",
    "    'y': np.random.uniform(0, 100, 11),\n",
    "    'name': [f'Player {i+1}' for i in range(11)]\n",
    "})\n",
    "\n",
    "pitch = pb.viz.Pitch(width=800, height=600, theme=\"white\", provider=\"wyscout\",)\n",
    "pitch.plot_scatter(df, x='x', y='y', hover='name')\n",
    "pitch.show()\n"
   ]
  },
  {
   "cell_type": "code",
   "execution_count": null,
   "id": "0cc28b7e",
   "metadata": {},
   "outputs": [],
   "source": []
  },
  {
   "cell_type": "code",
   "execution_count": 3,
   "id": "1ab85f7c-2e96-4fc0-950a-7c013f01a26e",
   "metadata": {},
   "outputs": [
    {
     "data": {
      "application/vnd.plotly.v1+json": {
       "config": {
        "displaylogo": false,
        "plotlyServerURL": "https://plot.ly"
       },
       "data": [
        {
         "hoverinfo": "skip",
         "line": {
          "color": "black"
         },
         "mode": "lines",
         "showlegend": false,
         "type": "scatter",
         "x": {
          "bdata": "DMoz1SnGL0CC5mMWgiMwQKaC9jj0YTBASMslY1WeMEA4LpNfkNgwQMKJILqQEDFA4l8fx0JGMUAYojmqk3kxQKioEV1xqjFAaAGXtcrYMUAA3Q1sjwQyQDn8xiCwLTJAdhuGYR5UMkBr9pSuzHcyQBocgX+umDJAeOiCR7i2MkAbGIx539EyQOKI/Isa6jJAotr7+2D/MkBMwnZQqxEzQPsCvxzzIDNAuCDNAjMtM0AWAiO1ZjYzQDDXTviKPDNA+L0NpJ0/M0D4vQ2knT8zQDDXTviKPDNAFwIjtWY2M0C3IM0CMy0zQPwCvxzzIDNATMJ2UKsRM0Ci2vv7YP8yQOOI/Isa6jJAGhiMed/RMkB46IJHuLYyQBocgX+umDJAbPaUrsx3MkB2G4ZhHlQyQDr8xiCwLTJAAd0NbI8EMkBpAZe1ytgxQKmoEV1xqjFAGKI5qpN5MUDiXx/HQkYxQMGJILqQEDFAOC6TX5DYMEBIyyVjVZ4wQKaC9jj0YTBAg+ZjFoIjMEAKyjPVKcYvQA==",
          "dtype": "f8"
         },
         "y": {
          "bdata": "tSwLHdsaO0CxVvU5JE87QGxdQPzGhTtANY4JM7C+O0Axd9fgy/k7QBJun0IFNzxALXwQ10Z2PEAuICFmerc8QDc+3QiJ+jxAiIBxMVs/PUB8VXGz2IU9QLCiVMzozT1AGDIqLHIXPkCgynv+WmI+QELVYPOIrj5AT168SOH7PkBINKPTSEo/QLDW5gmkmT9AL9vBC9fpP0BpMdHWYh1AQJuXB8EpRkBA7O7R8TFvQEDHY5D/bJhAQMV9xW7MwUBApWMst0HrQEBanNNIvhRBQDuCOpEzPkFAOJxvAJNnQUAVES4OzpBBQGRo+D7WuUFAmM4uKZ3iQUBoEh96FAtCQKiUDPstM0JA3GUulttaQkDY0KFbD4JCQF+VT4a7qEJAsBrCgNLOQkD05urpRvRCQKeu1ZkLGUNAQVVHphM9Q0C8P0dnUmBDQORgkXu7gkNA6W/vzEKkQ0DpwXeU3MRDQPdIsF595ENAZ0SUDxoDREDlOHvmpyBEQErR34EcPURAp1QF421YRECmaXpxknJEQA==",
          "dtype": "f8"
         }
        },
        {
         "hoverinfo": "skip",
         "line": {
          "color": "black"
         },
         "mode": "lines",
         "showlegend": false,
         "type": "scatter",
         "x": {
          "bdata": "v4ZZxTpHVkBfBmd6HzdWQFZfwvGCJ1ZALo02p2oYVkByNBvo2wlWQI/dd9Hb+1VACCg4Tm/uVUB6l3EVm+FVQNaVu6hj1VVApj+aUs3JVUDAiPwk3L5VQPFAzveTtFVAInmeZ/iqVUBlwlrUDKJVQPq4H2DUmVVA4kUf7lGSVUD5+ZwhiItVQMfdAF15hVVAVwkBwSeAVUBtT+IrlXtVQEE/0DjDd1VA0rdMP7N0VUB6P7dSZnJVQDRK7EHdcFVAgpD8lhhwVUCCkPyWGHBVQDRK7EHdcFVAej+3UmZyVUDSt0w/s3RVQEE/0DjDd1VAbU/iK5V7VUBYCQHBJ4BVQMfdAF15hVVA+fmcIYiLVUDiRR/uUZJVQPq4H2DUmVVAZcJa1AyiVUAieZ5n+KpVQPJAzveTtFVAwIj8JNy+VUCmP5pSzclVQNaVu6hj1VVAepdxFZvhVUAIKDhOb+5VQJDdd9Hb+1VAcjQb6NsJVkAujTanahhWQFZfwvGCJ1ZAXwZneh83VkC/hlnFOkdWQA==",
          "dtype": "f8"
         },
         "y": {
          "bdata": "pml6cZJyRECnVAXjbVhEQErR34EcPURA5Th75qcgREBnRJQPGgNEQPdIsF595ENA6cF3lNzEQ0Dpb+/MQqRDQORgkXu7gkNAuz9HZ1JgQ0BCVUemEz1DQKeu1ZkLGUNA9Obq6Ub0QkCwGsKA0s5CQF+VT4a7qEJA2NChWw+CQkDcZS6W21pCQKiUDPstM0JAaBIfehQLQkCXzi4pneJBQGVo+D7WuUFAFBEuDs6QQUA5nG8Ak2dBQDqCOpEzPkFAW5zTSL4UQUClYyy3QetAQMV9xW7MwUBAyGOQ/2yYQEDr7tHxMW9AQJuXB8EpRkBAaTHR1mIdQEAw28EL1+k/QK/W5gmkmT9ASDSj00hKP0BQXrxI4fs+QELVYPOIrj5Aocp7/lpiPkAYMioschc+QLGiVMzozT1AfFVxs9iFPUCIgHExWz89QDg+3QiJ+jxALiAhZnq3PEAufBDXRnY8QBJun0IFNzxAMnfX4Mv5O0A1jgkzsL47QGxdQPzGhTtAslb1OSRPO0C0LAsd2xo7QA==",
          "dtype": "f8"
         }
        },
        {
         "hoverinfo": "skip",
         "marker": {
          "color": "black",
          "size": 6
         },
         "mode": "markers",
         "showlegend": false,
         "type": "scatter",
         "x": [
          10.5
         ],
         "y": [
          34
         ]
        },
        {
         "hoverinfo": "skip",
         "marker": {
          "color": "black",
          "size": 6
         },
         "mode": "markers",
         "showlegend": false,
         "type": "scatter",
         "x": [
          94.5
         ],
         "y": [
          34
         ]
        },
        {
         "hoverinfo": "skip",
         "marker": {
          "color": "black",
          "size": 6
         },
         "mode": "markers",
         "showlegend": false,
         "type": "scatter",
         "x": [
          52.5
         ],
         "y": [
          34
         ]
        },
        {
         "colorbar": {
          "title": {
           "text": "Density"
          }
         },
         "colorscale": [
          [
           0,
           "#440154"
          ],
          [
           0.1111111111111111,
           "#482878"
          ],
          [
           0.2222222222222222,
           "#3e4989"
          ],
          [
           0.3333333333333333,
           "#31688e"
          ],
          [
           0.4444444444444444,
           "#26828e"
          ],
          [
           0.5555555555555556,
           "#1f9e89"
          ],
          [
           0.6666666666666666,
           "#35b779"
          ],
          [
           0.7777777777777778,
           "#6ece58"
          ],
          [
           0.8888888888888888,
           "#b5de2b"
          ],
          [
           1,
           "#fde725"
          ]
         ],
         "type": "histogram2d",
         "x": {
          "bdata": "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",
          "dtype": "f8"
         },
         "xbins": {
          "end": 120,
          "size": 4,
          "start": 0
         },
         "y": {
          "bdata": "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",
          "dtype": "f8"
         },
         "ybins": {
          "end": 80,
          "size": 4,
          "start": 0
         }
        }
       ],
       "layout": {
        "height": 600,
        "margin": {
         "b": 0,
         "l": 0,
         "r": 0,
         "t": 0
        },
        "plot_bgcolor": "white",
        "shapes": [
         {
          "line": {
           "color": "black"
          },
          "type": "rect",
          "x0": 0,
          "x1": 105,
          "y0": 0,
          "y1": 68
         },
         {
          "line": {
           "color": "black"
          },
          "type": "circle",
          "x0": 44,
          "x1": 61,
          "y0": 25.5,
          "y1": 42.5
         },
         {
          "line": {
           "color": "black"
          },
          "type": "rect",
          "x0": 52.5,
          "x1": 52.5,
          "y0": 0,
          "y1": 68
         },
         {
          "line": {
           "color": "black"
          },
          "type": "rect",
          "x0": 0,
          "x1": 15.75,
          "y0": 15.299999999999999,
          "y1": 52.699999999999996
         },
         {
          "line": {
           "color": "black"
          },
          "type": "rect",
          "x0": 89.25,
          "x1": 105,
          "y0": 15.299999999999999,
          "y1": 52.699999999999996
         },
         {
          "line": {
           "color": "black"
          },
          "type": "rect",
          "x0": 0,
          "x1": 5.25,
          "y0": 25.5,
          "y1": 42.5
         },
         {
          "line": {
           "color": "black"
          },
          "type": "rect",
          "x0": 99.75,
          "x1": 105,
          "y0": 25.5,
          "y1": 42.5
         }
        ],
        "showlegend": false,
        "template": {
         "data": {
          "bar": [
           {
            "error_x": {
             "color": "#2a3f5f"
            },
            "error_y": {
             "color": "#2a3f5f"
            },
            "marker": {
             "line": {
              "color": "#E5ECF6",
              "width": 0.5
             },
             "pattern": {
              "fillmode": "overlay",
              "size": 10,
              "solidity": 0.2
             }
            },
            "type": "bar"
           }
          ],
          "barpolar": [
           {
            "marker": {
             "line": {
              "color": "#E5ECF6",
              "width": 0.5
             },
             "pattern": {
              "fillmode": "overlay",
              "size": 10,
              "solidity": 0.2
             }
            },
            "type": "barpolar"
           }
          ],
          "carpet": [
           {
            "aaxis": {
             "endlinecolor": "#2a3f5f",
             "gridcolor": "white",
             "linecolor": "white",
             "minorgridcolor": "white",
             "startlinecolor": "#2a3f5f"
            },
            "baxis": {
             "endlinecolor": "#2a3f5f",
             "gridcolor": "white",
             "linecolor": "white",
             "minorgridcolor": "white",
             "startlinecolor": "#2a3f5f"
            },
            "type": "carpet"
           }
          ],
          "choropleth": [
           {
            "colorbar": {
             "outlinewidth": 0,
             "ticks": ""
            },
            "type": "choropleth"
           }
          ],
          "contour": [
           {
            "colorbar": {
             "outlinewidth": 0,
             "ticks": ""
            },
            "colorscale": [
             [
              0,
              "#0d0887"
             ],
             [
              0.1111111111111111,
              "#46039f"
             ],
             [
              0.2222222222222222,
              "#7201a8"
             ],
             [
              0.3333333333333333,
              "#9c179e"
             ],
             [
              0.4444444444444444,
              "#bd3786"
             ],
             [
              0.5555555555555556,
              "#d8576b"
             ],
             [
              0.6666666666666666,
              "#ed7953"
             ],
             [
              0.7777777777777778,
              "#fb9f3a"
             ],
             [
              0.8888888888888888,
              "#fdca26"
             ],
             [
              1,
              "#f0f921"
             ]
            ],
            "type": "contour"
           }
          ],
          "contourcarpet": [
           {
            "colorbar": {
             "outlinewidth": 0,
             "ticks": ""
            },
            "type": "contourcarpet"
           }
          ],
          "heatmap": [
           {
            "colorbar": {
             "outlinewidth": 0,
             "ticks": ""
            },
            "colorscale": [
             [
              0,
              "#0d0887"
             ],
             [
              0.1111111111111111,
              "#46039f"
             ],
             [
              0.2222222222222222,
              "#7201a8"
             ],
             [
              0.3333333333333333,
              "#9c179e"
             ],
             [
              0.4444444444444444,
              "#bd3786"
             ],
             [
              0.5555555555555556,
              "#d8576b"
             ],
             [
              0.6666666666666666,
              "#ed7953"
             ],
             [
              0.7777777777777778,
              "#fb9f3a"
             ],
             [
              0.8888888888888888,
              "#fdca26"
             ],
             [
              1,
              "#f0f921"
             ]
            ],
            "type": "heatmap"
           }
          ],
          "histogram": [
           {
            "marker": {
             "pattern": {
              "fillmode": "overlay",
              "size": 10,
              "solidity": 0.2
             }
            },
            "type": "histogram"
           }
          ],
          "histogram2d": [
           {
            "colorbar": {
             "outlinewidth": 0,
             "ticks": ""
            },
            "colorscale": [
             [
              0,
              "#0d0887"
             ],
             [
              0.1111111111111111,
              "#46039f"
             ],
             [
              0.2222222222222222,
              "#7201a8"
             ],
             [
              0.3333333333333333,
              "#9c179e"
             ],
             [
              0.4444444444444444,
              "#bd3786"
             ],
             [
              0.5555555555555556,
              "#d8576b"
             ],
             [
              0.6666666666666666,
              "#ed7953"
             ],
             [
              0.7777777777777778,
              "#fb9f3a"
             ],
             [
              0.8888888888888888,
              "#fdca26"
             ],
             [
              1,
              "#f0f921"
             ]
            ],
            "type": "histogram2d"
           }
          ],
          "histogram2dcontour": [
           {
            "colorbar": {
             "outlinewidth": 0,
             "ticks": ""
            },
            "colorscale": [
             [
              0,
              "#0d0887"
             ],
             [
              0.1111111111111111,
              "#46039f"
             ],
             [
              0.2222222222222222,
              "#7201a8"
             ],
             [
              0.3333333333333333,
              "#9c179e"
             ],
             [
              0.4444444444444444,
              "#bd3786"
             ],
             [
              0.5555555555555556,
              "#d8576b"
             ],
             [
              0.6666666666666666,
              "#ed7953"
             ],
             [
              0.7777777777777778,
              "#fb9f3a"
             ],
             [
              0.8888888888888888,
              "#fdca26"
             ],
             [
              1,
              "#f0f921"
             ]
            ],
            "type": "histogram2dcontour"
           }
          ],
          "mesh3d": [
           {
            "colorbar": {
             "outlinewidth": 0,
             "ticks": ""
            },
            "type": "mesh3d"
           }
          ],
          "parcoords": [
           {
            "line": {
             "colorbar": {
              "outlinewidth": 0,
              "ticks": ""
             }
            },
            "type": "parcoords"
           }
          ],
          "pie": [
           {
            "automargin": true,
            "type": "pie"
           }
          ],
          "scatter": [
           {
            "fillpattern": {
             "fillmode": "overlay",
             "size": 10,
             "solidity": 0.2
            },
            "type": "scatter"
           }
          ],
          "scatter3d": [
           {
            "line": {
             "colorbar": {
              "outlinewidth": 0,
              "ticks": ""
             }
            },
            "marker": {
             "colorbar": {
              "outlinewidth": 0,
              "ticks": ""
             }
            },
            "type": "scatter3d"
           }
          ],
          "scattercarpet": [
           {
            "marker": {
             "colorbar": {
              "outlinewidth": 0,
              "ticks": ""
             }
            },
            "type": "scattercarpet"
           }
          ],
          "scattergeo": [
           {
            "marker": {
             "colorbar": {
              "outlinewidth": 0,
              "ticks": ""
             }
            },
            "type": "scattergeo"
           }
          ],
          "scattergl": [
           {
            "marker": {
             "colorbar": {
              "outlinewidth": 0,
              "ticks": ""
             }
            },
            "type": "scattergl"
           }
          ],
          "scattermap": [
           {
            "marker": {
             "colorbar": {
              "outlinewidth": 0,
              "ticks": ""
             }
            },
            "type": "scattermap"
           }
          ],
          "scattermapbox": [
           {
            "marker": {
             "colorbar": {
              "outlinewidth": 0,
              "ticks": ""
             }
            },
            "type": "scattermapbox"
           }
          ],
          "scatterpolar": [
           {
            "marker": {
             "colorbar": {
              "outlinewidth": 0,
              "ticks": ""
             }
            },
            "type": "scatterpolar"
           }
          ],
          "scatterpolargl": [
           {
            "marker": {
             "colorbar": {
              "outlinewidth": 0,
              "ticks": ""
             }
            },
            "type": "scatterpolargl"
           }
          ],
          "scatterternary": [
           {
            "marker": {
             "colorbar": {
              "outlinewidth": 0,
              "ticks": ""
             }
            },
            "type": "scatterternary"
           }
          ],
          "surface": [
           {
            "colorbar": {
             "outlinewidth": 0,
             "ticks": ""
            },
            "colorscale": [
             [
              0,
              "#0d0887"
             ],
             [
              0.1111111111111111,
              "#46039f"
             ],
             [
              0.2222222222222222,
              "#7201a8"
             ],
             [
              0.3333333333333333,
              "#9c179e"
             ],
             [
              0.4444444444444444,
              "#bd3786"
             ],
             [
              0.5555555555555556,
              "#d8576b"
             ],
             [
              0.6666666666666666,
              "#ed7953"
             ],
             [
              0.7777777777777778,
              "#fb9f3a"
             ],
             [
              0.8888888888888888,
              "#fdca26"
             ],
             [
              1,
              "#f0f921"
             ]
            ],
            "type": "surface"
           }
          ],
          "table": [
           {
            "cells": {
             "fill": {
              "color": "#EBF0F8"
             },
             "line": {
              "color": "white"
             }
            },
            "header": {
             "fill": {
              "color": "#C8D4E3"
             },
             "line": {
              "color": "white"
             }
            },
            "type": "table"
           }
          ]
         },
         "layout": {
          "annotationdefaults": {
           "arrowcolor": "#2a3f5f",
           "arrowhead": 0,
           "arrowwidth": 1
          },
          "autotypenumbers": "strict",
          "coloraxis": {
           "colorbar": {
            "outlinewidth": 0,
            "ticks": ""
           }
          },
          "colorscale": {
           "diverging": [
            [
             0,
             "#8e0152"
            ],
            [
             0.1,
             "#c51b7d"
            ],
            [
             0.2,
             "#de77ae"
            ],
            [
             0.3,
             "#f1b6da"
            ],
            [
             0.4,
             "#fde0ef"
            ],
            [
             0.5,
             "#f7f7f7"
            ],
            [
             0.6,
             "#e6f5d0"
            ],
            [
             0.7,
             "#b8e186"
            ],
            [
             0.8,
             "#7fbc41"
            ],
            [
             0.9,
             "#4d9221"
            ],
            [
             1,
             "#276419"
            ]
           ],
           "sequential": [
            [
             0,
             "#0d0887"
            ],
            [
             0.1111111111111111,
             "#46039f"
            ],
            [
             0.2222222222222222,
             "#7201a8"
            ],
            [
             0.3333333333333333,
             "#9c179e"
            ],
            [
             0.4444444444444444,
             "#bd3786"
            ],
            [
             0.5555555555555556,
             "#d8576b"
            ],
            [
             0.6666666666666666,
             "#ed7953"
            ],
            [
             0.7777777777777778,
             "#fb9f3a"
            ],
            [
             0.8888888888888888,
             "#fdca26"
            ],
            [
             1,
             "#f0f921"
            ]
           ],
           "sequentialminus": [
            [
             0,
             "#0d0887"
            ],
            [
             0.1111111111111111,
             "#46039f"
            ],
            [
             0.2222222222222222,
             "#7201a8"
            ],
            [
             0.3333333333333333,
             "#9c179e"
            ],
            [
             0.4444444444444444,
             "#bd3786"
            ],
            [
             0.5555555555555556,
             "#d8576b"
            ],
            [
             0.6666666666666666,
             "#ed7953"
            ],
            [
             0.7777777777777778,
             "#fb9f3a"
            ],
            [
             0.8888888888888888,
             "#fdca26"
            ],
            [
             1,
             "#f0f921"
            ]
           ]
          },
          "colorway": [
           "#636efa",
           "#EF553B",
           "#00cc96",
           "#ab63fa",
           "#FFA15A",
           "#19d3f3",
           "#FF6692",
           "#B6E880",
           "#FF97FF",
           "#FECB52"
          ],
          "font": {
           "color": "#2a3f5f"
          },
          "geo": {
           "bgcolor": "white",
           "lakecolor": "white",
           "landcolor": "#E5ECF6",
           "showlakes": true,
           "showland": true,
           "subunitcolor": "white"
          },
          "hoverlabel": {
           "align": "left"
          },
          "hovermode": "closest",
          "mapbox": {
           "style": "light"
          },
          "paper_bgcolor": "white",
          "plot_bgcolor": "#E5ECF6",
          "polar": {
           "angularaxis": {
            "gridcolor": "white",
            "linecolor": "white",
            "ticks": ""
           },
           "bgcolor": "#E5ECF6",
           "radialaxis": {
            "gridcolor": "white",
            "linecolor": "white",
            "ticks": ""
           }
          },
          "scene": {
           "xaxis": {
            "backgroundcolor": "#E5ECF6",
            "gridcolor": "white",
            "gridwidth": 2,
            "linecolor": "white",
            "showbackground": true,
            "ticks": "",
            "zerolinecolor": "white"
           },
           "yaxis": {
            "backgroundcolor": "#E5ECF6",
            "gridcolor": "white",
            "gridwidth": 2,
            "linecolor": "white",
            "showbackground": true,
            "ticks": "",
            "zerolinecolor": "white"
           },
           "zaxis": {
            "backgroundcolor": "#E5ECF6",
            "gridcolor": "white",
            "gridwidth": 2,
            "linecolor": "white",
            "showbackground": true,
            "ticks": "",
            "zerolinecolor": "white"
           }
          },
          "shapedefaults": {
           "line": {
            "color": "#2a3f5f"
           }
          },
          "ternary": {
           "aaxis": {
            "gridcolor": "white",
            "linecolor": "white",
            "ticks": ""
           },
           "baxis": {
            "gridcolor": "white",
            "linecolor": "white",
            "ticks": ""
           },
           "bgcolor": "#E5ECF6",
           "caxis": {
            "gridcolor": "white",
            "linecolor": "white",
            "ticks": ""
           }
          },
          "title": {
           "x": 0.05
          },
          "xaxis": {
           "automargin": true,
           "gridcolor": "white",
           "linecolor": "white",
           "ticks": "",
           "title": {
            "standoff": 15
           },
           "zerolinecolor": "white",
           "zerolinewidth": 2
          },
          "yaxis": {
           "automargin": true,
           "gridcolor": "white",
           "linecolor": "white",
           "ticks": "",
           "title": {
            "standoff": 15
           },
           "zerolinecolor": "white",
           "zerolinewidth": 2
          }
         }
        },
        "title": {},
        "width": 800,
        "xaxis": {
         "constrain": "domain",
         "fixedrange": true,
         "range": [
          -5,
          110
         ],
         "scaleanchor": "y",
         "showgrid": false,
         "showticklabels": false,
         "visible": false,
         "zeroline": false
        },
        "yaxis": {
         "constrain": "domain",
         "fixedrange": true,
         "range": [
          -5,
          73
         ],
         "showgrid": false,
         "showticklabels": false,
         "visible": false,
         "zeroline": false
        }
       }
      }
     },
     "metadata": {},
     "output_type": "display_data"
    }
   ],
   "source": [
    "df2 = pd.DataFrame({\n",
    "    'x': np.random.uniform(0, 120, 500),\n",
    "    'y': np.random.uniform(0, 80, 500)\n",
    "})\n",
    "\n",
    "# Create the pitch and plot the heatmap\n",
    "pitch = pb.viz.Pitch(theme=\"white\")\n",
    "pitch.plot_heatmap(df2, x='x', y='y')\n",
    "pitch.show()"
   ]
  },
  {
   "cell_type": "code",
   "execution_count": null,
   "id": "55eef370",
   "metadata": {},
   "outputs": [],
   "source": []
  },
  {
   "cell_type": "code",
   "execution_count": 4,
   "id": "bf6aba83",
   "metadata": {},
   "outputs": [
    {
     "data": {
      "application/vnd.plotly.v1+json": {
       "config": {
        "displaylogo": false,
        "plotlyServerURL": "https://plot.ly"
       },
       "data": [
        {
         "hoverinfo": "skip",
         "line": {
          "color": "black"
         },
         "mode": "lines",
         "showlegend": false,
         "type": "scatter",
         "x": {
          "bdata": "DMoz1SnGL0CC5mMWgiMwQKaC9jj0YTBASMslY1WeMEA4LpNfkNgwQMKJILqQEDFA4l8fx0JGMUAYojmqk3kxQKioEV1xqjFAaAGXtcrYMUAA3Q1sjwQyQDn8xiCwLTJAdhuGYR5UMkBr9pSuzHcyQBocgX+umDJAeOiCR7i2MkAbGIx539EyQOKI/Isa6jJAotr7+2D/MkBMwnZQqxEzQPsCvxzzIDNAuCDNAjMtM0AWAiO1ZjYzQDDXTviKPDNA+L0NpJ0/M0D4vQ2knT8zQDDXTviKPDNAFwIjtWY2M0C3IM0CMy0zQPwCvxzzIDNATMJ2UKsRM0Ci2vv7YP8yQOOI/Isa6jJAGhiMed/RMkB46IJHuLYyQBocgX+umDJAbPaUrsx3MkB2G4ZhHlQyQDr8xiCwLTJAAd0NbI8EMkBpAZe1ytgxQKmoEV1xqjFAGKI5qpN5MUDiXx/HQkYxQMGJILqQEDFAOC6TX5DYMEBIyyVjVZ4wQKaC9jj0YTBAg+ZjFoIjMEAKyjPVKcYvQA==",
          "dtype": "f8"
         },
         "y": {
          "bdata": "tSwLHdsaO0CxVvU5JE87QGxdQPzGhTtANY4JM7C+O0Axd9fgy/k7QBJun0IFNzxALXwQ10Z2PEAuICFmerc8QDc+3QiJ+jxAiIBxMVs/PUB8VXGz2IU9QLCiVMzozT1AGDIqLHIXPkCgynv+WmI+QELVYPOIrj5AT168SOH7PkBINKPTSEo/QLDW5gmkmT9AL9vBC9fpP0BpMdHWYh1AQJuXB8EpRkBA7O7R8TFvQEDHY5D/bJhAQMV9xW7MwUBApWMst0HrQEBanNNIvhRBQDuCOpEzPkFAOJxvAJNnQUAVES4OzpBBQGRo+D7WuUFAmM4uKZ3iQUBoEh96FAtCQKiUDPstM0JA3GUulttaQkDY0KFbD4JCQF+VT4a7qEJAsBrCgNLOQkD05urpRvRCQKeu1ZkLGUNAQVVHphM9Q0C8P0dnUmBDQORgkXu7gkNA6W/vzEKkQ0DpwXeU3MRDQPdIsF595ENAZ0SUDxoDREDlOHvmpyBEQErR34EcPURAp1QF421YRECmaXpxknJEQA==",
          "dtype": "f8"
         }
        },
        {
         "hoverinfo": "skip",
         "line": {
          "color": "black"
         },
         "mode": "lines",
         "showlegend": false,
         "type": "scatter",
         "x": {
          "bdata": "v4ZZxTpHVkBfBmd6HzdWQFZfwvGCJ1ZALo02p2oYVkByNBvo2wlWQI/dd9Hb+1VACCg4Tm/uVUB6l3EVm+FVQNaVu6hj1VVApj+aUs3JVUDAiPwk3L5VQPFAzveTtFVAInmeZ/iqVUBlwlrUDKJVQPq4H2DUmVVA4kUf7lGSVUD5+ZwhiItVQMfdAF15hVVAVwkBwSeAVUBtT+IrlXtVQEE/0DjDd1VA0rdMP7N0VUB6P7dSZnJVQDRK7EHdcFVAgpD8lhhwVUCCkPyWGHBVQDRK7EHdcFVAej+3UmZyVUDSt0w/s3RVQEE/0DjDd1VAbU/iK5V7VUBYCQHBJ4BVQMfdAF15hVVA+fmcIYiLVUDiRR/uUZJVQPq4H2DUmVVAZcJa1AyiVUAieZ5n+KpVQPJAzveTtFVAwIj8JNy+VUCmP5pSzclVQNaVu6hj1VVAepdxFZvhVUAIKDhOb+5VQJDdd9Hb+1VAcjQb6NsJVkAujTanahhWQFZfwvGCJ1ZAXwZneh83VkC/hlnFOkdWQA==",
          "dtype": "f8"
         },
         "y": {
          "bdata": "pml6cZJyRECnVAXjbVhEQErR34EcPURA5Th75qcgREBnRJQPGgNEQPdIsF595ENA6cF3lNzEQ0Dpb+/MQqRDQORgkXu7gkNAuz9HZ1JgQ0BCVUemEz1DQKeu1ZkLGUNA9Obq6Ub0QkCwGsKA0s5CQF+VT4a7qEJA2NChWw+CQkDcZS6W21pCQKiUDPstM0JAaBIfehQLQkCXzi4pneJBQGVo+D7WuUFAFBEuDs6QQUA5nG8Ak2dBQDqCOpEzPkFAW5zTSL4UQUClYyy3QetAQMV9xW7MwUBAyGOQ/2yYQEDr7tHxMW9AQJuXB8EpRkBAaTHR1mIdQEAw28EL1+k/QK/W5gmkmT9ASDSj00hKP0BQXrxI4fs+QELVYPOIrj5Aocp7/lpiPkAYMioschc+QLGiVMzozT1AfFVxs9iFPUCIgHExWz89QDg+3QiJ+jxALiAhZnq3PEAufBDXRnY8QBJun0IFNzxAMnfX4Mv5O0A1jgkzsL47QGxdQPzGhTtAslb1OSRPO0C0LAsd2xo7QA==",
          "dtype": "f8"
         }
        },
        {
         "hoverinfo": "skip",
         "marker": {
          "color": "black",
          "size": 6
         },
         "mode": "markers",
         "showlegend": false,
         "type": "scatter",
         "x": [
          10.5
         ],
         "y": [
          34
         ]
        },
        {
         "hoverinfo": "skip",
         "marker": {
          "color": "black",
          "size": 6
         },
         "mode": "markers",
         "showlegend": false,
         "type": "scatter",
         "x": [
          94.5
         ],
         "y": [
          34
         ]
        },
        {
         "hoverinfo": "skip",
         "marker": {
          "color": "black",
          "size": 6
         },
         "mode": "markers",
         "showlegend": false,
         "type": "scatter",
         "x": [
          52.5
         ],
         "y": [
          34
         ]
        },
        {
         "hoverinfo": "text",
         "hovertext": [
          "Alice (30, 40)",
          "Bob (50, 60)",
          "Carol (70, 20)"
         ],
         "marker": {
          "color": "blue",
          "size": 10
         },
         "mode": "markers",
         "type": "scatter",
         "x": {
          "bdata": "AAAAAABAOkAAAAAAAOBFQAAAAAAAoE5A",
          "dtype": "f8"
         },
         "y": {
          "bdata": "AAAAAAAAQUAAAAAAAAAxQAAAAAAAgElA",
          "dtype": "f8"
         }
        }
       ],
       "layout": {
        "annotations": [
         {
          "arrowcolor": "blue",
          "arrowhead": 2,
          "arrowsize": 1.2,
          "arrowwidth": 3,
          "ax": 26.25,
          "axref": "x",
          "ay": 34,
          "ayref": "y",
          "hovertext": "",
          "opacity": 1,
          "showarrow": true,
          "standoff": 0,
          "text": "",
          "x": 39.375,
          "xref": "x",
          "y": 25.5,
          "yref": "y"
         },
         {
          "arrowcolor": "blue",
          "arrowhead": 2,
          "arrowsize": 1.2,
          "arrowwidth": 3,
          "ax": 43.75,
          "axref": "x",
          "ay": 17,
          "ayref": "y",
          "hovertext": "",
          "opacity": 1,
          "showarrow": true,
          "standoff": 0,
          "text": "",
          "x": 56.875,
          "xref": "x",
          "y": 8.5,
          "yref": "y"
         },
         {
          "arrowcolor": "blue",
          "arrowhead": 2,
          "arrowsize": 1.2,
          "arrowwidth": 3,
          "ax": 61.25,
          "axref": "x",
          "ay": 51,
          "ayref": "y",
          "hovertext": "",
          "opacity": 1,
          "showarrow": true,
          "standoff": 0,
          "text": "",
          "x": 70,
          "xref": "x",
          "y": 42.5,
          "yref": "y"
         }
        ],
        "height": 600,
        "margin": {
         "b": 0,
         "l": 0,
         "r": 0,
         "t": 0
        },
        "plot_bgcolor": "white",
        "shapes": [
         {
          "line": {
           "color": "black"
          },
          "type": "rect",
          "x0": 0,
          "x1": 105,
          "y0": 0,
          "y1": 68
         },
         {
          "line": {
           "color": "black"
          },
          "type": "circle",
          "x0": 44,
          "x1": 61,
          "y0": 25.5,
          "y1": 42.5
         },
         {
          "line": {
           "color": "black"
          },
          "type": "rect",
          "x0": 52.5,
          "x1": 52.5,
          "y0": 0,
          "y1": 68
         },
         {
          "line": {
           "color": "black"
          },
          "type": "rect",
          "x0": 0,
          "x1": 15.75,
          "y0": 15.299999999999999,
          "y1": 52.699999999999996
         },
         {
          "line": {
           "color": "black"
          },
          "type": "rect",
          "x0": 89.25,
          "x1": 105,
          "y0": 15.299999999999999,
          "y1": 52.699999999999996
         },
         {
          "line": {
           "color": "black"
          },
          "type": "rect",
          "x0": 0,
          "x1": 5.25,
          "y0": 25.5,
          "y1": 42.5
         },
         {
          "line": {
           "color": "black"
          },
          "type": "rect",
          "x0": 99.75,
          "x1": 105,
          "y0": 25.5,
          "y1": 42.5
         }
        ],
        "showlegend": false,
        "template": {
         "data": {
          "bar": [
           {
            "error_x": {
             "color": "#2a3f5f"
            },
            "error_y": {
             "color": "#2a3f5f"
            },
            "marker": {
             "line": {
              "color": "#E5ECF6",
              "width": 0.5
             },
             "pattern": {
              "fillmode": "overlay",
              "size": 10,
              "solidity": 0.2
             }
            },
            "type": "bar"
           }
          ],
          "barpolar": [
           {
            "marker": {
             "line": {
              "color": "#E5ECF6",
              "width": 0.5
             },
             "pattern": {
              "fillmode": "overlay",
              "size": 10,
              "solidity": 0.2
             }
            },
            "type": "barpolar"
           }
          ],
          "carpet": [
           {
            "aaxis": {
             "endlinecolor": "#2a3f5f",
             "gridcolor": "white",
             "linecolor": "white",
             "minorgridcolor": "white",
             "startlinecolor": "#2a3f5f"
            },
            "baxis": {
             "endlinecolor": "#2a3f5f",
             "gridcolor": "white",
             "linecolor": "white",
             "minorgridcolor": "white",
             "startlinecolor": "#2a3f5f"
            },
            "type": "carpet"
           }
          ],
          "choropleth": [
           {
            "colorbar": {
             "outlinewidth": 0,
             "ticks": ""
            },
            "type": "choropleth"
           }
          ],
          "contour": [
           {
            "colorbar": {
             "outlinewidth": 0,
             "ticks": ""
            },
            "colorscale": [
             [
              0,
              "#0d0887"
             ],
             [
              0.1111111111111111,
              "#46039f"
             ],
             [
              0.2222222222222222,
              "#7201a8"
             ],
             [
              0.3333333333333333,
              "#9c179e"
             ],
             [
              0.4444444444444444,
              "#bd3786"
             ],
             [
              0.5555555555555556,
              "#d8576b"
             ],
             [
              0.6666666666666666,
              "#ed7953"
             ],
             [
              0.7777777777777778,
              "#fb9f3a"
             ],
             [
              0.8888888888888888,
              "#fdca26"
             ],
             [
              1,
              "#f0f921"
             ]
            ],
            "type": "contour"
           }
          ],
          "contourcarpet": [
           {
            "colorbar": {
             "outlinewidth": 0,
             "ticks": ""
            },
            "type": "contourcarpet"
           }
          ],
          "heatmap": [
           {
            "colorbar": {
             "outlinewidth": 0,
             "ticks": ""
            },
            "colorscale": [
             [
              0,
              "#0d0887"
             ],
             [
              0.1111111111111111,
              "#46039f"
             ],
             [
              0.2222222222222222,
              "#7201a8"
             ],
             [
              0.3333333333333333,
              "#9c179e"
             ],
             [
              0.4444444444444444,
              "#bd3786"
             ],
             [
              0.5555555555555556,
              "#d8576b"
             ],
             [
              0.6666666666666666,
              "#ed7953"
             ],
             [
              0.7777777777777778,
              "#fb9f3a"
             ],
             [
              0.8888888888888888,
              "#fdca26"
             ],
             [
              1,
              "#f0f921"
             ]
            ],
            "type": "heatmap"
           }
          ],
          "histogram": [
           {
            "marker": {
             "pattern": {
              "fillmode": "overlay",
              "size": 10,
              "solidity": 0.2
             }
            },
            "type": "histogram"
           }
          ],
          "histogram2d": [
           {
            "colorbar": {
             "outlinewidth": 0,
             "ticks": ""
            },
            "colorscale": [
             [
              0,
              "#0d0887"
             ],
             [
              0.1111111111111111,
              "#46039f"
             ],
             [
              0.2222222222222222,
              "#7201a8"
             ],
             [
              0.3333333333333333,
              "#9c179e"
             ],
             [
              0.4444444444444444,
              "#bd3786"
             ],
             [
              0.5555555555555556,
              "#d8576b"
             ],
             [
              0.6666666666666666,
              "#ed7953"
             ],
             [
              0.7777777777777778,
              "#fb9f3a"
             ],
             [
              0.8888888888888888,
              "#fdca26"
             ],
             [
              1,
              "#f0f921"
             ]
            ],
            "type": "histogram2d"
           }
          ],
          "histogram2dcontour": [
           {
            "colorbar": {
             "outlinewidth": 0,
             "ticks": ""
            },
            "colorscale": [
             [
              0,
              "#0d0887"
             ],
             [
              0.1111111111111111,
              "#46039f"
             ],
             [
              0.2222222222222222,
              "#7201a8"
             ],
             [
              0.3333333333333333,
              "#9c179e"
             ],
             [
              0.4444444444444444,
              "#bd3786"
             ],
             [
              0.5555555555555556,
              "#d8576b"
             ],
             [
              0.6666666666666666,
              "#ed7953"
             ],
             [
              0.7777777777777778,
              "#fb9f3a"
             ],
             [
              0.8888888888888888,
              "#fdca26"
             ],
             [
              1,
              "#f0f921"
             ]
            ],
            "type": "histogram2dcontour"
           }
          ],
          "mesh3d": [
           {
            "colorbar": {
             "outlinewidth": 0,
             "ticks": ""
            },
            "type": "mesh3d"
           }
          ],
          "parcoords": [
           {
            "line": {
             "colorbar": {
              "outlinewidth": 0,
              "ticks": ""
             }
            },
            "type": "parcoords"
           }
          ],
          "pie": [
           {
            "automargin": true,
            "type": "pie"
           }
          ],
          "scatter": [
           {
            "fillpattern": {
             "fillmode": "overlay",
             "size": 10,
             "solidity": 0.2
            },
            "type": "scatter"
           }
          ],
          "scatter3d": [
           {
            "line": {
             "colorbar": {
              "outlinewidth": 0,
              "ticks": ""
             }
            },
            "marker": {
             "colorbar": {
              "outlinewidth": 0,
              "ticks": ""
             }
            },
            "type": "scatter3d"
           }
          ],
          "scattercarpet": [
           {
            "marker": {
             "colorbar": {
              "outlinewidth": 0,
              "ticks": ""
             }
            },
            "type": "scattercarpet"
           }
          ],
          "scattergeo": [
           {
            "marker": {
             "colorbar": {
              "outlinewidth": 0,
              "ticks": ""
             }
            },
            "type": "scattergeo"
           }
          ],
          "scattergl": [
           {
            "marker": {
             "colorbar": {
              "outlinewidth": 0,
              "ticks": ""
             }
            },
            "type": "scattergl"
           }
          ],
          "scattermap": [
           {
            "marker": {
             "colorbar": {
              "outlinewidth": 0,
              "ticks": ""
             }
            },
            "type": "scattermap"
           }
          ],
          "scattermapbox": [
           {
            "marker": {
             "colorbar": {
              "outlinewidth": 0,
              "ticks": ""
             }
            },
            "type": "scattermapbox"
           }
          ],
          "scatterpolar": [
           {
            "marker": {
             "colorbar": {
              "outlinewidth": 0,
              "ticks": ""
             }
            },
            "type": "scatterpolar"
           }
          ],
          "scatterpolargl": [
           {
            "marker": {
             "colorbar": {
              "outlinewidth": 0,
              "ticks": ""
             }
            },
            "type": "scatterpolargl"
           }
          ],
          "scatterternary": [
           {
            "marker": {
             "colorbar": {
              "outlinewidth": 0,
              "ticks": ""
             }
            },
            "type": "scatterternary"
           }
          ],
          "surface": [
           {
            "colorbar": {
             "outlinewidth": 0,
             "ticks": ""
            },
            "colorscale": [
             [
              0,
              "#0d0887"
             ],
             [
              0.1111111111111111,
              "#46039f"
             ],
             [
              0.2222222222222222,
              "#7201a8"
             ],
             [
              0.3333333333333333,
              "#9c179e"
             ],
             [
              0.4444444444444444,
              "#bd3786"
             ],
             [
              0.5555555555555556,
              "#d8576b"
             ],
             [
              0.6666666666666666,
              "#ed7953"
             ],
             [
              0.7777777777777778,
              "#fb9f3a"
             ],
             [
              0.8888888888888888,
              "#fdca26"
             ],
             [
              1,
              "#f0f921"
             ]
            ],
            "type": "surface"
           }
          ],
          "table": [
           {
            "cells": {
             "fill": {
              "color": "#EBF0F8"
             },
             "line": {
              "color": "white"
             }
            },
            "header": {
             "fill": {
              "color": "#C8D4E3"
             },
             "line": {
              "color": "white"
             }
            },
            "type": "table"
           }
          ]
         },
         "layout": {
          "annotationdefaults": {
           "arrowcolor": "#2a3f5f",
           "arrowhead": 0,
           "arrowwidth": 1
          },
          "autotypenumbers": "strict",
          "coloraxis": {
           "colorbar": {
            "outlinewidth": 0,
            "ticks": ""
           }
          },
          "colorscale": {
           "diverging": [
            [
             0,
             "#8e0152"
            ],
            [
             0.1,
             "#c51b7d"
            ],
            [
             0.2,
             "#de77ae"
            ],
            [
             0.3,
             "#f1b6da"
            ],
            [
             0.4,
             "#fde0ef"
            ],
            [
             0.5,
             "#f7f7f7"
            ],
            [
             0.6,
             "#e6f5d0"
            ],
            [
             0.7,
             "#b8e186"
            ],
            [
             0.8,
             "#7fbc41"
            ],
            [
             0.9,
             "#4d9221"
            ],
            [
             1,
             "#276419"
            ]
           ],
           "sequential": [
            [
             0,
             "#0d0887"
            ],
            [
             0.1111111111111111,
             "#46039f"
            ],
            [
             0.2222222222222222,
             "#7201a8"
            ],
            [
             0.3333333333333333,
             "#9c179e"
            ],
            [
             0.4444444444444444,
             "#bd3786"
            ],
            [
             0.5555555555555556,
             "#d8576b"
            ],
            [
             0.6666666666666666,
             "#ed7953"
            ],
            [
             0.7777777777777778,
             "#fb9f3a"
            ],
            [
             0.8888888888888888,
             "#fdca26"
            ],
            [
             1,
             "#f0f921"
            ]
           ],
           "sequentialminus": [
            [
             0,
             "#0d0887"
            ],
            [
             0.1111111111111111,
             "#46039f"
            ],
            [
             0.2222222222222222,
             "#7201a8"
            ],
            [
             0.3333333333333333,
             "#9c179e"
            ],
            [
             0.4444444444444444,
             "#bd3786"
            ],
            [
             0.5555555555555556,
             "#d8576b"
            ],
            [
             0.6666666666666666,
             "#ed7953"
            ],
            [
             0.7777777777777778,
             "#fb9f3a"
            ],
            [
             0.8888888888888888,
             "#fdca26"
            ],
            [
             1,
             "#f0f921"
            ]
           ]
          },
          "colorway": [
           "#636efa",
           "#EF553B",
           "#00cc96",
           "#ab63fa",
           "#FFA15A",
           "#19d3f3",
           "#FF6692",
           "#B6E880",
           "#FF97FF",
           "#FECB52"
          ],
          "font": {
           "color": "#2a3f5f"
          },
          "geo": {
           "bgcolor": "white",
           "lakecolor": "white",
           "landcolor": "#E5ECF6",
           "showlakes": true,
           "showland": true,
           "subunitcolor": "white"
          },
          "hoverlabel": {
           "align": "left"
          },
          "hovermode": "closest",
          "mapbox": {
           "style": "light"
          },
          "paper_bgcolor": "white",
          "plot_bgcolor": "#E5ECF6",
          "polar": {
           "angularaxis": {
            "gridcolor": "white",
            "linecolor": "white",
            "ticks": ""
           },
           "bgcolor": "#E5ECF6",
           "radialaxis": {
            "gridcolor": "white",
            "linecolor": "white",
            "ticks": ""
           }
          },
          "scene": {
           "xaxis": {
            "backgroundcolor": "#E5ECF6",
            "gridcolor": "white",
            "gridwidth": 2,
            "linecolor": "white",
            "showbackground": true,
            "ticks": "",
            "zerolinecolor": "white"
           },
           "yaxis": {
            "backgroundcolor": "#E5ECF6",
            "gridcolor": "white",
            "gridwidth": 2,
            "linecolor": "white",
            "showbackground": true,
            "ticks": "",
            "zerolinecolor": "white"
           },
           "zaxis": {
            "backgroundcolor": "#E5ECF6",
            "gridcolor": "white",
            "gridwidth": 2,
            "linecolor": "white",
            "showbackground": true,
            "ticks": "",
            "zerolinecolor": "white"
           }
          },
          "shapedefaults": {
           "line": {
            "color": "#2a3f5f"
           }
          },
          "ternary": {
           "aaxis": {
            "gridcolor": "white",
            "linecolor": "white",
            "ticks": ""
           },
           "baxis": {
            "gridcolor": "white",
            "linecolor": "white",
            "ticks": ""
           },
           "bgcolor": "#E5ECF6",
           "caxis": {
            "gridcolor": "white",
            "linecolor": "white",
            "ticks": ""
           }
          },
          "title": {
           "x": 0.05
          },
          "xaxis": {
           "automargin": true,
           "gridcolor": "white",
           "linecolor": "white",
           "ticks": "",
           "title": {
            "standoff": 15
           },
           "zerolinecolor": "white",
           "zerolinewidth": 2
          },
          "yaxis": {
           "automargin": true,
           "gridcolor": "white",
           "linecolor": "white",
           "ticks": "",
           "title": {
            "standoff": 15
           },
           "zerolinecolor": "white",
           "zerolinewidth": 2
          }
         }
        },
        "title": {},
        "width": 800,
        "xaxis": {
         "constrain": "domain",
         "fixedrange": true,
         "range": [
          -5,
          110
         ],
         "scaleanchor": "y",
         "showgrid": false,
         "showticklabels": false,
         "visible": false,
         "zeroline": false
        },
        "yaxis": {
         "constrain": "domain",
         "fixedrange": true,
         "range": [
          -5,
          73
         ],
         "showgrid": false,
         "showticklabels": false,
         "visible": false,
         "zeroline": false
        }
       }
      }
     },
     "metadata": {},
     "output_type": "display_data"
    }
   ],
   "source": [
    "data = pd.DataFrame({\n",
    "    'x': [30, 50, 70],\n",
    "    'y': [40, 60, 20],\n",
    "    'x2': [45, 65, 80],\n",
    "    'y2': [50, 70, 30],\n",
    "    'player': ['Alice', 'Bob', 'Carol']\n",
    "})\n",
    "\n",
    "# Create a pitch with a dark theme and Opta dimensions\n",
    "pitch = pb.viz.Pitch(theme=\"white\")\n",
    "\n",
    "# Plot the passes as arrows\n",
    "pitch.plot_arrows(\n",
    "    data, x='x', y='y', x_end='x2', y_end='y2',\n",
    "    width=3, arrowhead=2, arrowsize=1.2, \n",
    ")\n",
    "\n",
    "# Optional: plot player positions at the start of the arrows\n",
    "pitch.plot_scatter(data, x='x', y='y', hover='player')\n",
    "\n",
    "# Show the pitch\n",
    "pitch.show()\n"
   ]
  },
  {
   "cell_type": "code",
   "execution_count": null,
   "id": "72587f76",
   "metadata": {},
   "outputs": [],
   "source": []
  },
  {
   "cell_type": "code",
   "execution_count": 13,
   "id": "01328c30",
   "metadata": {},
   "outputs": [
    {
     "data": {
      "application/vnd.plotly.v1+json": {
       "config": {
        "displaylogo": false,
        "plotlyServerURL": "https://plot.ly"
       },
       "data": [
        {
         "hoverinfo": "skip",
         "line": {
          "color": "black"
         },
         "mode": "lines",
         "showlegend": false,
         "type": "scatter",
         "x": {
          "bdata": "B0ZS5uX2MEBq4Xe0NUQxQPrPJxEljzFAVlotqpnXMUB2N0oMeh0yQLYLJ6ytYDJADnPy7hyhMkBQj6sysd4yQMowFdZUGTNAfs5OQPNQM0DNohDoeIUzQN5hiFrTtjNA9CDUQfHkM0C0Jxlrwg80QB+INMw3NzRAXn0DiUNbNECGtkH42Hs0QHbX+6fsmDRA9p+UYXSyNECOT1stZ8g0QJQDslW92jRAEPTCaXDpNEAbnMM/e/Q0QDkCxfbZ+zRAkH0Q+In/NECQfRD4if80QDkCxfbZ+zRAHJzDP3v0NEAP9MJpcOk0QJQDslW92jRAjk9bLWfINED2n5RhdLI0QHbX+6fsmDRAhrZB+Nh7NEBefQOJQ1s0QB6INMw3NzRAtCcZa8IPNED0INRB8eQzQN9hiFrTtjNAzqIQ6HiFM0B+zk5A81AzQMowFdZUGTNAUI+rMrHeMkAQc/LuHKEyQLULJ6ytYDJAdzdKDHodMkBXWi2qmdcxQPvPJxEljzFAauF3tDVEMUAGRlLm5fYwQA==",
          "dtype": "f8"
         },
         "y": {
          "bdata": "QM9zvNO5OUAIaCbfkfg5QBtwgPshOjpAc3cLCm1+OkDVW88NW8U6QONQvxzTDjtAnC56aLtaO0Br81pH+ag7QKhK1j1x+TtAcM0hCAdMPEDImSGknaA8QDrDmFsX9zxA6giZzlVPPUBZJi7+Oak9QOn/QFekBD5AkteuvXRhPkAkpZCXir8+QDmbrtjEHj9A0tMbDgJ/P0AvEPZpIOA/QO21ouf+IEBAgev77jtSQEBWEXr/tYNAQIYwILhbtUBAxqqbqBvnQEA5VWRX5BhBQHrP30ekSkFAqu6FAEp8QUCAFAQRxK1BQBJKXRgB30FA6fcEy+8PQkAWFvL4fkBCQGOyqJOdcEJAb603tDqgQkA2lCihRc9CQAyAX9St/UJA0+zoAGMrQ0CMe7MYVVhDQGKeM1J0hENAGzPvLbGvQ0BIGe97/NlDQKvaFGFHA0RAS4ZSXIMrRECx6MJLolJEQI9XoHGWeERAFVIYeVKdREBGRPp6ycBEQPLHPwLv4kRA/MtsELcDRUBgGMYhFiNFQA==",
          "dtype": "f8"
         }
        },
        {
         "hoverinfo": "skip",
         "line": {
          "color": "black"
         },
         "mode": "lines",
         "showlegend": false,
         "type": "scatter",
         "x": {
          "bdata": "fm5rhkYCVkClB+KS8u5VQAEMtrs23FVAaql0lRnKVUAicu18obhVQBI99pTUp1VAPGNDxLiXVUAsHFWzU4hVQM6zesqqeVVAYEzsL8NrVUBN1/vFoV5VQIjnXSlLUlVAw/eKr8NGVUATtjllDzxVQPjd8gwyMlVAqCC/HS8pVUBeku/BCSFVQCIKAdbEGVVAAtia52ITVUAcLKk05g1VQBt/k6pQCVVA/EKP5aMFVUD5GA8w4QJVQHK/ToIJAVVAnOD7gR0AVUCc4PuBHQBVQHK/ToIJAVVA+RgPMOECVUD8Qo/lowVVQBt/k6pQCVVAHCypNOYNVUAD2JrnYhNVQCIKAdbEGVVAXpLvwQkhVUCpIL8dLylVQPjd8gwyMlVAE7Y5ZQ88VUDD94qvw0ZVQIjnXSlLUlVATdf7xaFeVUBgTOwvw2tVQM2zesqqeVVALBxVs1OIVUA8Y0PEuJdVQBM99pTUp1VAInLtfKG4VUBrqXSVGcpVQAEMtrs23FVApgfikvLuVUB+bmuGRgJWQA==",
          "dtype": "f8"
         },
         "y": {
          "bdata": "YBjGIRYjRUD8y2wQtwNFQPLHPwLv4kRARkT6esnAREAWUhh5Up1EQI5XoHGWeERAsujCS6JSREBKhlJcgytEQKzaFGFHA0RARxnve/zZQ0AcM+8tsa9DQGKeM1J0hENAjHuzGFVYQ0DT7OgAYytDQAyAX9St/UJANpQooUXPQkBvrTe0OqBCQGOyqJOdcEJAFhby+H5AQkDo9wTL7w9CQBNKXRgB30FAfxQEEcStQUCq7oUASnxBQHnP30ekSkFAOlVkV+QYQUDGqpuoG+dAQIYwILhbtUBAVhF6/7WDQECB6/vuO1JAQO61ouf+IEBALhD2aSDgP0DT0xsOAn8/QDmbrtjEHj9AI6WQl4q/PkCT1669dGE+QOn/QFekBD5AWiYu/jmpPUDqCJnOVU89QDvDmFsX9zxAyJkhpJ2gPEBxzSEIB0w8QKlK1j1x+TtAa/NaR/moO0CdLnpou1o7QONQvxzTDjtA1lvPDVvFOkBydwsKbX46QBxwgPshOjpACGgm35H4OUA/z3O807k5QA==",
          "dtype": "f8"
         }
        },
        {
         "hoverinfo": "skip",
         "marker": {
          "color": "black",
          "size": 6
         },
         "mode": "markers",
         "showlegend": false,
         "type": "scatter",
         "x": [
          10.5
         ],
         "y": [
          34
         ]
        },
        {
         "hoverinfo": "skip",
         "marker": {
          "color": "black",
          "size": 6
         },
         "mode": "markers",
         "showlegend": false,
         "type": "scatter",
         "x": [
          94.5
         ],
         "y": [
          34
         ]
        },
        {
         "hoverinfo": "skip",
         "marker": {
          "color": "black",
          "size": 6
         },
         "mode": "markers",
         "showlegend": false,
         "type": "scatter",
         "x": [
          52.5
         ],
         "y": [
          34
         ]
        },
        {
         "hoverinfo": "skip",
         "line": {
          "color": "rgba(0, 0, 255, 0.05)",
          "width": 4
         },
         "mode": "lines",
         "showlegend": false,
         "type": "scatter",
         "x": [
          10.5,
          12.075
         ],
         "y": [
          61.2,
          59.84
         ]
        },
        {
         "hoverinfo": "skip",
         "line": {
          "color": "rgba(0, 0, 255, 0.10)",
          "width": 4
         },
         "mode": "lines",
         "showlegend": false,
         "type": "scatter",
         "x": [
          12.075,
          13.65
         ],
         "y": [
          59.84,
          58.480000000000004
         ]
        },
        {
         "hoverinfo": "skip",
         "line": {
          "color": "rgba(0, 0, 255, 0.15)",
          "width": 4
         },
         "mode": "lines",
         "showlegend": false,
         "type": "scatter",
         "x": [
          13.65,
          15.225
         ],
         "y": [
          58.480000000000004,
          57.120000000000005
         ]
        },
        {
         "hoverinfo": "skip",
         "line": {
          "color": "rgba(0, 0, 255, 0.20)",
          "width": 4
         },
         "mode": "lines",
         "showlegend": false,
         "type": "scatter",
         "x": [
          15.225,
          16.8
         ],
         "y": [
          57.120000000000005,
          55.760000000000005
         ]
        },
        {
         "hoverinfo": "skip",
         "line": {
          "color": "rgba(0, 0, 255, 0.25)",
          "width": 4
         },
         "mode": "lines",
         "showlegend": false,
         "type": "scatter",
         "x": [
          16.8,
          18.375
         ],
         "y": [
          55.760000000000005,
          54.400000000000006
         ]
        },
        {
         "hoverinfo": "skip",
         "line": {
          "color": "rgba(0, 0, 255, 0.30)",
          "width": 4
         },
         "mode": "lines",
         "showlegend": false,
         "type": "scatter",
         "x": [
          18.375,
          19.95
         ],
         "y": [
          54.400000000000006,
          53.040000000000006
         ]
        },
        {
         "hoverinfo": "skip",
         "line": {
          "color": "rgba(0, 0, 255, 0.35)",
          "width": 4
         },
         "mode": "lines",
         "showlegend": false,
         "type": "scatter",
         "x": [
          19.95,
          21.525
         ],
         "y": [
          53.040000000000006,
          51.68000000000001
         ]
        },
        {
         "hoverinfo": "skip",
         "line": {
          "color": "rgba(0, 0, 255, 0.40)",
          "width": 4
         },
         "mode": "lines",
         "showlegend": false,
         "type": "scatter",
         "x": [
          21.525,
          23.1
         ],
         "y": [
          51.68000000000001,
          50.32
         ]
        },
        {
         "hoverinfo": "skip",
         "line": {
          "color": "rgba(0, 0, 255, 0.45)",
          "width": 4
         },
         "mode": "lines",
         "showlegend": false,
         "type": "scatter",
         "x": [
          23.1,
          24.675
         ],
         "y": [
          50.32,
          48.96
         ]
        },
        {
         "hoverinfo": "skip",
         "line": {
          "color": "rgba(0, 0, 255, 0.50)",
          "width": 4
         },
         "mode": "lines",
         "showlegend": false,
         "type": "scatter",
         "x": [
          24.675,
          26.25
         ],
         "y": [
          48.96,
          47.6
         ]
        },
        {
         "hoverinfo": "skip",
         "line": {
          "color": "rgba(0, 0, 255, 0.55)",
          "width": 4
         },
         "mode": "lines",
         "showlegend": false,
         "type": "scatter",
         "x": [
          26.25,
          27.825000000000003
         ],
         "y": [
          47.6,
          46.24
         ]
        },
        {
         "hoverinfo": "skip",
         "line": {
          "color": "rgba(0, 0, 255, 0.60)",
          "width": 4
         },
         "mode": "lines",
         "showlegend": false,
         "type": "scatter",
         "x": [
          27.825000000000003,
          29.4
         ],
         "y": [
          46.24,
          44.88
         ]
        },
        {
         "hoverinfo": "skip",
         "line": {
          "color": "rgba(0, 0, 255, 0.65)",
          "width": 4
         },
         "mode": "lines",
         "showlegend": false,
         "type": "scatter",
         "x": [
          29.4,
          30.975
         ],
         "y": [
          44.88,
          43.519999999999996
         ]
        },
        {
         "hoverinfo": "skip",
         "line": {
          "color": "rgba(0, 0, 255, 0.70)",
          "width": 4
         },
         "mode": "lines",
         "showlegend": false,
         "type": "scatter",
         "x": [
          30.975,
          32.55
         ],
         "y": [
          43.519999999999996,
          42.160000000000004
         ]
        },
        {
         "hoverinfo": "skip",
         "line": {
          "color": "rgba(0, 0, 255, 0.75)",
          "width": 4
         },
         "mode": "lines",
         "showlegend": false,
         "type": "scatter",
         "x": [
          32.55,
          34.125
         ],
         "y": [
          42.160000000000004,
          40.8
         ]
        },
        {
         "hoverinfo": "skip",
         "line": {
          "color": "rgba(0, 0, 255, 0.80)",
          "width": 4
         },
         "mode": "lines",
         "showlegend": false,
         "type": "scatter",
         "x": [
          34.125,
          35.7
         ],
         "y": [
          40.8,
          39.44
         ]
        },
        {
         "hoverinfo": "skip",
         "line": {
          "color": "rgba(0, 0, 255, 0.85)",
          "width": 4
         },
         "mode": "lines",
         "showlegend": false,
         "type": "scatter",
         "x": [
          35.7,
          37.275
         ],
         "y": [
          39.44,
          38.08
         ]
        },
        {
         "hoverinfo": "skip",
         "line": {
          "color": "rgba(0, 0, 255, 0.90)",
          "width": 4
         },
         "mode": "lines",
         "showlegend": false,
         "type": "scatter",
         "x": [
          37.275,
          38.85
         ],
         "y": [
          38.08,
          36.72
         ]
        },
        {
         "hoverinfo": "skip",
         "line": {
          "color": "rgba(0, 0, 255, 0.95)",
          "width": 4
         },
         "mode": "lines",
         "showlegend": false,
         "type": "scatter",
         "x": [
          38.85,
          40.425
         ],
         "y": [
          36.72,
          35.36
         ]
        },
        {
         "hoverinfo": "text",
         "hovertext": "Alice",
         "line": {
          "color": "rgba(0, 0, 255, 1.00)",
          "width": 4
         },
         "mode": "lines",
         "showlegend": false,
         "type": "scatter",
         "x": [
          40.425,
          42
         ],
         "y": [
          35.36,
          34
         ]
        },
        {
         "hoverinfo": "skip",
         "line": {
          "color": "rgba(0, 0, 255, 0.05)",
          "width": 4
         },
         "mode": "lines",
         "showlegend": false,
         "type": "scatter",
         "x": [
          84,
          83.2125
         ],
         "y": [
          27.200000000000003,
          26.860000000000003
         ]
        },
        {
         "hoverinfo": "skip",
         "line": {
          "color": "rgba(0, 0, 255, 0.10)",
          "width": 4
         },
         "mode": "lines",
         "showlegend": false,
         "type": "scatter",
         "x": [
          83.2125,
          82.425
         ],
         "y": [
          26.860000000000003,
          26.520000000000003
         ]
        },
        {
         "hoverinfo": "skip",
         "line": {
          "color": "rgba(0, 0, 255, 0.15)",
          "width": 4
         },
         "mode": "lines",
         "showlegend": false,
         "type": "scatter",
         "x": [
          82.425,
          81.6375
         ],
         "y": [
          26.520000000000003,
          26.180000000000003
         ]
        },
        {
         "hoverinfo": "skip",
         "line": {
          "color": "rgba(0, 0, 255, 0.20)",
          "width": 4
         },
         "mode": "lines",
         "showlegend": false,
         "type": "scatter",
         "x": [
          81.6375,
          80.85
         ],
         "y": [
          26.180000000000003,
          25.840000000000003
         ]
        },
        {
         "hoverinfo": "skip",
         "line": {
          "color": "rgba(0, 0, 255, 0.25)",
          "width": 4
         },
         "mode": "lines",
         "showlegend": false,
         "type": "scatter",
         "x": [
          80.85,
          80.0625
         ],
         "y": [
          25.840000000000003,
          25.500000000000004
         ]
        },
        {
         "hoverinfo": "skip",
         "line": {
          "color": "rgba(0, 0, 255, 0.30)",
          "width": 4
         },
         "mode": "lines",
         "showlegend": false,
         "type": "scatter",
         "x": [
          80.0625,
          79.275
         ],
         "y": [
          25.500000000000004,
          25.160000000000004
         ]
        },
        {
         "hoverinfo": "skip",
         "line": {
          "color": "rgba(0, 0, 255, 0.35)",
          "width": 4
         },
         "mode": "lines",
         "showlegend": false,
         "type": "scatter",
         "x": [
          79.275,
          78.4875
         ],
         "y": [
          25.160000000000004,
          24.820000000000004
         ]
        },
        {
         "hoverinfo": "skip",
         "line": {
          "color": "rgba(0, 0, 255, 0.40)",
          "width": 4
         },
         "mode": "lines",
         "showlegend": false,
         "type": "scatter",
         "x": [
          78.4875,
          77.7
         ],
         "y": [
          24.820000000000004,
          24.480000000000004
         ]
        },
        {
         "hoverinfo": "skip",
         "line": {
          "color": "rgba(0, 0, 255, 0.45)",
          "width": 4
         },
         "mode": "lines",
         "showlegend": false,
         "type": "scatter",
         "x": [
          77.7,
          76.9125
         ],
         "y": [
          24.480000000000004,
          24.14
         ]
        },
        {
         "hoverinfo": "skip",
         "line": {
          "color": "rgba(0, 0, 255, 0.50)",
          "width": 4
         },
         "mode": "lines",
         "showlegend": false,
         "type": "scatter",
         "x": [
          76.9125,
          76.125
         ],
         "y": [
          24.14,
          23.800000000000004
         ]
        },
        {
         "hoverinfo": "skip",
         "line": {
          "color": "rgba(0, 0, 255, 0.55)",
          "width": 4
         },
         "mode": "lines",
         "showlegend": false,
         "type": "scatter",
         "x": [
          76.125,
          75.3375
         ],
         "y": [
          23.800000000000004,
          23.46
         ]
        },
        {
         "hoverinfo": "skip",
         "line": {
          "color": "rgba(0, 0, 255, 0.60)",
          "width": 4
         },
         "mode": "lines",
         "showlegend": false,
         "type": "scatter",
         "x": [
          75.3375,
          74.55
         ],
         "y": [
          23.46,
          23.120000000000005
         ]
        },
        {
         "hoverinfo": "skip",
         "line": {
          "color": "rgba(0, 0, 255, 0.65)",
          "width": 4
         },
         "mode": "lines",
         "showlegend": false,
         "type": "scatter",
         "x": [
          74.55,
          73.7625
         ],
         "y": [
          23.120000000000005,
          22.78
         ]
        },
        {
         "hoverinfo": "skip",
         "line": {
          "color": "rgba(0, 0, 255, 0.70)",
          "width": 4
         },
         "mode": "lines",
         "showlegend": false,
         "type": "scatter",
         "x": [
          73.7625,
          72.975
         ],
         "y": [
          22.78,
          22.440000000000005
         ]
        },
        {
         "hoverinfo": "skip",
         "line": {
          "color": "rgba(0, 0, 255, 0.75)",
          "width": 4
         },
         "mode": "lines",
         "showlegend": false,
         "type": "scatter",
         "x": [
          72.975,
          72.1875
         ],
         "y": [
          22.440000000000005,
          22.1
         ]
        },
        {
         "hoverinfo": "skip",
         "line": {
          "color": "rgba(0, 0, 255, 0.80)",
          "width": 4
         },
         "mode": "lines",
         "showlegend": false,
         "type": "scatter",
         "x": [
          72.1875,
          71.4
         ],
         "y": [
          22.1,
          21.76
         ]
        },
        {
         "hoverinfo": "skip",
         "line": {
          "color": "rgba(0, 0, 255, 0.85)",
          "width": 4
         },
         "mode": "lines",
         "showlegend": false,
         "type": "scatter",
         "x": [
          71.4,
          70.6125
         ],
         "y": [
          21.76,
          21.42
         ]
        },
        {
         "hoverinfo": "skip",
         "line": {
          "color": "rgba(0, 0, 255, 0.90)",
          "width": 4
         },
         "mode": "lines",
         "showlegend": false,
         "type": "scatter",
         "x": [
          70.6125,
          69.825
         ],
         "y": [
          21.42,
          21.080000000000002
         ]
        },
        {
         "hoverinfo": "skip",
         "line": {
          "color": "rgba(0, 0, 255, 0.95)",
          "width": 4
         },
         "mode": "lines",
         "showlegend": false,
         "type": "scatter",
         "x": [
          69.825,
          69.0375
         ],
         "y": [
          21.080000000000002,
          20.740000000000002
         ]
        },
        {
         "hoverinfo": "text",
         "hovertext": "Bob",
         "line": {
          "color": "rgba(0, 0, 255, 1.00)",
          "width": 4
         },
         "mode": "lines",
         "showlegend": false,
         "type": "scatter",
         "x": [
          69.0375,
          68.25
         ],
         "y": [
          20.740000000000002,
          20.400000000000002
         ]
        },
        {
         "hoverinfo": "skip",
         "line": {
          "color": "rgba(0, 0, 255, 0.05)",
          "width": 4
         },
         "mode": "lines",
         "showlegend": false,
         "type": "scatter",
         "x": [
          73.5,
          74.025
         ],
         "y": [
          54.400000000000006,
          54.06
         ]
        },
        {
         "hoverinfo": "skip",
         "line": {
          "color": "rgba(0, 0, 255, 0.10)",
          "width": 4
         },
         "mode": "lines",
         "showlegend": false,
         "type": "scatter",
         "x": [
          74.025,
          74.55
         ],
         "y": [
          54.06,
          53.720000000000006
         ]
        },
        {
         "hoverinfo": "skip",
         "line": {
          "color": "rgba(0, 0, 255, 0.15)",
          "width": 4
         },
         "mode": "lines",
         "showlegend": false,
         "type": "scatter",
         "x": [
          74.55,
          75.075
         ],
         "y": [
          53.720000000000006,
          53.38
         ]
        },
        {
         "hoverinfo": "skip",
         "line": {
          "color": "rgba(0, 0, 255, 0.20)",
          "width": 4
         },
         "mode": "lines",
         "showlegend": false,
         "type": "scatter",
         "x": [
          75.075,
          75.6
         ],
         "y": [
          53.38,
          53.040000000000006
         ]
        },
        {
         "hoverinfo": "skip",
         "line": {
          "color": "rgba(0, 0, 255, 0.25)",
          "width": 4
         },
         "mode": "lines",
         "showlegend": false,
         "type": "scatter",
         "x": [
          75.6,
          76.125
         ],
         "y": [
          53.040000000000006,
          52.7
         ]
        },
        {
         "hoverinfo": "skip",
         "line": {
          "color": "rgba(0, 0, 255, 0.30)",
          "width": 4
         },
         "mode": "lines",
         "showlegend": false,
         "type": "scatter",
         "x": [
          76.125,
          76.65
         ],
         "y": [
          52.7,
          52.36000000000001
         ]
        },
        {
         "hoverinfo": "skip",
         "line": {
          "color": "rgba(0, 0, 255, 0.35)",
          "width": 4
         },
         "mode": "lines",
         "showlegend": false,
         "type": "scatter",
         "x": [
          76.65,
          77.175
         ],
         "y": [
          52.36000000000001,
          52.02
         ]
        },
        {
         "hoverinfo": "skip",
         "line": {
          "color": "rgba(0, 0, 255, 0.40)",
          "width": 4
         },
         "mode": "lines",
         "showlegend": false,
         "type": "scatter",
         "x": [
          77.175,
          77.7
         ],
         "y": [
          52.02,
          51.68000000000001
         ]
        },
        {
         "hoverinfo": "skip",
         "line": {
          "color": "rgba(0, 0, 255, 0.45)",
          "width": 4
         },
         "mode": "lines",
         "showlegend": false,
         "type": "scatter",
         "x": [
          77.7,
          78.225
         ],
         "y": [
          51.68000000000001,
          51.34
         ]
        },
        {
         "hoverinfo": "skip",
         "line": {
          "color": "rgba(0, 0, 255, 0.50)",
          "width": 4
         },
         "mode": "lines",
         "showlegend": false,
         "type": "scatter",
         "x": [
          78.225,
          78.75
         ],
         "y": [
          51.34,
          51
         ]
        },
        {
         "hoverinfo": "skip",
         "line": {
          "color": "rgba(0, 0, 255, 0.55)",
          "width": 4
         },
         "mode": "lines",
         "showlegend": false,
         "type": "scatter",
         "x": [
          78.75,
          79.275
         ],
         "y": [
          51,
          50.660000000000004
         ]
        },
        {
         "hoverinfo": "skip",
         "line": {
          "color": "rgba(0, 0, 255, 0.60)",
          "width": 4
         },
         "mode": "lines",
         "showlegend": false,
         "type": "scatter",
         "x": [
          79.275,
          79.8
         ],
         "y": [
          50.660000000000004,
          50.32
         ]
        },
        {
         "hoverinfo": "skip",
         "line": {
          "color": "rgba(0, 0, 255, 0.65)",
          "width": 4
         },
         "mode": "lines",
         "showlegend": false,
         "type": "scatter",
         "x": [
          79.8,
          80.325
         ],
         "y": [
          50.32,
          49.980000000000004
         ]
        },
        {
         "hoverinfo": "skip",
         "line": {
          "color": "rgba(0, 0, 255, 0.70)",
          "width": 4
         },
         "mode": "lines",
         "showlegend": false,
         "type": "scatter",
         "x": [
          80.325,
          80.85
         ],
         "y": [
          49.980000000000004,
          49.64
         ]
        },
        {
         "hoverinfo": "skip",
         "line": {
          "color": "rgba(0, 0, 255, 0.75)",
          "width": 4
         },
         "mode": "lines",
         "showlegend": false,
         "type": "scatter",
         "x": [
          80.85,
          81.375
         ],
         "y": [
          49.64,
          49.300000000000004
         ]
        },
        {
         "hoverinfo": "skip",
         "line": {
          "color": "rgba(0, 0, 255, 0.80)",
          "width": 4
         },
         "mode": "lines",
         "showlegend": false,
         "type": "scatter",
         "x": [
          81.375,
          81.9
         ],
         "y": [
          49.300000000000004,
          48.96
         ]
        },
        {
         "hoverinfo": "skip",
         "line": {
          "color": "rgba(0, 0, 255, 0.85)",
          "width": 4
         },
         "mode": "lines",
         "showlegend": false,
         "type": "scatter",
         "x": [
          81.9,
          82.425
         ],
         "y": [
          48.96,
          48.620000000000005
         ]
        },
        {
         "hoverinfo": "skip",
         "line": {
          "color": "rgba(0, 0, 255, 0.90)",
          "width": 4
         },
         "mode": "lines",
         "showlegend": false,
         "type": "scatter",
         "x": [
          82.425,
          82.95
         ],
         "y": [
          48.620000000000005,
          48.28
         ]
        },
        {
         "hoverinfo": "skip",
         "line": {
          "color": "rgba(0, 0, 255, 0.95)",
          "width": 4
         },
         "mode": "lines",
         "showlegend": false,
         "type": "scatter",
         "x": [
          82.95,
          83.475
         ],
         "y": [
          48.28,
          47.940000000000005
         ]
        },
        {
         "hoverinfo": "text",
         "hovertext": "Carol",
         "line": {
          "color": "rgba(0, 0, 255, 1.00)",
          "width": 4
         },
         "mode": "lines",
         "showlegend": false,
         "type": "scatter",
         "x": [
          83.475,
          84
         ],
         "y": [
          47.940000000000005,
          47.6
         ]
        }
       ],
       "layout": {
        "height": 600,
        "margin": {
         "b": 0,
         "l": 0,
         "r": 0,
         "t": 0
        },
        "plot_bgcolor": "white",
        "shapes": [
         {
          "line": {
           "color": "black"
          },
          "type": "rect",
          "x0": 0,
          "x1": 105,
          "y0": 0,
          "y1": 68
         },
         {
          "line": {
           "color": "black"
          },
          "type": "circle",
          "x0": 45.7,
          "x1": 59.3,
          "y0": 27.2,
          "y1": 40.8
         },
         {
          "line": {
           "color": "black"
          },
          "type": "rect",
          "x0": 52.5,
          "x1": 52.5,
          "y0": 68,
          "y1": 0
         },
         {
          "line": {
           "color": "black"
          },
          "type": "rect",
          "x0": 0,
          "x1": 16.8,
          "y0": 12.920000000000002,
          "y1": 55.080000000000005
         },
         {
          "line": {
           "color": "black"
          },
          "type": "rect",
          "x0": 88.2,
          "x1": 105,
          "y0": 55.080000000000005,
          "y1": 12.920000000000002
         },
         {
          "line": {
           "color": "black"
          },
          "type": "rect",
          "x0": 0,
          "x1": 6.300000000000001,
          "y0": 25.16,
          "y1": 42.84
         },
         {
          "line": {
           "color": "black"
          },
          "type": "rect",
          "x0": 98.7,
          "x1": 105,
          "y0": 42.84,
          "y1": 25.16
         }
        ],
        "showlegend": false,
        "template": {
         "data": {
          "bar": [
           {
            "error_x": {
             "color": "#2a3f5f"
            },
            "error_y": {
             "color": "#2a3f5f"
            },
            "marker": {
             "line": {
              "color": "#E5ECF6",
              "width": 0.5
             },
             "pattern": {
              "fillmode": "overlay",
              "size": 10,
              "solidity": 0.2
             }
            },
            "type": "bar"
           }
          ],
          "barpolar": [
           {
            "marker": {
             "line": {
              "color": "#E5ECF6",
              "width": 0.5
             },
             "pattern": {
              "fillmode": "overlay",
              "size": 10,
              "solidity": 0.2
             }
            },
            "type": "barpolar"
           }
          ],
          "carpet": [
           {
            "aaxis": {
             "endlinecolor": "#2a3f5f",
             "gridcolor": "white",
             "linecolor": "white",
             "minorgridcolor": "white",
             "startlinecolor": "#2a3f5f"
            },
            "baxis": {
             "endlinecolor": "#2a3f5f",
             "gridcolor": "white",
             "linecolor": "white",
             "minorgridcolor": "white",
             "startlinecolor": "#2a3f5f"
            },
            "type": "carpet"
           }
          ],
          "choropleth": [
           {
            "colorbar": {
             "outlinewidth": 0,
             "ticks": ""
            },
            "type": "choropleth"
           }
          ],
          "contour": [
           {
            "colorbar": {
             "outlinewidth": 0,
             "ticks": ""
            },
            "colorscale": [
             [
              0,
              "#0d0887"
             ],
             [
              0.1111111111111111,
              "#46039f"
             ],
             [
              0.2222222222222222,
              "#7201a8"
             ],
             [
              0.3333333333333333,
              "#9c179e"
             ],
             [
              0.4444444444444444,
              "#bd3786"
             ],
             [
              0.5555555555555556,
              "#d8576b"
             ],
             [
              0.6666666666666666,
              "#ed7953"
             ],
             [
              0.7777777777777778,
              "#fb9f3a"
             ],
             [
              0.8888888888888888,
              "#fdca26"
             ],
             [
              1,
              "#f0f921"
             ]
            ],
            "type": "contour"
           }
          ],
          "contourcarpet": [
           {
            "colorbar": {
             "outlinewidth": 0,
             "ticks": ""
            },
            "type": "contourcarpet"
           }
          ],
          "heatmap": [
           {
            "colorbar": {
             "outlinewidth": 0,
             "ticks": ""
            },
            "colorscale": [
             [
              0,
              "#0d0887"
             ],
             [
              0.1111111111111111,
              "#46039f"
             ],
             [
              0.2222222222222222,
              "#7201a8"
             ],
             [
              0.3333333333333333,
              "#9c179e"
             ],
             [
              0.4444444444444444,
              "#bd3786"
             ],
             [
              0.5555555555555556,
              "#d8576b"
             ],
             [
              0.6666666666666666,
              "#ed7953"
             ],
             [
              0.7777777777777778,
              "#fb9f3a"
             ],
             [
              0.8888888888888888,
              "#fdca26"
             ],
             [
              1,
              "#f0f921"
             ]
            ],
            "type": "heatmap"
           }
          ],
          "histogram": [
           {
            "marker": {
             "pattern": {
              "fillmode": "overlay",
              "size": 10,
              "solidity": 0.2
             }
            },
            "type": "histogram"
           }
          ],
          "histogram2d": [
           {
            "colorbar": {
             "outlinewidth": 0,
             "ticks": ""
            },
            "colorscale": [
             [
              0,
              "#0d0887"
             ],
             [
              0.1111111111111111,
              "#46039f"
             ],
             [
              0.2222222222222222,
              "#7201a8"
             ],
             [
              0.3333333333333333,
              "#9c179e"
             ],
             [
              0.4444444444444444,
              "#bd3786"
             ],
             [
              0.5555555555555556,
              "#d8576b"
             ],
             [
              0.6666666666666666,
              "#ed7953"
             ],
             [
              0.7777777777777778,
              "#fb9f3a"
             ],
             [
              0.8888888888888888,
              "#fdca26"
             ],
             [
              1,
              "#f0f921"
             ]
            ],
            "type": "histogram2d"
           }
          ],
          "histogram2dcontour": [
           {
            "colorbar": {
             "outlinewidth": 0,
             "ticks": ""
            },
            "colorscale": [
             [
              0,
              "#0d0887"
             ],
             [
              0.1111111111111111,
              "#46039f"
             ],
             [
              0.2222222222222222,
              "#7201a8"
             ],
             [
              0.3333333333333333,
              "#9c179e"
             ],
             [
              0.4444444444444444,
              "#bd3786"
             ],
             [
              0.5555555555555556,
              "#d8576b"
             ],
             [
              0.6666666666666666,
              "#ed7953"
             ],
             [
              0.7777777777777778,
              "#fb9f3a"
             ],
             [
              0.8888888888888888,
              "#fdca26"
             ],
             [
              1,
              "#f0f921"
             ]
            ],
            "type": "histogram2dcontour"
           }
          ],
          "mesh3d": [
           {
            "colorbar": {
             "outlinewidth": 0,
             "ticks": ""
            },
            "type": "mesh3d"
           }
          ],
          "parcoords": [
           {
            "line": {
             "colorbar": {
              "outlinewidth": 0,
              "ticks": ""
             }
            },
            "type": "parcoords"
           }
          ],
          "pie": [
           {
            "automargin": true,
            "type": "pie"
           }
          ],
          "scatter": [
           {
            "fillpattern": {
             "fillmode": "overlay",
             "size": 10,
             "solidity": 0.2
            },
            "type": "scatter"
           }
          ],
          "scatter3d": [
           {
            "line": {
             "colorbar": {
              "outlinewidth": 0,
              "ticks": ""
             }
            },
            "marker": {
             "colorbar": {
              "outlinewidth": 0,
              "ticks": ""
             }
            },
            "type": "scatter3d"
           }
          ],
          "scattercarpet": [
           {
            "marker": {
             "colorbar": {
              "outlinewidth": 0,
              "ticks": ""
             }
            },
            "type": "scattercarpet"
           }
          ],
          "scattergeo": [
           {
            "marker": {
             "colorbar": {
              "outlinewidth": 0,
              "ticks": ""
             }
            },
            "type": "scattergeo"
           }
          ],
          "scattergl": [
           {
            "marker": {
             "colorbar": {
              "outlinewidth": 0,
              "ticks": ""
             }
            },
            "type": "scattergl"
           }
          ],
          "scattermap": [
           {
            "marker": {
             "colorbar": {
              "outlinewidth": 0,
              "ticks": ""
             }
            },
            "type": "scattermap"
           }
          ],
          "scattermapbox": [
           {
            "marker": {
             "colorbar": {
              "outlinewidth": 0,
              "ticks": ""
             }
            },
            "type": "scattermapbox"
           }
          ],
          "scatterpolar": [
           {
            "marker": {
             "colorbar": {
              "outlinewidth": 0,
              "ticks": ""
             }
            },
            "type": "scatterpolar"
           }
          ],
          "scatterpolargl": [
           {
            "marker": {
             "colorbar": {
              "outlinewidth": 0,
              "ticks": ""
             }
            },
            "type": "scatterpolargl"
           }
          ],
          "scatterternary": [
           {
            "marker": {
             "colorbar": {
              "outlinewidth": 0,
              "ticks": ""
             }
            },
            "type": "scatterternary"
           }
          ],
          "surface": [
           {
            "colorbar": {
             "outlinewidth": 0,
             "ticks": ""
            },
            "colorscale": [
             [
              0,
              "#0d0887"
             ],
             [
              0.1111111111111111,
              "#46039f"
             ],
             [
              0.2222222222222222,
              "#7201a8"
             ],
             [
              0.3333333333333333,
              "#9c179e"
             ],
             [
              0.4444444444444444,
              "#bd3786"
             ],
             [
              0.5555555555555556,
              "#d8576b"
             ],
             [
              0.6666666666666666,
              "#ed7953"
             ],
             [
              0.7777777777777778,
              "#fb9f3a"
             ],
             [
              0.8888888888888888,
              "#fdca26"
             ],
             [
              1,
              "#f0f921"
             ]
            ],
            "type": "surface"
           }
          ],
          "table": [
           {
            "cells": {
             "fill": {
              "color": "#EBF0F8"
             },
             "line": {
              "color": "white"
             }
            },
            "header": {
             "fill": {
              "color": "#C8D4E3"
             },
             "line": {
              "color": "white"
             }
            },
            "type": "table"
           }
          ]
         },
         "layout": {
          "annotationdefaults": {
           "arrowcolor": "#2a3f5f",
           "arrowhead": 0,
           "arrowwidth": 1
          },
          "autotypenumbers": "strict",
          "coloraxis": {
           "colorbar": {
            "outlinewidth": 0,
            "ticks": ""
           }
          },
          "colorscale": {
           "diverging": [
            [
             0,
             "#8e0152"
            ],
            [
             0.1,
             "#c51b7d"
            ],
            [
             0.2,
             "#de77ae"
            ],
            [
             0.3,
             "#f1b6da"
            ],
            [
             0.4,
             "#fde0ef"
            ],
            [
             0.5,
             "#f7f7f7"
            ],
            [
             0.6,
             "#e6f5d0"
            ],
            [
             0.7,
             "#b8e186"
            ],
            [
             0.8,
             "#7fbc41"
            ],
            [
             0.9,
             "#4d9221"
            ],
            [
             1,
             "#276419"
            ]
           ],
           "sequential": [
            [
             0,
             "#0d0887"
            ],
            [
             0.1111111111111111,
             "#46039f"
            ],
            [
             0.2222222222222222,
             "#7201a8"
            ],
            [
             0.3333333333333333,
             "#9c179e"
            ],
            [
             0.4444444444444444,
             "#bd3786"
            ],
            [
             0.5555555555555556,
             "#d8576b"
            ],
            [
             0.6666666666666666,
             "#ed7953"
            ],
            [
             0.7777777777777778,
             "#fb9f3a"
            ],
            [
             0.8888888888888888,
             "#fdca26"
            ],
            [
             1,
             "#f0f921"
            ]
           ],
           "sequentialminus": [
            [
             0,
             "#0d0887"
            ],
            [
             0.1111111111111111,
             "#46039f"
            ],
            [
             0.2222222222222222,
             "#7201a8"
            ],
            [
             0.3333333333333333,
             "#9c179e"
            ],
            [
             0.4444444444444444,
             "#bd3786"
            ],
            [
             0.5555555555555556,
             "#d8576b"
            ],
            [
             0.6666666666666666,
             "#ed7953"
            ],
            [
             0.7777777777777778,
             "#fb9f3a"
            ],
            [
             0.8888888888888888,
             "#fdca26"
            ],
            [
             1,
             "#f0f921"
            ]
           ]
          },
          "colorway": [
           "#636efa",
           "#EF553B",
           "#00cc96",
           "#ab63fa",
           "#FFA15A",
           "#19d3f3",
           "#FF6692",
           "#B6E880",
           "#FF97FF",
           "#FECB52"
          ],
          "font": {
           "color": "#2a3f5f"
          },
          "geo": {
           "bgcolor": "white",
           "lakecolor": "white",
           "landcolor": "#E5ECF6",
           "showlakes": true,
           "showland": true,
           "subunitcolor": "white"
          },
          "hoverlabel": {
           "align": "left"
          },
          "hovermode": "closest",
          "mapbox": {
           "style": "light"
          },
          "paper_bgcolor": "white",
          "plot_bgcolor": "#E5ECF6",
          "polar": {
           "angularaxis": {
            "gridcolor": "white",
            "linecolor": "white",
            "ticks": ""
           },
           "bgcolor": "#E5ECF6",
           "radialaxis": {
            "gridcolor": "white",
            "linecolor": "white",
            "ticks": ""
           }
          },
          "scene": {
           "xaxis": {
            "backgroundcolor": "#E5ECF6",
            "gridcolor": "white",
            "gridwidth": 2,
            "linecolor": "white",
            "showbackground": true,
            "ticks": "",
            "zerolinecolor": "white"
           },
           "yaxis": {
            "backgroundcolor": "#E5ECF6",
            "gridcolor": "white",
            "gridwidth": 2,
            "linecolor": "white",
            "showbackground": true,
            "ticks": "",
            "zerolinecolor": "white"
           },
           "zaxis": {
            "backgroundcolor": "#E5ECF6",
            "gridcolor": "white",
            "gridwidth": 2,
            "linecolor": "white",
            "showbackground": true,
            "ticks": "",
            "zerolinecolor": "white"
           }
          },
          "shapedefaults": {
           "line": {
            "color": "#2a3f5f"
           }
          },
          "ternary": {
           "aaxis": {
            "gridcolor": "white",
            "linecolor": "white",
            "ticks": ""
           },
           "baxis": {
            "gridcolor": "white",
            "linecolor": "white",
            "ticks": ""
           },
           "bgcolor": "#E5ECF6",
           "caxis": {
            "gridcolor": "white",
            "linecolor": "white",
            "ticks": ""
           }
          },
          "title": {
           "x": 0.05
          },
          "xaxis": {
           "automargin": true,
           "gridcolor": "white",
           "linecolor": "white",
           "ticks": "",
           "title": {
            "standoff": 15
           },
           "zerolinecolor": "white",
           "zerolinewidth": 2
          },
          "yaxis": {
           "automargin": true,
           "gridcolor": "white",
           "linecolor": "white",
           "ticks": "",
           "title": {
            "standoff": 15
           },
           "zerolinecolor": "white",
           "zerolinewidth": 2
          }
         }
        },
        "title": {},
        "width": 800,
        "xaxis": {
         "constrain": "domain",
         "fixedrange": true,
         "range": [
          -5,
          110
         ],
         "scaleanchor": "y",
         "showgrid": false,
         "showticklabels": false,
         "visible": false,
         "zeroline": false
        },
        "yaxis": {
         "constrain": "domain",
         "fixedrange": true,
         "range": [
          -5,
          73
         ],
         "showgrid": false,
         "showticklabels": false,
         "visible": false,
         "zeroline": false
        }
       }
      }
     },
     "metadata": {},
     "output_type": "display_data"
    }
   ],
   "source": [
    "df = pd.DataFrame({\n",
    "    'x': [10, 80, 70],\n",
    "    'y': [10, 60, 20],\n",
    "    'x2': [40, 65, 80],\n",
    "    'y2': [50, 70, 30],\n",
    "    'player': ['Alice', 'Bob', 'Carol']\n",
    "})\n",
    "\n",
    "pitch = pb.viz.Pitch(width=800, height=600, theme=\"white\", provider=\"wyscout\",)\n",
    "pitch.plot_comets(df, x='x', y='y', x_end='x2', y_end='y2', width=4, segments=20,hover='player')\n",
    "pitch.show()"
   ]
  },
  {
   "cell_type": "code",
   "execution_count": null,
   "id": "9df50019",
   "metadata": {},
   "outputs": [],
   "source": []
  }
 ],
 "metadata": {
  "kernelspec": {
   "display_name": "venv",
   "language": "python",
   "name": "python3"
  },
  "language_info": {
   "codemirror_mode": {
    "name": "ipython",
    "version": 3
   },
   "file_extension": ".py",
   "mimetype": "text/x-python",
   "name": "python",
   "nbconvert_exporter": "python",
   "pygments_lexer": "ipython3",
   "version": "3.13.1"
  }
 },
 "nbformat": 4,
 "nbformat_minor": 5
}
