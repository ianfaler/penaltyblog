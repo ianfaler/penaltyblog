{
 "cells": [
  {
   "cell_type": "markdown",
   "id": "9e38dcff",
   "metadata": {},
   "source": [
    "# Pitch"
   ]
  },
  {
   "cell_type": "code",
   "execution_count": 1,
   "id": "020e4320-ccad-4b79-b63c-8eb0c120cad6",
   "metadata": {},
   "outputs": [],
   "source": [
    "import penaltyblog as pb\n",
    "import numpy as np\n",
    "import pandas as pd"
   ]
  },
  {
   "cell_type": "code",
   "execution_count": 6,
   "id": "cabbbde4-aad2-4748-b029-80ec027e9a1e",
   "metadata": {},
   "outputs": [
    {
     "data": {
      "application/vnd.plotly.v1+json": {
       "config": {
        "displaylogo": false,
        "plotlyServerURL": "https://plot.ly"
       },
       "data": [
        {
         "hoverinfo": "skip",
         "line": {
          "color": "#ffffff"
         },
         "mode": "lines",
         "showlegend": false,
         "type": "scatter",
         "x": {
          "bdata": "mpmZmZnZMUB7sQ/8zyIyQNz28hfPaTJALwlf+HyuMkBP4VKBwPAyQBzs3niBMDNARn4AkKhtM0BeZCdrH6gzQJFxYqrQ3zNA+A8w8acUNEAg9+/tkUY0QApQ82B8dTRAhrEoI1ahNECPhGEsD8o0QKCFLpmY7zRAdj5RsOQRNUDUesDn5jA1QI7iPemTTDVA7wt7luFkNUB2gswMx3k1QKhnaag8izVAAH42BzyZNUB9mBsLwKM1QGyU4tvEqjVAUC6f6EeuNUBQLp/oR641QGyU4tvEqjVAfZgbC8CjNUAAfjYHPJk1QKhnaag8izVAdoLMDMd5NUDvC3uW4WQ1QI7iPemTTDVA1HrA5+YwNUB2PlGw5BE1QJ+FLpmY7zRAj4RhLA/KNECGsSgjVqE0QApQ82B8dTRAIPfv7ZFGNED4DzDxpxQ0QJFxYqrQ3zNAXmQnax+oM0BFfgCQqG0zQBzs3niBMDNAT+FSgcDwMkAuCV/4fK4yQNz28hfPaTJAerEP/M8iMkCamZmZmdkxQA==",
          "dtype": "f8"
         },
         "y": {
          "bdata": "dyibImdSOkBAmGOTqos6QJE777WnxzpA4uScm0gGO0BLsbtedkc7QD4X6ioZiztAXTnMRRjRO0D9TRYYWhk8QDTN5zbEYzxAvPlzbTuwPEC+PPTGo/48QH6x4JjgTj1AWSRrjdSgPUAosDiuYfQ9QC8OVm9pST5AZZdiusyfPkC94e35a/c+QMDRAyUnUD9Aqefiyt2pP0DqP2yPNwJAQEFYHwLdL0BAOLFLjc5dQECyG+Bk+4tAQDlkHadSukBAPV/CYsPoQEDDoD2dPBdBQMeb4litRUFATuQfmwR0QUDITrRyMaJBQL+n4P0i0EFAFsCTcMj9QUAsjI4aEStCQCAXfm3sV0JAIg8JA0qEQkBOtM6iGbBCQOn4VEhL20JA7KfjKM8FQ0DUbUq5lS9DQEGnj7OPWENAoeGFHK6AQ0AiA0ZJ4qdDQGYZjOQdzkNAAtn081LzQ0BS4xndcxdEQGH0impzOkRAWyei0ERcRECPjTGy23xEQDhiCCUsnERA4DNOtiq6REDEa7JuzNZEQA==",
          "dtype": "f8"
         }
        },
        {
         "hoverinfo": "skip",
         "line": {
          "color": "#ffffff"
         },
         "mode": "lines",
         "showlegend": false,
         "type": "scatter",
         "x": {
          "bdata": "mpmZmZnJVUCiE/wATLdVQElCAzqMpVVAtT3owWCUVUCsR6vfz4NVQPlEyKHfc1VAb+D/25VkVUDpJjYl+FVVQJxjZ9ULSFVAAvyzA9Y6VUA4AoSEWy5VQP4rw+egIlVAntM1d6oXVUDcnuc0fA1VQJhetNkZBFVAYrDr04b7VEBL4Q9GxvNUQF2HsAXb7FRABD1hmsfmVEBi38w8juFUQBam5dUw3VRAgGAy/rDZVEDhGTn9D9dUQOVaB8lO1VRAbDTYBW7UVEBsNNgFbtRUQOVaB8lO1VRA4Rk5/Q/XVECAYDL+sNlUQBam5dUw3VRAYt/MPI7hVEAEPWGax+ZUQFyHsAXb7FRAS+EPRsbzVEBisOvThvtUQJhetNkZBFVA3J7nNHwNVUCe0zV3qhdVQP4rw+egIlVAOAKEhFsuVUAC/LMD1jpVQJxjZ9ULSFVA6SY2JfhVVUBv4P/blWRVQPlEyKHfc1VArUer38+DVUC1PejBYJRVQElCAzqMpVVAohP8AEy3VUCamZmZmclVQA==",
          "dtype": "f8"
         },
         "y": {
          "bdata": "xWuybszWREDhM062KrpEQDhiCCUsnERAkI0xstt8REBcJ6LQRFxEQGL0impzOkRAUuMZ3XMXREAC2fTzUvNDQGcZjOQdzkNAIwNGSeKnQ0Ch4YUcroBDQEKnj7OPWENA1G1KuZUvQ0Dtp+MozwVDQOn4VEhL20JATrTOohmwQkAiDwkDSoRCQCAXfm3sV0JALIyOGhErQkAWwJNwyP1BQL+n4P0i0EFAyE60cjGiQUBO5B+bBHRBQMeb4litRUFAw6A9nTwXQUA9X8Jiw+hAQDlkHadSukBAshvgZPuLQEA4sUuNzl1AQEFYHwLdL0BA6j9sjzcCQECo5+LK3ak/QMDRAyUnUD9AveHt+Wv3PkBkl2K6zJ8+QC4OVm9pST5AJ7A4rmH0PUBYJGuN1KA9QHyx4JjgTj1AvDz0xqP+PEC6+XNtO7A8QDHN5zbEYzxA+00WGFoZPEBbOcxFGNE7QDwX6ioZiztASbG7XnZHO0Dg5JybSAY7QJA777WnxzpAPphjk6qLOkB1KJsiZ1I6QA==",
          "dtype": "f8"
         }
        },
        {
         "hoverinfo": "skip",
         "marker": {
          "color": "#ffffff",
          "size": 6
         },
         "mode": "markers",
         "showlegend": false,
         "type": "scatter",
         "x": [
          12.075000000000001
         ],
         "y": [
          34
         ]
        },
        {
         "hoverinfo": "skip",
         "marker": {
          "color": "#ffffff",
          "size": 6
         },
         "mode": "markers",
         "showlegend": false,
         "type": "scatter",
         "x": [
          92.925
         ],
         "y": [
          34
         ]
        },
        {
         "hoverinfo": "skip",
         "marker": {
          "color": "#ffffff",
          "size": 6
         },
         "mode": "markers",
         "showlegend": false,
         "type": "scatter",
         "x": [
          52.5
         ],
         "y": [
          34
         ]
        },
        {
         "hoverinfo": "text",
         "hovertext": [
          "Player 1 (80.3, 22.8)",
          "Player 2 (70.3, 29.0)",
          "Player 3 (76.8, 11.1)",
          "Player 4 (92.5, 41.3)",
          "Player 5 (19.2, 52.9)",
          "Player 6 (65.2, 0.3)",
          "Player 7 (4.5, 43.6)",
          "Player 8 (54.6, 86.3)",
          "Player 9 (73.3, 87.2)",
          "Player 10 (6.5, 20.0)",
          "Player 11 (8.6, 18.0)"
         ],
         "marker": {
          "color": "#1f77b4",
          "size": 10
         },
         "mode": "markers",
         "showlegend": false,
         "type": "scatter",
         "x": {
          "bdata": "mzSdGBcXVUAiYNcJBXdSQBmUo/p8JlRAZOTXvpNJWEBc5dO+CCE0QM921E27GlFAt3nvJuf6EkDPJU0IlKpMQOBeCs1eO1NAwIoP+3pxG0CdaUgpZB8iQA==",
          "dtype": "f8"
         },
         "y": {
          "bdata": "ghCY1poJL0B+n2lb47AzQNwxACDISR5Au1ddIYQbPEB91e0LsP9BQPEAxF0DZ8w/XS1eh0mnPUD32Mc2fllNQE5eMr5jok1A7L2ZJOk5K0CkKvmhuoMoQA==",
          "dtype": "f8"
         }
        }
       ],
       "layout": {
        "font": {
         "color": "#ffffff",
         "family": "Helvetica Neue, Arial, sans-serif"
        },
        "height": 400,
        "hoverlabel": {
         "bgcolor": "rgba(40,60,40,0.9)",
         "bordercolor": "rgba(255,255,255,0.2)",
         "font": {
          "color": "white",
          "family": "Helvetica Neue, Arial, sans-serif",
          "size": 15
         }
        },
        "margin": {
         "b": 0,
         "l": 0,
         "r": 0,
         "t": 0
        },
        "paper_bgcolor": "#7a9c72",
        "plot_bgcolor": "#7a9c72",
        "shapes": [
         {
          "line": {
           "color": "#ffffff"
          },
          "type": "rect",
          "x0": 0,
          "x1": 105,
          "y0": 0,
          "y1": 68
         },
         {
          "line": {
           "color": "#ffffff"
          },
          "type": "rect",
          "x0": 52.5,
          "x1": 52.5,
          "y0": 0,
          "y1": 68
         },
         {
          "line": {
           "color": "#ffffff"
          },
          "type": "rect",
          "x0": 0,
          "x1": 17.85,
          "y0": 14.348000000000003,
          "y1": 53.65200000000001
         },
         {
          "line": {
           "color": "#ffffff"
          },
          "type": "rect",
          "x0": 87.15,
          "x1": 105,
          "y0": 14.348000000000003,
          "y1": 53.65200000000001
         },
         {
          "line": {
           "color": "#ffffff"
          },
          "type": "rect",
          "x0": 0,
          "x1": 6.09,
          "y0": 25.024,
          "y1": 42.976000000000006
         },
         {
          "line": {
           "color": "#ffffff"
          },
          "type": "rect",
          "x0": 98.91000000000001,
          "x1": 105,
          "y0": 25.024,
          "y1": 42.976000000000006
         },
         {
          "line": {
           "color": "#ffffff"
          },
          "type": "circle",
          "x0": 42.8925,
          "x1": 62.1075,
          "y0": 24.3925,
          "y1": 43.6075
         }
        ],
        "showlegend": false,
        "template": {
         "data": {
          "bar": [
           {
            "error_x": {
             "color": "#2a3f5f"
            },
            "error_y": {
             "color": "#2a3f5f"
            },
            "marker": {
             "line": {
              "color": "#E5ECF6",
              "width": 0.5
             },
             "pattern": {
              "fillmode": "overlay",
              "size": 10,
              "solidity": 0.2
             }
            },
            "type": "bar"
           }
          ],
          "barpolar": [
           {
            "marker": {
             "line": {
              "color": "#E5ECF6",
              "width": 0.5
             },
             "pattern": {
              "fillmode": "overlay",
              "size": 10,
              "solidity": 0.2
             }
            },
            "type": "barpolar"
           }
          ],
          "carpet": [
           {
            "aaxis": {
             "endlinecolor": "#2a3f5f",
             "gridcolor": "white",
             "linecolor": "white",
             "minorgridcolor": "white",
             "startlinecolor": "#2a3f5f"
            },
            "baxis": {
             "endlinecolor": "#2a3f5f",
             "gridcolor": "white",
             "linecolor": "white",
             "minorgridcolor": "white",
             "startlinecolor": "#2a3f5f"
            },
            "type": "carpet"
           }
          ],
          "choropleth": [
           {
            "colorbar": {
             "outlinewidth": 0,
             "ticks": ""
            },
            "type": "choropleth"
           }
          ],
          "contour": [
           {
            "colorbar": {
             "outlinewidth": 0,
             "ticks": ""
            },
            "colorscale": [
             [
              0,
              "#0d0887"
             ],
             [
              0.1111111111111111,
              "#46039f"
             ],
             [
              0.2222222222222222,
              "#7201a8"
             ],
             [
              0.3333333333333333,
              "#9c179e"
             ],
             [
              0.4444444444444444,
              "#bd3786"
             ],
             [
              0.5555555555555556,
              "#d8576b"
             ],
             [
              0.6666666666666666,
              "#ed7953"
             ],
             [
              0.7777777777777778,
              "#fb9f3a"
             ],
             [
              0.8888888888888888,
              "#fdca26"
             ],
             [
              1,
              "#f0f921"
             ]
            ],
            "type": "contour"
           }
          ],
          "contourcarpet": [
           {
            "colorbar": {
             "outlinewidth": 0,
             "ticks": ""
            },
            "type": "contourcarpet"
           }
          ],
          "heatmap": [
           {
            "colorbar": {
             "outlinewidth": 0,
             "ticks": ""
            },
            "colorscale": [
             [
              0,
              "#0d0887"
             ],
             [
              0.1111111111111111,
              "#46039f"
             ],
             [
              0.2222222222222222,
              "#7201a8"
             ],
             [
              0.3333333333333333,
              "#9c179e"
             ],
             [
              0.4444444444444444,
              "#bd3786"
             ],
             [
              0.5555555555555556,
              "#d8576b"
             ],
             [
              0.6666666666666666,
              "#ed7953"
             ],
             [
              0.7777777777777778,
              "#fb9f3a"
             ],
             [
              0.8888888888888888,
              "#fdca26"
             ],
             [
              1,
              "#f0f921"
             ]
            ],
            "type": "heatmap"
           }
          ],
          "histogram": [
           {
            "marker": {
             "pattern": {
              "fillmode": "overlay",
              "size": 10,
              "solidity": 0.2
             }
            },
            "type": "histogram"
           }
          ],
          "histogram2d": [
           {
            "colorbar": {
             "outlinewidth": 0,
             "ticks": ""
            },
            "colorscale": [
             [
              0,
              "#0d0887"
             ],
             [
              0.1111111111111111,
              "#46039f"
             ],
             [
              0.2222222222222222,
              "#7201a8"
             ],
             [
              0.3333333333333333,
              "#9c179e"
             ],
             [
              0.4444444444444444,
              "#bd3786"
             ],
             [
              0.5555555555555556,
              "#d8576b"
             ],
             [
              0.6666666666666666,
              "#ed7953"
             ],
             [
              0.7777777777777778,
              "#fb9f3a"
             ],
             [
              0.8888888888888888,
              "#fdca26"
             ],
             [
              1,
              "#f0f921"
             ]
            ],
            "type": "histogram2d"
           }
          ],
          "histogram2dcontour": [
           {
            "colorbar": {
             "outlinewidth": 0,
             "ticks": ""
            },
            "colorscale": [
             [
              0,
              "#0d0887"
             ],
             [
              0.1111111111111111,
              "#46039f"
             ],
             [
              0.2222222222222222,
              "#7201a8"
             ],
             [
              0.3333333333333333,
              "#9c179e"
             ],
             [
              0.4444444444444444,
              "#bd3786"
             ],
             [
              0.5555555555555556,
              "#d8576b"
             ],
             [
              0.6666666666666666,
              "#ed7953"
             ],
             [
              0.7777777777777778,
              "#fb9f3a"
             ],
             [
              0.8888888888888888,
              "#fdca26"
             ],
             [
              1,
              "#f0f921"
             ]
            ],
            "type": "histogram2dcontour"
           }
          ],
          "mesh3d": [
           {
            "colorbar": {
             "outlinewidth": 0,
             "ticks": ""
            },
            "type": "mesh3d"
           }
          ],
          "parcoords": [
           {
            "line": {
             "colorbar": {
              "outlinewidth": 0,
              "ticks": ""
             }
            },
            "type": "parcoords"
           }
          ],
          "pie": [
           {
            "automargin": true,
            "type": "pie"
           }
          ],
          "scatter": [
           {
            "fillpattern": {
             "fillmode": "overlay",
             "size": 10,
             "solidity": 0.2
            },
            "type": "scatter"
           }
          ],
          "scatter3d": [
           {
            "line": {
             "colorbar": {
              "outlinewidth": 0,
              "ticks": ""
             }
            },
            "marker": {
             "colorbar": {
              "outlinewidth": 0,
              "ticks": ""
             }
            },
            "type": "scatter3d"
           }
          ],
          "scattercarpet": [
           {
            "marker": {
             "colorbar": {
              "outlinewidth": 0,
              "ticks": ""
             }
            },
            "type": "scattercarpet"
           }
          ],
          "scattergeo": [
           {
            "marker": {
             "colorbar": {
              "outlinewidth": 0,
              "ticks": ""
             }
            },
            "type": "scattergeo"
           }
          ],
          "scattergl": [
           {
            "marker": {
             "colorbar": {
              "outlinewidth": 0,
              "ticks": ""
             }
            },
            "type": "scattergl"
           }
          ],
          "scattermap": [
           {
            "marker": {
             "colorbar": {
              "outlinewidth": 0,
              "ticks": ""
             }
            },
            "type": "scattermap"
           }
          ],
          "scattermapbox": [
           {
            "marker": {
             "colorbar": {
              "outlinewidth": 0,
              "ticks": ""
             }
            },
            "type": "scattermapbox"
           }
          ],
          "scatterpolar": [
           {
            "marker": {
             "colorbar": {
              "outlinewidth": 0,
              "ticks": ""
             }
            },
            "type": "scatterpolar"
           }
          ],
          "scatterpolargl": [
           {
            "marker": {
             "colorbar": {
              "outlinewidth": 0,
              "ticks": ""
             }
            },
            "type": "scatterpolargl"
           }
          ],
          "scatterternary": [
           {
            "marker": {
             "colorbar": {
              "outlinewidth": 0,
              "ticks": ""
             }
            },
            "type": "scatterternary"
           }
          ],
          "surface": [
           {
            "colorbar": {
             "outlinewidth": 0,
             "ticks": ""
            },
            "colorscale": [
             [
              0,
              "#0d0887"
             ],
             [
              0.1111111111111111,
              "#46039f"
             ],
             [
              0.2222222222222222,
              "#7201a8"
             ],
             [
              0.3333333333333333,
              "#9c179e"
             ],
             [
              0.4444444444444444,
              "#bd3786"
             ],
             [
              0.5555555555555556,
              "#d8576b"
             ],
             [
              0.6666666666666666,
              "#ed7953"
             ],
             [
              0.7777777777777778,
              "#fb9f3a"
             ],
             [
              0.8888888888888888,
              "#fdca26"
             ],
             [
              1,
              "#f0f921"
             ]
            ],
            "type": "surface"
           }
          ],
          "table": [
           {
            "cells": {
             "fill": {
              "color": "#EBF0F8"
             },
             "line": {
              "color": "white"
             }
            },
            "header": {
             "fill": {
              "color": "#C8D4E3"
             },
             "line": {
              "color": "white"
             }
            },
            "type": "table"
           }
          ]
         },
         "layout": {
          "annotationdefaults": {
           "arrowcolor": "#2a3f5f",
           "arrowhead": 0,
           "arrowwidth": 1
          },
          "autotypenumbers": "strict",
          "coloraxis": {
           "colorbar": {
            "outlinewidth": 0,
            "ticks": ""
           }
          },
          "colorscale": {
           "diverging": [
            [
             0,
             "#8e0152"
            ],
            [
             0.1,
             "#c51b7d"
            ],
            [
             0.2,
             "#de77ae"
            ],
            [
             0.3,
             "#f1b6da"
            ],
            [
             0.4,
             "#fde0ef"
            ],
            [
             0.5,
             "#f7f7f7"
            ],
            [
             0.6,
             "#e6f5d0"
            ],
            [
             0.7,
             "#b8e186"
            ],
            [
             0.8,
             "#7fbc41"
            ],
            [
             0.9,
             "#4d9221"
            ],
            [
             1,
             "#276419"
            ]
           ],
           "sequential": [
            [
             0,
             "#0d0887"
            ],
            [
             0.1111111111111111,
             "#46039f"
            ],
            [
             0.2222222222222222,
             "#7201a8"
            ],
            [
             0.3333333333333333,
             "#9c179e"
            ],
            [
             0.4444444444444444,
             "#bd3786"
            ],
            [
             0.5555555555555556,
             "#d8576b"
            ],
            [
             0.6666666666666666,
             "#ed7953"
            ],
            [
             0.7777777777777778,
             "#fb9f3a"
            ],
            [
             0.8888888888888888,
             "#fdca26"
            ],
            [
             1,
             "#f0f921"
            ]
           ],
           "sequentialminus": [
            [
             0,
             "#0d0887"
            ],
            [
             0.1111111111111111,
             "#46039f"
            ],
            [
             0.2222222222222222,
             "#7201a8"
            ],
            [
             0.3333333333333333,
             "#9c179e"
            ],
            [
             0.4444444444444444,
             "#bd3786"
            ],
            [
             0.5555555555555556,
             "#d8576b"
            ],
            [
             0.6666666666666666,
             "#ed7953"
            ],
            [
             0.7777777777777778,
             "#fb9f3a"
            ],
            [
             0.8888888888888888,
             "#fdca26"
            ],
            [
             1,
             "#f0f921"
            ]
           ]
          },
          "colorway": [
           "#636efa",
           "#EF553B",
           "#00cc96",
           "#ab63fa",
           "#FFA15A",
           "#19d3f3",
           "#FF6692",
           "#B6E880",
           "#FF97FF",
           "#FECB52"
          ],
          "font": {
           "color": "#2a3f5f"
          },
          "geo": {
           "bgcolor": "white",
           "lakecolor": "white",
           "landcolor": "#E5ECF6",
           "showlakes": true,
           "showland": true,
           "subunitcolor": "white"
          },
          "hoverlabel": {
           "align": "left"
          },
          "hovermode": "closest",
          "mapbox": {
           "style": "light"
          },
          "paper_bgcolor": "white",
          "plot_bgcolor": "#E5ECF6",
          "polar": {
           "angularaxis": {
            "gridcolor": "white",
            "linecolor": "white",
            "ticks": ""
           },
           "bgcolor": "#E5ECF6",
           "radialaxis": {
            "gridcolor": "white",
            "linecolor": "white",
            "ticks": ""
           }
          },
          "scene": {
           "xaxis": {
            "backgroundcolor": "#E5ECF6",
            "gridcolor": "white",
            "gridwidth": 2,
            "linecolor": "white",
            "showbackground": true,
            "ticks": "",
            "zerolinecolor": "white"
           },
           "yaxis": {
            "backgroundcolor": "#E5ECF6",
            "gridcolor": "white",
            "gridwidth": 2,
            "linecolor": "white",
            "showbackground": true,
            "ticks": "",
            "zerolinecolor": "white"
           },
           "zaxis": {
            "backgroundcolor": "#E5ECF6",
            "gridcolor": "white",
            "gridwidth": 2,
            "linecolor": "white",
            "showbackground": true,
            "ticks": "",
            "zerolinecolor": "white"
           }
          },
          "shapedefaults": {
           "line": {
            "color": "#2a3f5f"
           }
          },
          "ternary": {
           "aaxis": {
            "gridcolor": "white",
            "linecolor": "white",
            "ticks": ""
           },
           "baxis": {
            "gridcolor": "white",
            "linecolor": "white",
            "ticks": ""
           },
           "bgcolor": "#E5ECF6",
           "caxis": {
            "gridcolor": "white",
            "linecolor": "white",
            "ticks": ""
           }
          },
          "title": {
           "x": 0.05
          },
          "xaxis": {
           "automargin": true,
           "gridcolor": "white",
           "linecolor": "white",
           "ticks": "",
           "title": {
            "standoff": 15
           },
           "zerolinecolor": "white",
           "zerolinewidth": 2
          },
          "yaxis": {
           "automargin": true,
           "gridcolor": "white",
           "linecolor": "white",
           "ticks": "",
           "title": {
            "standoff": 15
           },
           "zerolinecolor": "white",
           "zerolinewidth": 2
          }
         }
        },
        "title": {},
        "width": 800,
        "xaxis": {
         "constrain": "domain",
         "fixedrange": true,
         "range": [
          -5,
          110
         ],
         "scaleanchor": "y",
         "showgrid": false,
         "showticklabels": false,
         "visible": false,
         "zeroline": false
        },
        "yaxis": {
         "constrain": "domain",
         "fixedrange": true,
         "range": [
          -5,
          73
         ],
         "showgrid": false,
         "showticklabels": false,
         "visible": false,
         "zeroline": false
        }
       }
      }
     },
     "metadata": {},
     "output_type": "display_data"
    }
   ],
   "source": [
    "df = pd.DataFrame({\n",
    "    'x': np.random.uniform(0, 100, 11),\n",
    "    'y': np.random.uniform(0, 100, 11),\n",
    "    'name': [f'Player {i+1}' for i in range(11)]\n",
    "})\n",
    "\n",
    "pitch = pb.viz.Pitch(width=800, height=400, theme=\"turf\", provider=\"opta\")\n",
    "pitch.plot_scatter(df, x='x', y='y', hover='name')\n",
    "pitch.show()\n"
   ]
  },
  {
   "cell_type": "markdown",
   "id": "7f8d3c87",
   "metadata": {},
   "source": []
  },
  {
   "cell_type": "code",
   "execution_count": null,
   "id": "0cc28b7e",
   "metadata": {},
   "outputs": [],
   "source": []
  },
  {
   "cell_type": "code",
   "execution_count": 8,
   "id": "1ab85f7c-2e96-4fc0-950a-7c013f01a26e",
   "metadata": {},
   "outputs": [
    {
     "data": {
      "application/vnd.plotly.v1+json": {
       "config": {
        "displaylogo": false,
        "plotlyServerURL": "https://plot.ly"
       },
       "data": [
        {
         "hoverinfo": "skip",
         "line": {
          "color": "#90caf9"
         },
         "mode": "lines",
         "showlegend": false,
         "type": "scatter",
         "x": {
          "bdata": "AAAAAACAL0BbZ1JhbOovQBMFJym4KDBA1oC41HVaMEBu09KrX4owQHZ6+rhmuDBAHtxunXzkMECDz6aVkw4xQFyvnH2eNjFAfp/o1JBcMUBbvafCXoAxQHsDLxn9oTFAYLiIWWHBMUDVUbu2gd4xQMrG2BhV+TFAJlvVH9MRMkC0AiUm9CcyQBuKHkOxOzJAIscjTQRNMkDQI47b51syQK3qXkhXaDJAG82ysU5yMkDcL/j6ynkyQNfc583JfjJAfcw/m0mBMkB9zD+bSYEyQNfc583JfjJA3C/4+sp5MkAbzbKxTnIyQK3qXkhXaDJA0COO2+dbMkAixyNNBE0yQBuKHkOxOzJAtAIlJvQnMkAmW9Uf0xEyQMrG2BhV+TFA1VG7toHeMUBguIhZYcExQHsDLxn9oTFAW72nwl6AMUB/n+jUkFwxQFyvnH2eNjFAhM+mlZMOMUAe3G6dfOQwQHd6+rhmuDBAbtPSq1+KMEDWgLjUdVowQBQFJym4KDBAW2dSYWzqL0AAAAAAAIAvQA==",
          "dtype": "f8"
         },
         "y": {
          "bdata": "MvWTMpP0O0CWUxJkciQ8QFghYcElVjxA9jktxp2JPECXEtFgyr48QFAJWfea9TxAo0KybP4tPUDadgIm42c9QFkEJxA3oz1Ad49ZpeffPUDzbPjy4R0+QMEIcZ8SXT5AbnBK8GWdPkA5Hk7Qx94+QKAYzdUjIT9ANnH/SGVkP0ByJXwqd6g/QHFcxzlE7T9A23r6fVsZQEBVqy7hXDxAQGIvsVibX0BAsjKh4wuDQED1j3txo6ZAQHclj+VWykBAJ/d0GhvuQEDZCIvl5BFBQInacBqpNUFAC3CEjlxZQUBOzV4c9HxBQJ7QTqdkoEFAq1TRHqPDQUAlhQWCpOZBQMdRHONdCUJAR+3BasQrQkBlR4BbzU1CQLBzGRVub0JA4/DYF5yQQkDJx9oHTbFCQKB7R7B20UJAhsmDBg/xQkBEOFMtDBBDQNR97HdkLkNAk8T+bA5MQ0Cv3qbJAGlDQFh7U4QyhUNAtHaXz5qgQ0AFY+kcMbtDQFRvTx/t1ENANdb2zcbtQ0BnBbZmtgVEQA==",
          "dtype": "f8"
         }
        },
        {
         "hoverinfo": "skip",
         "line": {
          "color": "#90caf9"
         },
         "mode": "lines",
         "showlegend": false,
         "type": "scatter",
         "x": {
          "bdata": "AAAAAABQVkAVs9VzskJWQLs+tvXRNVZAy9/RimIpVkAkSwsVaB1WQGJhwVHmEVZA+Uik2OAGVkAfTJYaW/xVQCnUmGBY8lVAINjFytvoVUCpEFZP6N9VQCE/tLmA11VA6NGdqafPVUCLK1GSX8hVQE7OybmqwVVANqkKOIu7VUBTv3b2ArZVQHldOK8TsVVAOA637L6sVUAMdxwJBqlVQFVF6C3qpVVAuUyTU2yjVUAJ9EFBjaFVQMoIhoxNoFVA4Qwwma2fVUDhDDCZrZ9VQMoIhoxNoFVACfRBQY2hVUC5TJNTbKNVQFVF6C3qpVVADHccCQapVUA4DrfsvqxVQHldOK8TsVVAU7929gK2VUA2qQo4i7tVQE7OybmqwVVAiytRkl/IVUDo0Z2pp89VQCE/tLmA11VAqRBWT+jfVUAg2MXK2+hVQCnUmGBY8lVAH0yWGlv8VUD4SKTY4AZWQGJhwVHmEVZAJUsLFWgdVkDK39GKYilWQLs+tvXRNVZAFbPVc7JCVkAAAAAAAFBWQA==",
          "dtype": "f8"
         },
         "y": {
          "bdata": "ZwW2ZrYFREA11vbNxu1DQFRvTx/t1ENABWPpHDG7Q0C0dpfPmqBDQFh7U4QyhUNAr96myQBpQ0CTxP5sDkxDQNR97HdkLkNARDhTLQwQQ0CHyYMGD/FCQJ97R7B20UJAycfaB02xQkDk8NgXnJBCQLBzGRVub0JAZUeAW81NQkBH7cFqxCtCQMhRHONdCUJAJYUFgqTmQUCrVNEeo8NBQJ7QTqdkoEFATs1eHPR8QUALcISOXFlBQInacBqpNUFA2QiL5eQRQUAn93QaG+5AQHYlj+VWykBA9o97caOmQECyMqHjC4NAQGIvsVibX0BAVasu4Vw8QEDbevp9WxlAQHJcxzlE7T9AcyV8KneoP0A1cf9IZWQ/QKAYzdUjIT9AOR5O0MfePkBucErwZZ0+QMIIcZ8SXT5A82z48uEdPkB3j1ml5989QFkEJxA3oz1A2nYCJuNnPUCkQrJs/i09QFAJWfea9TxAlhLRYMq+PED2OS3GnYk8QFghYcElVjxAllMSZHIkPEAz9ZMyk/Q7QA==",
          "dtype": "f8"
         }
        },
        {
         "hoverinfo": "skip",
         "marker": {
          "color": "#90caf9",
          "size": 6
         },
         "mode": "markers",
         "showlegend": false,
         "type": "scatter",
         "x": [
          10.5
         ],
         "y": [
          34
         ]
        },
        {
         "hoverinfo": "skip",
         "marker": {
          "color": "#90caf9",
          "size": 6
         },
         "mode": "markers",
         "showlegend": false,
         "type": "scatter",
         "x": [
          94.5
         ],
         "y": [
          34
         ]
        },
        {
         "hoverinfo": "skip",
         "marker": {
          "color": "#90caf9",
          "size": 6
         },
         "mode": "markers",
         "showlegend": false,
         "type": "scatter",
         "x": [
          52.5
         ],
         "y": [
          34
         ]
        },
        {
         "colorbar": {
          "title": {
           "text": "Density"
          }
         },
         "colorscale": [
          [
           0,
           "rgb(247,251,255)"
          ],
          [
           0.125,
           "rgb(222,235,247)"
          ],
          [
           0.25,
           "rgb(198,219,239)"
          ],
          [
           0.375,
           "rgb(158,202,225)"
          ],
          [
           0.5,
           "rgb(107,174,214)"
          ],
          [
           0.625,
           "rgb(66,146,198)"
          ],
          [
           0.75,
           "rgb(33,113,181)"
          ],
          [
           0.875,
           "rgb(8,81,156)"
          ],
          [
           1,
           "rgb(8,48,107)"
          ]
         ],
         "hovertemplate": "x: %{x:.1f}<br>y: %{y:.1f}<br>z: %{z}<extra></extra>",
         "opacity": 0.5,
         "showscale": false,
         "type": "histogram2d",
         "x": {
          "bdata": "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",
          "dtype": "f8"
         },
         "xbins": {
          "end": 105,
          "size": 10.5,
          "start": 0
         },
         "y": {
          "bdata": "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",
          "dtype": "f8"
         },
         "ybins": {
          "end": 68,
          "size": 8.5,
          "start": 0
         }
        }
       ],
       "layout": {
        "font": {
         "color": "#90caf9",
         "family": "Helvetica Neue, Arial, sans-serif"
        },
        "height": 600,
        "hoverlabel": {
         "bgcolor": "rgba(255,255,255,0.15)",
         "bordercolor": "rgba(144,202,249,0.6)",
         "font": {
          "color": "white",
          "family": "Helvetica Neue, Arial, sans-serif",
          "size": 16
         }
        },
        "margin": {
         "b": 0,
         "l": 0,
         "r": 0,
         "t": 0
        },
        "paper_bgcolor": "#0f1e2e",
        "plot_bgcolor": "#0f1e2e",
        "shapes": [
         {
          "line": {
           "color": "#90caf9"
          },
          "type": "rect",
          "x0": 0,
          "x1": 105,
          "y0": 0,
          "y1": 68
         },
         {
          "line": {
           "color": "#90caf9"
          },
          "type": "rect",
          "x0": 52.5,
          "x1": 52.5,
          "y0": 68,
          "y1": 0
         },
         {
          "line": {
           "color": "#90caf9"
          },
          "type": "rect",
          "x0": 0,
          "x1": 15.75,
          "y0": 52.699999999999996,
          "y1": 15.299999999999999
         },
         {
          "line": {
           "color": "#90caf9"
          },
          "type": "rect",
          "x0": 89.25,
          "x1": 105,
          "y0": 52.699999999999996,
          "y1": 15.299999999999999
         },
         {
          "line": {
           "color": "#90caf9"
          },
          "type": "rect",
          "x0": 0,
          "x1": 5.25,
          "y0": 42.5,
          "y1": 25.5
         },
         {
          "line": {
           "color": "#90caf9"
          },
          "type": "rect",
          "x0": 99.75,
          "x1": 105,
          "y0": 42.5,
          "y1": 25.5
         },
         {
          "line": {
           "color": "#90caf9"
          },
          "type": "circle",
          "x0": 44.49375,
          "x1": 60.50625,
          "y0": 25.99375,
          "y1": 42.00625
         }
        ],
        "showlegend": false,
        "template": {
         "data": {
          "bar": [
           {
            "error_x": {
             "color": "#2a3f5f"
            },
            "error_y": {
             "color": "#2a3f5f"
            },
            "marker": {
             "line": {
              "color": "#E5ECF6",
              "width": 0.5
             },
             "pattern": {
              "fillmode": "overlay",
              "size": 10,
              "solidity": 0.2
             }
            },
            "type": "bar"
           }
          ],
          "barpolar": [
           {
            "marker": {
             "line": {
              "color": "#E5ECF6",
              "width": 0.5
             },
             "pattern": {
              "fillmode": "overlay",
              "size": 10,
              "solidity": 0.2
             }
            },
            "type": "barpolar"
           }
          ],
          "carpet": [
           {
            "aaxis": {
             "endlinecolor": "#2a3f5f",
             "gridcolor": "white",
             "linecolor": "white",
             "minorgridcolor": "white",
             "startlinecolor": "#2a3f5f"
            },
            "baxis": {
             "endlinecolor": "#2a3f5f",
             "gridcolor": "white",
             "linecolor": "white",
             "minorgridcolor": "white",
             "startlinecolor": "#2a3f5f"
            },
            "type": "carpet"
           }
          ],
          "choropleth": [
           {
            "colorbar": {
             "outlinewidth": 0,
             "ticks": ""
            },
            "type": "choropleth"
           }
          ],
          "contour": [
           {
            "colorbar": {
             "outlinewidth": 0,
             "ticks": ""
            },
            "colorscale": [
             [
              0,
              "#0d0887"
             ],
             [
              0.1111111111111111,
              "#46039f"
             ],
             [
              0.2222222222222222,
              "#7201a8"
             ],
             [
              0.3333333333333333,
              "#9c179e"
             ],
             [
              0.4444444444444444,
              "#bd3786"
             ],
             [
              0.5555555555555556,
              "#d8576b"
             ],
             [
              0.6666666666666666,
              "#ed7953"
             ],
             [
              0.7777777777777778,
              "#fb9f3a"
             ],
             [
              0.8888888888888888,
              "#fdca26"
             ],
             [
              1,
              "#f0f921"
             ]
            ],
            "type": "contour"
           }
          ],
          "contourcarpet": [
           {
            "colorbar": {
             "outlinewidth": 0,
             "ticks": ""
            },
            "type": "contourcarpet"
           }
          ],
          "heatmap": [
           {
            "colorbar": {
             "outlinewidth": 0,
             "ticks": ""
            },
            "colorscale": [
             [
              0,
              "#0d0887"
             ],
             [
              0.1111111111111111,
              "#46039f"
             ],
             [
              0.2222222222222222,
              "#7201a8"
             ],
             [
              0.3333333333333333,
              "#9c179e"
             ],
             [
              0.4444444444444444,
              "#bd3786"
             ],
             [
              0.5555555555555556,
              "#d8576b"
             ],
             [
              0.6666666666666666,
              "#ed7953"
             ],
             [
              0.7777777777777778,
              "#fb9f3a"
             ],
             [
              0.8888888888888888,
              "#fdca26"
             ],
             [
              1,
              "#f0f921"
             ]
            ],
            "type": "heatmap"
           }
          ],
          "histogram": [
           {
            "marker": {
             "pattern": {
              "fillmode": "overlay",
              "size": 10,
              "solidity": 0.2
             }
            },
            "type": "histogram"
           }
          ],
          "histogram2d": [
           {
            "colorbar": {
             "outlinewidth": 0,
             "ticks": ""
            },
            "colorscale": [
             [
              0,
              "#0d0887"
             ],
             [
              0.1111111111111111,
              "#46039f"
             ],
             [
              0.2222222222222222,
              "#7201a8"
             ],
             [
              0.3333333333333333,
              "#9c179e"
             ],
             [
              0.4444444444444444,
              "#bd3786"
             ],
             [
              0.5555555555555556,
              "#d8576b"
             ],
             [
              0.6666666666666666,
              "#ed7953"
             ],
             [
              0.7777777777777778,
              "#fb9f3a"
             ],
             [
              0.8888888888888888,
              "#fdca26"
             ],
             [
              1,
              "#f0f921"
             ]
            ],
            "type": "histogram2d"
           }
          ],
          "histogram2dcontour": [
           {
            "colorbar": {
             "outlinewidth": 0,
             "ticks": ""
            },
            "colorscale": [
             [
              0,
              "#0d0887"
             ],
             [
              0.1111111111111111,
              "#46039f"
             ],
             [
              0.2222222222222222,
              "#7201a8"
             ],
             [
              0.3333333333333333,
              "#9c179e"
             ],
             [
              0.4444444444444444,
              "#bd3786"
             ],
             [
              0.5555555555555556,
              "#d8576b"
             ],
             [
              0.6666666666666666,
              "#ed7953"
             ],
             [
              0.7777777777777778,
              "#fb9f3a"
             ],
             [
              0.8888888888888888,
              "#fdca26"
             ],
             [
              1,
              "#f0f921"
             ]
            ],
            "type": "histogram2dcontour"
           }
          ],
          "mesh3d": [
           {
            "colorbar": {
             "outlinewidth": 0,
             "ticks": ""
            },
            "type": "mesh3d"
           }
          ],
          "parcoords": [
           {
            "line": {
             "colorbar": {
              "outlinewidth": 0,
              "ticks": ""
             }
            },
            "type": "parcoords"
           }
          ],
          "pie": [
           {
            "automargin": true,
            "type": "pie"
           }
          ],
          "scatter": [
           {
            "fillpattern": {
             "fillmode": "overlay",
             "size": 10,
             "solidity": 0.2
            },
            "type": "scatter"
           }
          ],
          "scatter3d": [
           {
            "line": {
             "colorbar": {
              "outlinewidth": 0,
              "ticks": ""
             }
            },
            "marker": {
             "colorbar": {
              "outlinewidth": 0,
              "ticks": ""
             }
            },
            "type": "scatter3d"
           }
          ],
          "scattercarpet": [
           {
            "marker": {
             "colorbar": {
              "outlinewidth": 0,
              "ticks": ""
             }
            },
            "type": "scattercarpet"
           }
          ],
          "scattergeo": [
           {
            "marker": {
             "colorbar": {
              "outlinewidth": 0,
              "ticks": ""
             }
            },
            "type": "scattergeo"
           }
          ],
          "scattergl": [
           {
            "marker": {
             "colorbar": {
              "outlinewidth": 0,
              "ticks": ""
             }
            },
            "type": "scattergl"
           }
          ],
          "scattermap": [
           {
            "marker": {
             "colorbar": {
              "outlinewidth": 0,
              "ticks": ""
             }
            },
            "type": "scattermap"
           }
          ],
          "scattermapbox": [
           {
            "marker": {
             "colorbar": {
              "outlinewidth": 0,
              "ticks": ""
             }
            },
            "type": "scattermapbox"
           }
          ],
          "scatterpolar": [
           {
            "marker": {
             "colorbar": {
              "outlinewidth": 0,
              "ticks": ""
             }
            },
            "type": "scatterpolar"
           }
          ],
          "scatterpolargl": [
           {
            "marker": {
             "colorbar": {
              "outlinewidth": 0,
              "ticks": ""
             }
            },
            "type": "scatterpolargl"
           }
          ],
          "scatterternary": [
           {
            "marker": {
             "colorbar": {
              "outlinewidth": 0,
              "ticks": ""
             }
            },
            "type": "scatterternary"
           }
          ],
          "surface": [
           {
            "colorbar": {
             "outlinewidth": 0,
             "ticks": ""
            },
            "colorscale": [
             [
              0,
              "#0d0887"
             ],
             [
              0.1111111111111111,
              "#46039f"
             ],
             [
              0.2222222222222222,
              "#7201a8"
             ],
             [
              0.3333333333333333,
              "#9c179e"
             ],
             [
              0.4444444444444444,
              "#bd3786"
             ],
             [
              0.5555555555555556,
              "#d8576b"
             ],
             [
              0.6666666666666666,
              "#ed7953"
             ],
             [
              0.7777777777777778,
              "#fb9f3a"
             ],
             [
              0.8888888888888888,
              "#fdca26"
             ],
             [
              1,
              "#f0f921"
             ]
            ],
            "type": "surface"
           }
          ],
          "table": [
           {
            "cells": {
             "fill": {
              "color": "#EBF0F8"
             },
             "line": {
              "color": "white"
             }
            },
            "header": {
             "fill": {
              "color": "#C8D4E3"
             },
             "line": {
              "color": "white"
             }
            },
            "type": "table"
           }
          ]
         },
         "layout": {
          "annotationdefaults": {
           "arrowcolor": "#2a3f5f",
           "arrowhead": 0,
           "arrowwidth": 1
          },
          "autotypenumbers": "strict",
          "coloraxis": {
           "colorbar": {
            "outlinewidth": 0,
            "ticks": ""
           }
          },
          "colorscale": {
           "diverging": [
            [
             0,
             "#8e0152"
            ],
            [
             0.1,
             "#c51b7d"
            ],
            [
             0.2,
             "#de77ae"
            ],
            [
             0.3,
             "#f1b6da"
            ],
            [
             0.4,
             "#fde0ef"
            ],
            [
             0.5,
             "#f7f7f7"
            ],
            [
             0.6,
             "#e6f5d0"
            ],
            [
             0.7,
             "#b8e186"
            ],
            [
             0.8,
             "#7fbc41"
            ],
            [
             0.9,
             "#4d9221"
            ],
            [
             1,
             "#276419"
            ]
           ],
           "sequential": [
            [
             0,
             "#0d0887"
            ],
            [
             0.1111111111111111,
             "#46039f"
            ],
            [
             0.2222222222222222,
             "#7201a8"
            ],
            [
             0.3333333333333333,
             "#9c179e"
            ],
            [
             0.4444444444444444,
             "#bd3786"
            ],
            [
             0.5555555555555556,
             "#d8576b"
            ],
            [
             0.6666666666666666,
             "#ed7953"
            ],
            [
             0.7777777777777778,
             "#fb9f3a"
            ],
            [
             0.8888888888888888,
             "#fdca26"
            ],
            [
             1,
             "#f0f921"
            ]
           ],
           "sequentialminus": [
            [
             0,
             "#0d0887"
            ],
            [
             0.1111111111111111,
             "#46039f"
            ],
            [
             0.2222222222222222,
             "#7201a8"
            ],
            [
             0.3333333333333333,
             "#9c179e"
            ],
            [
             0.4444444444444444,
             "#bd3786"
            ],
            [
             0.5555555555555556,
             "#d8576b"
            ],
            [
             0.6666666666666666,
             "#ed7953"
            ],
            [
             0.7777777777777778,
             "#fb9f3a"
            ],
            [
             0.8888888888888888,
             "#fdca26"
            ],
            [
             1,
             "#f0f921"
            ]
           ]
          },
          "colorway": [
           "#636efa",
           "#EF553B",
           "#00cc96",
           "#ab63fa",
           "#FFA15A",
           "#19d3f3",
           "#FF6692",
           "#B6E880",
           "#FF97FF",
           "#FECB52"
          ],
          "font": {
           "color": "#2a3f5f"
          },
          "geo": {
           "bgcolor": "white",
           "lakecolor": "white",
           "landcolor": "#E5ECF6",
           "showlakes": true,
           "showland": true,
           "subunitcolor": "white"
          },
          "hoverlabel": {
           "align": "left"
          },
          "hovermode": "closest",
          "mapbox": {
           "style": "light"
          },
          "paper_bgcolor": "white",
          "plot_bgcolor": "#E5ECF6",
          "polar": {
           "angularaxis": {
            "gridcolor": "white",
            "linecolor": "white",
            "ticks": ""
           },
           "bgcolor": "#E5ECF6",
           "radialaxis": {
            "gridcolor": "white",
            "linecolor": "white",
            "ticks": ""
           }
          },
          "scene": {
           "xaxis": {
            "backgroundcolor": "#E5ECF6",
            "gridcolor": "white",
            "gridwidth": 2,
            "linecolor": "white",
            "showbackground": true,
            "ticks": "",
            "zerolinecolor": "white"
           },
           "yaxis": {
            "backgroundcolor": "#E5ECF6",
            "gridcolor": "white",
            "gridwidth": 2,
            "linecolor": "white",
            "showbackground": true,
            "ticks": "",
            "zerolinecolor": "white"
           },
           "zaxis": {
            "backgroundcolor": "#E5ECF6",
            "gridcolor": "white",
            "gridwidth": 2,
            "linecolor": "white",
            "showbackground": true,
            "ticks": "",
            "zerolinecolor": "white"
           }
          },
          "shapedefaults": {
           "line": {
            "color": "#2a3f5f"
           }
          },
          "ternary": {
           "aaxis": {
            "gridcolor": "white",
            "linecolor": "white",
            "ticks": ""
           },
           "baxis": {
            "gridcolor": "white",
            "linecolor": "white",
            "ticks": ""
           },
           "bgcolor": "#E5ECF6",
           "caxis": {
            "gridcolor": "white",
            "linecolor": "white",
            "ticks": ""
           }
          },
          "title": {
           "x": 0.05
          },
          "xaxis": {
           "automargin": true,
           "gridcolor": "white",
           "linecolor": "white",
           "ticks": "",
           "title": {
            "standoff": 15
           },
           "zerolinecolor": "white",
           "zerolinewidth": 2
          },
          "yaxis": {
           "automargin": true,
           "gridcolor": "white",
           "linecolor": "white",
           "ticks": "",
           "title": {
            "standoff": 15
           },
           "zerolinecolor": "white",
           "zerolinewidth": 2
          }
         }
        },
        "title": {},
        "width": 800,
        "xaxis": {
         "constrain": "domain",
         "fixedrange": true,
         "range": [
          -5,
          110
         ],
         "scaleanchor": "y",
         "showgrid": false,
         "showticklabels": false,
         "visible": false,
         "zeroline": false
        },
        "yaxis": {
         "constrain": "domain",
         "fixedrange": true,
         "range": [
          -5,
          73
         ],
         "showgrid": false,
         "showticklabels": false,
         "visible": false,
         "zeroline": false
        }
       }
      }
     },
     "metadata": {},
     "output_type": "display_data"
    }
   ],
   "source": [
    "df2 = pd.DataFrame({\n",
    "    'x': np.random.uniform(0, 120, 500),\n",
    "    'y': np.random.uniform(0, 80, 500)\n",
    "})\n",
    "\n",
    "# Create the pitch and plot the heatmap\n",
    "pitch = pb.viz.Pitch(theme=\"night\")\n",
    "pitch.plot_heatmap(df2, x='x', y='y')\n",
    "pitch.show()"
   ]
  },
  {
   "cell_type": "code",
   "execution_count": null,
   "id": "55eef370",
   "metadata": {},
   "outputs": [],
   "source": []
  },
  {
   "cell_type": "code",
   "execution_count": 11,
   "id": "bf6aba83",
   "metadata": {},
   "outputs": [
    {
     "data": {
      "application/vnd.plotly.v1+json": {
       "config": {
        "displaylogo": false,
        "plotlyServerURL": "https://plot.ly"
       },
       "data": [
        {
         "hoverinfo": "skip",
         "line": {
          "color": "#90caf9"
         },
         "mode": "lines",
         "showlegend": false,
         "type": "scatter",
         "x": {
          "bdata": "AAAAAACAL0BbZ1JhbOovQBMFJym4KDBA1oC41HVaMEBu09KrX4owQHZ6+rhmuDBAHtxunXzkMECDz6aVkw4xQFyvnH2eNjFAfp/o1JBcMUBbvafCXoAxQHsDLxn9oTFAYLiIWWHBMUDVUbu2gd4xQMrG2BhV+TFAJlvVH9MRMkC0AiUm9CcyQBuKHkOxOzJAIscjTQRNMkDQI47b51syQK3qXkhXaDJAG82ysU5yMkDcL/j6ynkyQNfc583JfjJAfcw/m0mBMkB9zD+bSYEyQNfc583JfjJA3C/4+sp5MkAbzbKxTnIyQK3qXkhXaDJA0COO2+dbMkAixyNNBE0yQBuKHkOxOzJAtAIlJvQnMkAmW9Uf0xEyQMrG2BhV+TFA1VG7toHeMUBguIhZYcExQHsDLxn9oTFAW72nwl6AMUB/n+jUkFwxQFyvnH2eNjFAhM+mlZMOMUAe3G6dfOQwQHd6+rhmuDBAbtPSq1+KMEDWgLjUdVowQBQFJym4KDBAW2dSYWzqL0AAAAAAAIAvQA==",
          "dtype": "f8"
         },
         "y": {
          "bdata": "MvWTMpP0O0CWUxJkciQ8QFghYcElVjxA9jktxp2JPECXEtFgyr48QFAJWfea9TxAo0KybP4tPUDadgIm42c9QFkEJxA3oz1Ad49ZpeffPUDzbPjy4R0+QMEIcZ8SXT5AbnBK8GWdPkA5Hk7Qx94+QKAYzdUjIT9ANnH/SGVkP0ByJXwqd6g/QHFcxzlE7T9A23r6fVsZQEBVqy7hXDxAQGIvsVibX0BAsjKh4wuDQED1j3txo6ZAQHclj+VWykBAJ/d0GhvuQEDZCIvl5BFBQInacBqpNUFAC3CEjlxZQUBOzV4c9HxBQJ7QTqdkoEFAq1TRHqPDQUAlhQWCpOZBQMdRHONdCUJAR+3BasQrQkBlR4BbzU1CQLBzGRVub0JA4/DYF5yQQkDJx9oHTbFCQKB7R7B20UJAhsmDBg/xQkBEOFMtDBBDQNR97HdkLkNAk8T+bA5MQ0Cv3qbJAGlDQFh7U4QyhUNAtHaXz5qgQ0AFY+kcMbtDQFRvTx/t1ENANdb2zcbtQ0BnBbZmtgVEQA==",
          "dtype": "f8"
         }
        },
        {
         "hoverinfo": "skip",
         "line": {
          "color": "#90caf9"
         },
         "mode": "lines",
         "showlegend": false,
         "type": "scatter",
         "x": {
          "bdata": "AAAAAABQVkAVs9VzskJWQLs+tvXRNVZAy9/RimIpVkAkSwsVaB1WQGJhwVHmEVZA+Uik2OAGVkAfTJYaW/xVQCnUmGBY8lVAINjFytvoVUCpEFZP6N9VQCE/tLmA11VA6NGdqafPVUCLK1GSX8hVQE7OybmqwVVANqkKOIu7VUBTv3b2ArZVQHldOK8TsVVAOA637L6sVUAMdxwJBqlVQFVF6C3qpVVAuUyTU2yjVUAJ9EFBjaFVQMoIhoxNoFVA4Qwwma2fVUDhDDCZrZ9VQMoIhoxNoFVACfRBQY2hVUC5TJNTbKNVQFVF6C3qpVVADHccCQapVUA4DrfsvqxVQHldOK8TsVVAU7929gK2VUA2qQo4i7tVQE7OybmqwVVAiytRkl/IVUDo0Z2pp89VQCE/tLmA11VAqRBWT+jfVUAg2MXK2+hVQCnUmGBY8lVAH0yWGlv8VUD4SKTY4AZWQGJhwVHmEVZAJUsLFWgdVkDK39GKYilWQLs+tvXRNVZAFbPVc7JCVkAAAAAAAFBWQA==",
          "dtype": "f8"
         },
         "y": {
          "bdata": "ZwW2ZrYFREA11vbNxu1DQFRvTx/t1ENABWPpHDG7Q0C0dpfPmqBDQFh7U4QyhUNAr96myQBpQ0CTxP5sDkxDQNR97HdkLkNARDhTLQwQQ0CHyYMGD/FCQJ97R7B20UJAycfaB02xQkDk8NgXnJBCQLBzGRVub0JAZUeAW81NQkBH7cFqxCtCQMhRHONdCUJAJYUFgqTmQUCrVNEeo8NBQJ7QTqdkoEFATs1eHPR8QUALcISOXFlBQInacBqpNUFA2QiL5eQRQUAn93QaG+5AQHYlj+VWykBA9o97caOmQECyMqHjC4NAQGIvsVibX0BAVasu4Vw8QEDbevp9WxlAQHJcxzlE7T9AcyV8KneoP0A1cf9IZWQ/QKAYzdUjIT9AOR5O0MfePkBucErwZZ0+QMIIcZ8SXT5A82z48uEdPkB3j1ml5989QFkEJxA3oz1A2nYCJuNnPUCkQrJs/i09QFAJWfea9TxAlhLRYMq+PED2OS3GnYk8QFghYcElVjxAllMSZHIkPEAz9ZMyk/Q7QA==",
          "dtype": "f8"
         }
        },
        {
         "hoverinfo": "skip",
         "marker": {
          "color": "#90caf9",
          "size": 6
         },
         "mode": "markers",
         "showlegend": false,
         "type": "scatter",
         "x": [
          10.5
         ],
         "y": [
          34
         ]
        },
        {
         "hoverinfo": "skip",
         "marker": {
          "color": "#90caf9",
          "size": 6
         },
         "mode": "markers",
         "showlegend": false,
         "type": "scatter",
         "x": [
          94.5
         ],
         "y": [
          34
         ]
        },
        {
         "hoverinfo": "skip",
         "marker": {
          "color": "#90caf9",
          "size": 6
         },
         "mode": "markers",
         "showlegend": false,
         "type": "scatter",
         "x": [
          52.5
         ],
         "y": [
          34
         ]
        },
        {
         "hoverinfo": "text",
         "hovertext": [
          "Alice (30, 40)",
          "Bob (50, 60)",
          "Carol (70, 20)"
         ],
         "marker": {
          "color": "#ffca28",
          "size": 10
         },
         "mode": "markers",
         "showlegend": false,
         "type": "scatter",
         "x": {
          "bdata": "AAAAAABAOkAAAAAAAOBFQAAAAAAAoE5A",
          "dtype": "f8"
         },
         "y": {
          "bdata": "AAAAAAAAQUAAAAAAAAAxQAAAAAAAgElA",
          "dtype": "f8"
         }
        }
       ],
       "layout": {
        "annotations": [
         {
          "arrowcolor": "#ffca28",
          "arrowhead": 2,
          "arrowsize": 1,
          "arrowwidth": 2,
          "ax": 26.25,
          "axref": "x",
          "ay": 34,
          "ayref": "y",
          "opacity": 1,
          "showarrow": true,
          "x": 39.375,
          "xref": "x",
          "y": 25.5,
          "yref": "y"
         },
         {
          "arrowcolor": "#ffca28",
          "arrowhead": 2,
          "arrowsize": 1,
          "arrowwidth": 2,
          "ax": 43.75,
          "axref": "x",
          "ay": 17,
          "ayref": "y",
          "opacity": 1,
          "showarrow": true,
          "x": 56.875,
          "xref": "x",
          "y": 8.5,
          "yref": "y"
         },
         {
          "arrowcolor": "#ffca28",
          "arrowhead": 2,
          "arrowsize": 1,
          "arrowwidth": 2,
          "ax": 61.25,
          "axref": "x",
          "ay": 51,
          "ayref": "y",
          "opacity": 1,
          "showarrow": true,
          "x": 70,
          "xref": "x",
          "y": 42.5,
          "yref": "y"
         }
        ],
        "font": {
         "color": "#90caf9",
         "family": "Helvetica Neue, Arial, sans-serif"
        },
        "height": 600,
        "hoverlabel": {
         "bgcolor": "rgba(255,255,255,0.15)",
         "bordercolor": "rgba(144,202,249,0.6)",
         "font": {
          "color": "white",
          "family": "Helvetica Neue, Arial, sans-serif",
          "size": 16
         }
        },
        "margin": {
         "b": 0,
         "l": 0,
         "r": 0,
         "t": 0
        },
        "paper_bgcolor": "#0f1e2e",
        "plot_bgcolor": "#0f1e2e",
        "shapes": [
         {
          "line": {
           "color": "#90caf9"
          },
          "type": "rect",
          "x0": 0,
          "x1": 105,
          "y0": 0,
          "y1": 68
         },
         {
          "line": {
           "color": "#90caf9"
          },
          "type": "rect",
          "x0": 52.5,
          "x1": 52.5,
          "y0": 68,
          "y1": 0
         },
         {
          "line": {
           "color": "#90caf9"
          },
          "type": "rect",
          "x0": 0,
          "x1": 15.75,
          "y0": 52.699999999999996,
          "y1": 15.299999999999999
         },
         {
          "line": {
           "color": "#90caf9"
          },
          "type": "rect",
          "x0": 89.25,
          "x1": 105,
          "y0": 52.699999999999996,
          "y1": 15.299999999999999
         },
         {
          "line": {
           "color": "#90caf9"
          },
          "type": "rect",
          "x0": 0,
          "x1": 5.25,
          "y0": 42.5,
          "y1": 25.5
         },
         {
          "line": {
           "color": "#90caf9"
          },
          "type": "rect",
          "x0": 99.75,
          "x1": 105,
          "y0": 42.5,
          "y1": 25.5
         },
         {
          "line": {
           "color": "#90caf9"
          },
          "type": "circle",
          "x0": 44.49375,
          "x1": 60.50625,
          "y0": 25.99375,
          "y1": 42.00625
         }
        ],
        "showlegend": false,
        "template": {
         "data": {
          "bar": [
           {
            "error_x": {
             "color": "#2a3f5f"
            },
            "error_y": {
             "color": "#2a3f5f"
            },
            "marker": {
             "line": {
              "color": "#E5ECF6",
              "width": 0.5
             },
             "pattern": {
              "fillmode": "overlay",
              "size": 10,
              "solidity": 0.2
             }
            },
            "type": "bar"
           }
          ],
          "barpolar": [
           {
            "marker": {
             "line": {
              "color": "#E5ECF6",
              "width": 0.5
             },
             "pattern": {
              "fillmode": "overlay",
              "size": 10,
              "solidity": 0.2
             }
            },
            "type": "barpolar"
           }
          ],
          "carpet": [
           {
            "aaxis": {
             "endlinecolor": "#2a3f5f",
             "gridcolor": "white",
             "linecolor": "white",
             "minorgridcolor": "white",
             "startlinecolor": "#2a3f5f"
            },
            "baxis": {
             "endlinecolor": "#2a3f5f",
             "gridcolor": "white",
             "linecolor": "white",
             "minorgridcolor": "white",
             "startlinecolor": "#2a3f5f"
            },
            "type": "carpet"
           }
          ],
          "choropleth": [
           {
            "colorbar": {
             "outlinewidth": 0,
             "ticks": ""
            },
            "type": "choropleth"
           }
          ],
          "contour": [
           {
            "colorbar": {
             "outlinewidth": 0,
             "ticks": ""
            },
            "colorscale": [
             [
              0,
              "#0d0887"
             ],
             [
              0.1111111111111111,
              "#46039f"
             ],
             [
              0.2222222222222222,
              "#7201a8"
             ],
             [
              0.3333333333333333,
              "#9c179e"
             ],
             [
              0.4444444444444444,
              "#bd3786"
             ],
             [
              0.5555555555555556,
              "#d8576b"
             ],
             [
              0.6666666666666666,
              "#ed7953"
             ],
             [
              0.7777777777777778,
              "#fb9f3a"
             ],
             [
              0.8888888888888888,
              "#fdca26"
             ],
             [
              1,
              "#f0f921"
             ]
            ],
            "type": "contour"
           }
          ],
          "contourcarpet": [
           {
            "colorbar": {
             "outlinewidth": 0,
             "ticks": ""
            },
            "type": "contourcarpet"
           }
          ],
          "heatmap": [
           {
            "colorbar": {
             "outlinewidth": 0,
             "ticks": ""
            },
            "colorscale": [
             [
              0,
              "#0d0887"
             ],
             [
              0.1111111111111111,
              "#46039f"
             ],
             [
              0.2222222222222222,
              "#7201a8"
             ],
             [
              0.3333333333333333,
              "#9c179e"
             ],
             [
              0.4444444444444444,
              "#bd3786"
             ],
             [
              0.5555555555555556,
              "#d8576b"
             ],
             [
              0.6666666666666666,
              "#ed7953"
             ],
             [
              0.7777777777777778,
              "#fb9f3a"
             ],
             [
              0.8888888888888888,
              "#fdca26"
             ],
             [
              1,
              "#f0f921"
             ]
            ],
            "type": "heatmap"
           }
          ],
          "histogram": [
           {
            "marker": {
             "pattern": {
              "fillmode": "overlay",
              "size": 10,
              "solidity": 0.2
             }
            },
            "type": "histogram"
           }
          ],
          "histogram2d": [
           {
            "colorbar": {
             "outlinewidth": 0,
             "ticks": ""
            },
            "colorscale": [
             [
              0,
              "#0d0887"
             ],
             [
              0.1111111111111111,
              "#46039f"
             ],
             [
              0.2222222222222222,
              "#7201a8"
             ],
             [
              0.3333333333333333,
              "#9c179e"
             ],
             [
              0.4444444444444444,
              "#bd3786"
             ],
             [
              0.5555555555555556,
              "#d8576b"
             ],
             [
              0.6666666666666666,
              "#ed7953"
             ],
             [
              0.7777777777777778,
              "#fb9f3a"
             ],
             [
              0.8888888888888888,
              "#fdca26"
             ],
             [
              1,
              "#f0f921"
             ]
            ],
            "type": "histogram2d"
           }
          ],
          "histogram2dcontour": [
           {
            "colorbar": {
             "outlinewidth": 0,
             "ticks": ""
            },
            "colorscale": [
             [
              0,
              "#0d0887"
             ],
             [
              0.1111111111111111,
              "#46039f"
             ],
             [
              0.2222222222222222,
              "#7201a8"
             ],
             [
              0.3333333333333333,
              "#9c179e"
             ],
             [
              0.4444444444444444,
              "#bd3786"
             ],
             [
              0.5555555555555556,
              "#d8576b"
             ],
             [
              0.6666666666666666,
              "#ed7953"
             ],
             [
              0.7777777777777778,
              "#fb9f3a"
             ],
             [
              0.8888888888888888,
              "#fdca26"
             ],
             [
              1,
              "#f0f921"
             ]
            ],
            "type": "histogram2dcontour"
           }
          ],
          "mesh3d": [
           {
            "colorbar": {
             "outlinewidth": 0,
             "ticks": ""
            },
            "type": "mesh3d"
           }
          ],
          "parcoords": [
           {
            "line": {
             "colorbar": {
              "outlinewidth": 0,
              "ticks": ""
             }
            },
            "type": "parcoords"
           }
          ],
          "pie": [
           {
            "automargin": true,
            "type": "pie"
           }
          ],
          "scatter": [
           {
            "fillpattern": {
             "fillmode": "overlay",
             "size": 10,
             "solidity": 0.2
            },
            "type": "scatter"
           }
          ],
          "scatter3d": [
           {
            "line": {
             "colorbar": {
              "outlinewidth": 0,
              "ticks": ""
             }
            },
            "marker": {
             "colorbar": {
              "outlinewidth": 0,
              "ticks": ""
             }
            },
            "type": "scatter3d"
           }
          ],
          "scattercarpet": [
           {
            "marker": {
             "colorbar": {
              "outlinewidth": 0,
              "ticks": ""
             }
            },
            "type": "scattercarpet"
           }
          ],
          "scattergeo": [
           {
            "marker": {
             "colorbar": {
              "outlinewidth": 0,
              "ticks": ""
             }
            },
            "type": "scattergeo"
           }
          ],
          "scattergl": [
           {
            "marker": {
             "colorbar": {
              "outlinewidth": 0,
              "ticks": ""
             }
            },
            "type": "scattergl"
           }
          ],
          "scattermap": [
           {
            "marker": {
             "colorbar": {
              "outlinewidth": 0,
              "ticks": ""
             }
            },
            "type": "scattermap"
           }
          ],
          "scattermapbox": [
           {
            "marker": {
             "colorbar": {
              "outlinewidth": 0,
              "ticks": ""
             }
            },
            "type": "scattermapbox"
           }
          ],
          "scatterpolar": [
           {
            "marker": {
             "colorbar": {
              "outlinewidth": 0,
              "ticks": ""
             }
            },
            "type": "scatterpolar"
           }
          ],
          "scatterpolargl": [
           {
            "marker": {
             "colorbar": {
              "outlinewidth": 0,
              "ticks": ""
             }
            },
            "type": "scatterpolargl"
           }
          ],
          "scatterternary": [
           {
            "marker": {
             "colorbar": {
              "outlinewidth": 0,
              "ticks": ""
             }
            },
            "type": "scatterternary"
           }
          ],
          "surface": [
           {
            "colorbar": {
             "outlinewidth": 0,
             "ticks": ""
            },
            "colorscale": [
             [
              0,
              "#0d0887"
             ],
             [
              0.1111111111111111,
              "#46039f"
             ],
             [
              0.2222222222222222,
              "#7201a8"
             ],
             [
              0.3333333333333333,
              "#9c179e"
             ],
             [
              0.4444444444444444,
              "#bd3786"
             ],
             [
              0.5555555555555556,
              "#d8576b"
             ],
             [
              0.6666666666666666,
              "#ed7953"
             ],
             [
              0.7777777777777778,
              "#fb9f3a"
             ],
             [
              0.8888888888888888,
              "#fdca26"
             ],
             [
              1,
              "#f0f921"
             ]
            ],
            "type": "surface"
           }
          ],
          "table": [
           {
            "cells": {
             "fill": {
              "color": "#EBF0F8"
             },
             "line": {
              "color": "white"
             }
            },
            "header": {
             "fill": {
              "color": "#C8D4E3"
             },
             "line": {
              "color": "white"
             }
            },
            "type": "table"
           }
          ]
         },
         "layout": {
          "annotationdefaults": {
           "arrowcolor": "#2a3f5f",
           "arrowhead": 0,
           "arrowwidth": 1
          },
          "autotypenumbers": "strict",
          "coloraxis": {
           "colorbar": {
            "outlinewidth": 0,
            "ticks": ""
           }
          },
          "colorscale": {
           "diverging": [
            [
             0,
             "#8e0152"
            ],
            [
             0.1,
             "#c51b7d"
            ],
            [
             0.2,
             "#de77ae"
            ],
            [
             0.3,
             "#f1b6da"
            ],
            [
             0.4,
             "#fde0ef"
            ],
            [
             0.5,
             "#f7f7f7"
            ],
            [
             0.6,
             "#e6f5d0"
            ],
            [
             0.7,
             "#b8e186"
            ],
            [
             0.8,
             "#7fbc41"
            ],
            [
             0.9,
             "#4d9221"
            ],
            [
             1,
             "#276419"
            ]
           ],
           "sequential": [
            [
             0,
             "#0d0887"
            ],
            [
             0.1111111111111111,
             "#46039f"
            ],
            [
             0.2222222222222222,
             "#7201a8"
            ],
            [
             0.3333333333333333,
             "#9c179e"
            ],
            [
             0.4444444444444444,
             "#bd3786"
            ],
            [
             0.5555555555555556,
             "#d8576b"
            ],
            [
             0.6666666666666666,
             "#ed7953"
            ],
            [
             0.7777777777777778,
             "#fb9f3a"
            ],
            [
             0.8888888888888888,
             "#fdca26"
            ],
            [
             1,
             "#f0f921"
            ]
           ],
           "sequentialminus": [
            [
             0,
             "#0d0887"
            ],
            [
             0.1111111111111111,
             "#46039f"
            ],
            [
             0.2222222222222222,
             "#7201a8"
            ],
            [
             0.3333333333333333,
             "#9c179e"
            ],
            [
             0.4444444444444444,
             "#bd3786"
            ],
            [
             0.5555555555555556,
             "#d8576b"
            ],
            [
             0.6666666666666666,
             "#ed7953"
            ],
            [
             0.7777777777777778,
             "#fb9f3a"
            ],
            [
             0.8888888888888888,
             "#fdca26"
            ],
            [
             1,
             "#f0f921"
            ]
           ]
          },
          "colorway": [
           "#636efa",
           "#EF553B",
           "#00cc96",
           "#ab63fa",
           "#FFA15A",
           "#19d3f3",
           "#FF6692",
           "#B6E880",
           "#FF97FF",
           "#FECB52"
          ],
          "font": {
           "color": "#2a3f5f"
          },
          "geo": {
           "bgcolor": "white",
           "lakecolor": "white",
           "landcolor": "#E5ECF6",
           "showlakes": true,
           "showland": true,
           "subunitcolor": "white"
          },
          "hoverlabel": {
           "align": "left"
          },
          "hovermode": "closest",
          "mapbox": {
           "style": "light"
          },
          "paper_bgcolor": "white",
          "plot_bgcolor": "#E5ECF6",
          "polar": {
           "angularaxis": {
            "gridcolor": "white",
            "linecolor": "white",
            "ticks": ""
           },
           "bgcolor": "#E5ECF6",
           "radialaxis": {
            "gridcolor": "white",
            "linecolor": "white",
            "ticks": ""
           }
          },
          "scene": {
           "xaxis": {
            "backgroundcolor": "#E5ECF6",
            "gridcolor": "white",
            "gridwidth": 2,
            "linecolor": "white",
            "showbackground": true,
            "ticks": "",
            "zerolinecolor": "white"
           },
           "yaxis": {
            "backgroundcolor": "#E5ECF6",
            "gridcolor": "white",
            "gridwidth": 2,
            "linecolor": "white",
            "showbackground": true,
            "ticks": "",
            "zerolinecolor": "white"
           },
           "zaxis": {
            "backgroundcolor": "#E5ECF6",
            "gridcolor": "white",
            "gridwidth": 2,
            "linecolor": "white",
            "showbackground": true,
            "ticks": "",
            "zerolinecolor": "white"
           }
          },
          "shapedefaults": {
           "line": {
            "color": "#2a3f5f"
           }
          },
          "ternary": {
           "aaxis": {
            "gridcolor": "white",
            "linecolor": "white",
            "ticks": ""
           },
           "baxis": {
            "gridcolor": "white",
            "linecolor": "white",
            "ticks": ""
           },
           "bgcolor": "#E5ECF6",
           "caxis": {
            "gridcolor": "white",
            "linecolor": "white",
            "ticks": ""
           }
          },
          "title": {
           "x": 0.05
          },
          "xaxis": {
           "automargin": true,
           "gridcolor": "white",
           "linecolor": "white",
           "ticks": "",
           "title": {
            "standoff": 15
           },
           "zerolinecolor": "white",
           "zerolinewidth": 2
          },
          "yaxis": {
           "automargin": true,
           "gridcolor": "white",
           "linecolor": "white",
           "ticks": "",
           "title": {
            "standoff": 15
           },
           "zerolinecolor": "white",
           "zerolinewidth": 2
          }
         }
        },
        "title": {},
        "width": 800,
        "xaxis": {
         "constrain": "domain",
         "fixedrange": true,
         "range": [
          -5,
          110
         ],
         "scaleanchor": "y",
         "showgrid": false,
         "showticklabels": false,
         "visible": false,
         "zeroline": false
        },
        "yaxis": {
         "constrain": "domain",
         "fixedrange": true,
         "range": [
          -5,
          73
         ],
         "showgrid": false,
         "showticklabels": false,
         "visible": false,
         "zeroline": false
        }
       }
      }
     },
     "metadata": {},
     "output_type": "display_data"
    }
   ],
   "source": [
    "data = pd.DataFrame({\n",
    "    'x': [30, 50, 70],\n",
    "    'y': [40, 60, 20],\n",
    "    'x2': [45, 65, 80],\n",
    "    'y2': [50, 70, 30],\n",
    "    'player': ['Alice', 'Bob', 'Carol']\n",
    "})\n",
    "\n",
    "# Create a pitch with a dark theme and Opta dimensions\n",
    "pitch = pb.viz.Pitch(theme=\"night\")\n",
    "\n",
    "# Plot the passes as arrows\n",
    "pitch.plot_arrows(\n",
    "    data, x='x', y='y', x_end='x2', y_end='y2'\n",
    ")\n",
    "\n",
    "# Optional: plot player positions at the start of the arrows\n",
    "pitch.plot_scatter(data, x='x', y='y', hover='player')\n",
    "\n",
    "# Show the pitch\n",
    "pitch.show()\n"
   ]
  },
  {
   "cell_type": "code",
   "execution_count": null,
   "id": "72587f76",
   "metadata": {},
   "outputs": [],
   "source": []
  },
  {
   "cell_type": "code",
   "execution_count": null,
   "id": "01328c30",
   "metadata": {},
   "outputs": [
    {
     "data": {
      "application/vnd.plotly.v1+json": {
       "config": {
        "displaylogo": false,
        "plotlyServerURL": "https://plot.ly"
       },
       "data": [
        {
         "hoverinfo": "skip",
         "line": {
          "color": "#ffffff"
         },
         "mode": "lines",
         "showlegend": false,
         "type": "scatter",
         "x": {
          "bdata": "zczMzMzMMECd15dtpwwxQH5syJd2SjFAzs1D/yaGMUAeZGMBpr8xQI4sxqrh9jFAi27rvMgrMkAE+ZSzSl4yQNY478lXjjJAMox9/+C7MkCgSckc2OYyQC0E0rcvDzNADao9ONs0M0AAL0fbzlczQCWIarf/dzNAx9PMv2OVM0DYnF/H8a8zQFQ/voOhxzNAj4jEj2vcM0CUxN1tSe4zQAOAC4o1/TNAh1yjOysJNECibMPGJhI0QJyifF0lGDRAY/WyICUbNEBj9bIgJRs0QJyifF0lGDRAomzDxiYSNECHXKM7Kwk0QAOAC4o1/TNAlMTdbUnuM0CQiMSPa9wzQFQ/voOhxzNA2Jxfx/GvM0DH08y/Y5UzQCaIarf/dzNAAC9H285XM0ANqj042zQzQC4E0rcvDzNAoUnJHNjmMkAyjH3/4LsyQNY478lXjjJABPmUs0peMkCLbuu8yCsyQI4sxqrh9jFAHmRjAaa/MUDOzUP/JoYxQH5syJd2SjFAndeXbacMMUDNzMzMzMwwQA==",
          "dtype": "f8"
         },
         "y": {
          "bdata": "cFl+CRe/OkC0yuJEifg6QGqOdE4tNDtAwXhph/BxO0CCSWGnv7E7QPrXasKG8ztA9k88TzE3PECfjpwtqnw8QNGe+6zbwzxAwkU4k68MPUC9gpAjD1c9QE7XuiXjoj1AhCAm7RPwPUDevV1giT4+QCa3jwArjj5A2ocy8d/ePkDvLMj/jjA/QIgIvKsegz9A2yZZLnXWP0AANGtBPBVAQKgFOzeHP0BAoglbRA5qQECNecchxJRAQML53nmbv0BAyFuM7IbqQEA4pHMTeRVBQD4GIYZkQEFAc4Y43jtrQUBe9qS78ZVBQFf6xMh4wEFAAMyUvsPqQUCSbNNoxRRCQLz7IapwPkJAiOkbgLhnQkATvGYHkJBCQG0kuH/quEJAESHRT7vgQkC+72wJ9gdDQFmUIm2OLkNAob43bnhUQ0Af3WM2qHlDQJgwgikSnkNAsLgx6arBQ0AF2GFYZ+RDQAOUyp48BkRAP1tPLCAnRECfQ0u8B0dEQMu4xVjpZURAppqOXbuDREBI00B7dKBEQA==",
          "dtype": "f8"
         }
        },
        {
         "hoverinfo": "skip",
         "line": {
          "color": "#ffffff"
         },
         "mode": "lines",
         "showlegend": false,
         "type": "scatter",
         "x": {
          "bdata": "zczMzMwMVkAZCpok1vxVQOHkDVpi7VVAjQwvQHbeVUD5Jqd/FtBVQN10TpVHwlVAXSTF0A21VUC/wRpTbahVQMsxhA1qnFVA9JwgwAeRVUCYrc34SYZVQPV+CxI0fFVAfZXwMclyVUBANC5JDGpVQPddJRIAYlVADssMEKdaVUDKGCiOA1RVQCtwEJ8XTlVA3N0OHOVIVUDbjoikbURVQP8ffZ2yQFVA3igXMbU9VUDYJE9OdjtVQFnXoKj2OVVAp0LTtzY5VUCnQtO3NjlVQFnXoKj2OVVA2CRPTnY7VUDeKBcxtT1VQP8ffZ2yQFVA246IpG1EVUDc3Q4c5UhVQCtwEJ8XTlVAyhgojgNUVUAOywwQp1pVQPddJRIAYlVAQDQuSQxqVUB9lfAxyXJVQPV+CxI0fFVAmK3N+EmGVUD0nCDAB5FVQMsxhA1qnFVAv8EaU22oVUBeJMXQDbVVQN10TpVHwlVA+SanfxbQVUCNDC9Adt5VQOHkDVpi7VVAGQqaJNb8VUDNzMzMzAxWQA==",
          "dtype": "f8"
         },
         "y": {
          "bdata": "SdNAe3SgRECnmo5du4NEQMy4xVjpZURAoENLvAdHREBAW08sICdEQASUyp48BkRABdhhWGfkQ0CxuDHpqsFDQJgwgikSnkNAH91jNqh5Q0CivjdueFRDQFqUIm2OLkNAvu9sCfYHQ0ASIdFPu+BCQG4kuH/quEJAE7xmB5CQQkCJ6RuAuGdCQLz7IapwPkJAk2zTaMUUQkABzJS+w+pBQFj6xMh4wEFAXvaku/GVQUBzhjjeO2tBQD4GIYZkQEFAOKRzE3kVQUDIW4zshupAQMH53nmbv0BAjXnHIcSUQECiCVtEDmpAQKgFOzeHP0BA/zNrQTwVQEDaJlkuddY/QIgIvKsegz9A7yzI/44wP0DYhzLx394+QCW3jwArjj5A3r1dYIk+PkCCICbtE/A9QE7XuiXjoj1AvIKQIw9XPUDBRTiTrww9QNGe+6zbwzxAno6cLap8PED0TzxPMTc8QPnXasKG8ztAgUlhp7+xO0C/eGmH8HE7QGiOdE4tNDtAssriRIn4OkBvWX4JF786QA==",
          "dtype": "f8"
         }
        },
        {
         "hoverinfo": "skip",
         "marker": {
          "color": "#ffffff",
          "size": 6
         },
         "mode": "markers",
         "showlegend": false,
         "type": "scatter",
         "x": [
          10.5
         ],
         "y": [
          34
         ]
        },
        {
         "hoverinfo": "skip",
         "marker": {
          "color": "#ffffff",
          "size": 6
         },
         "mode": "markers",
         "showlegend": false,
         "type": "scatter",
         "x": [
          94.5
         ],
         "y": [
          34
         ]
        },
        {
         "hoverinfo": "skip",
         "marker": {
          "color": "#ffffff",
          "size": 6
         },
         "mode": "markers",
         "showlegend": false,
         "type": "scatter",
         "x": [
          52.5
         ],
         "y": [
          34
         ]
        },
        {
         "hoverinfo": "skip",
         "line": {
          "color": "rgba(31,119,180,0.05)",
          "width": 4
         },
         "mode": "lines",
         "showlegend": false,
         "type": "scatter",
         "x": [
          10.5,
          12.075
         ],
         "y": [
          61.2,
          59.84
         ]
        },
        {
         "hoverinfo": "skip",
         "line": {
          "color": "rgba(31,119,180,0.10)",
          "width": 4
         },
         "mode": "lines",
         "showlegend": false,
         "type": "scatter",
         "x": [
          12.075,
          13.65
         ],
         "y": [
          59.84,
          58.480000000000004
         ]
        },
        {
         "hoverinfo": "skip",
         "line": {
          "color": "rgba(31,119,180,0.15)",
          "width": 4
         },
         "mode": "lines",
         "showlegend": false,
         "type": "scatter",
         "x": [
          13.65,
          15.225
         ],
         "y": [
          58.480000000000004,
          57.120000000000005
         ]
        },
        {
         "hoverinfo": "skip",
         "line": {
          "color": "rgba(31,119,180,0.20)",
          "width": 4
         },
         "mode": "lines",
         "showlegend": false,
         "type": "scatter",
         "x": [
          15.225,
          16.8
         ],
         "y": [
          57.120000000000005,
          55.760000000000005
         ]
        },
        {
         "hoverinfo": "skip",
         "line": {
          "color": "rgba(31,119,180,0.25)",
          "width": 4
         },
         "mode": "lines",
         "showlegend": false,
         "type": "scatter",
         "x": [
          16.8,
          18.375
         ],
         "y": [
          55.760000000000005,
          54.400000000000006
         ]
        },
        {
         "hoverinfo": "skip",
         "line": {
          "color": "rgba(31,119,180,0.30)",
          "width": 4
         },
         "mode": "lines",
         "showlegend": false,
         "type": "scatter",
         "x": [
          18.375,
          19.95
         ],
         "y": [
          54.400000000000006,
          53.040000000000006
         ]
        },
        {
         "hoverinfo": "skip",
         "line": {
          "color": "rgba(31,119,180,0.35)",
          "width": 4
         },
         "mode": "lines",
         "showlegend": false,
         "type": "scatter",
         "x": [
          19.95,
          21.525
         ],
         "y": [
          53.040000000000006,
          51.68000000000001
         ]
        },
        {
         "hoverinfo": "skip",
         "line": {
          "color": "rgba(31,119,180,0.40)",
          "width": 4
         },
         "mode": "lines",
         "showlegend": false,
         "type": "scatter",
         "x": [
          21.525,
          23.1
         ],
         "y": [
          51.68000000000001,
          50.32
         ]
        },
        {
         "hoverinfo": "skip",
         "line": {
          "color": "rgba(31,119,180,0.45)",
          "width": 4
         },
         "mode": "lines",
         "showlegend": false,
         "type": "scatter",
         "x": [
          23.1,
          24.675
         ],
         "y": [
          50.32,
          48.96
         ]
        },
        {
         "hoverinfo": "skip",
         "line": {
          "color": "rgba(31,119,180,0.50)",
          "width": 4
         },
         "mode": "lines",
         "showlegend": false,
         "type": "scatter",
         "x": [
          24.675,
          26.25
         ],
         "y": [
          48.96,
          47.6
         ]
        },
        {
         "hoverinfo": "skip",
         "line": {
          "color": "rgba(31,119,180,0.55)",
          "width": 4
         },
         "mode": "lines",
         "showlegend": false,
         "type": "scatter",
         "x": [
          26.25,
          27.825000000000003
         ],
         "y": [
          47.6,
          46.24
         ]
        },
        {
         "hoverinfo": "skip",
         "line": {
          "color": "rgba(31,119,180,0.60)",
          "width": 4
         },
         "mode": "lines",
         "showlegend": false,
         "type": "scatter",
         "x": [
          27.825000000000003,
          29.4
         ],
         "y": [
          46.24,
          44.88
         ]
        },
        {
         "hoverinfo": "skip",
         "line": {
          "color": "rgba(31,119,180,0.65)",
          "width": 4
         },
         "mode": "lines",
         "showlegend": false,
         "type": "scatter",
         "x": [
          29.4,
          30.975
         ],
         "y": [
          44.88,
          43.519999999999996
         ]
        },
        {
         "hoverinfo": "skip",
         "line": {
          "color": "rgba(31,119,180,0.70)",
          "width": 4
         },
         "mode": "lines",
         "showlegend": false,
         "type": "scatter",
         "x": [
          30.975,
          32.55
         ],
         "y": [
          43.519999999999996,
          42.160000000000004
         ]
        },
        {
         "hoverinfo": "skip",
         "line": {
          "color": "rgba(31,119,180,0.75)",
          "width": 4
         },
         "mode": "lines",
         "showlegend": false,
         "type": "scatter",
         "x": [
          32.55,
          34.125
         ],
         "y": [
          42.160000000000004,
          40.8
         ]
        },
        {
         "hoverinfo": "skip",
         "line": {
          "color": "rgba(31,119,180,0.80)",
          "width": 4
         },
         "mode": "lines",
         "showlegend": false,
         "type": "scatter",
         "x": [
          34.125,
          35.7
         ],
         "y": [
          40.8,
          39.44
         ]
        },
        {
         "hoverinfo": "skip",
         "line": {
          "color": "rgba(31,119,180,0.85)",
          "width": 4
         },
         "mode": "lines",
         "showlegend": false,
         "type": "scatter",
         "x": [
          35.7,
          37.275
         ],
         "y": [
          39.44,
          38.08
         ]
        },
        {
         "hoverinfo": "skip",
         "line": {
          "color": "rgba(31,119,180,0.90)",
          "width": 4
         },
         "mode": "lines",
         "showlegend": false,
         "type": "scatter",
         "x": [
          37.275,
          38.85
         ],
         "y": [
          38.08,
          36.72
         ]
        },
        {
         "hoverinfo": "skip",
         "line": {
          "color": "rgba(31,119,180,0.95)",
          "width": 4
         },
         "mode": "lines",
         "showlegend": false,
         "type": "scatter",
         "x": [
          38.85,
          40.425
         ],
         "y": [
          36.72,
          35.36
         ]
        },
        {
         "hoverinfo": "text",
         "hovertext": "Alice",
         "line": {
          "color": "rgba(31,119,180,1.00)",
          "width": 4
         },
         "mode": "lines",
         "showlegend": false,
         "type": "scatter",
         "x": [
          40.425,
          42
         ],
         "y": [
          35.36,
          34
         ]
        },
        {
         "hoverinfo": "skip",
         "line": {
          "color": "rgba(31,119,180,0.05)",
          "width": 4
         },
         "mode": "lines",
         "showlegend": false,
         "type": "scatter",
         "x": [
          84,
          83.2125
         ],
         "y": [
          27.200000000000003,
          26.860000000000003
         ]
        },
        {
         "hoverinfo": "skip",
         "line": {
          "color": "rgba(31,119,180,0.10)",
          "width": 4
         },
         "mode": "lines",
         "showlegend": false,
         "type": "scatter",
         "x": [
          83.2125,
          82.425
         ],
         "y": [
          26.860000000000003,
          26.520000000000003
         ]
        },
        {
         "hoverinfo": "skip",
         "line": {
          "color": "rgba(31,119,180,0.15)",
          "width": 4
         },
         "mode": "lines",
         "showlegend": false,
         "type": "scatter",
         "x": [
          82.425,
          81.6375
         ],
         "y": [
          26.520000000000003,
          26.180000000000003
         ]
        },
        {
         "hoverinfo": "skip",
         "line": {
          "color": "rgba(31,119,180,0.20)",
          "width": 4
         },
         "mode": "lines",
         "showlegend": false,
         "type": "scatter",
         "x": [
          81.6375,
          80.85
         ],
         "y": [
          26.180000000000003,
          25.840000000000003
         ]
        },
        {
         "hoverinfo": "skip",
         "line": {
          "color": "rgba(31,119,180,0.25)",
          "width": 4
         },
         "mode": "lines",
         "showlegend": false,
         "type": "scatter",
         "x": [
          80.85,
          80.0625
         ],
         "y": [
          25.840000000000003,
          25.500000000000004
         ]
        },
        {
         "hoverinfo": "skip",
         "line": {
          "color": "rgba(31,119,180,0.30)",
          "width": 4
         },
         "mode": "lines",
         "showlegend": false,
         "type": "scatter",
         "x": [
          80.0625,
          79.275
         ],
         "y": [
          25.500000000000004,
          25.160000000000004
         ]
        },
        {
         "hoverinfo": "skip",
         "line": {
          "color": "rgba(31,119,180,0.35)",
          "width": 4
         },
         "mode": "lines",
         "showlegend": false,
         "type": "scatter",
         "x": [
          79.275,
          78.4875
         ],
         "y": [
          25.160000000000004,
          24.820000000000004
         ]
        },
        {
         "hoverinfo": "skip",
         "line": {
          "color": "rgba(31,119,180,0.40)",
          "width": 4
         },
         "mode": "lines",
         "showlegend": false,
         "type": "scatter",
         "x": [
          78.4875,
          77.7
         ],
         "y": [
          24.820000000000004,
          24.480000000000004
         ]
        },
        {
         "hoverinfo": "skip",
         "line": {
          "color": "rgba(31,119,180,0.45)",
          "width": 4
         },
         "mode": "lines",
         "showlegend": false,
         "type": "scatter",
         "x": [
          77.7,
          76.9125
         ],
         "y": [
          24.480000000000004,
          24.14
         ]
        },
        {
         "hoverinfo": "skip",
         "line": {
          "color": "rgba(31,119,180,0.50)",
          "width": 4
         },
         "mode": "lines",
         "showlegend": false,
         "type": "scatter",
         "x": [
          76.9125,
          76.125
         ],
         "y": [
          24.14,
          23.800000000000004
         ]
        },
        {
         "hoverinfo": "skip",
         "line": {
          "color": "rgba(31,119,180,0.55)",
          "width": 4
         },
         "mode": "lines",
         "showlegend": false,
         "type": "scatter",
         "x": [
          76.125,
          75.3375
         ],
         "y": [
          23.800000000000004,
          23.46
         ]
        },
        {
         "hoverinfo": "skip",
         "line": {
          "color": "rgba(31,119,180,0.60)",
          "width": 4
         },
         "mode": "lines",
         "showlegend": false,
         "type": "scatter",
         "x": [
          75.3375,
          74.55
         ],
         "y": [
          23.46,
          23.120000000000005
         ]
        },
        {
         "hoverinfo": "skip",
         "line": {
          "color": "rgba(31,119,180,0.65)",
          "width": 4
         },
         "mode": "lines",
         "showlegend": false,
         "type": "scatter",
         "x": [
          74.55,
          73.7625
         ],
         "y": [
          23.120000000000005,
          22.78
         ]
        },
        {
         "hoverinfo": "skip",
         "line": {
          "color": "rgba(31,119,180,0.70)",
          "width": 4
         },
         "mode": "lines",
         "showlegend": false,
         "type": "scatter",
         "x": [
          73.7625,
          72.975
         ],
         "y": [
          22.78,
          22.440000000000005
         ]
        },
        {
         "hoverinfo": "skip",
         "line": {
          "color": "rgba(31,119,180,0.75)",
          "width": 4
         },
         "mode": "lines",
         "showlegend": false,
         "type": "scatter",
         "x": [
          72.975,
          72.1875
         ],
         "y": [
          22.440000000000005,
          22.1
         ]
        },
        {
         "hoverinfo": "skip",
         "line": {
          "color": "rgba(31,119,180,0.80)",
          "width": 4
         },
         "mode": "lines",
         "showlegend": false,
         "type": "scatter",
         "x": [
          72.1875,
          71.4
         ],
         "y": [
          22.1,
          21.76
         ]
        },
        {
         "hoverinfo": "skip",
         "line": {
          "color": "rgba(31,119,180,0.85)",
          "width": 4
         },
         "mode": "lines",
         "showlegend": false,
         "type": "scatter",
         "x": [
          71.4,
          70.6125
         ],
         "y": [
          21.76,
          21.42
         ]
        },
        {
         "hoverinfo": "skip",
         "line": {
          "color": "rgba(31,119,180,0.90)",
          "width": 4
         },
         "mode": "lines",
         "showlegend": false,
         "type": "scatter",
         "x": [
          70.6125,
          69.825
         ],
         "y": [
          21.42,
          21.080000000000002
         ]
        },
        {
         "hoverinfo": "skip",
         "line": {
          "color": "rgba(31,119,180,0.95)",
          "width": 4
         },
         "mode": "lines",
         "showlegend": false,
         "type": "scatter",
         "x": [
          69.825,
          69.0375
         ],
         "y": [
          21.080000000000002,
          20.740000000000002
         ]
        },
        {
         "hoverinfo": "text",
         "hovertext": "Bob",
         "line": {
          "color": "rgba(31,119,180,1.00)",
          "width": 4
         },
         "mode": "lines",
         "showlegend": false,
         "type": "scatter",
         "x": [
          69.0375,
          68.25
         ],
         "y": [
          20.740000000000002,
          20.400000000000002
         ]
        },
        {
         "hoverinfo": "skip",
         "line": {
          "color": "rgba(31,119,180,0.05)",
          "width": 4
         },
         "mode": "lines",
         "showlegend": false,
         "type": "scatter",
         "x": [
          73.5,
          74.025
         ],
         "y": [
          54.400000000000006,
          54.06
         ]
        },
        {
         "hoverinfo": "skip",
         "line": {
          "color": "rgba(31,119,180,0.10)",
          "width": 4
         },
         "mode": "lines",
         "showlegend": false,
         "type": "scatter",
         "x": [
          74.025,
          74.55
         ],
         "y": [
          54.06,
          53.720000000000006
         ]
        },
        {
         "hoverinfo": "skip",
         "line": {
          "color": "rgba(31,119,180,0.15)",
          "width": 4
         },
         "mode": "lines",
         "showlegend": false,
         "type": "scatter",
         "x": [
          74.55,
          75.075
         ],
         "y": [
          53.720000000000006,
          53.38
         ]
        },
        {
         "hoverinfo": "skip",
         "line": {
          "color": "rgba(31,119,180,0.20)",
          "width": 4
         },
         "mode": "lines",
         "showlegend": false,
         "type": "scatter",
         "x": [
          75.075,
          75.6
         ],
         "y": [
          53.38,
          53.040000000000006
         ]
        },
        {
         "hoverinfo": "skip",
         "line": {
          "color": "rgba(31,119,180,0.25)",
          "width": 4
         },
         "mode": "lines",
         "showlegend": false,
         "type": "scatter",
         "x": [
          75.6,
          76.125
         ],
         "y": [
          53.040000000000006,
          52.7
         ]
        },
        {
         "hoverinfo": "skip",
         "line": {
          "color": "rgba(31,119,180,0.30)",
          "width": 4
         },
         "mode": "lines",
         "showlegend": false,
         "type": "scatter",
         "x": [
          76.125,
          76.65
         ],
         "y": [
          52.7,
          52.36000000000001
         ]
        },
        {
         "hoverinfo": "skip",
         "line": {
          "color": "rgba(31,119,180,0.35)",
          "width": 4
         },
         "mode": "lines",
         "showlegend": false,
         "type": "scatter",
         "x": [
          76.65,
          77.175
         ],
         "y": [
          52.36000000000001,
          52.02
         ]
        },
        {
         "hoverinfo": "skip",
         "line": {
          "color": "rgba(31,119,180,0.40)",
          "width": 4
         },
         "mode": "lines",
         "showlegend": false,
         "type": "scatter",
         "x": [
          77.175,
          77.7
         ],
         "y": [
          52.02,
          51.68000000000001
         ]
        },
        {
         "hoverinfo": "skip",
         "line": {
          "color": "rgba(31,119,180,0.45)",
          "width": 4
         },
         "mode": "lines",
         "showlegend": false,
         "type": "scatter",
         "x": [
          77.7,
          78.225
         ],
         "y": [
          51.68000000000001,
          51.34
         ]
        },
        {
         "hoverinfo": "skip",
         "line": {
          "color": "rgba(31,119,180,0.50)",
          "width": 4
         },
         "mode": "lines",
         "showlegend": false,
         "type": "scatter",
         "x": [
          78.225,
          78.75
         ],
         "y": [
          51.34,
          51
         ]
        },
        {
         "hoverinfo": "skip",
         "line": {
          "color": "rgba(31,119,180,0.55)",
          "width": 4
         },
         "mode": "lines",
         "showlegend": false,
         "type": "scatter",
         "x": [
          78.75,
          79.275
         ],
         "y": [
          51,
          50.660000000000004
         ]
        },
        {
         "hoverinfo": "skip",
         "line": {
          "color": "rgba(31,119,180,0.60)",
          "width": 4
         },
         "mode": "lines",
         "showlegend": false,
         "type": "scatter",
         "x": [
          79.275,
          79.8
         ],
         "y": [
          50.660000000000004,
          50.32
         ]
        },
        {
         "hoverinfo": "skip",
         "line": {
          "color": "rgba(31,119,180,0.65)",
          "width": 4
         },
         "mode": "lines",
         "showlegend": false,
         "type": "scatter",
         "x": [
          79.8,
          80.325
         ],
         "y": [
          50.32,
          49.980000000000004
         ]
        },
        {
         "hoverinfo": "skip",
         "line": {
          "color": "rgba(31,119,180,0.70)",
          "width": 4
         },
         "mode": "lines",
         "showlegend": false,
         "type": "scatter",
         "x": [
          80.325,
          80.85
         ],
         "y": [
          49.980000000000004,
          49.64
         ]
        },
        {
         "hoverinfo": "skip",
         "line": {
          "color": "rgba(31,119,180,0.75)",
          "width": 4
         },
         "mode": "lines",
         "showlegend": false,
         "type": "scatter",
         "x": [
          80.85,
          81.375
         ],
         "y": [
          49.64,
          49.300000000000004
         ]
        },
        {
         "hoverinfo": "skip",
         "line": {
          "color": "rgba(31,119,180,0.80)",
          "width": 4
         },
         "mode": "lines",
         "showlegend": false,
         "type": "scatter",
         "x": [
          81.375,
          81.9
         ],
         "y": [
          49.300000000000004,
          48.96
         ]
        },
        {
         "hoverinfo": "skip",
         "line": {
          "color": "rgba(31,119,180,0.85)",
          "width": 4
         },
         "mode": "lines",
         "showlegend": false,
         "type": "scatter",
         "x": [
          81.9,
          82.425
         ],
         "y": [
          48.96,
          48.620000000000005
         ]
        },
        {
         "hoverinfo": "skip",
         "line": {
          "color": "rgba(31,119,180,0.90)",
          "width": 4
         },
         "mode": "lines",
         "showlegend": false,
         "type": "scatter",
         "x": [
          82.425,
          82.95
         ],
         "y": [
          48.620000000000005,
          48.28
         ]
        },
        {
         "hoverinfo": "skip",
         "line": {
          "color": "rgba(31,119,180,0.95)",
          "width": 4
         },
         "mode": "lines",
         "showlegend": false,
         "type": "scatter",
         "x": [
          82.95,
          83.475
         ],
         "y": [
          48.28,
          47.940000000000005
         ]
        },
        {
         "hoverinfo": "text",
         "hovertext": "Carol",
         "line": {
          "color": "rgba(31,119,180,1.00)",
          "width": 4
         },
         "mode": "lines",
         "showlegend": false,
         "type": "scatter",
         "x": [
          83.475,
          84
         ],
         "y": [
          47.940000000000005,
          47.6
         ]
        }
       ],
       "layout": {
        "font": {
         "color": "#ffffff",
         "family": "Helvetica Neue, Arial, sans-serif"
        },
        "height": 600,
        "hoverlabel": {
         "bgcolor": "rgba(40,60,40,0.9)",
         "bordercolor": "rgba(255,255,255,0.2)",
         "font": {
          "color": "white",
          "family": "Helvetica Neue, Arial, sans-serif",
          "size": 15
         }
        },
        "margin": {
         "b": 0,
         "l": 0,
         "r": 0,
         "t": 0
        },
        "paper_bgcolor": "#7a9c72",
        "plot_bgcolor": "#7a9c72",
        "shapes": [
         {
          "line": {
           "color": "#ffffff"
          },
          "type": "rect",
          "x0": 0,
          "x1": 105,
          "y0": 0,
          "y1": 68
         },
         {
          "line": {
           "color": "#ffffff"
          },
          "type": "rect",
          "x0": 52.5,
          "x1": 52.5,
          "y0": 68,
          "y1": 0
         },
         {
          "line": {
           "color": "#ffffff"
          },
          "type": "rect",
          "x0": 0,
          "x1": 16.8,
          "y0": 12.920000000000002,
          "y1": 55.080000000000005
         },
         {
          "line": {
           "color": "#ffffff"
          },
          "type": "rect",
          "x0": 88.2,
          "x1": 105,
          "y0": 55.080000000000005,
          "y1": 12.920000000000002
         },
         {
          "line": {
           "color": "#ffffff"
          },
          "type": "rect",
          "x0": 0,
          "x1": 6.300000000000001,
          "y0": 25.16,
          "y1": 42.84
         },
         {
          "line": {
           "color": "#ffffff"
          },
          "type": "rect",
          "x0": 98.7,
          "x1": 105,
          "y0": 42.84,
          "y1": 25.16
         },
         {
          "line": {
           "color": "#ffffff"
          },
          "type": "circle",
          "x0": 42.8925,
          "x1": 62.1075,
          "y0": 24.3925,
          "y1": 43.6075
         }
        ],
        "showlegend": false,
        "template": {
         "data": {
          "bar": [
           {
            "error_x": {
             "color": "#2a3f5f"
            },
            "error_y": {
             "color": "#2a3f5f"
            },
            "marker": {
             "line": {
              "color": "#E5ECF6",
              "width": 0.5
             },
             "pattern": {
              "fillmode": "overlay",
              "size": 10,
              "solidity": 0.2
             }
            },
            "type": "bar"
           }
          ],
          "barpolar": [
           {
            "marker": {
             "line": {
              "color": "#E5ECF6",
              "width": 0.5
             },
             "pattern": {
              "fillmode": "overlay",
              "size": 10,
              "solidity": 0.2
             }
            },
            "type": "barpolar"
           }
          ],
          "carpet": [
           {
            "aaxis": {
             "endlinecolor": "#2a3f5f",
             "gridcolor": "white",
             "linecolor": "white",
             "minorgridcolor": "white",
             "startlinecolor": "#2a3f5f"
            },
            "baxis": {
             "endlinecolor": "#2a3f5f",
             "gridcolor": "white",
             "linecolor": "white",
             "minorgridcolor": "white",
             "startlinecolor": "#2a3f5f"
            },
            "type": "carpet"
           }
          ],
          "choropleth": [
           {
            "colorbar": {
             "outlinewidth": 0,
             "ticks": ""
            },
            "type": "choropleth"
           }
          ],
          "contour": [
           {
            "colorbar": {
             "outlinewidth": 0,
             "ticks": ""
            },
            "colorscale": [
             [
              0,
              "#0d0887"
             ],
             [
              0.1111111111111111,
              "#46039f"
             ],
             [
              0.2222222222222222,
              "#7201a8"
             ],
             [
              0.3333333333333333,
              "#9c179e"
             ],
             [
              0.4444444444444444,
              "#bd3786"
             ],
             [
              0.5555555555555556,
              "#d8576b"
             ],
             [
              0.6666666666666666,
              "#ed7953"
             ],
             [
              0.7777777777777778,
              "#fb9f3a"
             ],
             [
              0.8888888888888888,
              "#fdca26"
             ],
             [
              1,
              "#f0f921"
             ]
            ],
            "type": "contour"
           }
          ],
          "contourcarpet": [
           {
            "colorbar": {
             "outlinewidth": 0,
             "ticks": ""
            },
            "type": "contourcarpet"
           }
          ],
          "heatmap": [
           {
            "colorbar": {
             "outlinewidth": 0,
             "ticks": ""
            },
            "colorscale": [
             [
              0,
              "#0d0887"
             ],
             [
              0.1111111111111111,
              "#46039f"
             ],
             [
              0.2222222222222222,
              "#7201a8"
             ],
             [
              0.3333333333333333,
              "#9c179e"
             ],
             [
              0.4444444444444444,
              "#bd3786"
             ],
             [
              0.5555555555555556,
              "#d8576b"
             ],
             [
              0.6666666666666666,
              "#ed7953"
             ],
             [
              0.7777777777777778,
              "#fb9f3a"
             ],
             [
              0.8888888888888888,
              "#fdca26"
             ],
             [
              1,
              "#f0f921"
             ]
            ],
            "type": "heatmap"
           }
          ],
          "histogram": [
           {
            "marker": {
             "pattern": {
              "fillmode": "overlay",
              "size": 10,
              "solidity": 0.2
             }
            },
            "type": "histogram"
           }
          ],
          "histogram2d": [
           {
            "colorbar": {
             "outlinewidth": 0,
             "ticks": ""
            },
            "colorscale": [
             [
              0,
              "#0d0887"
             ],
             [
              0.1111111111111111,
              "#46039f"
             ],
             [
              0.2222222222222222,
              "#7201a8"
             ],
             [
              0.3333333333333333,
              "#9c179e"
             ],
             [
              0.4444444444444444,
              "#bd3786"
             ],
             [
              0.5555555555555556,
              "#d8576b"
             ],
             [
              0.6666666666666666,
              "#ed7953"
             ],
             [
              0.7777777777777778,
              "#fb9f3a"
             ],
             [
              0.8888888888888888,
              "#fdca26"
             ],
             [
              1,
              "#f0f921"
             ]
            ],
            "type": "histogram2d"
           }
          ],
          "histogram2dcontour": [
           {
            "colorbar": {
             "outlinewidth": 0,
             "ticks": ""
            },
            "colorscale": [
             [
              0,
              "#0d0887"
             ],
             [
              0.1111111111111111,
              "#46039f"
             ],
             [
              0.2222222222222222,
              "#7201a8"
             ],
             [
              0.3333333333333333,
              "#9c179e"
             ],
             [
              0.4444444444444444,
              "#bd3786"
             ],
             [
              0.5555555555555556,
              "#d8576b"
             ],
             [
              0.6666666666666666,
              "#ed7953"
             ],
             [
              0.7777777777777778,
              "#fb9f3a"
             ],
             [
              0.8888888888888888,
              "#fdca26"
             ],
             [
              1,
              "#f0f921"
             ]
            ],
            "type": "histogram2dcontour"
           }
          ],
          "mesh3d": [
           {
            "colorbar": {
             "outlinewidth": 0,
             "ticks": ""
            },
            "type": "mesh3d"
           }
          ],
          "parcoords": [
           {
            "line": {
             "colorbar": {
              "outlinewidth": 0,
              "ticks": ""
             }
            },
            "type": "parcoords"
           }
          ],
          "pie": [
           {
            "automargin": true,
            "type": "pie"
           }
          ],
          "scatter": [
           {
            "fillpattern": {
             "fillmode": "overlay",
             "size": 10,
             "solidity": 0.2
            },
            "type": "scatter"
           }
          ],
          "scatter3d": [
           {
            "line": {
             "colorbar": {
              "outlinewidth": 0,
              "ticks": ""
             }
            },
            "marker": {
             "colorbar": {
              "outlinewidth": 0,
              "ticks": ""
             }
            },
            "type": "scatter3d"
           }
          ],
          "scattercarpet": [
           {
            "marker": {
             "colorbar": {
              "outlinewidth": 0,
              "ticks": ""
             }
            },
            "type": "scattercarpet"
           }
          ],
          "scattergeo": [
           {
            "marker": {
             "colorbar": {
              "outlinewidth": 0,
              "ticks": ""
             }
            },
            "type": "scattergeo"
           }
          ],
          "scattergl": [
           {
            "marker": {
             "colorbar": {
              "outlinewidth": 0,
              "ticks": ""
             }
            },
            "type": "scattergl"
           }
          ],
          "scattermap": [
           {
            "marker": {
             "colorbar": {
              "outlinewidth": 0,
              "ticks": ""
             }
            },
            "type": "scattermap"
           }
          ],
          "scattermapbox": [
           {
            "marker": {
             "colorbar": {
              "outlinewidth": 0,
              "ticks": ""
             }
            },
            "type": "scattermapbox"
           }
          ],
          "scatterpolar": [
           {
            "marker": {
             "colorbar": {
              "outlinewidth": 0,
              "ticks": ""
             }
            },
            "type": "scatterpolar"
           }
          ],
          "scatterpolargl": [
           {
            "marker": {
             "colorbar": {
              "outlinewidth": 0,
              "ticks": ""
             }
            },
            "type": "scatterpolargl"
           }
          ],
          "scatterternary": [
           {
            "marker": {
             "colorbar": {
              "outlinewidth": 0,
              "ticks": ""
             }
            },
            "type": "scatterternary"
           }
          ],
          "surface": [
           {
            "colorbar": {
             "outlinewidth": 0,
             "ticks": ""
            },
            "colorscale": [
             [
              0,
              "#0d0887"
             ],
             [
              0.1111111111111111,
              "#46039f"
             ],
             [
              0.2222222222222222,
              "#7201a8"
             ],
             [
              0.3333333333333333,
              "#9c179e"
             ],
             [
              0.4444444444444444,
              "#bd3786"
             ],
             [
              0.5555555555555556,
              "#d8576b"
             ],
             [
              0.6666666666666666,
              "#ed7953"
             ],
             [
              0.7777777777777778,
              "#fb9f3a"
             ],
             [
              0.8888888888888888,
              "#fdca26"
             ],
             [
              1,
              "#f0f921"
             ]
            ],
            "type": "surface"
           }
          ],
          "table": [
           {
            "cells": {
             "fill": {
              "color": "#EBF0F8"
             },
             "line": {
              "color": "white"
             }
            },
            "header": {
             "fill": {
              "color": "#C8D4E3"
             },
             "line": {
              "color": "white"
             }
            },
            "type": "table"
           }
          ]
         },
         "layout": {
          "annotationdefaults": {
           "arrowcolor": "#2a3f5f",
           "arrowhead": 0,
           "arrowwidth": 1
          },
          "autotypenumbers": "strict",
          "coloraxis": {
           "colorbar": {
            "outlinewidth": 0,
            "ticks": ""
           }
          },
          "colorscale": {
           "diverging": [
            [
             0,
             "#8e0152"
            ],
            [
             0.1,
             "#c51b7d"
            ],
            [
             0.2,
             "#de77ae"
            ],
            [
             0.3,
             "#f1b6da"
            ],
            [
             0.4,
             "#fde0ef"
            ],
            [
             0.5,
             "#f7f7f7"
            ],
            [
             0.6,
             "#e6f5d0"
            ],
            [
             0.7,
             "#b8e186"
            ],
            [
             0.8,
             "#7fbc41"
            ],
            [
             0.9,
             "#4d9221"
            ],
            [
             1,
             "#276419"
            ]
           ],
           "sequential": [
            [
             0,
             "#0d0887"
            ],
            [
             0.1111111111111111,
             "#46039f"
            ],
            [
             0.2222222222222222,
             "#7201a8"
            ],
            [
             0.3333333333333333,
             "#9c179e"
            ],
            [
             0.4444444444444444,
             "#bd3786"
            ],
            [
             0.5555555555555556,
             "#d8576b"
            ],
            [
             0.6666666666666666,
             "#ed7953"
            ],
            [
             0.7777777777777778,
             "#fb9f3a"
            ],
            [
             0.8888888888888888,
             "#fdca26"
            ],
            [
             1,
             "#f0f921"
            ]
           ],
           "sequentialminus": [
            [
             0,
             "#0d0887"
            ],
            [
             0.1111111111111111,
             "#46039f"
            ],
            [
             0.2222222222222222,
             "#7201a8"
            ],
            [
             0.3333333333333333,
             "#9c179e"
            ],
            [
             0.4444444444444444,
             "#bd3786"
            ],
            [
             0.5555555555555556,
             "#d8576b"
            ],
            [
             0.6666666666666666,
             "#ed7953"
            ],
            [
             0.7777777777777778,
             "#fb9f3a"
            ],
            [
             0.8888888888888888,
             "#fdca26"
            ],
            [
             1,
             "#f0f921"
            ]
           ]
          },
          "colorway": [
           "#636efa",
           "#EF553B",
           "#00cc96",
           "#ab63fa",
           "#FFA15A",
           "#19d3f3",
           "#FF6692",
           "#B6E880",
           "#FF97FF",
           "#FECB52"
          ],
          "font": {
           "color": "#2a3f5f"
          },
          "geo": {
           "bgcolor": "white",
           "lakecolor": "white",
           "landcolor": "#E5ECF6",
           "showlakes": true,
           "showland": true,
           "subunitcolor": "white"
          },
          "hoverlabel": {
           "align": "left"
          },
          "hovermode": "closest",
          "mapbox": {
           "style": "light"
          },
          "paper_bgcolor": "white",
          "plot_bgcolor": "#E5ECF6",
          "polar": {
           "angularaxis": {
            "gridcolor": "white",
            "linecolor": "white",
            "ticks": ""
           },
           "bgcolor": "#E5ECF6",
           "radialaxis": {
            "gridcolor": "white",
            "linecolor": "white",
            "ticks": ""
           }
          },
          "scene": {
           "xaxis": {
            "backgroundcolor": "#E5ECF6",
            "gridcolor": "white",
            "gridwidth": 2,
            "linecolor": "white",
            "showbackground": true,
            "ticks": "",
            "zerolinecolor": "white"
           },
           "yaxis": {
            "backgroundcolor": "#E5ECF6",
            "gridcolor": "white",
            "gridwidth": 2,
            "linecolor": "white",
            "showbackground": true,
            "ticks": "",
            "zerolinecolor": "white"
           },
           "zaxis": {
            "backgroundcolor": "#E5ECF6",
            "gridcolor": "white",
            "gridwidth": 2,
            "linecolor": "white",
            "showbackground": true,
            "ticks": "",
            "zerolinecolor": "white"
           }
          },
          "shapedefaults": {
           "line": {
            "color": "#2a3f5f"
           }
          },
          "ternary": {
           "aaxis": {
            "gridcolor": "white",
            "linecolor": "white",
            "ticks": ""
           },
           "baxis": {
            "gridcolor": "white",
            "linecolor": "white",
            "ticks": ""
           },
           "bgcolor": "#E5ECF6",
           "caxis": {
            "gridcolor": "white",
            "linecolor": "white",
            "ticks": ""
           }
          },
          "title": {
           "x": 0.05
          },
          "xaxis": {
           "automargin": true,
           "gridcolor": "white",
           "linecolor": "white",
           "ticks": "",
           "title": {
            "standoff": 15
           },
           "zerolinecolor": "white",
           "zerolinewidth": 2
          },
          "yaxis": {
           "automargin": true,
           "gridcolor": "white",
           "linecolor": "white",
           "ticks": "",
           "title": {
            "standoff": 15
           },
           "zerolinecolor": "white",
           "zerolinewidth": 2
          }
         }
        },
        "title": {},
        "width": 800,
        "xaxis": {
         "constrain": "domain",
         "fixedrange": true,
         "range": [
          -5,
          110
         ],
         "scaleanchor": "y",
         "showgrid": false,
         "showticklabels": false,
         "visible": false,
         "zeroline": false
        },
        "yaxis": {
         "constrain": "domain",
         "fixedrange": true,
         "range": [
          -5,
          73
         ],
         "showgrid": false,
         "showticklabels": false,
         "visible": false,
         "zeroline": false
        }
       }
      }
     },
     "metadata": {},
     "output_type": "display_data"
    }
   ],
   "source": [
    "df = pd.DataFrame({\n",
    "    'x': [10, 80, 70],\n",
    "    'y': [10, 60, 20],\n",
    "    'x2': [40, 65, 80],\n",
    "    'y2': [50, 70, 30],\n",
    "    'player': ['Alice', 'Bob', 'Carol']\n",
    "})\n",
    "\n",
    "pitch = pb.viz.Pitch(width=800, height=600, theme=\"night\", provider=\"wyscout\",)\n",
    "pitch.plot_comets(df, x='x', y='y', x_end='x2', y_end='y2', width=4, segments=20,hover='player')\n",
    "pitch.show()"
   ]
  },
  {
   "cell_type": "code",
   "execution_count": null,
   "id": "9df50019",
   "metadata": {},
   "outputs": [],
   "source": []
  }
 ],
 "metadata": {
  "kernelspec": {
   "display_name": "venv",
   "language": "python",
   "name": "python3"
  },
  "language_info": {
   "codemirror_mode": {
    "name": "ipython",
    "version": 3
   },
   "file_extension": ".py",
   "mimetype": "text/x-python",
   "name": "python",
   "nbconvert_exporter": "python",
   "pygments_lexer": "ipython3",
   "version": "3.13.1"
  }
 },
 "nbformat": 4,
 "nbformat_minor": 5
}
