{
 "cells": [
  {
   "cell_type": "markdown",
   "id": "9e38dcff",
   "metadata": {},
   "source": [
    "# Pitch"
   ]
  },
  {
   "cell_type": "code",
   "execution_count": 1,
   "id": "020e4320-ccad-4b79-b63c-8eb0c120cad6",
   "metadata": {},
   "outputs": [],
   "source": [
    "import penaltyblog as pb\n",
    "from penaltyblog.matchflow import Flow, get_field, get_x, get_y\n",
    "import numpy as np\n",
    "import pandas as pd\n"
   ]
  },
  {
   "cell_type": "code",
   "execution_count": null,
   "id": "142d5c06",
   "metadata": {},
   "outputs": [],
   "source": [
    "flow = (\n",
    "    Flow.statsbomb.from_github_file(match_id=3788743)\n",
    "    .filter(lambda e: get_field(\"type.name\")(e) == \"Shot\")\n",
    "    .assign(\n",
    "        player_name=get_field(\"player.name\"),\n",
    "        position_name=get_field(\"position.name\"),\n",
    "        team_name=get_field(\"team.name\"),\n",
    "        xg=get_field(\"shot.statsbomb_xg\"),\n",
    "        x=get_x(),\n",
    "        y=get_y(),        \n",
    "    )\n",
    "    .select(\"minute\", \"player_name\", \"position_name\", \"team_name\", \"x\", \"y\", \"xg\")\n",
    "    .sort(\"minute\")\n",
    ")\n",
    "\n",
    "df = flow.to_pandas()\n",
    "\n",
    "df.head(10)\n"
   ]
  },
  {
   "cell_type": "code",
   "execution_count": null,
   "id": "f92ce83f",
   "metadata": {},
   "outputs": [],
   "source": [
    "flow = (\n",
    "    Flow.statsbomb.from_github_file(3788743)\n",
    "    .filter(lambda e: get_field(\"type.name\")(e) == \"Shot\")\n",
    "    .assign(\n",
    "        player_name=get_field(\"player.name\"),\n",
    "        xg=get_field(\"shot.statsbomb_xg\")\n",
    "    )\n",
    "    .group_by(\"player_name\")\n",
    "    .summarize(\n",
    "        shots=len,\n",
    "        total_xg=(\"xg\", \"sum\"),\n",
    "        avg_xg_2=(\"xg\", \"mean\"),\n",
    "        avg_xg=lambda records: round(\n",
    "            sum(r[\"xg\"] for r in records if r[\"xg\"] is not None) / len(records), 3\n",
    "        )\n",
    "    )\n",
    "    .sort(\"total_xg\", reverse=True)\n",
    "    .limit(5)\n",
    "    .to_pandas()\n",
    ")\n",
    "\n",
    "flow"
   ]
  },
  {
   "cell_type": "code",
   "execution_count": 4,
   "id": "fcceeb34",
   "metadata": {},
   "outputs": [
    {
     "data": {
      "text/html": [
       "<div>\n",
       "<style scoped>\n",
       "    .dataframe tbody tr th:only-of-type {\n",
       "        vertical-align: middle;\n",
       "    }\n",
       "\n",
       "    .dataframe tbody tr th {\n",
       "        vertical-align: top;\n",
       "    }\n",
       "\n",
       "    .dataframe thead th {\n",
       "        text-align: right;\n",
       "    }\n",
       "</style>\n",
       "<table border=\"1\" class=\"dataframe\">\n",
       "  <thead>\n",
       "    <tr style=\"text-align: right;\">\n",
       "      <th></th>\n",
       "      <th>total_shots</th>\n",
       "      <th>mean_xg</th>\n",
       "      <th>std_xg</th>\n",
       "    </tr>\n",
       "  </thead>\n",
       "  <tbody>\n",
       "    <tr>\n",
       "      <th>0</th>\n",
       "      <td>3858</td>\n",
       "      <td>0.117902</td>\n",
       "      <td>0.142595</td>\n",
       "    </tr>\n",
       "  </tbody>\n",
       "</table>\n",
       "</div>"
      ],
      "text/plain": [
       "   total_shots   mean_xg    std_xg\n",
       "0         3858  0.117902  0.142595"
      ]
     },
     "execution_count": 4,
     "metadata": {},
     "output_type": "execute_result"
    }
   ],
   "source": [
    "(\n",
    "    Flow.statsbomb.from_github_file(3788743)\n",
    "    .assign(\n",
    "        xg=get_field(\"shot.statsbomb_xg\"),       \n",
    "    )    \n",
    "    .summarize(\n",
    "      total_shots=\"count\",\n",
    "      mean_xg=(\"xg\",\"mean\"),\n",
    "      std_xg=(\"xg\",\"std\"),\n",
    "    )\n",
    "    .to_pandas()\n",
    ")"
   ]
  },
  {
   "cell_type": "code",
   "execution_count": null,
   "id": "e15e1421",
   "metadata": {},
   "outputs": [],
   "source": [
    "(\n",
    "    Flow.statsbomb.from_github_file(3788743)\n",
    "      .filter(lambda e: get_field(\"type.name\")(e) == \"Shot\")\n",
    "      .assign(\n",
    "        player=get_field(\"player.name\"),\n",
    "        xg=get_field(\"shot.statsbomb_xg\")\n",
    "      )\n",
    "      .group_by(\"player\")\n",
    "      .row_number(\"xg\", new_field=\"shot_rank\", reverse=True)\n",
    "      .ungroup()\n",
    "      .select(\"player\", \"shot_rank\", \"xg\")\n",
    "      .to_pandas()\n",
    ")\n"
   ]
  },
  {
   "cell_type": "code",
   "execution_count": null,
   "id": "ad427bcf",
   "metadata": {},
   "outputs": [],
   "source": []
  },
  {
   "cell_type": "code",
   "execution_count": null,
   "id": "cabbbde4-aad2-4748-b029-80ec027e9a1e",
   "metadata": {},
   "outputs": [],
   "source": [
    "# df = pd.DataFrame({\n",
    "#     'x': np.random.uniform(0, 100, 11),\n",
    "#     'y': np.random.uniform(0, 100, 11),\n",
    "#     'name': [f'Player {i+1}' for i in range(11)]\n",
    "# })\n",
    "\n",
    "pitch = pb.pitch.Pitch(width=800, height=400, theme=\"minimal\", provider=\"statsbomb\")\n",
    "pitch.plot_scatter(df, x='x', y='y', hover='player_name')\n",
    "pitch.show()\n"
   ]
  },
  {
   "cell_type": "markdown",
   "id": "7f8d3c87",
   "metadata": {},
   "source": []
  },
  {
   "cell_type": "code",
   "execution_count": null,
   "id": "0cc28b7e",
   "metadata": {},
   "outputs": [],
   "source": [
    "from penaltyblog.io.statsbomb import load_statsbomb_events\n",
    "from penaltyblog.pitch import Pitch\n",
    "\n",
    "# example: Women’s World Cup final (competition 43, season 3, match 8658)\n",
    "df = load_statsbomb_events(43, 3)\n",
    "\n",
    "# filter only shots:\n",
    "shots = df[df['type.name']=='Shot']\n",
    "\n",
    "pitch = Pitch(provider=\"statsbomb\", theme=\"classic\", title=\"Shot map—WWC Final\")\n",
    "pitch.plot_scatter(shots, x='x', y='y',\n",
    "                   hover='player.name', marker=dict(size=12))\n",
    "pitch.show()\n"
   ]
  },
  {
   "cell_type": "code",
   "execution_count": null,
   "id": "1ab85f7c-2e96-4fc0-950a-7c013f01a26e",
   "metadata": {},
   "outputs": [],
   "source": [
    "df2 = pd.DataFrame({\n",
    "    'x': np.random.uniform(0, 120, 500),\n",
    "    'y': np.random.uniform(0, 80, 500)\n",
    "})\n",
    "\n",
    "# Create the pitch and plot the heatmap\n",
    "pitch = pb.pitch.Pitch(theme=\"night\")\n",
    "pitch.plot_heatmap(df2, x='x', y='y')\n",
    "pitch.show()"
   ]
  },
  {
   "cell_type": "code",
   "execution_count": null,
   "id": "55eef370",
   "metadata": {},
   "outputs": [],
   "source": []
  },
  {
   "cell_type": "code",
   "execution_count": null,
   "id": "36fb80f7",
   "metadata": {},
   "outputs": [],
   "source": [
    "df2 = pd.DataFrame({\n",
    "    'x': np.random.uniform(10, 50, 500),\n",
    "    'y': np.random.uniform(20, 75, 500)\n",
    "})\n",
    "\n",
    "# Create the pitch and plot the heatmap\n",
    "pitch = pb.pitch.Pitch(theme=\"turf\")\n",
    "pitch.plot_kde(df2, x='x', y='y', bandwidth=0.3,)\n",
    "pitch.show()"
   ]
  },
  {
   "cell_type": "code",
   "execution_count": null,
   "id": "eecdd4d9",
   "metadata": {},
   "outputs": [],
   "source": []
  },
  {
   "cell_type": "code",
   "execution_count": null,
   "id": "bf6aba83",
   "metadata": {},
   "outputs": [],
   "source": [
    "data = pd.DataFrame({\n",
    "    'x': [30, 50, 70],\n",
    "    'y': [40, 60, 20],\n",
    "    'x2': [45, 65, 80],\n",
    "    'y2': [50, 70, 30],\n",
    "    'player': ['Alice', 'Bob', 'Carol']\n",
    "})\n",
    "\n",
    "# Create a pitch with a dark theme and Opta dimensions\n",
    "pitch = pb.pitch.Pitch(theme=\"night\")\n",
    "\n",
    "# Plot the passes as arrows\n",
    "pitch.plot_arrows(\n",
    "    data, x='x', y='y', x_end='x2', y_end='y2'\n",
    ")\n",
    "\n",
    "# Optional: plot player positions at the start of the arrows\n",
    "pitch.plot_scatter(data, x='x', y='y', hover='player')\n",
    "\n",
    "# Show the pitch\n",
    "pitch.show()\n"
   ]
  },
  {
   "cell_type": "code",
   "execution_count": null,
   "id": "72587f76",
   "metadata": {},
   "outputs": [],
   "source": []
  },
  {
   "cell_type": "code",
   "execution_count": null,
   "id": "01328c30",
   "metadata": {},
   "outputs": [],
   "source": [
    "df = pd.DataFrame({\n",
    "    'x': [10, 80, 70],\n",
    "    'y': [10, 60, 20],\n",
    "    'x2': [40, 65, 80],\n",
    "    'y2': [50, 70, 30],\n",
    "    'player': ['Alice', 'Bob', 'Carol']\n",
    "})\n",
    "\n",
    "pitch = pb.pitch.Pitch(width=800, height=600, theme=\"turf\", provider=\"wyscout\",)\n",
    "pitch.plot_comets(df, x='x', y='y', x_end='x2', y_end='y2', segments=20,hover='player')\n",
    "pitch.show()"
   ]
  },
  {
   "cell_type": "code",
   "execution_count": null,
   "id": "9df50019",
   "metadata": {},
   "outputs": [],
   "source": [
    "from "
   ]
  }
 ],
 "metadata": {
  "kernelspec": {
   "display_name": "venv",
   "language": "python",
   "name": "python3"
  },
  "language_info": {
   "codemirror_mode": {
    "name": "ipython",
    "version": 3
   },
   "file_extension": ".py",
   "mimetype": "text/x-python",
   "name": "python",
   "nbconvert_exporter": "python",
   "pygments_lexer": "ipython3",
   "version": "3.13.1"
  }
 },
 "nbformat": 4,
 "nbformat_minor": 5
}
