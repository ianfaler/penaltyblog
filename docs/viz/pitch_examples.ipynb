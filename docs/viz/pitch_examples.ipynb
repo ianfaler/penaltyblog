{
 "cells": [
  {
   "cell_type": "markdown",
   "id": "ba2d3f24",
   "metadata": {},
   "source": [
    "# Pitch Gallery"
   ]
  },
  {
   "cell_type": "code",
   "execution_count": 1,
   "id": "5377871b",
   "metadata": {},
   "outputs": [
    {
     "name": "stderr",
     "output_type": "stream",
     "text": [
      "/Users/martin/repos/penaltyblog/venv/lib/python3.13/site-packages/statsbombpy/api_client.py:21: NoAuthWarning: credentials were not supplied. open data access only\n",
      "  warnings.warn(\n"
     ]
    }
   ],
   "source": [
    "from penaltyblog.viz import Pitch\n",
    "from penaltyblog.matchflow import Flow, where_equals, get_field\n",
    "from IPython.display import HTML\n",
    "import plotly.io as pio\n",
    "\n",
    "\n",
    "flow = (\n",
    "    Flow\n",
    "    .statsbomb\n",
    "    .events(22912)\n",
    "    .cache()\n",
    ")"
   ]
  },
  {
   "cell_type": "markdown",
   "id": "02b55b8b",
   "metadata": {},
   "source": [
    "## Scatter Plot"
   ]
  },
  {
   "cell_type": "code",
   "execution_count": 2,
   "id": "d5874344",
   "metadata": {},
   "outputs": [
    {
     "name": "stderr",
     "output_type": "stream",
     "text": [
      "/Users/martin/repos/penaltyblog/venv/lib/python3.13/site-packages/statsbombpy/api_client.py:21: NoAuthWarning:\n",
      "\n",
      "credentials were not supplied. open data access only\n",
      "\n"
     ]
    },
    {
     "data": {
      "text/html": [
       "<html>\n",
       "<head><meta charset=\"utf-8\" /></head>\n",
       "<body>\n",
       "    <div>                        <script type=\"text/javascript\">window.PlotlyConfig = {MathJaxConfig: 'local'};</script>\n",
       "        <script charset=\"utf-8\" src=\"https://cdn.plot.ly/plotly-3.0.1.min.js\"></script>                <div id=\"0ed32972-6222-4b1c-b44d-a20d29cf5b7d\" class=\"plotly-graph-div\" style=\"height:600px; width:800px;\"></div>            <script type=\"text/javascript\">                window.PLOTLYENV=window.PLOTLYENV || {};                                if (document.getElementById(\"0ed32972-6222-4b1c-b44d-a20d29cf5b7d\")) {                    Plotly.newPlot(                        \"0ed32972-6222-4b1c-b44d-a20d29cf5b7d\",                        [{\"hoverinfo\":\"skip\",\"line\":{\"color\":\"#90caf9\"},\"mode\":\"lines\",\"showlegend\":false,\"x\":{\"dtype\":\"f8\",\"bdata\":\"AAAAAACAL0BbZ1JhbOovQBMFJym4KDBA1oC41HVaMEBu09KrX4owQHZ6+rhmuDBAHtxunXzkMECDz6aVkw4xQFyvnH2eNjFAfp\\u002fo1JBcMUBbvafCXoAxQHsDLxn9oTFAYLiIWWHBMUDVUbu2gd4xQMrG2BhV+TFAJlvVH9MRMkC0AiUm9CcyQBuKHkOxOzJAIscjTQRNMkDQI47b51syQK3qXkhXaDJAG82ysU5yMkDcL\\u002fj6ynkyQNfc583JfjJAfcw\\u002fm0mBMkB9zD+bSYEyQNfc583JfjJA3C\\u002f4+sp5MkAbzbKxTnIyQK3qXkhXaDJA0COO2+dbMkAixyNNBE0yQBuKHkOxOzJAtAIlJvQnMkAmW9Uf0xEyQMrG2BhV+TFA1VG7toHeMUBguIhZYcExQHsDLxn9oTFAW72nwl6AMUB\\u002fn+jUkFwxQFyvnH2eNjFAhM+mlZMOMUAe3G6dfOQwQHd6+rhmuDBAbtPSq1+KMEDWgLjUdVowQBQFJym4KDBAW2dSYWzqL0AAAAAAAIAvQA==\"},\"y\":{\"dtype\":\"f8\",\"bdata\":\"MvWTMpP0O0CWUxJkciQ8QFghYcElVjxA9jktxp2JPECXEtFgyr48QFAJWfea9TxAo0KybP4tPUDadgIm42c9QFkEJxA3oz1Ad49ZpeffPUDzbPjy4R0+QMEIcZ8SXT5AbnBK8GWdPkA5Hk7Qx94+QKAYzdUjIT9ANnH\\u002fSGVkP0ByJXwqd6g\\u002fQHFcxzlE7T9A23r6fVsZQEBVqy7hXDxAQGIvsVibX0BAsjKh4wuDQED1j3txo6ZAQHclj+VWykBAJ\\u002fd0GhvuQEDZCIvl5BFBQInacBqpNUFAC3CEjlxZQUBOzV4c9HxBQJ7QTqdkoEFAq1TRHqPDQUAlhQWCpOZBQMdRHONdCUJAR+3BasQrQkBlR4BbzU1CQLBzGRVub0JA4\\u002fDYF5yQQkDJx9oHTbFCQKB7R7B20UJAhsmDBg\\u002fxQkBEOFMtDBBDQNR97HdkLkNAk8T+bA5MQ0Cv3qbJAGlDQFh7U4QyhUNAtHaXz5qgQ0AFY+kcMbtDQFRvTx\\u002ft1ENANdb2zcbtQ0BnBbZmtgVEQA==\"},\"type\":\"scatter\"},{\"hoverinfo\":\"skip\",\"line\":{\"color\":\"#90caf9\"},\"mode\":\"lines\",\"showlegend\":false,\"x\":{\"dtype\":\"f8\",\"bdata\":\"AAAAAABQVkAVs9VzskJWQLs+tvXRNVZAy9\\u002fRimIpVkAkSwsVaB1WQGJhwVHmEVZA+Uik2OAGVkAfTJYaW\\u002fxVQCnUmGBY8lVAINjFytvoVUCpEFZP6N9VQCE\\u002ftLmA11VA6NGdqafPVUCLK1GSX8hVQE7OybmqwVVANqkKOIu7VUBTv3b2ArZVQHldOK8TsVVAOA637L6sVUAMdxwJBqlVQFVF6C3qpVVAuUyTU2yjVUAJ9EFBjaFVQMoIhoxNoFVA4Qwwma2fVUDhDDCZrZ9VQMoIhoxNoFVACfRBQY2hVUC5TJNTbKNVQFVF6C3qpVVADHccCQapVUA4DrfsvqxVQHldOK8TsVVAU7929gK2VUA2qQo4i7tVQE7OybmqwVVAiytRkl\\u002fIVUDo0Z2pp89VQCE\\u002ftLmA11VAqRBWT+jfVUAg2MXK2+hVQCnUmGBY8lVAH0yWGlv8VUD4SKTY4AZWQGJhwVHmEVZAJUsLFWgdVkDK39GKYilWQLs+tvXRNVZAFbPVc7JCVkAAAAAAAFBWQA==\"},\"y\":{\"dtype\":\"f8\",\"bdata\":\"ZwW2ZrYFREA11vbNxu1DQFRvTx\\u002ft1ENABWPpHDG7Q0C0dpfPmqBDQFh7U4QyhUNAr96myQBpQ0CTxP5sDkxDQNR97HdkLkNARDhTLQwQQ0CHyYMGD\\u002fFCQJ97R7B20UJAycfaB02xQkDk8NgXnJBCQLBzGRVub0JAZUeAW81NQkBH7cFqxCtCQMhRHONdCUJAJYUFgqTmQUCrVNEeo8NBQJ7QTqdkoEFATs1eHPR8QUALcISOXFlBQInacBqpNUFA2QiL5eQRQUAn93QaG+5AQHYlj+VWykBA9o97caOmQECyMqHjC4NAQGIvsVibX0BAVasu4Vw8QEDbevp9WxlAQHJcxzlE7T9AcyV8KneoP0A1cf9IZWQ\\u002fQKAYzdUjIT9AOR5O0MfePkBucErwZZ0+QMIIcZ8SXT5A82z48uEdPkB3j1ml5989QFkEJxA3oz1A2nYCJuNnPUCkQrJs\\u002fi09QFAJWfea9TxAlhLRYMq+PED2OS3GnYk8QFghYcElVjxAllMSZHIkPEAz9ZMyk\\u002fQ7QA==\"},\"type\":\"scatter\"},{\"hoverinfo\":\"skip\",\"marker\":{\"color\":\"#90caf9\",\"size\":8},\"mode\":\"markers\",\"showlegend\":false,\"x\":{\"dtype\":\"f8\",\"bdata\":\"AAAAAAAAJUA=\"},\"y\":{\"dtype\":\"f8\",\"bdata\":\"AAAAAAAAQUA=\"},\"type\":\"scatter\"},{\"hoverinfo\":\"skip\",\"marker\":{\"color\":\"#90caf9\",\"size\":8},\"mode\":\"markers\",\"showlegend\":false,\"x\":{\"dtype\":\"f8\",\"bdata\":\"AAAAAACgV0A=\"},\"y\":{\"dtype\":\"f8\",\"bdata\":\"AAAAAAAAQUA=\"},\"type\":\"scatter\"},{\"hoverinfo\":\"skip\",\"marker\":{\"color\":\"#90caf9\",\"size\":8},\"mode\":\"markers\",\"showlegend\":false,\"x\":{\"dtype\":\"f8\",\"bdata\":\"AAAAAABASkA=\"},\"y\":{\"dtype\":\"f8\",\"bdata\":\"AAAAAAAAQUA=\"},\"type\":\"scatter\"},{\"hoverinfo\":\"text\",\"hovertext\":[\"{'location.0': 108.2, 'location.1': 40.1}\",\"{'location.0': 90.2, 'location.1': 59.3}\",\"{'location.0': 95.2, 'location.1': 47.2}\",\"{'location.0': 113.0, 'location.1': 59.5}\",\"{'location.0': 98.4, 'location.1': 20.4}\",\"{'location.0': 97.6, 'location.1': 37.4}\",\"{'location.0': 89.0, 'location.1': 47.9}\",\"{'location.0': 94.0, 'location.1': 31.3}\",\"{'location.0': 88.6, 'location.1': 39.0}\",\"{'location.0': 110.2, 'location.1': 52.7}\",\"{'location.0': 103.1, 'location.1': 45.9}\",\"{'location.0': 93.6, 'location.1': 53.4}\",\"{'location.0': 106.0, 'location.1': 38.9}\",\"{'location.0': 106.1, 'location.1': 31.6}\"],\"marker\":{\"color\":\"#ffca28\",\"size\":10},\"mode\":\"markers\",\"showlegend\":false,\"x\":[94.675,78.925,83.3,98.875,86.10000000000001,85.39999999999999,77.875,82.25,77.52499999999999,96.425,90.21249999999999,81.89999999999999,92.75,92.83749999999999],\"y\":[33.915,17.595000000000002,27.879999999999995,17.425,50.66,36.21,27.285,41.395,34.85,23.205,28.985,22.61,34.935,41.14],\"type\":\"scatter\"}],                        {\"template\":{\"data\":{\"histogram2dcontour\":[{\"type\":\"histogram2dcontour\",\"colorbar\":{\"outlinewidth\":0,\"ticks\":\"\"},\"colorscale\":[[0.0,\"#0d0887\"],[0.1111111111111111,\"#46039f\"],[0.2222222222222222,\"#7201a8\"],[0.3333333333333333,\"#9c179e\"],[0.4444444444444444,\"#bd3786\"],[0.5555555555555556,\"#d8576b\"],[0.6666666666666666,\"#ed7953\"],[0.7777777777777778,\"#fb9f3a\"],[0.8888888888888888,\"#fdca26\"],[1.0,\"#f0f921\"]]}],\"choropleth\":[{\"type\":\"choropleth\",\"colorbar\":{\"outlinewidth\":0,\"ticks\":\"\"}}],\"histogram2d\":[{\"type\":\"histogram2d\",\"colorbar\":{\"outlinewidth\":0,\"ticks\":\"\"},\"colorscale\":[[0.0,\"#0d0887\"],[0.1111111111111111,\"#46039f\"],[0.2222222222222222,\"#7201a8\"],[0.3333333333333333,\"#9c179e\"],[0.4444444444444444,\"#bd3786\"],[0.5555555555555556,\"#d8576b\"],[0.6666666666666666,\"#ed7953\"],[0.7777777777777778,\"#fb9f3a\"],[0.8888888888888888,\"#fdca26\"],[1.0,\"#f0f921\"]]}],\"heatmap\":[{\"type\":\"heatmap\",\"colorbar\":{\"outlinewidth\":0,\"ticks\":\"\"},\"colorscale\":[[0.0,\"#0d0887\"],[0.1111111111111111,\"#46039f\"],[0.2222222222222222,\"#7201a8\"],[0.3333333333333333,\"#9c179e\"],[0.4444444444444444,\"#bd3786\"],[0.5555555555555556,\"#d8576b\"],[0.6666666666666666,\"#ed7953\"],[0.7777777777777778,\"#fb9f3a\"],[0.8888888888888888,\"#fdca26\"],[1.0,\"#f0f921\"]]}],\"contourcarpet\":[{\"type\":\"contourcarpet\",\"colorbar\":{\"outlinewidth\":0,\"ticks\":\"\"}}],\"contour\":[{\"type\":\"contour\",\"colorbar\":{\"outlinewidth\":0,\"ticks\":\"\"},\"colorscale\":[[0.0,\"#0d0887\"],[0.1111111111111111,\"#46039f\"],[0.2222222222222222,\"#7201a8\"],[0.3333333333333333,\"#9c179e\"],[0.4444444444444444,\"#bd3786\"],[0.5555555555555556,\"#d8576b\"],[0.6666666666666666,\"#ed7953\"],[0.7777777777777778,\"#fb9f3a\"],[0.8888888888888888,\"#fdca26\"],[1.0,\"#f0f921\"]]}],\"surface\":[{\"type\":\"surface\",\"colorbar\":{\"outlinewidth\":0,\"ticks\":\"\"},\"colorscale\":[[0.0,\"#0d0887\"],[0.1111111111111111,\"#46039f\"],[0.2222222222222222,\"#7201a8\"],[0.3333333333333333,\"#9c179e\"],[0.4444444444444444,\"#bd3786\"],[0.5555555555555556,\"#d8576b\"],[0.6666666666666666,\"#ed7953\"],[0.7777777777777778,\"#fb9f3a\"],[0.8888888888888888,\"#fdca26\"],[1.0,\"#f0f921\"]]}],\"mesh3d\":[{\"type\":\"mesh3d\",\"colorbar\":{\"outlinewidth\":0,\"ticks\":\"\"}}],\"scatter\":[{\"fillpattern\":{\"fillmode\":\"overlay\",\"size\":10,\"solidity\":0.2},\"type\":\"scatter\"}],\"parcoords\":[{\"type\":\"parcoords\",\"line\":{\"colorbar\":{\"outlinewidth\":0,\"ticks\":\"\"}}}],\"scatterpolargl\":[{\"type\":\"scatterpolargl\",\"marker\":{\"colorbar\":{\"outlinewidth\":0,\"ticks\":\"\"}}}],\"bar\":[{\"error_x\":{\"color\":\"#2a3f5f\"},\"error_y\":{\"color\":\"#2a3f5f\"},\"marker\":{\"line\":{\"color\":\"#E5ECF6\",\"width\":0.5},\"pattern\":{\"fillmode\":\"overlay\",\"size\":10,\"solidity\":0.2}},\"type\":\"bar\"}],\"scattergeo\":[{\"type\":\"scattergeo\",\"marker\":{\"colorbar\":{\"outlinewidth\":0,\"ticks\":\"\"}}}],\"scatterpolar\":[{\"type\":\"scatterpolar\",\"marker\":{\"colorbar\":{\"outlinewidth\":0,\"ticks\":\"\"}}}],\"histogram\":[{\"marker\":{\"pattern\":{\"fillmode\":\"overlay\",\"size\":10,\"solidity\":0.2}},\"type\":\"histogram\"}],\"scattergl\":[{\"type\":\"scattergl\",\"marker\":{\"colorbar\":{\"outlinewidth\":0,\"ticks\":\"\"}}}],\"scatter3d\":[{\"type\":\"scatter3d\",\"line\":{\"colorbar\":{\"outlinewidth\":0,\"ticks\":\"\"}},\"marker\":{\"colorbar\":{\"outlinewidth\":0,\"ticks\":\"\"}}}],\"scattermap\":[{\"type\":\"scattermap\",\"marker\":{\"colorbar\":{\"outlinewidth\":0,\"ticks\":\"\"}}}],\"scattermapbox\":[{\"type\":\"scattermapbox\",\"marker\":{\"colorbar\":{\"outlinewidth\":0,\"ticks\":\"\"}}}],\"scatterternary\":[{\"type\":\"scatterternary\",\"marker\":{\"colorbar\":{\"outlinewidth\":0,\"ticks\":\"\"}}}],\"scattercarpet\":[{\"type\":\"scattercarpet\",\"marker\":{\"colorbar\":{\"outlinewidth\":0,\"ticks\":\"\"}}}],\"carpet\":[{\"aaxis\":{\"endlinecolor\":\"#2a3f5f\",\"gridcolor\":\"white\",\"linecolor\":\"white\",\"minorgridcolor\":\"white\",\"startlinecolor\":\"#2a3f5f\"},\"baxis\":{\"endlinecolor\":\"#2a3f5f\",\"gridcolor\":\"white\",\"linecolor\":\"white\",\"minorgridcolor\":\"white\",\"startlinecolor\":\"#2a3f5f\"},\"type\":\"carpet\"}],\"table\":[{\"cells\":{\"fill\":{\"color\":\"#EBF0F8\"},\"line\":{\"color\":\"white\"}},\"header\":{\"fill\":{\"color\":\"#C8D4E3\"},\"line\":{\"color\":\"white\"}},\"type\":\"table\"}],\"barpolar\":[{\"marker\":{\"line\":{\"color\":\"#E5ECF6\",\"width\":0.5},\"pattern\":{\"fillmode\":\"overlay\",\"size\":10,\"solidity\":0.2}},\"type\":\"barpolar\"}],\"pie\":[{\"automargin\":true,\"type\":\"pie\"}]},\"layout\":{\"autotypenumbers\":\"strict\",\"colorway\":[\"#636efa\",\"#EF553B\",\"#00cc96\",\"#ab63fa\",\"#FFA15A\",\"#19d3f3\",\"#FF6692\",\"#B6E880\",\"#FF97FF\",\"#FECB52\"],\"font\":{\"color\":\"#2a3f5f\"},\"hovermode\":\"closest\",\"hoverlabel\":{\"align\":\"left\"},\"paper_bgcolor\":\"white\",\"plot_bgcolor\":\"#E5ECF6\",\"polar\":{\"bgcolor\":\"#E5ECF6\",\"angularaxis\":{\"gridcolor\":\"white\",\"linecolor\":\"white\",\"ticks\":\"\"},\"radialaxis\":{\"gridcolor\":\"white\",\"linecolor\":\"white\",\"ticks\":\"\"}},\"ternary\":{\"bgcolor\":\"#E5ECF6\",\"aaxis\":{\"gridcolor\":\"white\",\"linecolor\":\"white\",\"ticks\":\"\"},\"baxis\":{\"gridcolor\":\"white\",\"linecolor\":\"white\",\"ticks\":\"\"},\"caxis\":{\"gridcolor\":\"white\",\"linecolor\":\"white\",\"ticks\":\"\"}},\"coloraxis\":{\"colorbar\":{\"outlinewidth\":0,\"ticks\":\"\"}},\"colorscale\":{\"sequential\":[[0.0,\"#0d0887\"],[0.1111111111111111,\"#46039f\"],[0.2222222222222222,\"#7201a8\"],[0.3333333333333333,\"#9c179e\"],[0.4444444444444444,\"#bd3786\"],[0.5555555555555556,\"#d8576b\"],[0.6666666666666666,\"#ed7953\"],[0.7777777777777778,\"#fb9f3a\"],[0.8888888888888888,\"#fdca26\"],[1.0,\"#f0f921\"]],\"sequentialminus\":[[0.0,\"#0d0887\"],[0.1111111111111111,\"#46039f\"],[0.2222222222222222,\"#7201a8\"],[0.3333333333333333,\"#9c179e\"],[0.4444444444444444,\"#bd3786\"],[0.5555555555555556,\"#d8576b\"],[0.6666666666666666,\"#ed7953\"],[0.7777777777777778,\"#fb9f3a\"],[0.8888888888888888,\"#fdca26\"],[1.0,\"#f0f921\"]],\"diverging\":[[0,\"#8e0152\"],[0.1,\"#c51b7d\"],[0.2,\"#de77ae\"],[0.3,\"#f1b6da\"],[0.4,\"#fde0ef\"],[0.5,\"#f7f7f7\"],[0.6,\"#e6f5d0\"],[0.7,\"#b8e186\"],[0.8,\"#7fbc41\"],[0.9,\"#4d9221\"],[1,\"#276419\"]]},\"xaxis\":{\"gridcolor\":\"white\",\"linecolor\":\"white\",\"ticks\":\"\",\"title\":{\"standoff\":15},\"zerolinecolor\":\"white\",\"automargin\":true,\"zerolinewidth\":2},\"yaxis\":{\"gridcolor\":\"white\",\"linecolor\":\"white\",\"ticks\":\"\",\"title\":{\"standoff\":15},\"zerolinecolor\":\"white\",\"automargin\":true,\"zerolinewidth\":2},\"scene\":{\"xaxis\":{\"backgroundcolor\":\"#E5ECF6\",\"gridcolor\":\"white\",\"linecolor\":\"white\",\"showbackground\":true,\"ticks\":\"\",\"zerolinecolor\":\"white\",\"gridwidth\":2},\"yaxis\":{\"backgroundcolor\":\"#E5ECF6\",\"gridcolor\":\"white\",\"linecolor\":\"white\",\"showbackground\":true,\"ticks\":\"\",\"zerolinecolor\":\"white\",\"gridwidth\":2},\"zaxis\":{\"backgroundcolor\":\"#E5ECF6\",\"gridcolor\":\"white\",\"linecolor\":\"white\",\"showbackground\":true,\"ticks\":\"\",\"zerolinecolor\":\"white\",\"gridwidth\":2}},\"shapedefaults\":{\"line\":{\"color\":\"#2a3f5f\"}},\"annotationdefaults\":{\"arrowcolor\":\"#2a3f5f\",\"arrowhead\":0,\"arrowwidth\":1},\"geo\":{\"bgcolor\":\"white\",\"landcolor\":\"#E5ECF6\",\"subunitcolor\":\"white\",\"showland\":true,\"showlakes\":true,\"lakecolor\":\"white\"},\"title\":{\"x\":0.05},\"mapbox\":{\"style\":\"light\"}}},\"margin\":{\"l\":0,\"r\":0,\"t\":80,\"b\":50},\"font\":{\"family\":\"Helvetica Neue, Arial, sans-serif\",\"color\":\"#90caf9\"},\"hoverlabel\":{\"font\":{\"family\":\"Helvetica Neue, Arial, sans-serif\",\"size\":16,\"color\":\"white\"},\"bgcolor\":\"rgba(255,255,255,0.15)\",\"bordercolor\":\"rgba(144,202,249,0.6)\"},\"shapes\":[{\"line\":{\"color\":\"#90caf9\"},\"type\":\"rect\",\"x0\":0,\"x1\":105.0,\"y0\":0,\"y1\":68.0},{\"line\":{\"color\":\"#90caf9\"},\"type\":\"rect\",\"x0\":52.5,\"x1\":52.5,\"y0\":68.0,\"y1\":0.0},{\"line\":{\"color\":\"#90caf9\"},\"type\":\"rect\",\"x0\":0.0,\"x1\":15.75,\"y0\":52.699999999999996,\"y1\":15.299999999999999},{\"line\":{\"color\":\"#90caf9\"},\"type\":\"rect\",\"x0\":89.25,\"x1\":105.0,\"y0\":52.699999999999996,\"y1\":15.299999999999999},{\"line\":{\"color\":\"#90caf9\"},\"type\":\"rect\",\"x0\":0.0,\"x1\":5.25,\"y0\":42.5,\"y1\":25.5},{\"line\":{\"color\":\"#90caf9\"},\"type\":\"rect\",\"x0\":99.75,\"x1\":105.0,\"y0\":42.5,\"y1\":25.5},{\"line\":{\"color\":\"#90caf9\"},\"type\":\"circle\",\"x0\":44.49375,\"x1\":60.50625,\"y0\":25.99375,\"y1\":42.00625}],\"width\":800,\"height\":600,\"plot_bgcolor\":\"#0f1e2e\",\"paper_bgcolor\":\"#0f1e2e\",\"showlegend\":false,\"title\":{},\"xaxis\":{\"range\":[-5,110.0],\"scaleanchor\":\"y\",\"constrain\":\"domain\",\"fixedrange\":true,\"showgrid\":false,\"zeroline\":false,\"showticklabels\":false,\"visible\":false},\"yaxis\":{\"range\":[-5,73.0],\"constrain\":\"domain\",\"fixedrange\":true,\"showgrid\":false,\"zeroline\":false,\"showticklabels\":false,\"visible\":false}},                        {\"responsive\": true}                    )                };            </script>        </div>\n",
       "</body>\n",
       "</html>"
      ],
      "text/plain": [
       "<IPython.core.display.HTML object>"
      ]
     },
     "execution_count": 2,
     "metadata": {},
     "output_type": "execute_result"
    }
   ],
   "source": [
    "pitch = Pitch(\n",
    "    provider=\"statsbomb\",\n",
    "    orientation=\"horizontal\",\n",
    "    view=\"full\",\n",
    "    theme=\"night\",\n",
    "    show_axis=False,\n",
    "    show_legend=False,\n",
    ")\n",
    "\n",
    "shots = (\n",
    "    flow\n",
    "    .filter(where_equals(\"type.name\", \"Shot\"))\n",
    "    .filter(where_equals(\"team.name\", \"Liverpool\"))\n",
    ")\n",
    "\n",
    "pitch.plot_scatter(shots, \"location.0\", \"location.1\")\n",
    "\n",
    "HTML(pio.to_html(pitch.fig, include_plotlyjs=\"cdn\"))"
   ]
  },
  {
   "cell_type": "code",
   "execution_count": null,
   "id": "d44755a4",
   "metadata": {},
   "outputs": [],
   "source": [
    "pitch.fig"
   ]
  },
  {
   "cell_type": "code",
   "execution_count": null,
   "id": "e5bc4288",
   "metadata": {},
   "outputs": [],
   "source": [
    "flow = (\n",
    "    Flow\n",
    "    .statsbomb\n",
    "    .events(22912)\n",
    "    .filter(where_equals(\"type.name\", \"Pass\"))\n",
    "    .filter(where_equals(\"team.name\", \"Liverpool\"))\n",
    ")"
   ]
  }
 ],
 "metadata": {
  "kernelspec": {
   "display_name": "venv",
   "language": "python",
   "name": "python3"
  },
  "language_info": {
   "codemirror_mode": {
    "name": "ipython",
    "version": 3
   },
   "file_extension": ".py",
   "mimetype": "text/x-python",
   "name": "python",
   "nbconvert_exporter": "python",
   "pygments_lexer": "ipython3",
   "version": "3.13.1"
  }
 },
 "nbformat": 4,
 "nbformat_minor": 5
}
