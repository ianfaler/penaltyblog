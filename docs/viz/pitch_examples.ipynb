{
 "cells": [
  {
   "cell_type": "markdown",
   "id": "ba2d3f24",
   "metadata": {},
   "source": [
    "# Pitch Gallery"
   ]
  },
  {
   "cell_type": "markdown",
   "id": "5377871b",
   "metadata": {},
   "source": []
  }
 ],
 "metadata": {
  "language_info": {
   "name": "python"
  }
 },
 "nbformat": 4,
 "nbformat_minor": 5
}
