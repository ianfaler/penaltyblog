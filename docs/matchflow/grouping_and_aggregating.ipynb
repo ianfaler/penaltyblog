{
 "cells": [
  {
   "cell_type": "markdown",
   "id": "38b82471",
   "metadata": {},
   "source": [
    "# Summaries: Grouping and Aggregating Data\n",
    "\n",
    "After cleaning and transforming individual records, a common next step in data analysis is to **summarize** information across different groups.\n",
    "\n",
    "For example:\n",
    "- Count the number of shots per team\n",
    "- Compute the average xG per player\n",
    "- Sum the number of passes in different zones of the pitch\n",
    "\n",
    "`Flow` provides powerful tools for these “group by” operations."
   ]
  },
  {
   "cell_type": "markdown",
   "id": "b2225a2d",
   "metadata": {},
   "source": [
    "## The Two-Step Pattern\n",
    "\n",
    "1. **Group** your data with `.group_by(...)`\n",
    "2. **Aggregate** each group with `.summary(...)`\n",
    "\n",
    "These two steps work together to turn raw event-level data into rich summary tables.\n",
    "\n",
    "## Grouping Records: `.group_by(...)`\n",
    "\n",
    "Use `.group_by(...)` to define the key(s) you want to group by. This method takes one or more field names and returns a `FlowGroup` - a special object that holds sub-groups of records.\n",
    "\n"
   ]
  },
  {
   "cell_type": "code",
   "execution_count": 2,
   "id": "4586b19c",
   "metadata": {},
   "outputs": [
    {
     "data": {
      "text/plain": [
       "<Penaltyblog Flow Group | n_groups=2 | sample_keys=[('Manchester City',), ('Arsenal',)]>"
      ]
     },
     "execution_count": 2,
     "metadata": {},
     "output_type": "execute_result"
    }
   ],
   "source": [
    "from pprint import pprint\n",
    "from penaltyblog.matchflow import Flow\n",
    "\n",
    "sample_records = [\n",
    "    {\n",
    "        \"event_id\": 1,\n",
    "        \"match_id\": 123,\n",
    "        \"period\": 1,\n",
    "        \"timestamp\": \"00:01:30.500\",\n",
    "        \"type_name\": \"Pass\",\n",
    "        \"player_name\": \"Kevin De Bruyne\",\n",
    "        \"location\": [60.1, 40.3],\n",
    "        \"pass_recipient_name\": \"Erling Haaland\",\n",
    "        \"pass_outcome_name\": \"Complete\",\n",
    "        \"team_name\": \"Manchester City\",\n",
    "    },\n",
    "    {\n",
    "        \"event_id\": 2,\n",
    "        \"type_name\": \"Shot\",\n",
    "        \"player_name\": \"Erling Haaland\",\n",
    "        \"shot_xg\": 0.05,\n",
    "        \"shot_outcome_name\": \"Goal\",\n",
    "        \"team_name\": \"Manchester City\",\n",
    "    },\n",
    "    {\n",
    "        \"event_id\": 3,\n",
    "        \"type_name\": \"Duel\",\n",
    "        \"player_name\": \"Rodri\",\n",
    "        \"duel_type_name\": \"Tackle\",\n",
    "        \"duel_outcome_name\": \"Won\",\n",
    "        \"team_name\": \"Manchester City\",\n",
    "    },\n",
    "    {\n",
    "        \"event_id\": 4,\n",
    "        \"type_name\": \"Pass\",\n",
    "        \"player_name\": \"Kevin De Bruyne\",\n",
    "        \"pass_outcome_name\": \"Incomplete\",\n",
    "        \"team_name\": \"Manchester City\",\n",
    "    },\n",
    "    {\n",
    "        \"event_id\": 5,\n",
    "        \"type_name\": \"Shot\",\n",
    "        \"player_name\": \"Bukayo Saka\",\n",
    "        \"shot_xg\": 0.01,\n",
    "        \"shot_outcome_name\": \"Post\",\n",
    "        \"team_name\": \"Arsenal\",\n",
    "    },\n",
    "]\n",
    "\n",
    "events_flow = Flow(sample_records)\n",
    "\n",
    "grouped_by_team = events_flow.group_by(\"team_name\")\n",
    "\n",
    "grouped_by_team"
   ]
  },
  {
   "cell_type": "markdown",
   "id": "fb405b5a",
   "metadata": {},
   "source": [
    "💡 `.group_by()` materializes the entire flow.\n",
    "\n",
    "## Grouping by Multiple Fields\n",
    "\n",
    "You can group by more than one key:\n",
    "\n",
    "```python\n",
    "grouped = Flow(sample_records).group_by(\"period\", \"type_name\")\n",
    "```\n",
    "\n",
    "This would create groups like (1, \"Pass\"), (1, \"Shot\"), etc.\n",
    "\n",
    "## Aggregating within Groups: `FlowGroup.summary()`\n",
    "\n",
    "Once you have a `FlowGroup`, call `.summary(...)` to aggregate each group.\n",
    "\n",
    "You pass keyword arguments:\n",
    "\n",
    "- The **key** is the name of the new field\n",
    "- The **value** defines how to compute it\n",
    "\n",
    "You can use:\n",
    "\n",
    "- A tuple: (\"field\", \"agg\") (e.g. (\"shot_xg\", \"sum\"))\n",
    "- A string: \"count\" (for number of records)\n",
    "- A custom function or lambda\n",
    "\n",
    "### Example: Sum xG per team\n"
   ]
  },
  {
   "cell_type": "code",
   "execution_count": 4,
   "id": "dbfdc82d",
   "metadata": {},
   "outputs": [
    {
     "name": "stdout",
     "output_type": "stream",
     "text": [
      "[{'team_name': 'Manchester City', 'total_xg': np.float64(0.05)},\n",
      " {'team_name': 'Arsenal', 'total_xg': np.float64(0.01)}]\n"
     ]
    }
   ],
   "source": [
    "results = (\n",
    "    Flow(sample_records)\n",
    "    .group_by(\"team_name\")\n",
    "    .summary(\n",
    "        total_xg=(\"shot_xg\", \"sum\"),\n",
    "    )\n",
    ")\n",
    "pprint(results.collect())"
   ]
  },
  {
   "cell_type": "markdown",
   "id": "f9ba60b8",
   "metadata": {},
   "source": [
    "### Example: Sum xG and count shots per player"
   ]
  },
  {
   "cell_type": "code",
   "execution_count": 5,
   "id": "6b70d18e",
   "metadata": {},
   "outputs": [
    {
     "name": "stdout",
     "output_type": "stream",
     "text": [
      "[{'number_of_shots': 1,\n",
      "  'player_name': 'Erling Haaland',\n",
      "  'total_xg': np.float64(0.05)},\n",
      " {'number_of_shots': 1,\n",
      "  'player_name': 'Bukayo Saka',\n",
      "  'total_xg': np.float64(0.01)}]\n"
     ]
    }
   ],
   "source": [
    "# First, filter for shots to make aggregation simpler\n",
    "results = (\n",
    "    Flow(sample_records)\n",
    "    .filter(lambda r: r.get(\"type_name\") == \"Shot\")\n",
    "    .group_by(\"player_name\")\n",
    "    .summary(\n",
    "        total_xg=(\"shot_xg\", \"sum\"),\n",
    "        number_of_shots=\"count\",\n",
    "    )\n",
    ")\n",
    "\n",
    "pprint(results.collect())"
   ]
  },
  {
   "cell_type": "markdown",
   "id": "33e1a7e6",
   "metadata": {},
   "source": [
    "## Built-in Aggregation Functions:\n",
    "\n",
    "You can use the following aggregation strings:\n",
    "\n",
    "- **count** - number of records\n",
    "- **sum**, **mean**, **min**, **max**, **median**, **std**, **var**\n",
    "- **first**, **last** - first or last value of a field\n",
    "- **any**, **all** - logical reductions\n",
    "- **nunique** - number of unique values\n",
    "- **prod** - product of values\n",
    "- **mode** - most common value\n",
    "- **range** - max - min\n",
    "\n",
    "### Custom Aggregations\n",
    "\n",
    "You can pass your own function to `.summary()`.\n",
    "\n",
    "### Example: Shots on Target Percentage"
   ]
  },
  {
   "cell_type": "code",
   "execution_count": 6,
   "id": "3eafa8e1",
   "metadata": {},
   "outputs": [
    {
     "name": "stdout",
     "output_type": "stream",
     "text": [
      "[{'player_name': 'Erling Haaland', 'sot_percentage': 100.0},\n",
      " {'player_name': 'Bukayo Saka', 'sot_percentage': 0.0}]\n"
     ]
    }
   ],
   "source": [
    "player_shots_grouped = (\n",
    "    Flow(sample_records)\n",
    "    .filter(lambda r: r.get(\"type_name\") == \"Shot\")\n",
    "    .group_by(\"player_name\")\n",
    ")\n",
    "\n",
    "\n",
    "def calculate_sot_percentage(records_in_group):\n",
    "    on_target_outcomes = [\"Goal\", \"Saved\"]\n",
    "    shots_on_target = 0\n",
    "    total_shots = 0\n",
    "    for record in records_in_group:\n",
    "        if record.get(\"shot_outcome_name\"):  # Ensure the field exists\n",
    "            total_shots += 1\n",
    "            if record.get(\"shot_outcome_name\") in on_target_outcomes:\n",
    "                shots_on_target += 1\n",
    "    return (shots_on_target / total_shots) * 100 if total_shots > 0 else 0\n",
    "\n",
    "\n",
    "player_sot_percentage_flow = player_shots_grouped.summary(\n",
    "    sot_percentage=calculate_sot_percentage\n",
    ")\n",
    "\n",
    "pprint(player_sot_percentage_flow.head().collect())"
   ]
  },
  {
   "cell_type": "markdown",
   "id": "b74aa350",
   "metadata": {},
   "source": [
    "## Aggregating Without Grouping: `Flow.summary()`\n",
    "\n",
    "You can call `.summary()` directly on a `Flow` if you just want overall stats."
   ]
  },
  {
   "cell_type": "code",
   "execution_count": 8,
   "id": "a650c69f",
   "metadata": {},
   "outputs": [
    {
     "name": "stdout",
     "output_type": "stream",
     "text": [
      "[{'avg_xg': np.float64(0.03),\n",
      "  'total_match_shots': 2,\n",
      "  'total_match_xg': np.float64(0.06)}]\n"
     ]
    }
   ],
   "source": [
    "shots_flow = (\n",
    "    Flow(sample_records)\n",
    "    .filter(lambda r: r.get(\"type_name\") == \"Shot\")\n",
    "    .summary(\n",
    "        total_match_xg=(\"shot_xg\", \"sum\"),\n",
    "        total_match_shots=\"count\",\n",
    "        avg_xg=(\"shot_xg\", \"mean\"),\n",
    "    )\n",
    "    .assign(\n",
    "        avg_xg=lambda e: round(e.get(\"avg_xg\"), 2),\n",
    "        total_match_xg=lambda e: round(e.get(\"total_match_xg\"), 2),\n",
    "    )\n",
    ")\n",
    "\n",
    "pprint(shots_flow.collect())"
   ]
  },
  {
   "cell_type": "markdown",
   "id": "e990694b",
   "metadata": {},
   "source": [
    "💡 This also consumes the Flow, just like `.group_by()`. \n",
    "\n",
    "## Summary\n",
    "\n",
    "- Use `.group_by()` to group records by field(s)\n",
    "- Use `.summary()` to aggregate each group (or the whole flow)\n",
    "- You can use built-in aggregates or custom functions\n",
    "- Combine `.filter()`, `.group_by()`, and `.summary()` to answer most analytical questions\n",
    "\n",
    "## What’s Next?\n",
    "\n",
    "Next, we’ll look at joining datasets - like linking events with player metadata - using `.join()`. \n"
   ]
  }
 ],
 "metadata": {
  "kernelspec": {
   "display_name": "venv",
   "language": "python",
   "name": "python3"
  },
  "language_info": {
   "codemirror_mode": {
    "name": "ipython",
    "version": 3
   },
   "file_extension": ".py",
   "mimetype": "text/x-python",
   "name": "python",
   "nbconvert_exporter": "python",
   "pygments_lexer": "ipython3",
   "version": "3.13.1"
  }
 },
 "nbformat": 4,
 "nbformat_minor": 5
}
