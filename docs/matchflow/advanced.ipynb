{
 "cells": [
  {
   "cell_type": "markdown",
   "id": "f6ad761c",
   "metadata": {},
   "source": [
    "# Advanced Pipeline Operations\n",
    "\n",
    "Beyond transforming individual records or computing summaries, **Flow** offers a suite of advanced methods for manipulating and combining streams of data.\n",
    "\n",
    "These operations help you:\n",
    "\n",
    "- Sort records by timestamp or xG\n",
    "- Assign rankings or row numbers\n",
    "- Join one dataset to another\n",
    "- Eliminate duplicates or sample subsets\n",
    "\n",
    "💡 Some of these operations (like `.sort()` and `.join()`) **materialize the entire stream into memory**"
   ]
  },
  {
   "cell_type": "code",
   "execution_count": 2,
   "id": "def57a25",
   "metadata": {},
   "outputs": [],
   "source": [
    "from penaltyblog.matchflow import Flow\n",
    "from pprint import pprint\n",
    "\n",
    "matches = [\n",
    "    {\n",
    "        \"match_id\": 123,\n",
    "        \"competition_name\": \"Premier League\",\n",
    "        \"home_team\": \"Manchester City\",\n",
    "        \"away_team\": \"Arsenal\",\n",
    "        \"match_date\": \"2023-10-08\",\n",
    "    },\n",
    "    {\n",
    "        \"match_id\": 456,\n",
    "        \"competition_name\": \"Champions League\",\n",
    "        \"home_team\": \"Real Madrid\",\n",
    "        \"away_team\": \"Bayern Munich\",\n",
    "        \"match_date\": \"2023-10-10\",\n",
    "    },\n",
    "]\n",
    "\n",
    "events = [\n",
    "    {\n",
    "        \"event_id\": 1,\n",
    "        \"match_id\": 123,\n",
    "        \"period\": 1,\n",
    "        \"timestamp\": \"00:01:30.500\",\n",
    "        \"type_name\": \"Pass\",\n",
    "        \"player_name\": \"Kevin De Bruyne\",\n",
    "        \"location\": [60.1, 40.3],\n",
    "        \"pass_recipient_name\": \"Erling Haaland\",\n",
    "        \"pass_outcome_name\": \"Complete\",\n",
    "        \"team_name\": \"Manchester City\",\n",
    "    },\n",
    "    {\n",
    "        \"event_id\": 2,\n",
    "        \"match_id\": 123,\n",
    "        \"period\": 1,\n",
    "        \"timestamp\": \"00:01:32.100\",\n",
    "        \"type_name\": \"Shot\",\n",
    "        \"player_name\": \"Erling Haaland\",\n",
    "        \"location\": [85.5, 50.2],\n",
    "        \"shot_xg\": 0.05,\n",
    "        \"shot_outcome_name\": \"Goal\",\n",
    "        \"team_name\": \"Manchester City\",\n",
    "    },\n",
    "    {\n",
    "        \"event_id\": 3,\n",
    "        \"match_id\": 123,\n",
    "        \"period\": 1,\n",
    "        \"timestamp\": \"00:02:05.000\",\n",
    "        \"type_name\": \"Duel\",\n",
    "        \"player_name\": \"Rodri\",\n",
    "        \"duel_type_name\": \"Tackle\",\n",
    "        \"duel_outcome_name\": \"Won\",\n",
    "        \"team_name\": \"Manchester City\",\n",
    "    },\n",
    "    {\n",
    "        \"event_id\": 4,\n",
    "        \"match_id\": 123,\n",
    "        \"period\": 1,\n",
    "        \"timestamp\": \"00:02:10.000\",\n",
    "        \"type_name\": \"Pass\",\n",
    "        \"player_name\": \"Kevin De Bruyne\",\n",
    "        \"location\": [70.0, 25.0],\n",
    "        \"pass_recipient_name\": \"Jack Grealish\",\n",
    "        \"pass_outcome_name\": \"Incomplete\",\n",
    "        \"team_name\": \"Manchester City\",\n",
    "    },\n",
    "    {\n",
    "        \"event_id\": 5,\n",
    "        \"match_id\": 123,\n",
    "        \"period\": 1,\n",
    "        \"timestamp\": \"00:03:00.000\",\n",
    "        \"type_name\": \"Shot\",\n",
    "        \"player_name\": \"Bukayo Saka\",\n",
    "        \"location\": [75.0, 60.0],\n",
    "        \"shot_xg\": 0.01,\n",
    "        \"shot_outcome_name\": \"Post\",\n",
    "        \"team_name\": \"Arsenal\",\n",
    "    },\n",
    "]"
   ]
  },
  {
   "cell_type": "markdown",
   "id": "4ee08f3f",
   "metadata": {},
   "source": [
    "## Sorting and Ordering\n",
    "\n",
    "### `.sort()`: Sort Records\n",
    "\n",
    "Sort the flow by a specific field."
   ]
  },
  {
   "cell_type": "code",
   "execution_count": 2,
   "id": "d877f0b6",
   "metadata": {},
   "outputs": [],
   "source": [
    "sorted_events = Flow(events).sort(by=\"timestamp\")"
   ]
  },
  {
   "cell_type": "markdown",
   "id": "3cd6386b",
   "metadata": {},
   "source": [
    "Sort shots by xG (highest first):"
   ]
  },
  {
   "cell_type": "code",
   "execution_count": 3,
   "id": "b59704ce",
   "metadata": {},
   "outputs": [
    {
     "name": "stdout",
     "output_type": "stream",
     "text": [
      "{'event_id': 2,\n",
      " 'location': [85.5, 50.2],\n",
      " 'match_id': 123,\n",
      " 'period': 1,\n",
      " 'player_name': 'Erling Haaland',\n",
      " 'shot_outcome_name': 'Goal',\n",
      " 'shot_xg': 0.05,\n",
      " 'team_name': 'Manchester City',\n",
      " 'timestamp': '00:01:32.100',\n",
      " 'type_name': 'Shot'}\n"
     ]
    }
   ],
   "source": [
    "shots_flow = (\n",
    "    Flow(events)\n",
    "    .filter(lambda r: r.get(\"type_name\") == \"Shot\")\n",
    "    .sort(by=\"shot_xg\", reverse=True)\n",
    ")\n",
    "\n",
    "pprint(shots_flow.first())"
   ]
  },
  {
   "cell_type": "markdown",
   "id": "86f3fcf0",
   "metadata": {},
   "source": [
    "Sort the flow by multiple fields."
   ]
  },
  {
   "cell_type": "code",
   "execution_count": 3,
   "id": "d50d1be5",
   "metadata": {},
   "outputs": [
    {
     "name": "stdout",
     "output_type": "stream",
     "text": [
      "{'event_id': 2,\n",
      " 'location': [85.5, 50.2],\n",
      " 'match_id': 123,\n",
      " 'period': 1,\n",
      " 'player_name': 'Erling Haaland',\n",
      " 'shot_outcome_name': 'Goal',\n",
      " 'shot_xg': 0.05,\n",
      " 'team_name': 'Manchester City',\n",
      " 'timestamp': '00:01:32.100',\n",
      " 'type_name': 'Shot'}\n"
     ]
    }
   ],
   "source": [
    "shots_flow = Flow(events).sort(by=[\"team_name\", \"type_name\"], reverse=True)\n",
    "\n",
    "pprint(shots_flow.first())"
   ]
  },
  {
   "cell_type": "markdown",
   "id": "7ce970a3",
   "metadata": {},
   "source": [
    "💡 `.sort()` materializes the entire flow. \n",
    "\n",
    "### `.row_number()`: Assign Rankings\n",
    "\n",
    "Adds a new column (e.g. \"xg_rank\") based on sort order."
   ]
  },
  {
   "cell_type": "code",
   "execution_count": 4,
   "id": "bffc3db7",
   "metadata": {},
   "outputs": [
    {
     "name": "stdout",
     "output_type": "stream",
     "text": [
      "[{'event_id': 2,\n",
      "  'location': [85.5, 50.2],\n",
      "  'match_id': 123,\n",
      "  'period': 1,\n",
      "  'player_name': 'Erling Haaland',\n",
      "  'shot_outcome_name': 'Goal',\n",
      "  'shot_xg': 0.05,\n",
      "  'team_name': 'Manchester City',\n",
      "  'timestamp': '00:01:32.100',\n",
      "  'type_name': 'Shot',\n",
      "  'xg_rank': 1},\n",
      " {'event_id': 5,\n",
      "  'location': [75.0, 60.0],\n",
      "  'match_id': 123,\n",
      "  'period': 1,\n",
      "  'player_name': 'Bukayo Saka',\n",
      "  'shot_outcome_name': 'Post',\n",
      "  'shot_xg': 0.01,\n",
      "  'team_name': 'Arsenal',\n",
      "  'timestamp': '00:03:00.000',\n",
      "  'type_name': 'Shot',\n",
      "  'xg_rank': 2}]\n"
     ]
    }
   ],
   "source": [
    "ranked = (\n",
    "    Flow(events)\n",
    "    .filter(lambda r: r[\"type_name\"] == \"Shot\")\n",
    "    .row_number(by=\"shot_xg\", new_field=\"xg_rank\", reverse=True)\n",
    ")\n",
    "\n",
    "pprint(ranked.head(2).collect())"
   ]
  },
  {
   "cell_type": "markdown",
   "id": "aed2ed0d",
   "metadata": {},
   "source": [
    "💡 Records where the `by` field is `None` are always ranked last and receive `None` for the row number.\n",
    "\n",
    "## Taking Subsets\n",
    "\n",
    "### `.limit(n)` / `.head(n)`: Take First n Records\n",
    "\n",
    "```python\n",
    "first_five = Flow(events).limit(5)\n",
    "# or:\n",
    "first_five = Flow(events).head(5)\n",
    "```\n",
    "\n",
    "### `.take_last(n)`: Take Last n Records\n",
    "\n",
    "```python\n",
    "last_three = Flow(events).take_last(3)\n",
    "```\n",
    "\n",
    "## Sampling\n",
    "\n",
    "### `.sample(n, seed=None)`: Reservoir Sampling\n",
    "\n",
    "Takes exactly n items randomly from the stream.\n",
    "\n",
    "```python\n",
    "random_sample = Flow(events).sample(n=3, seed=42)\n",
    "```\n",
    "\n",
    "💡 If `n` is larger than the number of records, `sample()` returns all records.\n",
    "\n",
    "### `.sample_frac(frac, seed=None)`: Approximate Sampling\n",
    "\n",
    "Includes each record with a probability `frac` (e.g. 0.2 = 20%).\n",
    "\n",
    "```python\n",
    "approx_sample = Flow(events).sample_frac(frac=0.2, seed=123)\n",
    "```\n",
    "\n",
    "## Combining and Joining Data\n",
    "\n",
    "### `.concat()`: Combine Multiple Flows\n",
    "\n",
    "```python\n",
    "flow1 = Flow.statsbomb.from_github_file(match_id=123, type=\"events\")\n",
    "flow2 = Flow.statsbomb.from_github_file(match_id=456, type=\"events\")\n",
    "\n",
    "combined = flow1.concat(flow2)\n",
    "```\n",
    "\n",
    "💡 Records are streamed lazily from each input.\n",
    "\n",
    "### `.join()`: Enrich Records from Another Flow\n",
    "\n",
    "Use `.join()` to combine two datasets by matching key fields. `other` can be a `Flow` or a iterable of `dicts`.\n",
    "\n",
    "### Example: Adding competition name to our events data\n"
   ]
  },
  {
   "cell_type": "code",
   "execution_count": 7,
   "id": "852f5e10",
   "metadata": {},
   "outputs": [
    {
     "name": "stdout",
     "output_type": "stream",
     "text": [
      "{'competition_name': 'Premier League',\n",
      " 'event_id': 1,\n",
      " 'location': [60.1, 40.3],\n",
      " 'match_id': 123,\n",
      " 'pass_outcome_name': 'Complete',\n",
      " 'pass_recipient_name': 'Erling Haaland',\n",
      " 'period': 1,\n",
      " 'player_name': 'Kevin De Bruyne',\n",
      " 'team_name': 'Manchester City',\n",
      " 'timestamp': '00:01:30.500',\n",
      " 'type_name': 'Pass'}\n"
     ]
    }
   ],
   "source": [
    "events_flow = Flow(events)\n",
    "matches_flow = Flow(matches)\n",
    "\n",
    "events_with_matchesflow = events_flow.join(\n",
    "    other=matches_flow,\n",
    "    left_on=\"match_id\",  # Key in events_flow\n",
    "    right_on=\"match_id\",  # Key in match_info_flow\n",
    "    fields=[\"competition_name\"],  # Only bring this field from match_info_flow\n",
    ")\n",
    "\n",
    "results = events_with_matchesflow.collect()\n",
    "\n",
    "# We've added the competition name to each event\n",
    "pprint(results[0])"
   ]
  },
  {
   "cell_type": "markdown",
   "id": "c024e7f8",
   "metadata": {},
   "source": [
    "💡 This adds \"competition_name\" to each event based on \"match_id\".\n",
    "\n",
    "## Inner Join\n",
    "\n",
    "Only keep events where a match is found:"
   ]
  },
  {
   "cell_type": "code",
   "execution_count": 8,
   "id": "57b46193",
   "metadata": {},
   "outputs": [
    {
     "name": "stdout",
     "output_type": "stream",
     "text": [
      "{'competition_name': 'Premier League',\n",
      " 'event_id': 1,\n",
      " 'location': [60.1, 40.3],\n",
      " 'match_id': 123,\n",
      " 'pass_outcome_name': 'Complete',\n",
      " 'pass_recipient_name': 'Erling Haaland',\n",
      " 'period': 1,\n",
      " 'player_name': 'Kevin De Bruyne',\n",
      " 'team_name': 'Manchester City',\n",
      " 'timestamp': '00:01:30.500',\n",
      " 'type_name': 'Pass'}\n"
     ]
    }
   ],
   "source": [
    "events_flow = Flow(events)\n",
    "matches_flow = Flow(matches)\n",
    "\n",
    "events_with_matchesflow = events_flow.join(\n",
    "    other=matches_flow,\n",
    "    left_on=\"match_id\",  # Key in events_flow\n",
    "    right_on=\"match_id\",  # Key in match_info_flow\n",
    "    fields=[\"competition_name\"],  # Only bring this field from match_info_flow\n",
    "    how=\"inner\",\n",
    ")\n",
    "\n",
    "results = events_with_matchesflow.collect()\n",
    "\n",
    "pprint(results[0])"
   ]
  },
  {
   "cell_type": "markdown",
   "id": "d1dc3fe8",
   "metadata": {},
   "source": [
    "💡 The right-hand side (other) is fully loaded into memory, while the left-hand side is streamed lazily.\n",
    "\n",
    "## Handling Duplicates\n",
    "\n",
    "`.drop_duplicates(...)`: **Remove Duplicate Records**\n",
    "\n",
    "```python\n",
    "# Remove fully identical records\n",
    "unique_events = Flow(events).drop_duplicates()\n",
    "\n",
    "# Deduplicate by player and event type\n",
    "dedup = Flow(events).drop_duplicates(\"player_name\", \"type_name\", keep=\"first\")\n",
    "```\n",
    "\n",
    "- keep=\"first\" (default): keeps first occurrence\n",
    "- keep=\"last\": keeps last occurrence\n",
    "- keep=False: removes all duplicates entirely\n",
    "\n",
    "💡 Internally tracks seen values - may use memory if many unique combinations.\n",
    "\n",
    "`.unique(...)`: **Unique Field Values or Combinations**\n",
    "\n",
    "```python\n",
    "unique_players = Flow(events).unique(\"player_name\")\n",
    "player_names = [r[\"player_name\"] for r in unique_players.collect()]\n",
    "```\n",
    "\n",
    "Or get combinations:\n",
    "\n",
    "```python\n",
    "unique = Flow(events).unique(\"team_name\", \"type_name\")\n",
    "```\n",
    "\n",
    "💡 Like `.drop_duplicates()`, this holds keys in memory. For high-cardinality fields, `.drop_duplicates()` could consume significant memory so use with care on very large datasets.\n",
    "\n",
    "## Summary\n",
    "\n",
    "These advanced operations give you powerful ways to:\n",
    "\n",
    "- Sort and rank your data\n",
    "- Merge datasets via join\n",
    "- Sample large streams efficiently\n",
    "- Clean up duplicates or extract distinct values\n",
    "\n",
    "💡 Be mindful of which methods consume memory by loading the whole stream. \n",
    "\n",
    "## What’s Next?\n",
    "\n",
    "Next, we’ll look at saving and loading data from disk using formats like JSON, JSON Lines, and folders of files.\n"
   ]
  }
 ],
 "metadata": {
  "kernelspec": {
   "display_name": "venv",
   "language": "python",
   "name": "python3"
  },
  "language_info": {
   "codemirror_mode": {
    "name": "ipython",
    "version": 3
   },
   "file_extension": ".py",
   "mimetype": "text/x-python",
   "name": "python",
   "nbconvert_exporter": "python",
   "pygments_lexer": "ipython3",
   "version": "3.13.1"
  }
 },
 "nbformat": 4,
 "nbformat_minor": 5
}
