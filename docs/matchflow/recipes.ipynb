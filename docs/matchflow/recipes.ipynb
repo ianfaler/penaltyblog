{
 "cells": [
  {
   "cell_type": "markdown",
   "id": "b1fd512d",
   "metadata": {},
   "source": [
    "# Flow Recipe Book: Real Examples Using StatsBomb Open Data\n",
    "\n",
    "This page provides a collection of practical Flow recipes using real football data. Each example demonstrates a common task you might want to perform when analysing event data - all using the `penaltyblog.matchflow` tools and StatsBomb open data.\n",
    "\n",
    "## Find All Shots in the Match"
   ]
  },
  {
   "cell_type": "code",
   "execution_count": null,
   "id": "de2ede6a",
   "metadata": {},
   "outputs": [
    {
     "name": "stdout",
     "output_type": "stream",
     "text": [
      "{'id': '8da37d1a-8477-436a-babf-426a96c9fe78', 'index': 70, 'period': 1, 'timestamp': '00:01:27.683', 'minute': 1, 'second': 27, 'type': {'id': 16, 'name': 'Shot'}, 'possession': 6, 'possession_team': {'id': 210, 'name': 'Real Sociedad'}, 'play_pattern': {'id': 3, 'name': 'From Free Kick'}, 'team': {'id': 210, 'name': 'Real Sociedad'}, 'player': {'id': 6669, 'name': 'David Zurutuza Veillet'}, 'position': {'id': 15, 'name': 'Left Center Midfield'}, 'location': [110.0, 38.2], 'duration': 0.8123, 'under_pressure': True, 'related_events': ['2cff7b1f-e203-4055-ba78-e8a9ee428d3a', 'e66fdb14-3432-474a-bf98-af8289f2af95'], 'shot': {'statsbomb_xg': 0.13791905, 'end_location': [119.3, 37.5, 2.0], 'key_pass_id': 'b9240206-5a95-41b2-9353-94c65c504c27', 'outcome': {'id': 100, 'name': 'Saved'}, 'technique': {'id': 93, 'name': 'Normal'}, 'aerial_won': True, 'body_part': {'id': 37, 'name': 'Head'}, 'type': {'id': 87, 'name': 'Open Play'}, 'freeze_frame': [{'location': [110.0, 37.3], 'player': {'id': 5213, 'name': 'Gerard Piqué Bernabéu'}, 'position': {'id': 3, 'name': 'Right Center Back'}, 'teammate': False}, {'location': [119.2, 38.6], 'player': {'id': 20055, 'name': 'Marc-André ter Stegen'}, 'position': {'id': 1, 'name': 'Goalkeeper'}, 'teammate': False}, {'location': [101.6, 59.9], 'player': {'id': 5211, 'name': 'Jordi Alba Ramos'}, 'position': {'id': 6, 'name': 'Left Back'}, 'teammate': False}, {'location': [102.9, 52.1], 'player': {'id': 6690, 'name': 'Xabier Prieto Argarate'}, 'position': {'id': 13, 'name': 'Right Center Midfield'}, 'teammate': True}, {'location': [98.8, 53.9], 'player': {'id': 10802, 'name': 'André Filipe Tavares Gomes'}, 'position': {'id': 15, 'name': 'Left Center Midfield'}, 'teammate': False}, {'location': [102.2, 46.5], 'player': {'id': 5506, 'name': 'Javier Alejandro Mascherano'}, 'position': {'id': 5, 'name': 'Left Center Back'}, 'teammate': False}, {'location': [104.9, 40.1], 'player': {'id': 5203, 'name': 'Sergio Busquets i Burgos'}, 'position': {'id': 10, 'name': 'Center Defensive Midfield'}, 'teammate': False}, {'location': [107.5, 33.9], 'player': {'id': 6379, 'name': 'Sergi Roberto Carnicer'}, 'position': {'id': 2, 'name': 'Right Back'}, 'teammate': False}, {'location': [87.9, 57.6], 'player': {'id': 4320, 'name': 'Neymar da Silva Santos Junior'}, 'position': {'id': 21, 'name': 'Left Wing'}, 'teammate': False}, {'location': [80.1, 61.4], 'player': {'id': 5560, 'name': 'Carlos Alberto Vela Garrido'}, 'position': {'id': 17, 'name': 'Right Wing'}, 'teammate': True}, {'location': [111.8, 37.4], 'player': {'id': 6685, 'name': 'Mikel Oyarzabal Ugarte'}, 'position': {'id': 21, 'name': 'Left Wing'}, 'teammate': True}, {'location': [102.8, 34.2], 'player': {'id': 6721, 'name': 'Willian José da Silva'}, 'position': {'id': 23, 'name': 'Center Forward'}, 'teammate': True}, {'location': [95.4, 32.6], 'player': {'id': 5470, 'name': 'Ivan Rakitić'}, 'position': {'id': 13, 'name': 'Right Center Midfield'}, 'teammate': False}]}}\n",
      "{'id': 'a78ab8d3-2cbb-4430-b6aa-95a5e87bd888', 'index': 209, 'period': 1, 'timestamp': '00:04:57.847', 'minute': 4, 'second': 57, 'type': {'id': 16, 'name': 'Shot'}, 'possession': 20, 'possession_team': {'id': 210, 'name': 'Real Sociedad'}, 'play_pattern': {'id': 2, 'name': 'From Corner'}, 'team': {'id': 210, 'name': 'Real Sociedad'}, 'player': {'id': 6665, 'name': 'Íñigo Martínez Berridi'}, 'position': {'id': 5, 'name': 'Left Center Back'}, 'location': [103.6, 39.9], 'duration': 0.450667, 'related_events': ['5dc095da-5191-4337-a0de-4568b7ca900b'], 'shot': {'statsbomb_xg': 0.062485237, 'end_location': [105.6, 42.8], 'first_time': True, 'technique': {'id': 93, 'name': 'Normal'}, 'body_part': {'id': 38, 'name': 'Left Foot'}, 'type': {'id': 87, 'name': 'Open Play'}, 'outcome': {'id': 101, 'name': 'Wayward'}, 'freeze_frame': [{'location': [106.3, 39.7], 'player': {'id': 5470, 'name': 'Ivan Rakitić'}, 'position': {'id': 13, 'name': 'Right Center Midfield'}, 'teammate': False}, {'location': [112.3, 43.9], 'player': {'id': 5203, 'name': 'Sergio Busquets i Burgos'}, 'position': {'id': 10, 'name': 'Center Defensive Midfield'}, 'teammate': False}, {'location': [110.8, 43.9], 'player': {'id': 6669, 'name': 'David Zurutuza Veillet'}, 'position': {'id': 15, 'name': 'Left Center Midfield'}, 'teammate': True}, {'location': [110.5, 41.9], 'player': {'id': 6379, 'name': 'Sergi Roberto Carnicer'}, 'position': {'id': 2, 'name': 'Right Back'}, 'teammate': False}, {'location': [110.0, 37.3], 'player': {'id': 10802, 'name': 'André Filipe Tavares Gomes'}, 'position': {'id': 15, 'name': 'Left Center Midfield'}, 'teammate': False}, {'location': [119.4, 38.7], 'player': {'id': 20055, 'name': 'Marc-André ter Stegen'}, 'position': {'id': 1, 'name': 'Goalkeeper'}, 'teammate': False}, {'location': [113.7, 34.6], 'player': {'id': 5246, 'name': 'Luis Alberto Suárez Díaz'}, 'position': {'id': 23, 'name': 'Center Forward'}, 'teammate': False}, {'location': [112.3, 35.7], 'player': {'id': 5213, 'name': 'Gerard Piqué Bernabéu'}, 'position': {'id': 3, 'name': 'Right Center Back'}, 'teammate': False}, {'location': [111.8, 35.1], 'player': {'id': 6721, 'name': 'Willian José da Silva'}, 'position': {'id': 23, 'name': 'Center Forward'}, 'teammate': True}, {'location': [109.2, 33.0], 'player': {'id': 5211, 'name': 'Jordi Alba Ramos'}, 'position': {'id': 6, 'name': 'Left Back'}, 'teammate': False}, {'location': [110.8, 29.2], 'player': {'id': 5506, 'name': 'Javier Alejandro Mascherano'}, 'position': {'id': 5, 'name': 'Left Center Back'}, 'teammate': False}, {'location': [109.2, 44.8], 'player': {'id': 6693, 'name': 'Raúl Rodríguez Navas'}, 'position': {'id': 3, 'name': 'Right Center Back'}, 'teammate': True}, {'location': [95.0, 35.2], 'player': {'id': 6685, 'name': 'Mikel Oyarzabal Ugarte'}, 'position': {'id': 21, 'name': 'Left Wing'}, 'teammate': True}, {'location': [117.3, 0.5], 'player': {'id': 5560, 'name': 'Carlos Alberto Vela Garrido'}, 'position': {'id': 17, 'name': 'Right Wing'}, 'teammate': True}, {'location': [109.7, 29.1], 'player': {'id': 6690, 'name': 'Xabier Prieto Argarate'}, 'position': {'id': 13, 'name': 'Right Center Midfield'}, 'teammate': True}, {'location': [95.6, 25.9], 'player': {'id': 4320, 'name': 'Neymar da Silva Santos Junior'}, 'position': {'id': 21, 'name': 'Left Wing'}, 'teammate': False}]}}\n",
      "{'id': '4baa98fe-6374-46a9-a3f4-137aa03b80e5', 'index': 460, 'period': 1, 'timestamp': '00:09:44.685', 'minute': 9, 'second': 44, 'type': {'id': 16, 'name': 'Shot'}, 'possession': 34, 'possession_team': {'id': 210, 'name': 'Real Sociedad'}, 'play_pattern': {'id': 2, 'name': 'From Corner'}, 'team': {'id': 210, 'name': 'Real Sociedad'}, 'player': {'id': 6685, 'name': 'Mikel Oyarzabal Ugarte'}, 'position': {'id': 21, 'name': 'Left Wing'}, 'location': [98.2, 50.7], 'duration': 1.729411, 'related_events': ['bd9d26aa-f775-4850-8755-b8453a3bc4b7'], 'shot': {'statsbomb_xg': 0.026282653, 'end_location': [116.9, 77.0], 'body_part': {'id': 38, 'name': 'Left Foot'}, 'type': {'id': 87, 'name': 'Open Play'}, 'outcome': {'id': 101, 'name': 'Wayward'}, 'first_time': True, 'technique': {'id': 91, 'name': 'Half Volley'}, 'freeze_frame': [{'location': [97.6, 60.2], 'player': {'id': 4320, 'name': 'Neymar da Silva Santos Junior'}, 'position': {'id': 21, 'name': 'Left Wing'}, 'teammate': False}, {'location': [92.8, 54.9], 'player': {'id': 8724, 'name': 'Carlos Martínez Díez'}, 'position': {'id': 2, 'name': 'Right Back'}, 'teammate': True}, {'location': [102.4, 47.2], 'player': {'id': 5246, 'name': 'Luis Alberto Suárez Díaz'}, 'position': {'id': 23, 'name': 'Center Forward'}, 'teammate': False}, {'location': [106.3, 49.7], 'player': {'id': 5211, 'name': 'Jordi Alba Ramos'}, 'position': {'id': 6, 'name': 'Left Back'}, 'teammate': False}, {'location': [104.4, 34.3], 'player': {'id': 6379, 'name': 'Sergi Roberto Carnicer'}, 'position': {'id': 2, 'name': 'Right Back'}, 'teammate': False}, {'location': [110.6, 29.4], 'player': {'id': 10802, 'name': 'André Filipe Tavares Gomes'}, 'position': {'id': 15, 'name': 'Left Center Midfield'}, 'teammate': False}, {'location': [112.7, 37.6], 'player': {'id': 5203, 'name': 'Sergio Busquets i Burgos'}, 'position': {'id': 10, 'name': 'Center Defensive Midfield'}, 'teammate': False}, {'location': [112.0, 40.0], 'player': {'id': 5213, 'name': 'Gerard Piqué Bernabéu'}, 'position': {'id': 3, 'name': 'Right Center Back'}, 'teammate': False}, {'location': [113.1, 42.7], 'player': {'id': 5470, 'name': 'Ivan Rakitić'}, 'position': {'id': 13, 'name': 'Right Center Midfield'}, 'teammate': False}, {'location': [112.2, 46.7], 'player': {'id': 5506, 'name': 'Javier Alejandro Mascherano'}, 'position': {'id': 5, 'name': 'Left Center Back'}, 'teammate': False}, {'location': [108.2, 46.2], 'player': {'id': 6665, 'name': 'Íñigo Martínez Berridi'}, 'position': {'id': 5, 'name': 'Left Center Back'}, 'teammate': True}, {'location': [111.6, 47.6], 'player': {'id': 6690, 'name': 'Xabier Prieto Argarate'}, 'position': {'id': 13, 'name': 'Right Center Midfield'}, 'teammate': True}, {'location': [101.8, 34.2], 'player': {'id': 6669, 'name': 'David Zurutuza Veillet'}, 'position': {'id': 15, 'name': 'Left Center Midfield'}, 'teammate': True}, {'location': [108.1, 28.0], 'player': {'id': 6721, 'name': 'Willian José da Silva'}, 'position': {'id': 23, 'name': 'Center Forward'}, 'teammate': True}, {'location': [111.4, 34.6], 'player': {'id': 6693, 'name': 'Raúl Rodríguez Navas'}, 'position': {'id': 3, 'name': 'Right Center Back'}, 'teammate': True}, {'location': [119.0, 41.4], 'player': {'id': 20055, 'name': 'Marc-André ter Stegen'}, 'position': {'id': 1, 'name': 'Goalkeeper'}, 'teammate': False}]}}\n",
      "{'id': 'ba8880fd-e2ea-4fe9-860d-c0ddc434071e', 'index': 626, 'period': 1, 'timestamp': '00:14:20.906', 'minute': 14, 'second': 20, 'type': {'id': 16, 'name': 'Shot'}, 'possession': 47, 'possession_team': {'id': 210, 'name': 'Real Sociedad'}, 'play_pattern': {'id': 2, 'name': 'From Corner'}, 'team': {'id': 210, 'name': 'Real Sociedad'}, 'player': {'id': 6690, 'name': 'Xabier Prieto Argarate'}, 'position': {'id': 13, 'name': 'Right Center Midfield'}, 'location': [115.9, 44.1], 'duration': 0.8203, 'under_pressure': True, 'related_events': ['1059dcbd-e983-4752-afc2-8e3889f7364a', '1f54bdf9-90bb-4eba-8e2c-a73ccfddba0a'], 'shot': {'statsbomb_xg': 0.1653458, 'end_location': [119.3, 41.6, 0.2], 'key_pass_id': '56812035-94a0-4714-9c61-8b2475e967be', 'outcome': {'id': 100, 'name': 'Saved'}, 'technique': {'id': 93, 'name': 'Normal'}, 'aerial_won': True, 'body_part': {'id': 37, 'name': 'Head'}, 'type': {'id': 87, 'name': 'Open Play'}, 'freeze_frame': [{'location': [119.7, 41.9], 'player': {'id': 20055, 'name': 'Marc-André ter Stegen'}, 'position': {'id': 1, 'name': 'Goalkeeper'}, 'teammate': False}, {'location': [119.1, 36.4], 'player': {'id': 5213, 'name': 'Gerard Piqué Bernabéu'}, 'position': {'id': 3, 'name': 'Right Center Back'}, 'teammate': False}, {'location': [113.9, 40.2], 'player': {'id': 5506, 'name': 'Javier Alejandro Mascherano'}, 'position': {'id': 5, 'name': 'Left Center Back'}, 'teammate': False}, {'location': [111.2, 40.5], 'player': {'id': 6379, 'name': 'Sergi Roberto Carnicer'}, 'position': {'id': 2, 'name': 'Right Back'}, 'teammate': False}, {'location': [108.6, 49.9], 'player': {'id': 6669, 'name': 'David Zurutuza Veillet'}, 'position': {'id': 15, 'name': 'Left Center Midfield'}, 'teammate': True}, {'location': [108.2, 61.0], 'player': {'id': 5560, 'name': 'Carlos Alberto Vela Garrido'}, 'position': {'id': 17, 'name': 'Right Wing'}, 'teammate': True}, {'location': [107.6, 29.8], 'player': {'id': 5470, 'name': 'Ivan Rakitić'}, 'position': {'id': 13, 'name': 'Right Center Midfield'}, 'teammate': False}, {'location': [106.9, 20.1], 'player': {'id': 5203, 'name': 'Sergio Busquets i Burgos'}, 'position': {'id': 10, 'name': 'Center Defensive Midfield'}, 'teammate': False}, {'location': [117.4, 18.7], 'player': {'id': 10802, 'name': 'André Filipe Tavares Gomes'}, 'position': {'id': 15, 'name': 'Left Center Midfield'}, 'teammate': False}, {'location': [120.0, 13.1], 'player': {'id': 6721, 'name': 'Willian José da Silva'}, 'position': {'id': 23, 'name': 'Center Forward'}, 'teammate': True}, {'location': [112.3, 37.1], 'player': {'id': 6665, 'name': 'Íñigo Martínez Berridi'}, 'position': {'id': 5, 'name': 'Left Center Back'}, 'teammate': True}, {'location': [115.9, 43.5], 'player': {'id': 5211, 'name': 'Jordi Alba Ramos'}, 'position': {'id': 6, 'name': 'Left Back'}, 'teammate': False}]}}\n",
      "{'id': '7c71daf4-8b84-4dd3-b0f7-caa444829779', 'index': 793, 'period': 1, 'timestamp': '00:17:31.155', 'minute': 17, 'second': 31, 'type': {'id': 16, 'name': 'Shot'}, 'possession': 57, 'possession_team': {'id': 210, 'name': 'Real Sociedad'}, 'play_pattern': {'id': 7, 'name': 'From Goal Kick'}, 'team': {'id': 210, 'name': 'Real Sociedad'}, 'player': {'id': 6690, 'name': 'Xabier Prieto Argarate'}, 'position': {'id': 13, 'name': 'Right Center Midfield'}, 'location': [114.1, 44.8], 'duration': 0.932405, 'related_events': ['5d1336a1-242c-477e-ab98-53204701defc'], 'shot': {'statsbomb_xg': 0.16168807, 'end_location': [120.0, 30.3, 0.2], 'key_pass_id': '70e5e946-c0c5-42eb-b687-cbb7be0b7f1e', 'technique': {'id': 93, 'name': 'Normal'}, 'body_part': {'id': 37, 'name': 'Head'}, 'type': {'id': 87, 'name': 'Open Play'}, 'outcome': {'id': 98, 'name': 'Off T'}, 'freeze_frame': [{'location': [115.5, 41.4], 'player': {'id': 5211, 'name': 'Jordi Alba Ramos'}, 'position': {'id': 6, 'name': 'Left Back'}, 'teammate': False}, {'location': [119.5, 40.5], 'player': {'id': 20055, 'name': 'Marc-André ter Stegen'}, 'position': {'id': 1, 'name': 'Goalkeeper'}, 'teammate': False}, {'location': [115.2, 38.7], 'player': {'id': 5506, 'name': 'Javier Alejandro Mascherano'}, 'position': {'id': 5, 'name': 'Left Center Back'}, 'teammate': False}, {'location': [113.8, 38.4], 'player': {'id': 6721, 'name': 'Willian José da Silva'}, 'position': {'id': 23, 'name': 'Center Forward'}, 'teammate': True}, {'location': [114.0, 34.8], 'player': {'id': 6379, 'name': 'Sergi Roberto Carnicer'}, 'position': {'id': 2, 'name': 'Right Back'}, 'teammate': False}, {'location': [117.8, 20.1], 'player': {'id': 5213, 'name': 'Gerard Piqué Bernabéu'}, 'position': {'id': 3, 'name': 'Right Center Back'}, 'teammate': False}, {'location': [113.1, 22.2], 'player': {'id': 5470, 'name': 'Ivan Rakitić'}, 'position': {'id': 13, 'name': 'Right Center Midfield'}, 'teammate': False}, {'location': [120.0, 18.5], 'player': {'id': 3023, 'name': 'Yuri Berchiche Izeta'}, 'position': {'id': 6, 'name': 'Left Back'}, 'teammate': True}, {'location': [102.1, 46.0], 'player': {'id': 5560, 'name': 'Carlos Alberto Vela Garrido'}, 'position': {'id': 17, 'name': 'Right Wing'}, 'teammate': True}, {'location': [110.8, 44.0], 'player': {'id': 10802, 'name': 'André Filipe Tavares Gomes'}, 'position': {'id': 15, 'name': 'Left Center Midfield'}, 'teammate': False}]}}\n"
     ]
    }
   ],
   "source": [
    "from penaltyblog.matchflow import Flow\n",
    "\n",
    "# Load events from a StatsBomb match\n",
    "match_id = 266191\n",
    "events = Flow.statsbomb.from_github_file(match_id, type=\"events\").materialize()\n",
    "\n",
    "shots = events.filter(lambda r: r.get(\"type\", {}).get(\"name\") == \"Shot\").collect()\n",
    "\n",
    "for row in shots[:5]:\n",
    "    print(row)"
   ]
  },
  {
   "cell_type": "markdown",
   "id": "52a32bc7",
   "metadata": {},
   "source": [
    "## Sum xG Per Player"
   ]
  },
  {
   "cell_type": "code",
   "execution_count": 4,
   "id": "215bc2e2",
   "metadata": {},
   "outputs": [
    {
     "name": "stdout",
     "output_type": "stream",
     "text": [
      "Carlos Alberto Vela Garrido 0.57\n",
      "Willian José da Silva     0.40\n",
      "Xabier Prieto Argarate    0.33\n",
      "Lionel Andrés Messi Cuccittini 0.20\n",
      "Javier Alejandro Mascherano 0.19\n"
     ]
    }
   ],
   "source": [
    "# Summarise total xG per player\n",
    "results = (\n",
    "    events.filter(lambda r: r.get(\"type\", {}).get(\"name\") == \"Shot\")\n",
    "    .assign(\n",
    "        player_name=lambda r: r.get(\"player\", {}).get(\"name\"),\n",
    "        xg=lambda r: r.get(\"shot\", {}).get(\"statsbomb_xg\", 0),\n",
    "    )\n",
    "    .group_by(\"player_name\")\n",
    "    .summary(total_xg=(\"xg\", \"sum\"))\n",
    "    .sort(by=\"total_xg\", reverse=True)\n",
    ")\n",
    "\n",
    "# Print top contributors\n",
    "for row in results.collect()[:5]:\n",
    "    print(f\"{row['player_name']:25} {row['total_xg']:.2f}\")"
   ]
  },
  {
   "cell_type": "markdown",
   "id": "781d2e12",
   "metadata": {},
   "source": [
    "## Calculate Shot Accuracy Per Team"
   ]
  },
  {
   "cell_type": "code",
   "execution_count": 5,
   "id": "2eb44593",
   "metadata": {},
   "outputs": [
    {
     "name": "stdout",
     "output_type": "stream",
     "text": [
      "{'team_name': 'Real Sociedad', 'shots': 18, 'shot_accuracy': 33.3}\n",
      "{'team_name': 'Barcelona', 'shots': 10, 'shot_accuracy': 20.0}\n"
     ]
    }
   ],
   "source": [
    "def accuracy(group):\n",
    "    on_target = sum(1 for r in group if r.get(\"shot_type\") in [\"Goal\", \"Saved\"])\n",
    "    total = len(group)\n",
    "    return round(100 * on_target / total, 1) if total else 0\n",
    "\n",
    "\n",
    "events = Flow.statsbomb.from_github_file(match_id, type=\"events\")\n",
    "\n",
    "results = (\n",
    "    events.filter(lambda r: r.get(\"type\", {}).get(\"name\") == \"Shot\")\n",
    "    .assign(\n",
    "        shot_type=lambda r: r.get(\"shot\", {}).get(\"outcome\", {}).get(\"name\"),\n",
    "        team_name=lambda r: r.get(\"team\", {}).get(\"name\"),\n",
    "    )\n",
    "    .group_by(\"team_name\")\n",
    "    .summary(shots=\"count\", shot_accuracy=accuracy)\n",
    ")\n",
    "\n",
    "for row in results.collect():\n",
    "    print(row)"
   ]
  },
  {
   "cell_type": "code",
   "execution_count": null,
   "id": "a4ae709f",
   "metadata": {},
   "outputs": [],
   "source": []
  }
 ],
 "metadata": {
  "kernelspec": {
   "display_name": "venv",
   "language": "python",
   "name": "python3"
  },
  "language_info": {
   "codemirror_mode": {
    "name": "ipython",
    "version": 3
   },
   "file_extension": ".py",
   "mimetype": "text/x-python",
   "name": "python",
   "nbconvert_exporter": "python",
   "pygments_lexer": "ipython3",
   "version": "3.13.1"
  }
 },
 "nbformat": 4,
 "nbformat_minor": 5
}
