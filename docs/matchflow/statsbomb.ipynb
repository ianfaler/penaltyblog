{
 "cells": [
  {
   "cell_type": "markdown",
   "id": "aec0005c",
   "metadata": {},
   "source": [
    "# Accessing the StatsBomb API From Flow\n",
    "\n",
    "**Flow** includes built-in support for querying the StatsBomb API directly (both paid and free access) - making it easy to fetch, explore, and analyze football data in just a few lines of code.\n",
    "\n",
    "Whether you're working with events, lineups, or 360 data, `Flow` lets you stream and query it without flattening or wrangling.\n",
    "\n",
    "## 🔑 Setup\n",
    "\n",
    "Before you begin, make sure you have access credentials for the StatsBomb API, unless you are only accessing their free, open data.\n",
    "\n",
    "You can set them via environment variables:\n",
    "\n",
    "```bash\n",
    "export SB_USERNAME=\"your-username\"\n",
    "export SB_PASSWORD=\"your-password\"\n",
    "```\n",
    "\n",
    "Or pass them directly via the `creds` argument.\n",
    "\n",
    "## 🚀 Getting Started"
   ]
  },
  {
   "cell_type": "code",
   "execution_count": 8,
   "id": "813bc5b9",
   "metadata": {},
   "outputs": [
    {
     "data": {
      "text/plain": [
       "{'competition_id': 9,\n",
       " 'season_id': 281,\n",
       " 'country_name': 'Germany',\n",
       " 'competition_name': '1. Bundesliga',\n",
       " 'competition_gender': 'male',\n",
       " 'competition_youth': False,\n",
       " 'competition_international': False,\n",
       " 'season_name': '2023/2024',\n",
       " 'match_updated': '2024-07-15T14:15:54.671676',\n",
       " 'match_updated_360': '2024-07-15T14:17:00.877356',\n",
       " 'match_available_360': '2024-07-15T14:17:00.877356',\n",
       " 'match_available': '2024-07-15T14:15:54.671676'}"
      ]
     },
     "execution_count": 8,
     "metadata": {},
     "output_type": "execute_result"
    }
   ],
   "source": [
    "from penaltyblog.matchflow import Flow\n",
    "\n",
    "# Get all available competitions\n",
    "comps = Flow.statsbomb.competitions().collect()\n",
    "comps[0]"
   ]
  },
  {
   "cell_type": "markdown",
   "id": "0b31efa9",
   "metadata": {},
   "source": [
    "## 📅 Loading Match Metadata"
   ]
  },
  {
   "cell_type": "code",
   "execution_count": 9,
   "id": "08b95b38",
   "metadata": {},
   "outputs": [
    {
     "data": {
      "text/plain": [
       "64"
      ]
     },
     "execution_count": 9,
     "metadata": {},
     "output_type": "execute_result"
    }
   ],
   "source": [
    "matches = Flow.statsbomb.matches(competition_id=43, season_id=106).collect()\n",
    "len(matches)"
   ]
  },
  {
   "cell_type": "markdown",
   "id": "879ec056",
   "metadata": {},
   "source": [
    "## 🎯 Filtering Events (e.g. Shots)"
   ]
  },
  {
   "cell_type": "code",
   "execution_count": 10,
   "id": "faffd787",
   "metadata": {},
   "outputs": [
    {
     "data": {
      "text/plain": [
       "{'player.name': 'Ciro Immobile',\n",
       " 'location': [114.6, 50.1],\n",
       " 'shot.statsbomb_xg': 0.05223599}"
      ]
     },
     "execution_count": 10,
     "metadata": {},
     "output_type": "execute_result"
    }
   ],
   "source": [
    "from penaltyblog.matchflow import where_equals\n",
    "\n",
    "shots = (\n",
    "    Flow.statsbomb.events(match_id=3788741)\n",
    "    .filter(where_equals(\"type.name\", \"Shot\"))\n",
    "    .select(\"player.name\", \"location\", \"shot.statsbomb_xg\")\n",
    "    .collect()\n",
    ")\n",
    "\n",
    "shots[0]"
   ]
  },
  {
   "cell_type": "markdown",
   "id": "387424b4",
   "metadata": {},
   "source": [
    "## ⚽ Working with Lineups"
   ]
  },
  {
   "cell_type": "code",
   "execution_count": 11,
   "id": "a0c5df3c",
   "metadata": {},
   "outputs": [
    {
     "data": {
      "text/plain": [
       "{'player_id': 4355,\n",
       " 'player_name': 'Emerson Palmieri dos Santos',\n",
       " 'player_nickname': 'Emerson',\n",
       " 'jersey_number': 13,\n",
       " 'country': {'id': 112, 'name': 'Italy'},\n",
       " 'cards': [],\n",
       " 'positions': []}"
      ]
     },
     "execution_count": 11,
     "metadata": {},
     "output_type": "execute_result"
    }
   ],
   "source": [
    "lineups = Flow.statsbomb.lineups(match_id=3788741)\n",
    "lineups = lineups.select(\"lineup\")\n",
    "lineups = lineups.collect()\n",
    "\n",
    "lineups[0][\"lineup\"][0]\n"
   ]
  },
  {
   "cell_type": "markdown",
   "id": "4d74ba03",
   "metadata": {},
   "source": [
    "## 🧠 Join with Match Metadata"
   ]
  },
  {
   "cell_type": "code",
   "execution_count": 12,
   "id": "b84904bd",
   "metadata": {},
   "outputs": [
    {
     "data": {
      "text/plain": [
       "{'jersey_number': 17, 'type': {'id': 30, 'name': 'Pass'}}"
      ]
     },
     "execution_count": 12,
     "metadata": {},
     "output_type": "execute_result"
    }
   ],
   "source": [
    "from penaltyblog.matchflow import where_exists\n",
    "\n",
    "meta = Flow(lineups[1][\"lineup\"])\n",
    "\n",
    "events = (\n",
    "    Flow.statsbomb.events(3788741)\n",
    "    .filter(where_exists(\"player.id\"))\n",
    "    .assign(player_id=lambda r: r[\"player\"].get(\"id\"))\n",
    ")\n",
    "\n",
    "joined = (\n",
    "    events\n",
    "    .join(meta, left_on=\"player_id\", right_on=\"player_id\", how=\"left\")\n",
    "    .select(\"jersey_number\", \"type\")\n",
    "    .limit(10)\n",
    "    .collect()\n",
    "    )\n",
    "\n",
    "joined[0]"
   ]
  },
  {
   "cell_type": "markdown",
   "id": "7572cf30",
   "metadata": {},
   "source": [
    "## 👟 Presets for Common Tasks\n",
    "\n",
    "Flow also includes preset filters and transforms for common StatsBomb use cases - such as isolating shots or passes - so you don’t have to rewrite the same filters each time."
   ]
  },
  {
   "cell_type": "code",
   "execution_count": 13,
   "id": "012b9a7c",
   "metadata": {},
   "outputs": [
    {
     "data": {
      "text/plain": [
       "(27, 1059)"
      ]
     },
     "execution_count": 13,
     "metadata": {},
     "output_type": "execute_result"
    }
   ],
   "source": [
    "from penaltyblog.matchflow.statsbomb.presets import shots_only, passes_only\n",
    "\n",
    "# All shots from a match\n",
    "shots = Flow.statsbomb.events(3788741).pipe(shots_only).collect()\n",
    "\n",
    "passes = Flow.statsbomb.events(3788741).pipe(passes_only).collect()\n",
    "\n",
    "len(shots), len(passes)"
   ]
  },
  {
   "cell_type": "markdown",
   "id": "0f457d69",
   "metadata": {},
   "source": [
    "Presets can also take arguments to filter events further. For example:"
   ]
  },
  {
   "cell_type": "code",
   "execution_count": 14,
   "id": "585574d0",
   "metadata": {},
   "outputs": [
    {
     "data": {
      "text/plain": [
       "1"
      ]
     },
     "execution_count": 14,
     "metadata": {},
     "output_type": "execute_result"
    }
   ],
   "source": [
    "from penaltyblog.matchflow.statsbomb.presets import xg_above\n",
    "\n",
    "shots = Flow.statsbomb.events(3788741).pipe(xg_above(0.25)).collect()\n",
    "\n",
    "len(shots)"
   ]
  },
  {
   "cell_type": "markdown",
   "id": "d8b34251",
   "metadata": {},
   "source": [
    "## 🛠️ Tip: Combine with .materialize() to safely reuse data\n",
    "\n",
    "Since Flow streams data, it's often a good idea to materialize if you're reusing it:\n",
    "\n",
    "```python\n",
    "flow = Flow.statsbomb.events(3788741).materialize()\n",
    "\n",
    "shots = flow.pipe(shots_only).collect()\n",
    "passes = flow.pipe(passes_only).collect()\n",
    "high_xg_shots = flow.pipe(xg_above(0.25)).collect()\n",
    "```\n",
    "\n",
    "## ✅ Summary\n",
    "\n",
    "- Use `Flow.statsbomb` to access all available endpoints\n",
    "- Filter, select, and join nested fields without flattening\n",
    "- Works out of the box with the official statsbombpy client\n",
    "- Ideal for quick exploration, dashboards, or building pipelines\n"
   ]
  }
 ],
 "metadata": {
  "kernelspec": {
   "display_name": "venv",
   "language": "python",
   "name": "python3"
  },
  "language_info": {
   "codemirror_mode": {
    "name": "ipython",
    "version": 3
   },
   "file_extension": ".py",
   "mimetype": "text/x-python",
   "name": "python",
   "nbconvert_exporter": "python",
   "pygments_lexer": "ipython3",
   "version": "3.13.1"
  }
 },
 "nbformat": 4,
 "nbformat_minor": 5
}
