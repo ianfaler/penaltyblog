{
 "cells": [
  {
   "cell_type": "markdown",
   "id": "d89ba3c4",
   "metadata": {},
   "source": [
    "# Basic Pipelines: Transforming Your Data\n",
    "\n",
    "Once you have your data loaded into a `Flow`, the next step is usually to clean, reshape, and enrich it. `Flow` provides several methods that operate on each record individually as it streams through your pipeline.\n",
    "\n",
    "Remember, these operations are **lazy** – they define the work to be done, but the work only happens when you ask for the final results (e.g., with `.collect()`).\n",
    "\n"
   ]
  },
  {
   "cell_type": "code",
   "execution_count": 1,
   "id": "1177b2da",
   "metadata": {},
   "outputs": [
    {
     "name": "stdout",
     "output_type": "stream",
     "text": [
      "{'event_id': 1,\n",
      " 'location': [60.1, 40.3],\n",
      " 'match_id': 123,\n",
      " 'pass_outcome_name': 'Complete',\n",
      " 'pass_recipient_name': 'Erling Haaland',\n",
      " 'period': 1,\n",
      " 'player_name': 'Kevin De Bruyne',\n",
      " 'timestamp': '00:01:30.500',\n",
      " 'type_name': 'Pass'}\n"
     ]
    }
   ],
   "source": [
    "from pprint import pprint\n",
    "\n",
    "from penaltyblog.matchflow import Flow\n",
    "\n",
    "# Sample records that events might contain:\n",
    "sample_records = [\n",
    "    {\n",
    "        \"event_id\": 1,\n",
    "        \"match_id\": 123,\n",
    "        \"period\": 1,\n",
    "        \"timestamp\": \"00:01:30.500\",\n",
    "        \"type_name\": \"Pass\",\n",
    "        \"player_name\": \"Kevin De Bruyne\",\n",
    "        \"location\": [60.1, 40.3],\n",
    "        \"pass_recipient_name\": \"Erling Haaland\",\n",
    "        \"pass_outcome_name\": \"Complete\",\n",
    "    },\n",
    "    {\n",
    "        \"event_id\": 2,\n",
    "        \"match_id\": 123,\n",
    "        \"period\": 1,\n",
    "        \"timestamp\": \"00:01:32.100\",\n",
    "        \"type_name\": \"Shot\",\n",
    "        \"player_name\": \"Erling Haaland\",\n",
    "        \"location\": [85.5, 50.2],\n",
    "        \"shot_xg\": 0.05,\n",
    "        \"shot_outcome_name\": \"Goal\",\n",
    "    },\n",
    "    {\n",
    "        \"event_id\": 3,\n",
    "        \"match_id\": 123,\n",
    "        \"period\": 1,\n",
    "        \"timestamp\": \"00:02:05.000\",\n",
    "        \"type_name\": \"Duel\",\n",
    "        \"player_name\": \"Rodri\",\n",
    "        \"duel_type_name\": \"Tackle\",\n",
    "        \"duel_outcome_name\": \"Won\",\n",
    "    },\n",
    "    {\n",
    "        \"event_id\": 4,\n",
    "        \"match_id\": 123,\n",
    "        \"period\": 1,\n",
    "        \"timestamp\": \"00:02:10.000\",\n",
    "        \"type_name\": \"Pass\",\n",
    "        \"player_name\": \"Kevin De Bruyne\",\n",
    "        \"location\": [70.0, 25.0],\n",
    "        \"pass_recipient_name\": \"Jack Grealish\",\n",
    "        \"pass_outcome_name\": \"Incomplete\",\n",
    "    },\n",
    "    {\n",
    "        \"event_id\": 5,\n",
    "        \"match_id\": 123,\n",
    "        \"period\": 1,\n",
    "        \"timestamp\": \"00:03:00.000\",\n",
    "        \"type_name\": \"Shot\",\n",
    "        \"player_name\": \"Bukayo Saka\",\n",
    "        \"location\": [75.0, 60.0],\n",
    "        \"shot_xg\": 0.01,\n",
    "        \"shot_outcome_name\": \"Saved\",\n",
    "    },\n",
    "]\n",
    "\n",
    "pprint(sample_records[0])"
   ]
  },
  {
   "cell_type": "markdown",
   "id": "49711e4b",
   "metadata": {},
   "source": [
    "## Selecting Fields: `.select()`\n",
    " \n",
    "Sometimes, you don’t need all the fields in your records. The `.select()` method lets you keep only the fields you’re interested in.\n",
    " \n",
    "### Example: Getting Player Names and Locations\n"
   ]
  },
  {
   "cell_type": "code",
   "execution_count": 3,
   "id": "d29ad774",
   "metadata": {},
   "outputs": [
    {
     "name": "stdout",
     "output_type": "stream",
     "text": [
      "[{'location': [60.1, 40.3], 'player_name': 'Kevin De Bruyne'}]\n"
     ]
    }
   ],
   "source": [
    "player_locations_flow = Flow(sample_records).select(\"player_name\", \"location\")\n",
    "\n",
    "pprint(player_locations_flow.head(1).collect())"
   ]
  },
  {
   "cell_type": "markdown",
   "id": "0a36c312",
   "metadata": {},
   "source": [
    "### Accessing Nested Fields\n",
    "\n",
    "You can access nested fields using dot notation:"
   ]
  },
  {
   "cell_type": "code",
   "execution_count": 5,
   "id": "27c76648",
   "metadata": {},
   "outputs": [
    {
     "name": "stdout",
     "output_type": "stream",
     "text": [
      "[{'c': 1}]\n"
     ]
    }
   ],
   "source": [
    "example = {\"a\": {\"b\":{\"c\": 1}}}\n",
    "flow = Flow(example).select(\"a.b.c\")\n",
    "\n",
    "pprint(flow.head(1).collect())\n"
   ]
  },
  {
   "cell_type": "markdown",
   "id": "15c2e3df",
   "metadata": {},
   "source": [
    "### Selecting Nested vs. Dotted Keys\n",
    "\n",
    "By default, `Flow.select(\"a.b.c\")` looks up `record[\"a\"][\"b\"][\"c\"]`.\n",
    "\n",
    "But what if your keys actually contain dots?\n",
    "\n",
    "```python\n",
    "{\"player.info\": {\"name.full\": \"Chloe Kelly\"}}\n",
    "```\n",
    "\n",
    "#### Option 1. Flatten the records\n",
    "\n",
    "```python\n",
    "(\n",
    "    Flow(records)\n",
    "    .flatten()\n",
    "    .select(\"player.info.name.full\")\n",
    "    .collect()\n",
    ")\n",
    "```\n",
    "\n",
    "After `.flatten()`, nested dicts are turned into flat dotted keys:\n",
    "\n",
    "```python\n",
    "# before\n",
    "{\"player.info\": {\"name.full\": \"Chloe Kelly\"}}\n",
    "\n",
    "# after\n",
    "{\"player.info.name.full\": \"Chloe Kelly\"}\n",
    "```\n",
    "\n",
    "#### Option 2. Rename + Assign\n",
    "\n",
    "```python\n",
    "flow = (\n",
    "    Flow(records)\n",
    "    .rename(**{\"player.info\": \"player_info\"})\n",
    "    .assign(name_full=lambda r: r[\"player_info\"].get(\"name.full\"))\n",
    "    .select(\"player_info\", \"name_full\")\n",
    "    .collect()\n",
    ")\n",
    "```\n",
    "\n",
    "Both approaches make `.select()` fast and predictable while handling any key shape.\n"
   ]
  },
  {
   "cell_type": "markdown",
   "id": "c1315edc",
   "metadata": {},
   "source": [
    "## Filtering Records: `.filter()`\n",
    "\n",
    "Use `.filter()` to keep only records that meet a specific condition.\n",
    "\n",
    "### Example: Getting only Shot Events\n"
   ]
  },
  {
   "cell_type": "code",
   "execution_count": 4,
   "id": "0fb18777",
   "metadata": {},
   "outputs": [
    {
     "name": "stdout",
     "output_type": "stream",
     "text": [
      "Erling Haaland had a shot with outcome: Goal\n",
      "Bukayo Saka had a shot with outcome: Saved\n"
     ]
    }
   ],
   "source": [
    "shots_flow = Flow(sample_records).filter(lambda event: event.get(\"type_name\") == \"Shot\")\n",
    "\n",
    "# To see the result:\n",
    "shot_records = shots_flow.collect()\n",
    "for shot in shot_records:\n",
    "    print(\n",
    "        f\"{shot.get('player_name')} had a shot with outcome: {shot.get('shot_outcome_name')}\"\n",
    "    )"
   ]
  },
  {
   "cell_type": "markdown",
   "id": "58fe77cc",
   "metadata": {},
   "source": [
    "### Example: Shots by a Specific Player"
   ]
  },
  {
   "cell_type": "code",
   "execution_count": 5,
   "id": "7637ebd1",
   "metadata": {},
   "outputs": [
    {
     "name": "stdout",
     "output_type": "stream",
     "text": [
      "[{'event_id': 2,\n",
      "  'location': [85.5, 50.2],\n",
      "  'match_id': 123,\n",
      "  'period': 1,\n",
      "  'player_name': 'Erling Haaland',\n",
      "  'shot_outcome_name': 'Goal',\n",
      "  'shot_xg': 0.05,\n",
      "  'timestamp': '00:01:32.100',\n",
      "  'type_name': 'Shot'}]\n"
     ]
    }
   ],
   "source": [
    "haaland_goals_flow = Flow(sample_records).filter(\n",
    "    lambda event: event.get(\"type_name\") == \"Shot\"\n",
    "    and event.get(\"shot_outcome_name\") == \"Goal\"\n",
    "    and event.get(\"player_name\") == \"Erling Haaland\"\n",
    ")\n",
    "\n",
    "pprint(haaland_goals_flow.collect())"
   ]
  },
  {
   "cell_type": "markdown",
   "id": "21a03307",
   "metadata": {},
   "source": [
    "## Assigning New Fields: `.assign()`\n",
    "\n",
    "The `.assign()` method adds or modifies fields. You pass a function that returns the new value.\n",
    "\n",
    "### Example: Adding a \"half\" field based on \"period\""
   ]
  },
  {
   "cell_type": "code",
   "execution_count": 6,
   "id": "0f70ad6e",
   "metadata": {},
   "outputs": [
    {
     "name": "stdout",
     "output_type": "stream",
     "text": [
      "[{'event_id': 1,\n",
      "  'half': 'First',\n",
      "  'location': [60.1, 40.3],\n",
      "  'match_id': 123,\n",
      "  'pass_outcome_name': 'Complete',\n",
      "  'pass_recipient_name': 'Erling Haaland',\n",
      "  'period': 1,\n",
      "  'player_name': 'Kevin De Bruyne',\n",
      "  'timestamp': '00:01:30.500',\n",
      "  'type_name': 'Pass'}]\n"
     ]
    }
   ],
   "source": [
    "half_flow = Flow(sample_records).assign(\n",
    "    half=lambda event: \"First\" if event.get(\"period\") == 1 else \"Second\"\n",
    ")\n",
    "\n",
    "pprint(half_flow.head(1).collect())"
   ]
  },
  {
   "cell_type": "markdown",
   "id": "13addbf0",
   "metadata": {},
   "source": [
    "### Example: Convert player name to uppercase\n",
    "\n",
    "💡 `.assign()` works both for adding new fields and modifying existing ones."
   ]
  },
  {
   "cell_type": "code",
   "execution_count": 5,
   "id": "92ab10fe",
   "metadata": {},
   "outputs": [
    {
     "name": "stdout",
     "output_type": "stream",
     "text": [
      "[{'event_id': 1,\n",
      "  'location': [60.1, 40.3],\n",
      "  'match_id': 123,\n",
      "  'pass_outcome_name': 'Complete',\n",
      "  'pass_recipient_name': 'Erling Haaland',\n",
      "  'period': 1,\n",
      "  'player_name': 'KEVIN DE BRUYNE',\n",
      "  'timestamp': '00:01:30.500',\n",
      "  'type_name': 'Pass'}]\n"
     ]
    }
   ],
   "source": [
    "uppercase_players_flow = Flow(sample_records).assign(\n",
    "    player_name=lambda event: event.get(\"player_name\", \"\").upper()\n",
    ")\n",
    "\n",
    "pprint(uppercase_players_flow.head(1).collect())"
   ]
  },
  {
   "cell_type": "markdown",
   "id": "786b32ef",
   "metadata": {},
   "source": [
    "## Renaming Fields: `.rename()`\n",
    "\n",
    "Use `.rename()` to rename one or more keys in your records:"
   ]
  },
  {
   "cell_type": "code",
   "execution_count": null,
   "id": "a8f38274",
   "metadata": {},
   "outputs": [
    {
     "name": "stdout",
     "output_type": "stream",
     "text": [
      "{'event_type': 'Pass', 'id': 123}\n"
     ]
    }
   ],
   "source": [
    "renamed = (\n",
    "    Flow(sample_records)\n",
    "    .rename(match_id=\"id\", type_name=\"event_type\")\n",
    "    .select(\"id\", \"event_type\")\n",
    ")\n",
    "\n",
    "pprint(renamed.collect()[0])"
   ]
  },
  {
   "cell_type": "markdown",
   "id": "b2a5512c",
   "metadata": {},
   "source": [
    "## Expanding Lists: `.explode()`\n",
    "\n",
    "If a field contains a list, you can “explode” it into multiple rows:"
   ]
  },
  {
   "cell_type": "code",
   "execution_count": 7,
   "id": "d1605afa",
   "metadata": {},
   "outputs": [
    {
     "name": "stdout",
     "output_type": "stream",
     "text": [
      "[{'event_id': 30,\n",
      "  'involved_players': 'Player X',\n",
      "  'roles': ['Passer', 'Receiver']},\n",
      " {'event_id': 30,\n",
      "  'involved_players': 'Player Y',\n",
      "  'roles': ['Passer', 'Receiver']}]\n"
     ]
    }
   ],
   "source": [
    "example_record = {\n",
    "    \"event_id\": 30,\n",
    "    \"involved_players\": [\"Player X\", \"Player Y\"],\n",
    "    \"roles\": [\"Passer\", \"Receiver\"],\n",
    "}\n",
    "\n",
    "involved_roles_flow = Flow([example_record]).explode(key=\"involved_players\")\n",
    "\n",
    "pprint(involved_roles_flow.collect())"
   ]
  },
  {
   "cell_type": "markdown",
   "id": "ce20ce67",
   "metadata": {},
   "source": [
    "### Exploding Multiple Lists: `.explode_multi()`\n",
    "\n",
    "Explode multiple list fields together (like Python's `zip`):\n"
   ]
  },
  {
   "cell_type": "code",
   "execution_count": 8,
   "id": "ac4d6b09",
   "metadata": {},
   "outputs": [
    {
     "name": "stdout",
     "output_type": "stream",
     "text": [
      "[{'event_id': 30, 'involved_players': 'Player X', 'roles': 'Passer'},\n",
      " {'event_id': 30, 'involved_players': 'Player Y', 'roles': 'Receiver'}]\n"
     ]
    }
   ],
   "source": [
    "example_record = {\n",
    "    \"event_id\": 30,\n",
    "    \"involved_players\": [\"Player X\", \"Player Y\"],\n",
    "    \"roles\": [\"Passer\", \"Receiver\"],\n",
    "}\n",
    "\n",
    "involved_roles_flow = Flow([example_record]).explode_multi(\n",
    "    keys=[\"involved_players\", \"roles\"]\n",
    ")\n",
    "\n",
    "pprint(involved_roles_flow.collect())"
   ]
  },
  {
   "cell_type": "markdown",
   "id": "5eaf6a3e",
   "metadata": {},
   "source": [
    "### Splitting an Array into New Fields: `.split_array()`\n",
    "\n",
    "Split a fixed-length list into multiple fields:"
   ]
  },
  {
   "cell_type": "code",
   "execution_count": null,
   "id": "2b56ddb8",
   "metadata": {},
   "outputs": [
    {
     "name": "stdout",
     "output_type": "stream",
     "text": [
      "[{'event_id': 1,\n",
      "  'location': [60.1, 40.3],\n",
      "  'match_id': 123,\n",
      "  'pass_outcome_name': 'Complete',\n",
      "  'pass_recipient_name': 'Erling Haaland',\n",
      "  'period': 1,\n",
      "  'player_name': 'Kevin De Bruyne',\n",
      "  'start_x': 60.1,\n",
      "  'start_y': 40.3,\n",
      "  'timestamp': '00:01:30.500',\n",
      "  'type_name': 'Pass'}]\n"
     ]
    }
   ],
   "source": [
    "split_location_flow = (\n",
    "    Flow(sample_records)\n",
    "    .split_array(key=\"location\", into=[\"start_x\", \"start_y\"])\n",
    "    .head(1)\n",
    ")\n",
    "\n",
    "pprint(split_location_flow.collect())"
   ]
  },
  {
   "cell_type": "markdown",
   "id": "f7387792",
   "metadata": {},
   "source": [
    "💡 If the list is shorter than the number of field names, the extras become `None`. Extra values are ignored."
   ]
  },
  {
   "cell_type": "markdown",
   "id": "204d6c34",
   "metadata": {},
   "source": [
    "## Summary\n",
    "\n",
    "These building blocks - `.select()`, `.filter()`, `.assign()`, `.explode()` and others - form the core of most `Flow` pipelines. By chaining them together, you can clean, reshape, and enrich your data in a clear, readable way."
   ]
  },
  {
   "cell_type": "markdown",
   "id": "8ab80672",
   "metadata": {},
   "source": [
    "## What's Next?\n",
    "\n",
    "In the next chapter, we’ll look at how to group your data and calculate aggregate statistics using `.group_by()` and `.summary()`. "
   ]
  }
 ],
 "metadata": {
  "kernelspec": {
   "display_name": "venv",
   "language": "python",
   "name": "python3"
  },
  "language_info": {
   "codemirror_mode": {
    "name": "ipython",
    "version": 3
   },
   "file_extension": ".py",
   "mimetype": "text/x-python",
   "name": "python",
   "nbconvert_exporter": "python",
   "pygments_lexer": "ipython3",
   "version": "3.13.1"
  }
 },
 "nbformat": 4,
 "nbformat_minor": 5
}
