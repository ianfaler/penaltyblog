{
 "cells": [
  {
   "cell_type": "code",
   "execution_count": 1,
   "id": "3b63462f",
   "metadata": {},
   "outputs": [
    {
     "ename": "ImportError",
     "evalue": "cannot import name 'NoAuthWarning' from 'statsbombpy' (/Users/martin/repos/penaltyblog/venv/lib/python3.13/site-packages/statsbombpy/__init__.py)",
     "output_type": "error",
     "traceback": [
      "\u001b[0;31m---------------------------------------------------------------------------\u001b[0m",
      "\u001b[0;31mImportError\u001b[0m                               Traceback (most recent call last)",
      "Input \u001b[0;32mIn [1]\u001b[0m, in \u001b[0;36m<cell line: 0>\u001b[0;34m()\u001b[0m\n\u001b[1;32m      2\u001b[0m \u001b[38;5;28;01mimport\u001b[39;00m\u001b[38;5;250m \u001b[39m\u001b[38;5;21;01mwarnings\u001b[39;00m\n\u001b[1;32m      4\u001b[0m \u001b[38;5;28;01mfrom\u001b[39;00m\u001b[38;5;250m \u001b[39m\u001b[38;5;21;01mpenaltyblog\u001b[39;00m\u001b[38;5;21;01m.\u001b[39;00m\u001b[38;5;21;01mmatchflow\u001b[39;00m\u001b[38;5;250m \u001b[39m\u001b[38;5;28;01mimport\u001b[39;00m Flow, where_equals, get_index\n\u001b[0;32m----> 5\u001b[0m \u001b[38;5;28;01mfrom\u001b[39;00m\u001b[38;5;250m \u001b[39m\u001b[38;5;21;01mstatsbombpy\u001b[39;00m\u001b[38;5;250m \u001b[39m\u001b[38;5;28;01mimport\u001b[39;00m NoAuthWarning\n\u001b[1;32m      7\u001b[0m \u001b[38;5;66;03m# Suppress NoAuthWarning warnings\u001b[39;00m\n\u001b[1;32m      8\u001b[0m warnings\u001b[38;5;241m.\u001b[39mfilterwarnings(\u001b[38;5;124m\"\u001b[39m\u001b[38;5;124mignore\u001b[39m\u001b[38;5;124m\"\u001b[39m, category\u001b[38;5;241m=\u001b[39mNoAuthWarning)\n",
      "\u001b[0;31mImportError\u001b[0m: cannot import name 'NoAuthWarning' from 'statsbombpy' (/Users/martin/repos/penaltyblog/venv/lib/python3.13/site-packages/statsbombpy/__init__.py)"
     ]
    }
   ],
   "source": [
    "from pprint import pprint\n",
    "import warnings\n",
    "\n",
    "from penaltyblog.matchflow import Flow, where_equals, get_index\n",
    "from statsbombpy import NoAuthWarning\n",
    "\n",
    "# Suppress NoAuthWarning warnings\n",
    "warnings.filterwarnings(\"ignore\", category=NoAuthWarning)"
   ]
  },
  {
   "cell_type": "code",
   "execution_count": null,
   "id": "a296b102",
   "metadata": {},
   "outputs": [],
   "source": [
    "events = sb.events(8657, fmt=\"dict\").values()"
   ]
  },
  {
   "cell_type": "code",
   "execution_count": null,
   "id": "0d7add07",
   "metadata": {},
   "outputs": [],
   "source": [
    "type(events)"
   ]
  },
  {
   "cell_type": "markdown",
   "id": "ef67e3c5",
   "metadata": {},
   "source": [
    "## Competitions\n",
    "\n",
    "Get the first competition listed for Italy."
   ]
  },
  {
   "cell_type": "code",
   "execution_count": null,
   "id": "3df59121",
   "metadata": {},
   "outputs": [],
   "source": [
    "result = (\n",
    "    Flow.statsbomb.competitions()\n",
    "    .filter(where_equals(\"country_name\", \"Italy\"))\n",
    "    .collect()\n",
    ")\n",
    "\n",
    "pprint(result[0])"
   ]
  },
  {
   "cell_type": "markdown",
   "id": "54943bde",
   "metadata": {},
   "source": [
    "## Matches\n",
    "\n",
    "Get the matches for a given competition and season and filter to specific nested fields using \"dot\" notation."
   ]
  },
  {
   "cell_type": "code",
   "execution_count": null,
   "id": "a059ab28",
   "metadata": {},
   "outputs": [],
   "source": [
    "result = (\n",
    "    Flow.statsbomb.matches(competition_id=1238, season_id=108)\n",
    "    .select(\n",
    "        \"competition.competition_name\", \n",
    "        \"home_team.home_team_name\", \n",
    "        \"away_team.away_team_name\", \n",
    "        \"referee.name\",\n",
    "        \"referee.country.name\"\n",
    "    )\n",
    "    .rename(\n",
    "        **{\n",
    "            \"competition.competition_name\": \"competition_name\",\n",
    "            \"home_team.home_team_name\": \"home_team_name\",\n",
    "            \"away_team.away_team_name\": \"away_team_name\",\n",
    "            \"referee.name\": \"referee_name\",\n",
    "            \"referee.country.name\": \"referee_country_name\",\n",
    "        }\n",
    "    )\n",
    "    .collect()\n",
    ")\n",
    "\n",
    "pprint(result[:3])"
   ]
  },
  {
   "cell_type": "markdown",
   "id": "6730228c",
   "metadata": {},
   "source": [
    "## Lineups\n",
    "\n",
    "Get the first player in the lineup for each team for a given match_id."
   ]
  },
  {
   "cell_type": "code",
   "execution_count": null,
   "id": "2714de91",
   "metadata": {},
   "outputs": [],
   "source": [
    "result = (\n",
    "    Flow.statsbomb.lineups(match_id=8657)\n",
    "    .assign(player=get_index(\"lineup\", 0))\n",
    "    .select(\"team_name\", \"player\")\n",
    "    .collect()\n",
    ")\n",
    "\n",
    "pprint(result)"
   ]
  },
  {
   "cell_type": "markdown",
   "id": "f9ab13f4",
   "metadata": {},
   "source": [
    "## Events\n",
    "\n",
    "Get all events for a given match_id and count who took the most shots."
   ]
  },
  {
   "cell_type": "code",
   "execution_count": null,
   "id": "e6306f4d",
   "metadata": {},
   "outputs": [],
   "source": [
    "result = (\n",
    "    Flow.statsbomb.events(match_id=8657)\n",
    "    .filter(where_equals(\"type.name\", \"Shot\"))\n",
    "    .select(\"player.name\")\n",
    "    .group_by(\"player.name\")\n",
    "    .summary(n_shots=\"count\")\n",
    "    .sort(\"n_shots\", reverse=True)\n",
    "    .limit(3)\n",
    ")\n",
    "\n",
    "for record in result:\n",
    "    print(record)"
   ]
  },
  {
   "cell_type": "code",
   "execution_count": null,
   "id": "0d1547d4",
   "metadata": {},
   "outputs": [],
   "source": [
    "import warnings\n",
    "from statsbombpy import NoAuthWarning\n",
    "\n",
    "# Suppress NoAuthWarning warnings\n",
    "warnings.filterwarnings(\"ignore\", category=NoAuthWarning)\n"
   ]
  }
 ],
 "metadata": {
  "kernelspec": {
   "display_name": "venv",
   "language": "python",
   "name": "python3"
  },
  "language_info": {
   "codemirror_mode": {
    "name": "ipython",
    "version": 3
   },
   "file_extension": ".py",
   "mimetype": "text/x-python",
   "name": "python",
   "nbconvert_exporter": "python",
   "pygments_lexer": "ipython3",
   "version": "3.13.1"
  }
 },
 "nbformat": 4,
 "nbformat_minor": 5
}
