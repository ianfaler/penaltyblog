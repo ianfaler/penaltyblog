{
 "cells": [
  {
   "cell_type": "markdown",
   "id": "d89ba3c4",
   "metadata": {},
   "source": [
    "# Basic Pipelines: Transforming Your Data\n",
    "\n",
    "Once you have your data loaded into a `Flow`, the next step is usually to clean, reshape, and enrich it. `Flow` provides several methods that operate on each record individually as it streams through your pipeline. Remember, these operations are \"lazy\" – they define the work to be done, but the work only happens when you ask for the final results (e.g., with `.collect()`).\n"
   ]
  },
  {
   "cell_type": "code",
   "execution_count": null,
   "id": "1177b2da",
   "metadata": {},
   "outputs": [
    {
     "name": "stdout",
     "output_type": "stream",
     "text": [
      "{'event_id': 1,\n",
      " 'location': [60.1, 40.3],\n",
      " 'match_id': 123,\n",
      " 'pass_outcome_name': 'Complete',\n",
      " 'pass_recipient_name': 'Erling Haaland',\n",
      " 'period': 1,\n",
      " 'player_name': 'Kevin De Bruyne',\n",
      " 'timestamp': '00:01:30.500',\n",
      " 'type_name': 'Pass'}\n"
     ]
    }
   ],
   "source": [
    "from pprint import pprint\n",
    "\n",
    "from penaltyblog.matchflow import Flow\n",
    "\n",
    "# Sample records that events might contain:\n",
    "sample_records = [\n",
    "    {\n",
    "        \"event_id\": 1,\n",
    "        \"match_id\": 123,\n",
    "        \"period\": 1,\n",
    "        \"timestamp\": \"00:01:30.500\",\n",
    "        \"type_name\": \"Pass\",\n",
    "        \"player_name\": \"Kevin De Bruyne\",\n",
    "        \"location\": [60.1, 40.3],\n",
    "        \"pass_recipient_name\": \"Erling Haaland\",\n",
    "        \"pass_outcome_name\": \"Complete\",\n",
    "    },\n",
    "    {\n",
    "        \"event_id\": 2,\n",
    "        \"match_id\": 123,\n",
    "        \"period\": 1,\n",
    "        \"timestamp\": \"00:01:32.100\",\n",
    "        \"type_name\": \"Shot\",\n",
    "        \"player_name\": \"Erling Haaland\",\n",
    "        \"location\": [85.5, 50.2],\n",
    "        \"shot_xg\": 0.05,\n",
    "        \"shot_outcome_name\": \"Goal\",\n",
    "    },\n",
    "    {\n",
    "        \"event_id\": 3,\n",
    "        \"match_id\": 123,\n",
    "        \"period\": 1,\n",
    "        \"timestamp\": \"00:02:05.000\",\n",
    "        \"type_name\": \"Duel\",\n",
    "        \"player_name\": \"Rodri\",\n",
    "        \"duel_type_name\": \"Tackle\",\n",
    "        \"duel_outcome_name\": \"Won\",\n",
    "    },\n",
    "    {\n",
    "        \"event_id\": 4,\n",
    "        \"match_id\": 123,\n",
    "        \"period\": 1,\n",
    "        \"timestamp\": \"00:02:10.000\",\n",
    "        \"type_name\": \"Pass\",\n",
    "        \"player_name\": \"Kevin De Bruyne\",\n",
    "        \"location\": [70.0, 25.0],\n",
    "        \"pass_recipient_name\": \"Jack Grealish\",\n",
    "        \"pass_outcome_name\": \"Incomplete\",\n",
    "    },\n",
    "    {\n",
    "        \"event_id\": 5,\n",
    "        \"match_id\": 123,\n",
    "        \"period\": 1,\n",
    "        \"timestamp\": \"00:03:00.000\",\n",
    "        \"type_name\": \"Shot\",\n",
    "        \"player_name\": \"Bukayo Saka\",\n",
    "        \"location\": [75.0, 60.0],\n",
    "        \"shot_xg\": 0.01,\n",
    "        \"shot_outcome_name\": \"Saved\",\n",
    "    },\n",
    "]\n",
    "\n",
    "pprint(sample_records[0])"
   ]
  },
  {
   "cell_type": "markdown",
   "id": "49711e4b",
   "metadata": {},
   "source": [
    "## Selecting Fields: `.select()`\n",
    " \n",
    "Sometimes, you don't need all the fields in your records. The `.select()` method lets you keep only the fields you're interested in. You provide the field names as arguments, and the flow will yield records containing only those fields.\n",
    " \n",
    "### Example: Getting Player Names and Locations\n"
   ]
  },
  {
   "cell_type": "code",
   "execution_count": 2,
   "id": "d29ad774",
   "metadata": {},
   "outputs": [
    {
     "name": "stdout",
     "output_type": "stream",
     "text": [
      "[{'location': [60.1, 40.3], 'player_name': 'Kevin De Bruyne'}]\n"
     ]
    }
   ],
   "source": [
    "player_locations_flow = Flow(sample_records).select(\n",
    "    \"player_name\", \"location\"\n",
    ")\n",
    "\n",
    "pprint(player_locations_flow.head(1).collect())"
   ]
  },
  {
   "cell_type": "markdown",
   "id": "0a36c312",
   "metadata": {},
   "source": [
    "### Accessing Nested Fields\n",
    "\n",
    "You can also access nested fields by using the `dot` notation shortcut, as shown in the example below."
   ]
  },
  {
   "cell_type": "code",
   "execution_count": 5,
   "id": "27c76648",
   "metadata": {},
   "outputs": [
    {
     "name": "stdout",
     "output_type": "stream",
     "text": [
      "[{'c': 1}]\n"
     ]
    }
   ],
   "source": [
    "example = {\"a\": {\"b\":{\"c\": 1}}}\n",
    "flow = Flow(example).select(\"a.b.c\")\n",
    "\n",
    "pprint(flow.head(1).collect())\n"
   ]
  },
  {
   "cell_type": "markdown",
   "id": "15c2e3df",
   "metadata": {},
   "source": [
    "### Selecting Nested vs. Dotted Keys\n",
    "\n",
    "By default, `Flow.select(\"a.b.c\")` will only look up `record[\"a\"][\"b\"][\"c\"]`. \n",
    "\n",
    "If your data actually contains keys with dots in them - for example:\n",
    "\n",
    "```python\n",
    "{\"player.info\": {\"name.full\": \"Jane Doe\"}}\n",
    "```\n",
    "\n",
    "Then you have two easy options to access the data:\n",
    "\n",
    "1. Flatten the records:\n",
    "\n",
    "```python\n",
    "(\n",
    "    Flow(records)\n",
    "    .flatten()\n",
    "    .select(\"player.info.name.full\")\n",
    "    .collect()\n",
    ")\n",
    "```\n",
    "\n",
    "After `.flatten()`, nested dicts become true dotted keys:\n",
    "\n",
    "```python\n",
    "# before flatten\n",
    "{\"player.info\": {\"name.full\": \"Jane Doe\"}}\n",
    "# after flatten\n",
    "{\"player.info.name.full\": \"Jane Doe\"}\n",
    "```\n",
    "\n",
    "2. Rename the fields:\n",
    "\n",
    "```python\n",
    "(\n",
    "    Flow(records)\n",
    "    .rename(**{\"player.info\": \"player_info\"})  \n",
    "    .assign(name_full=lambda r: r[\"player_info\"].get(\"name.full\")) \n",
    "    .select(\"player_info\", \"name_full\")\n",
    "    .collect()\n",
    ")\n",
    "```\n",
    "\n",
    "Both approaches keeps `.select()` fast and predictable, while still giving you full control over your field names.\n"
   ]
  },
  {
   "cell_type": "markdown",
   "id": "c1315edc",
   "metadata": {},
   "source": [
    "## Filtering Records: `.filter()`\n",
    "\n",
    "Often, you'll want to work with a subset of your data. The `.filter()` method allows you to keep only the records that meet a specific condition. You provide a function (often a lambda function but doesn't need to be) that takes a record (a dictionary) and returns `True` (to keep it) or `False` (to discard it).\n",
    "\n",
    "### Example: Getting only Shot Events\n"
   ]
  },
  {
   "cell_type": "code",
   "execution_count": 7,
   "id": "0fb18777",
   "metadata": {},
   "outputs": [
    {
     "name": "stdout",
     "output_type": "stream",
     "text": [
      "Erling Haaland had a shot with outcome: Goal\n",
      "Bukayo Saka had a shot with outcome: Saved\n"
     ]
    }
   ],
   "source": [
    "shots_flow = Flow(sample_records).filter(lambda event: event.get(\"type_name\") == \"Shot\")\n",
    "\n",
    "# To see the result:\n",
    "shot_records = shots_flow.collect()\n",
    "for shot in shot_records:\n",
    "    print(\n",
    "        f\"{shot.get('player_name')} had a shot with outcome: {shot.get('shot_outcome_name')}\"\n",
    "    )"
   ]
  },
  {
   "cell_type": "markdown",
   "id": "58fe77cc",
   "metadata": {},
   "source": [
    "### Example: Getting Shots by a Specific Player"
   ]
  },
  {
   "cell_type": "code",
   "execution_count": 8,
   "id": "7637ebd1",
   "metadata": {},
   "outputs": [
    {
     "name": "stdout",
     "output_type": "stream",
     "text": [
      "[{'event_id': 2,\n",
      "  'location': [85.5, 50.2],\n",
      "  'match_id': 123,\n",
      "  'period': 1,\n",
      "  'player_name': 'Erling Haaland',\n",
      "  'shot_outcome_name': 'Goal',\n",
      "  'shot_xg': 0.05,\n",
      "  'timestamp': '00:01:32.100',\n",
      "  'type_name': 'Shot'}]\n"
     ]
    }
   ],
   "source": [
    "haaland_goals_flow = Flow(sample_records).filter(\n",
    "    lambda event: event.get(\"type_name\") == \"Shot\"\n",
    "    and event.get(\"shot_outcome_name\") == \"Goal\"\n",
    "    and event.get(\"player_name\") == \"Erling Haaland\"\n",
    ")\n",
    "\n",
    "pprint(haaland_goals_flow.collect())"
   ]
  },
  {
   "cell_type": "markdown",
   "id": "21a03307",
   "metadata": {},
   "source": [
    "## Assigning New Fields or Modifying Existing Ones: `.assign()`\n",
    "\n",
    "The `.assign()` method lets you add new fields (columns) to your records or change the values of existing ones. You provide keyword arguments where the key is the field name, and the value is a function that takes the record and returns the new value for that field.\n",
    "\n",
    "\n",
    "### Example: Adding a \"half\" field based on \"period\""
   ]
  },
  {
   "cell_type": "code",
   "execution_count": 4,
   "id": "0f70ad6e",
   "metadata": {},
   "outputs": [
    {
     "name": "stdout",
     "output_type": "stream",
     "text": [
      "[{'event_id': 1,\n",
      "  'half': 'First',\n",
      "  'location': [60.1, 40.3],\n",
      "  'match_id': 123,\n",
      "  'pass_outcome_name': 'Complete',\n",
      "  'pass_recipient_name': 'Erling Haaland',\n",
      "  'period': 1,\n",
      "  'player_name': 'Kevin De Bruyne',\n",
      "  'timestamp': '00:01:30.500',\n",
      "  'type_name': 'Pass'}]\n"
     ]
    }
   ],
   "source": [
    "half_flow = Flow(sample_records).assign(\n",
    "    half=lambda event: \"First\" if event.get(\"period\") == 1 else \"Second\"\n",
    ")\n",
    "\n",
    "pprint(half_flow.head(1).collect())"
   ]
  },
  {
   "cell_type": "markdown",
   "id": "13addbf0",
   "metadata": {},
   "source": [
    "### Example: Converting player name to uppercase (modifying existing)"
   ]
  },
  {
   "cell_type": "code",
   "execution_count": 5,
   "id": "92ab10fe",
   "metadata": {},
   "outputs": [
    {
     "name": "stdout",
     "output_type": "stream",
     "text": [
      "[{'event_id': 1,\n",
      "  'location': [60.1, 40.3],\n",
      "  'match_id': 123,\n",
      "  'pass_outcome_name': 'Complete',\n",
      "  'pass_recipient_name': 'Erling Haaland',\n",
      "  'period': 1,\n",
      "  'player_name': 'KEVIN DE BRUYNE',\n",
      "  'timestamp': '00:01:30.500',\n",
      "  'type_name': 'Pass'}]\n"
     ]
    }
   ],
   "source": [
    "uppercase_players_flow = Flow(sample_records).assign(\n",
    "    player_name=lambda event: event.get(\"player_name\", \"\").upper()\n",
    ")\n",
    "\n",
    "pprint(uppercase_players_flow.head(1).collect())"
   ]
  },
  {
   "cell_type": "markdown",
   "id": "786b32ef",
   "metadata": {},
   "source": [
    "## Renaming Fields: `.rename()`\n",
    "\n",
    "Use `.rename()` to rename one or more fields in your records. This is especially useful when preparing data for analysis or flattening nested keys into more manageable names.\n",
    "\n",
    "You pass key-value pairs where the key is the current field name and the value is the new name:"
   ]
  },
  {
   "cell_type": "code",
   "execution_count": null,
   "id": "a8f38274",
   "metadata": {},
   "outputs": [
    {
     "name": "stdout",
     "output_type": "stream",
     "text": [
      "{'event_type': 'Pass', 'id': 123}\n"
     ]
    }
   ],
   "source": [
    "renamed = (\n",
    "    Flow(sample_records)\n",
    "    .rename(match_id=\"id\", type_name=\"event_type\")\n",
    "    .select(\"id\", \"event_type\")\n",
    ")\n",
    "\n",
    "pprint(renamed.collect()[0])"
   ]
  },
  {
   "cell_type": "markdown",
   "id": "b2a5512c",
   "metadata": {},
   "source": [
    "## Expanding Lists: `.explode()`\n",
    "\n",
    "If you have fields that are lists, they can be exploded into new records using `.explode()`."
   ]
  },
  {
   "cell_type": "code",
   "execution_count": 10,
   "id": "d1605afa",
   "metadata": {},
   "outputs": [
    {
     "name": "stdout",
     "output_type": "stream",
     "text": [
      "[{'event_id': 30,\n",
      "  'involved_players': 'Player X',\n",
      "  'roles': ['Passer', 'Receiver']},\n",
      " {'event_id': 30,\n",
      "  'involved_players': 'Player Y',\n",
      "  'roles': ['Passer', 'Receiver']}]\n"
     ]
    }
   ],
   "source": [
    "example_record = {\n",
    "    \"event_id\": 30,\n",
    "    \"involved_players\": [\"Player X\", \"Player Y\"],\n",
    "    \"roles\": [\"Passer\", \"Receiver\"],\n",
    "}\n",
    "\n",
    "involved_roles_flow = Flow([example_record]).explode(key=\"involved_players\")\n",
    "\n",
    "pprint(involved_roles_flow.collect())"
   ]
  },
  {
   "cell_type": "markdown",
   "id": "ce20ce67",
   "metadata": {},
   "source": [
    "### Expanding Multiple Lists Together: `.explode_multi()`\n",
    "\n",
    "If you have multiple fields that are lists of the same length and you want to \"unzip\" them together into new records, `.explode_multi()` is useful.\n"
   ]
  },
  {
   "cell_type": "code",
   "execution_count": 11,
   "id": "ac4d6b09",
   "metadata": {},
   "outputs": [
    {
     "name": "stdout",
     "output_type": "stream",
     "text": [
      "[{'event_id': 30, 'involved_players': 'Player X', 'roles': 'Passer'},\n",
      " {'event_id': 30, 'involved_players': 'Player Y', 'roles': 'Receiver'}]\n"
     ]
    }
   ],
   "source": [
    "example_record = {\n",
    "    \"event_id\": 30,\n",
    "    \"involved_players\": [\"Player X\", \"Player Y\"],\n",
    "    \"roles\": [\"Passer\", \"Receiver\"],\n",
    "}\n",
    "\n",
    "involved_roles_flow = Flow([example_record]).explode_multi(\n",
    "    keys=[\"involved_players\", \"roles\"]\n",
    ")\n",
    "\n",
    "pprint(involved_roles_flow.collect())"
   ]
  },
  {
   "cell_type": "markdown",
   "id": "5eaf6a3e",
   "metadata": {},
   "source": [
    "### Splitting an Array Field into Multiple New Fields: `.split_array()`\n",
    "\n",
    "If a field contains a list/array of a fixed (or maximum) expected length, and you want to assign each element to its own new named field, use `.split_array()`."
   ]
  },
  {
   "cell_type": "code",
   "execution_count": null,
   "id": "2b56ddb8",
   "metadata": {},
   "outputs": [
    {
     "name": "stdout",
     "output_type": "stream",
     "text": [
      "[{'event_id': 1,\n",
      "  'location': [60.1, 40.3],\n",
      "  'match_id': 123,\n",
      "  'pass_outcome_name': 'Complete',\n",
      "  'pass_recipient_name': 'Erling Haaland',\n",
      "  'period': 1,\n",
      "  'player_name': 'Kevin De Bruyne',\n",
      "  'start_x': 60.1,\n",
      "  'start_y': 40.3,\n",
      "  'timestamp': '00:01:30.500',\n",
      "  'type_name': 'Pass'}]\n"
     ]
    }
   ],
   "source": [
    "split_location_flow = (\n",
    "    Flow(sample_records)\n",
    "    .split_array(key=\"location\", into=[\"start_x\", \"start_y\"])\n",
    "    .head(1)\n",
    ")\n",
    "\n",
    "pprint(split_location_flow.collect())"
   ]
  },
  {
   "cell_type": "markdown",
   "id": "f7387792",
   "metadata": {},
   "source": [
    "If the array is shorter than the `into` list, remaining new fields get `None`. If longer, extra array elements are ignored.\n",
    "\n",
    "These basic pipeline methods form the building blocks for most of your data preparation tasks. By chaining them together, you can create powerful and readable transformations. \n",
    "\n",
    "In the next chapter, we'll look at how to group your data and calculate aggregate statistics."
   ]
  }
 ],
 "metadata": {
  "kernelspec": {
   "display_name": "venv",
   "language": "python",
   "name": "python3"
  },
  "language_info": {
   "codemirror_mode": {
    "name": "ipython",
    "version": 3
   },
   "file_extension": ".py",
   "mimetype": "text/x-python",
   "name": "python",
   "nbconvert_exporter": "python",
   "pygments_lexer": "ipython3",
   "version": "3.13.1"
  }
 },
 "nbformat": 4,
 "nbformat_minor": 5
}
