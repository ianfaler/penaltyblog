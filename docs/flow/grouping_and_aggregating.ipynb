{
 "cells": [
  {
   "cell_type": "markdown",
   "id": "38b82471",
   "metadata": {},
   "source": [
    "# Summaries: Grouping and Aggregating Data\n",
    "\n",
    "After cleaning and transforming individual records, a common next step in data analysis is to summarize information across different groups. For instance, you might want to count the total shots per team, find the average xG (Expected Goals) per player, or sum the number of passes made in different zones of the pitch. `Flow` provides powerful tools for these \"group by\" operations."
   ]
  },
  {
   "cell_type": "markdown",
   "id": "b2225a2d",
   "metadata": {},
   "source": [
    "The core idea is a two-step process:\n",
    "\n",
    "- **Group**: Define which field(s) you want to group your records by using `.group_by()`.\n",
    "- **Aggregate**: Specify what calculations (aggregations like sum, mean, count) you want to perform on each group using `.summary()`.\n",
    "\n",
    "## Grouping Records: `.group_by()`\n",
    "\n",
    "The `.group_by(*keys)` method takes one or more field names as arguments. It processes the entire stream of records and collects them into distinct groups based on the unique combinations of values in the specified key field(s).\n",
    "\n",
    "This method doesn't return a regular Flow object. Instead, it returns a special `FlowGroup` object. Think of `FlowGroup` as a collection of \"sub-Flows,\" where each sub-Flow contains all the records belonging to one specific group.\n",
    "\n",
    "### Example: Grouping events by team name\n"
   ]
  },
  {
   "cell_type": "code",
   "execution_count": 1,
   "id": "4586b19c",
   "metadata": {},
   "outputs": [
    {
     "name": "stdout",
     "output_type": "stream",
     "text": [
      "{'event_id': 1,\n",
      " 'location': [60.1, 40.3],\n",
      " 'match_id': 123,\n",
      " 'pass_outcome_name': 'Complete',\n",
      " 'pass_recipient_name': 'Erling Haaland',\n",
      " 'period': 1,\n",
      " 'player_name': 'Kevin De Bruyne',\n",
      " 'team_name': 'Manchester City',\n",
      " 'timestamp': '00:01:30.500',\n",
      " 'type_name': 'Pass'}\n"
     ]
    }
   ],
   "source": [
    "from pprint import pprint\n",
    "\n",
    "from penaltyblog.matchflow import Flow\n",
    "\n",
    "# Sample records that events_flow might contain:\n",
    "sample_records = [\n",
    "    {\n",
    "        \"event_id\": 1,\n",
    "        \"match_id\": 123,\n",
    "        \"period\": 1,\n",
    "        \"timestamp\": \"00:01:30.500\",\n",
    "        \"type_name\": \"Pass\",\n",
    "        \"player_name\": \"Kevin De Bruyne\",\n",
    "        \"location\": [60.1, 40.3],\n",
    "        \"pass_recipient_name\": \"Erling Haaland\",\n",
    "        \"pass_outcome_name\": \"Complete\",\n",
    "        \"team_name\": \"Manchester City\",\n",
    "    },\n",
    "    {\n",
    "        \"event_id\": 2,\n",
    "        \"match_id\": 123,\n",
    "        \"period\": 1,\n",
    "        \"timestamp\": \"00:01:32.100\",\n",
    "        \"type_name\": \"Shot\",\n",
    "        \"player_name\": \"Erling Haaland\",\n",
    "        \"location\": [85.5, 50.2],\n",
    "        \"shot_xg\": 0.05,\n",
    "        \"shot_outcome_name\": \"Goal\",\n",
    "        \"team_name\": \"Manchester City\",\n",
    "    },\n",
    "    {\n",
    "        \"event_id\": 3,\n",
    "        \"match_id\": 123,\n",
    "        \"period\": 1,\n",
    "        \"timestamp\": \"00:02:05.000\",\n",
    "        \"type_name\": \"Duel\",\n",
    "        \"player_name\": \"Rodri\",\n",
    "        \"duel_type_name\": \"Tackle\",\n",
    "        \"duel_outcome_name\": \"Won\",\n",
    "        \"team_name\": \"Manchester City\",\n",
    "    },\n",
    "    {\n",
    "        \"event_id\": 4,\n",
    "        \"match_id\": 123,\n",
    "        \"period\": 1,\n",
    "        \"timestamp\": \"00:02:10.000\",\n",
    "        \"type_name\": \"Pass\",\n",
    "        \"player_name\": \"Kevin De Bruyne\",\n",
    "        \"location\": [70.0, 25.0],\n",
    "        \"pass_recipient_name\": \"Jack Grealish\",\n",
    "        \"pass_outcome_name\": \"Incomplete\",\n",
    "        \"team_name\": \"Manchester City\",\n",
    "    },\n",
    "    {\n",
    "        \"event_id\": 5,\n",
    "        \"match_id\": 123,\n",
    "        \"period\": 1,\n",
    "        \"timestamp\": \"00:03:00.000\",\n",
    "        \"type_name\": \"Shot\",\n",
    "        \"player_name\": \"Bukayo Saka\",\n",
    "        \"location\": [75.0, 60.0],\n",
    "        \"shot_xg\": 0.01,\n",
    "        \"shot_outcome_name\": \"Post\",\n",
    "        \"team_name\": \"Arsenal\",\n",
    "    },\n",
    "]\n",
    "\n",
    "pprint(sample_records[0])"
   ]
  },
  {
   "cell_type": "code",
   "execution_count": 2,
   "id": "9bb71924",
   "metadata": {},
   "outputs": [],
   "source": [
    "events_flow = Flow(sample_records)\n",
    "\n",
    "# This step consumes events_flow and creates groups.\n",
    "# grouped_by_team is a FlowGroup object, not a Flow.\n",
    "grouped_by_team = events_flow.group_by(\"team_name\")\n",
    "\n",
    "# At this point, grouped_by_team internally holds something like:\n",
    "# {\n",
    "#   (\"Team A\",): [record1_teamA, record2_teamA, ...],\n",
    "#   (\"Team B\",): [record1_teamB, record2_teamB, ...],\n",
    "#   ...\n",
    "# }\n",
    "# where each list is essentially a mini-stream of records for that team."
   ]
  },
  {
   "cell_type": "markdown",
   "id": "7bb24577",
   "metadata": {},
   "source": [
    "*Important Note*: `.group_by() `needs to see all the records to form the groups, so it will materialize (consume) the `Flow` it's called on. The original events_flow would be exhausted after this operation.\n",
    "\n",
    "### Example: Grouping by multiple keys: period and event type"
   ]
  },
  {
   "cell_type": "code",
   "execution_count": 3,
   "id": "a4afc76c",
   "metadata": {},
   "outputs": [],
   "source": [
    "events_flow = Flow(sample_records)\n",
    "\n",
    "grouped_by_period_and_type = events_flow.group_by(\"period\", \"type_name\")\n",
    "\n",
    "# This would create groups for unique combinations like (1, \"Pass\"), (1, \"Shot\"), (2, \"Pass\"), etc."
   ]
  },
  {
   "cell_type": "markdown",
   "id": "fb405b5a",
   "metadata": {},
   "source": [
    "## Aggregating Data within Groups: `FlowGroup.aggregate()`\n",
    "\n",
    "Once you have a `FlowGroup` object (from `.group_by()`), you can perform aggregations on each group using its `.summary(**aggregates)` method.\n",
    "\n",
    "The `.summary()` method takes keyword arguments where:\n",
    "\n",
    "- The key is the name of the new summary field you want to create in your output.\n",
    "- The value specifies how to calculate that summary. This can be:\n",
    "    - A tuple (field_to_aggregate, agg_function_string): e.g., (\"xg\", \"sum\") to sum the xG.\n",
    "    - A custom lambda or named function that takes a list of records (for that group) and returns a single aggregated value.\n",
    "    - A string matching the name of a built in aggregate function that does not require arguments or a column name, e.g., \"count\".\n",
    "\n",
    "The result of `FlowGroup.summary() `is a new `Flow` object, where each record represents one group and contains the grouping keys along with the newly calculated aggregate fields.\n",
    "\n",
    "### Example: Summing xG per team\n"
   ]
  },
  {
   "cell_type": "code",
   "execution_count": 4,
   "id": "dbfdc82d",
   "metadata": {},
   "outputs": [
    {
     "name": "stdout",
     "output_type": "stream",
     "text": [
      "[{'team_name': 'Manchester City', 'total_xg': np.float64(0.05)},\n",
      " {'team_name': 'Arsenal', 'total_xg': np.float64(0.01)}]\n"
     ]
    }
   ],
   "source": [
    "results = (\n",
    "    Flow(sample_records)\n",
    "    .group_by(\"team_name\")\n",
    "    .summary(\n",
    "        total_xg=(\"shot_xg\", \"sum\"),\n",
    "    )\n",
    ")\n",
    "pprint(results.collect())"
   ]
  },
  {
   "cell_type": "markdown",
   "id": "f9ba60b8",
   "metadata": {},
   "source": [
    "### Example: Summing xG and counting shots per player"
   ]
  },
  {
   "cell_type": "code",
   "execution_count": 5,
   "id": "6b70d18e",
   "metadata": {},
   "outputs": [
    {
     "name": "stdout",
     "output_type": "stream",
     "text": [
      "[{'number_of_shots': 1,\n",
      "  'player_name': 'Erling Haaland',\n",
      "  'total_xg': np.float64(0.05)},\n",
      " {'number_of_shots': 1,\n",
      "  'player_name': 'Bukayo Saka',\n",
      "  'total_xg': np.float64(0.01)}]\n"
     ]
    }
   ],
   "source": [
    "# First, filter for shots to make aggregation simpler\n",
    "results = (\n",
    "    Flow(sample_records)\n",
    "    .filter(lambda r: r.get(\"type_name\") == \"Shot\")\n",
    "    .group_by(\"player_name\")\n",
    "    .summary(\n",
    "        total_xg=(\"shot_xg\", \"sum\"),\n",
    "        number_of_shots=\"count\",\n",
    "    )\n",
    ")\n",
    "\n",
    "pprint(results.collect())"
   ]
  },
  {
   "cell_type": "markdown",
   "id": "33e1a7e6",
   "metadata": {},
   "source": [
    "## Built-in Aggregation Functions:\n",
    "\n",
    "Grouped `Flow`s supports many common aggregations, including:\n",
    "\n",
    "- \"count\": Number of records in the group.\n",
    "- \"sum\": Sum of values for a specified field.\n",
    "- \"mean\" or \"avg\": Average of values for a specified field.\n",
    "- \"min\": Minimum value for a specified field.\n",
    "- \"max\": Maximum value for a specified field.\n",
    "- \"median\": Median value for a specified field.\n",
    "- \"std\": Standard deviation for a specified field.\n",
    "- \"var\": Variance for a specified field.\n",
    "- \"first\": The value of a specified field from the first record in the group (original order).\n",
    "- \"last\": The value of a specified field from the last record in the group (original order).\n",
    "- \"any\": Return True if any item in the group is True, otherwise, returns False.\n",
    "- \"all\": Return True if all items in the group are True, otherwise, returns False.\n",
    "- \"nunique\": Number of unique values for a specified field.\n",
    "- \"prod\": Product of values for a specified field.\n",
    "- \"mode\": The most common value for a specified field.\n",
    "- \"range\": The range of values for a specified field.\n",
    "\n",
    "You can also create your own custom aggregation functions and lambdas.\n",
    "\n",
    "### Example: Using a custom function for aggregation"
   ]
  },
  {
   "cell_type": "code",
   "execution_count": 6,
   "id": "3eafa8e1",
   "metadata": {},
   "outputs": [
    {
     "name": "stdout",
     "output_type": "stream",
     "text": [
      "[{'player_name': 'Erling Haaland', 'sot_percentage': 100.0},\n",
      " {'player_name': 'Bukayo Saka', 'sot_percentage': 0.0}]\n"
     ]
    }
   ],
   "source": [
    "player_shots_grouped = (\n",
    "    Flow(sample_records)\n",
    "    .filter(lambda r: r.get(\"type_name\") == \"Shot\")\n",
    "    .group_by(\"player_name\")\n",
    ")\n",
    "\n",
    "def calculate_sot_percentage(records_in_group):\n",
    "    on_target_outcomes = [\"Goal\", \"Saved\"]\n",
    "    shots_on_target = 0\n",
    "    total_shots = 0\n",
    "    for record in records_in_group:\n",
    "        if record.get(\"shot_outcome_name\"):  # Ensure the field exists\n",
    "            total_shots += 1\n",
    "            if record.get(\"shot_outcome_name\") in on_target_outcomes:\n",
    "                shots_on_target += 1\n",
    "    return (shots_on_target / total_shots) * 100 if total_shots > 0 else 0\n",
    "\n",
    "\n",
    "player_sot_percentage_flow = player_shots_grouped.summary(\n",
    "    sot_percentage=calculate_sot_percentage\n",
    ")\n",
    "\n",
    "pprint(player_sot_percentage_flow.head().collect())"
   ]
  },
  {
   "cell_type": "markdown",
   "id": "b74aa350",
   "metadata": {},
   "source": [
    "## Summarizing the Entire Stream: `.summary()`\n",
    "\n",
    "If you don't need to group by any specific field but want to calculate aggregates over the entire `Flow`, you can use the `.summary`method directly on a `Flow` object without grouping first.\n",
    "\n",
    "This is useful for getting overall statistics, like the total number of passes in a match or the average xG of all shots.\n",
    "\n",
    "### Example: Getting total xG and total shots for the whole match"
   ]
  },
  {
   "cell_type": "code",
   "execution_count": 14,
   "id": "a650c69f",
   "metadata": {},
   "outputs": [
    {
     "name": "stdout",
     "output_type": "stream",
     "text": [
      "[{'avg_xg': np.float64(0.030000000000000002),\n",
      "  'total_match_shots': 2,\n",
      "  'total_match_xg': np.float64(0.060000000000000005)}]\n"
     ]
    }
   ],
   "source": [
    "shots_flow = (\n",
    "    Flow(sample_records)\n",
    "    .filter(lambda r: r.get(\"type_name\") == \"Shot\")\n",
    "    .summary(\n",
    "        total_match_xg=(\"shot_xg\", \"sum\"),\n",
    "        total_match_shots=\"count\",\n",
    "        avg_xg=(\"shot_xg\", \"mean\"),\n",
    "    )\n",
    ")\n",
    "\n",
    "pprint(shots_flow.collect())"
   ]
  },
  {
   "cell_type": "markdown",
   "id": "e990694b",
   "metadata": {},
   "source": [
    "Like `.group_by()`, `.summary()` also materializes the `Flow` it's called on because it needs to process all records to compute the summary statistics. The result is a new `Flow` containing a single record with the summary statistics.\n",
    "\n",
    "Grouping and aggregating are fundamental to extracting insights from event data. By combining `.filter()`, `.group_by()`, and `.summary()`, you can create powerful summaries tailored to your analytical questions. \n"
   ]
  }
 ],
 "metadata": {
  "kernelspec": {
   "display_name": "venv",
   "language": "python",
   "name": "python3"
  },
  "language_info": {
   "codemirror_mode": {
    "name": "ipython",
    "version": 3
   },
   "file_extension": ".py",
   "mimetype": "text/x-python",
   "name": "python",
   "nbconvert_exporter": "python",
   "pygments_lexer": "ipython3",
   "version": "3.13.1"
  }
 },
 "nbformat": 4,
 "nbformat_minor": 5
}
